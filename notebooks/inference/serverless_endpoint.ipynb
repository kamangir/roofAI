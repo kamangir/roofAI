{
    "cells": [
        {
            "attachments": {},
            "cell_type": "markdown",
            "metadata": {},
            "source": [
                "# serverless endpoint\n",
                "\n",
                "https://docs.aws.amazon.com/sagemaker/latest/dg/serverless-endpoints-create.html"
            ]
        },
        {
            "cell_type": "code",
            "execution_count": 1,
            "metadata": {},
            "outputs": [],
            "source": [
                "# !pip3 install sagemaker\n",
                "#!pip3 install --upgrade botocore"
            ]
        },
        {
            "cell_type": "code",
            "execution_count": 2,
            "metadata": {},
            "outputs": [
                {
                    "name": "stderr",
                    "output_type": "stream",
                    "text": [
                        "Found credentials in shared credentials file: ~/.aws/credentials\n"
                    ]
                },
                {
                    "name": "stdout",
                    "output_type": "stream",
                    "text": [
                        "sagemaker.config      - Not applying SDK defaults from location: /Library/Application Support/sagemaker/config.yaml\n",
                        "sagemaker.config      - Not applying SDK defaults from location: /Users/kamangir/Library/Application Support/sagemaker/config.yaml\n"
                    ]
                },
                {
                    "name": "stderr",
                    "output_type": "stream",
                    "text": [
                        "roofAI-3.259.1-abcli-7.2556.1-unknown, built on 10 December 2023, 14:25:54\n"
                    ]
                }
            ],
            "source": [
                "import json\n",
                "\n",
                "from abcli import fullname\n",
                "from abcli import string\n",
                "from abcli.plugins import cache\n",
                "from roofAI import NAME, VERSION\n",
                "from roofAI.inference.classes import InferenceClient, InferenceObject\n",
                "\n",
                "import abcli.logging\n",
                "import logging\n",
                "\n",
                "logger = logging.getLogger()\n",
                "\n",
                "logger.info(f\"{NAME}-{VERSION}-{fullname()}, built on {string.pretty_date()}\")"
            ]
        },
        {
            "cell_type": "code",
            "execution_count": 3,
            "metadata": {},
            "outputs": [],
            "source": [
                "model_name = cache.read(\"roofAI_semseg_model_AIRS_o2\")"
            ]
        },
        {
            "cell_type": "code",
            "execution_count": 4,
            "metadata": {},
            "outputs": [
                {
                    "name": "stderr",
                    "output_type": "stream",
                    "text": [
                        "Found credentials in shared credentials file: ~/.aws/credentials\n"
                    ]
                },
                {
                    "name": "stdout",
                    "output_type": "stream",
                    "text": [
                        "sagemaker.config      - Not applying SDK defaults from location: /Library/Application Support/sagemaker/config.yaml\n",
                        "sagemaker.config      - Not applying SDK defaults from location: /Users/kamangir/Library/Application Support/sagemaker/config.yaml\n"
                    ]
                },
                {
                    "name": "stderr",
                    "output_type": "stream",
                    "text": [
                        "Couldn't call 'get_role' to get Role ARN from role name shamim to get Role path.\n",
                        "sagemaker_role: defaulting to local.\n",
                        "Defaulting to only available Python version: py3\n",
                        "Defaulting to only supported image scope: cpu.\n",
                        "InferenceClient created.\n"
                    ]
                }
            ],
            "source": [
                "inference_client = InferenceClient(verbose=True)"
            ]
        },
        {
            "cell_type": "code",
            "execution_count": 5,
            "metadata": {},
            "outputs": [
                {
                    "name": "stderr",
                    "output_type": "stream",
                    "text": [
                        "create(InferenceObject.MODEL,model-2023-12-03-11-24-39-75649)...\n",
                        "exists(InferenceObject.MODEL,model-2023-12-03-11-24-39-75649): {'Models': [{'ModelName': 'model-2023-12-03-11-24-39-75649', 'ModelArn': 'arn:aws:sagemaker:ca-central-1:120429650996:model/model-2023-12-03-11-24-39-75649', 'CreationTime': datetime.datetime(2023, 12, 10, 14, 24, 57, 720000, tzinfo=tzlocal())}], 'ResponseMetadata': {'RequestId': 'e371eb12-61ae-4801-80b8-b59456ea826a', 'HTTPStatusCode': 200, 'HTTPHeaders': {'x-amzn-requestid': 'e371eb12-61ae-4801-80b8-b59456ea826a', 'content-type': 'application/x-amz-json-1.1', 'content-length': '186', 'date': 'Sun, 10 Dec 2023 22:25:58 GMT'}, 'RetryAttempts': 0}}\n",
                        "InferenceObject.MODEL model-2023-12-03-11-24-39-75649 already exists, will delete first.\n",
                        "delete(InferenceObject.MODEL,model-2023-12-03-11-24-39-75649): {'ResponseMetadata': {'RequestId': '66434fb7-dd78-4a01-819d-c65d0ee8c2f4', 'HTTPStatusCode': 200, 'HTTPHeaders': {'x-amzn-requestid': '66434fb7-dd78-4a01-819d-c65d0ee8c2f4', 'content-type': 'application/x-amz-json-1.1', 'content-length': '0', 'date': 'Sun, 10 Dec 2023 22:25:58 GMT'}, 'RetryAttempts': 0}}\n",
                        "create(InferenceObject.MODEL,model-2023-12-03-11-24-39-75649): {'ModelArn': 'arn:aws:sagemaker:ca-central-1:120429650996:model/model-2023-12-03-11-24-39-75649', 'ResponseMetadata': {'RequestId': 'b4fe5029-6dc4-4643-a9d3-fc5364fe1922', 'HTTPStatusCode': 200, 'HTTPHeaders': {'x-amzn-requestid': 'b4fe5029-6dc4-4643-a9d3-fc5364fe1922', 'content-type': 'application/x-amz-json-1.1', 'content-length': '96', 'date': 'Sun, 10 Dec 2023 22:25:59 GMT'}, 'RetryAttempts': 0}}\n",
                        "exists(InferenceObject.MODEL,model-2023-12-03-11-24-39-75649): {'Models': [{'ModelName': 'model-2023-12-03-11-24-39-75649', 'ModelArn': 'arn:aws:sagemaker:ca-central-1:120429650996:model/model-2023-12-03-11-24-39-75649', 'CreationTime': datetime.datetime(2023, 12, 10, 14, 25, 59, 935000, tzinfo=tzlocal())}], 'ResponseMetadata': {'RequestId': 'ea853774-e3a9-4c8a-b269-3964b13c9c93', 'HTTPStatusCode': 200, 'HTTPHeaders': {'x-amzn-requestid': 'ea853774-e3a9-4c8a-b269-3964b13c9c93', 'content-type': 'application/x-amz-json-1.1', 'content-length': '187', 'date': 'Sun, 10 Dec 2023 22:25:59 GMT'}, 'RetryAttempts': 0}}\n"
                    ]
                }
            ],
            "source": [
                "assert inference_client.create(InferenceObject.MODEL, model_name)"
            ]
        },
        {
            "cell_type": "code",
            "execution_count": 6,
            "metadata": {},
            "outputs": [
                {
                    "name": "stderr",
                    "output_type": "stream",
                    "text": [
                        "create(InferenceObject.ENDPOINT_CONFIG,model-2023-12-03-11-24-39-75649)...\n",
                        "exists(InferenceObject.ENDPOINT_CONFIG,model-2023-12-03-11-24-39-75649): {'EndpointConfigs': [{'EndpointConfigName': 'model-2023-12-03-11-24-39-75649', 'EndpointConfigArn': 'arn:aws:sagemaker:ca-central-1:120429650996:endpoint-config/model-2023-12-03-11-24-39-75649', 'CreationTime': datetime.datetime(2023, 12, 10, 14, 24, 59, 171000, tzinfo=tzlocal())}], 'ResponseMetadata': {'RequestId': '4961751b-1963-4a9e-8723-5fa15ac68626', 'HTTPStatusCode': 200, 'HTTPHeaders': {'x-amzn-requestid': '4961751b-1963-4a9e-8723-5fa15ac68626', 'content-type': 'application/x-amz-json-1.1', 'content-length': '224', 'date': 'Sun, 10 Dec 2023 22:25:59 GMT'}, 'RetryAttempts': 0}}\n",
                        "InferenceObject.ENDPOINT_CONFIG model-2023-12-03-11-24-39-75649 already exists, will delete first.\n",
                        "delete(InferenceObject.ENDPOINT_CONFIG,model-2023-12-03-11-24-39-75649): {'ResponseMetadata': {'RequestId': '94eab9b9-afc1-4a29-9abd-5811f311b24b', 'HTTPStatusCode': 200, 'HTTPHeaders': {'x-amzn-requestid': '94eab9b9-afc1-4a29-9abd-5811f311b24b', 'content-type': 'application/x-amz-json-1.1', 'content-length': '0', 'date': 'Sun, 10 Dec 2023 22:26:00 GMT'}, 'RetryAttempts': 0}}\n",
                        "create(InferenceObject.ENDPOINT_CONFIG,model-2023-12-03-11-24-39-75649): {'EndpointConfigArn': 'arn:aws:sagemaker:ca-central-1:120429650996:endpoint-config/model-2023-12-03-11-24-39-75649', 'ResponseMetadata': {'RequestId': 'f11a0405-0c70-4627-878b-f409ae178f8c', 'HTTPStatusCode': 200, 'HTTPHeaders': {'x-amzn-requestid': 'f11a0405-0c70-4627-878b-f409ae178f8c', 'content-type': 'application/x-amz-json-1.1', 'content-length': '115', 'date': 'Sun, 10 Dec 2023 22:26:00 GMT'}, 'RetryAttempts': 0}}\n",
                        "exists(InferenceObject.ENDPOINT_CONFIG,model-2023-12-03-11-24-39-75649): {'EndpointConfigs': [{'EndpointConfigName': 'model-2023-12-03-11-24-39-75649', 'EndpointConfigArn': 'arn:aws:sagemaker:ca-central-1:120429650996:endpoint-config/model-2023-12-03-11-24-39-75649', 'CreationTime': datetime.datetime(2023, 12, 10, 14, 26, 1, 15000, tzinfo=tzlocal())}], 'ResponseMetadata': {'RequestId': 'f8ebdb15-dfe1-4529-9076-bb1ce7350852', 'HTTPStatusCode': 200, 'HTTPHeaders': {'x-amzn-requestid': 'f8ebdb15-dfe1-4529-9076-bb1ce7350852', 'content-type': 'application/x-amz-json-1.1', 'content-length': '224', 'date': 'Sun, 10 Dec 2023 22:26:00 GMT'}, 'RetryAttempts': 0}}\n"
                    ]
                }
            ],
            "source": [
                "assert inference_client.create(InferenceObject.ENDPOINT_CONFIG, model_name)"
            ]
        },
        {
            "cell_type": "code",
            "execution_count": 7,
            "metadata": {},
            "outputs": [
                {
                    "name": "stderr",
                    "output_type": "stream",
                    "text": [
                        "create(InferenceObject.ENDPOINT,model-2023-12-03-11-24-39-75649->model-2023-12-03-11-24-39-75649-GkklwnYc)...\n",
                        "exists(InferenceObject.ENDPOINT,model-2023-12-03-11-24-39-75649-GkklwnYc): {'Endpoints': [], 'ResponseMetadata': {'RequestId': '165daabf-e8fc-4ca1-be1c-96bfa8e698bb', 'HTTPStatusCode': 200, 'HTTPHeaders': {'x-amzn-requestid': '165daabf-e8fc-4ca1-be1c-96bfa8e698bb', 'content-type': 'application/x-amz-json-1.1', 'content-length': '16', 'date': 'Sun, 10 Dec 2023 22:26:01 GMT'}, 'RetryAttempts': 0}}\n",
                        "create(InferenceObject.ENDPOINT,model-2023-12-03-11-24-39-75649-GkklwnYc): {'EndpointArn': 'arn:aws:sagemaker:ca-central-1:120429650996:endpoint/model-2023-12-03-11-24-39-75649-gkklwnyc', 'ResponseMetadata': {'RequestId': '359a92be-ebf4-45c6-ac10-b1988c9de370', 'HTTPStatusCode': 200, 'HTTPHeaders': {'x-amzn-requestid': '359a92be-ebf4-45c6-ac10-b1988c9de370', 'content-type': 'application/x-amz-json-1.1', 'content-length': '111', 'date': 'Sun, 10 Dec 2023 22:26:01 GMT'}, 'RetryAttempts': 0}}\n",
                        "exists(InferenceObject.ENDPOINT,model-2023-12-03-11-24-39-75649-GkklwnYc): {'Endpoints': [{'EndpointName': 'model-2023-12-03-11-24-39-75649-GkklwnYc', 'EndpointArn': 'arn:aws:sagemaker:ca-central-1:120429650996:endpoint/model-2023-12-03-11-24-39-75649-gkklwnyc', 'CreationTime': datetime.datetime(2023, 12, 10, 14, 26, 1, 986000, tzinfo=tzlocal()), 'LastModifiedTime': datetime.datetime(2023, 12, 10, 14, 26, 1, 986000, tzinfo=tzlocal()), 'EndpointStatus': 'Creating'}], 'ResponseMetadata': {'RequestId': 'ee946400-b9a9-4d66-9733-eac39e5af3e3', 'HTTPStatusCode': 200, 'HTTPHeaders': {'x-amzn-requestid': 'ee946400-b9a9-4d66-9733-eac39e5af3e3', 'content-type': 'application/x-amz-json-1.1', 'content-length': '281', 'date': 'Sun, 10 Dec 2023 22:26:01 GMT'}, 'RetryAttempts': 0}}\n"
                    ]
                }
            ],
            "source": [
                "endpoint_name = \"{}-{}\".format(model_name, string.random_(8))\n",
                "assert inference_client.create(InferenceObject.ENDPOINT, endpoint_name, model_name)"
            ]
        },
        {
            "cell_type": "code",
            "execution_count": 8,
            "metadata": {},
            "outputs": [],
            "source": [
                "# END"
            ]
        }
    ],
    "metadata": {
        "kernelspec": {
            "display_name": "Python 3 (ipykernel)",
            "language": "python",
            "name": "python3"
        },
        "language_info": {
            "codemirror_mode": {
                "name": "ipython",
                "version": 3
            },
            "file_extension": ".py",
            "mimetype": "text/x-python",
            "name": "python",
            "nbconvert_exporter": "python",
            "pygments_lexer": "ipython3",
            "version": "3.9.13"
        },
        "toc": {
            "base_numbering": 1,
            "nav_menu": {},
            "number_sections": true,
            "sideBar": true,
            "skip_h1_title": false,
            "title_cell": "Table of Contents",
            "title_sidebar": "Contents",
            "toc_cell": false,
            "toc_position": {},
            "toc_section_display": true,
            "toc_window_display": false
        }
    },
    "nbformat": 4,
    "nbformat_minor": 2
}
