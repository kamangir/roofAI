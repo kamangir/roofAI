{
    "cells": [
        {
            "attachments": {},
            "cell_type": "markdown",
            "metadata": {},
            "source": [
                "# serverless endpoint\n",
                "\n",
                "https://docs.aws.amazon.com/sagemaker/latest/dg/serverless-endpoints-create.html"
            ]
        },
        {
            "cell_type": "code",
            "execution_count": 1,
            "metadata": {},
            "outputs": [],
            "source": [
                "# !pip3 install sagemaker\n",
                "#!pip3 install --upgrade botocore"
            ]
        },
        {
            "cell_type": "code",
            "execution_count": 2,
            "metadata": {},
            "outputs": [
                {
                    "name": "stdout",
                    "output_type": "stream",
                    "text": [
                        "sagemaker.config INFO - Not applying SDK defaults from location: /Library/Application Support/sagemaker/config.yaml\n",
                        "sagemaker.config INFO - Not applying SDK defaults from location: /Users/kamangir/Library/Application Support/sagemaker/config.yaml\n"
                    ]
                },
                {
                    "name": "stderr",
                    "output_type": "stream",
                    "text": [
                        "roofAI-3.253.1-abcli-7.2555.1-unknown, built on 09 December 2023, 18:14:36\n"
                    ]
                }
            ],
            "source": [
                "import json\n",
                "\n",
                "from abcli import fullname\n",
                "from abcli import string\n",
                "from roofAI import NAME, VERSION\n",
                "from roofAI.inference.classes import InferenceClient, InferenceObject\n",
                "\n",
                "import abcli.logging\n",
                "import logging\n",
                "\n",
                "logger = logging.getLogger()\n",
                "\n",
                "logger.info(f\"{NAME}-{VERSION}-{fullname()}, built on {string.pretty_date()}\")"
            ]
        },
        {
            "cell_type": "code",
            "execution_count": 3,
            "metadata": {},
            "outputs": [],
            "source": [
                "model_name = \"model-2023-12-03-11-24-39-75649\""
            ]
        },
        {
            "attachments": {},
            "cell_type": "markdown",
            "metadata": {},
            "source": [
                "---"
            ]
        },
        {
            "cell_type": "code",
            "execution_count": 4,
            "metadata": {},
            "outputs": [
                {
                    "name": "stderr",
                    "output_type": "stream",
                    "text": [
                        "Found credentials in shared credentials file: ~/.aws/credentials\n"
                    ]
                },
                {
                    "name": "stdout",
                    "output_type": "stream",
                    "text": [
                        "sagemaker.config      - Not applying SDK defaults from location: /Library/Application Support/sagemaker/config.yaml\n",
                        "sagemaker.config      - Not applying SDK defaults from location: /Users/kamangir/Library/Application Support/sagemaker/config.yaml\n"
                    ]
                },
                {
                    "name": "stderr",
                    "output_type": "stream",
                    "text": [
                        "Couldn't call 'get_role' to get Role ARN from role name shamim to get Role path.\n",
                        "sagemaker_role: defaulting to local.\n",
                        "Defaulting to only available Python version: py3\n",
                        "Defaulting to only supported image scope: cpu.\n",
                        "InferenceClient created.\n"
                    ]
                }
            ],
            "source": [
                "inference_client = InferenceClient(verbose=True)"
            ]
        },
        {
            "cell_type": "markdown",
            "metadata": {},
            "source": [
                "## creating the model"
            ]
        },
        {
            "cell_type": "code",
            "execution_count": 5,
            "metadata": {},
            "outputs": [],
            "source": [
                "import boto3\n",
                "import sagemaker\n",
                "region = boto3.Session().region_name\n",
                "client = boto3.client(\"sagemaker\", region_name=region)"
            ]
        },
        {
            "cell_type": "code",
            "execution_count": 6,
            "metadata": {},
            "outputs": [
                {
                    "name": "stderr",
                    "output_type": "stream",
                    "text": [
                        "create(InferenceObject.MODEL,model-2023-12-03-11-24-39-75649)...\n",
                        "exists(InferenceObject.MODEL,model-2023-12-03-11-24-39-75649): {'Models': [{'ModelName': 'model-2023-12-03-11-24-39-75649', 'ModelArn': 'arn:aws:sagemaker:ca-central-1:120429650996:model/model-2023-12-03-11-24-39-75649', 'CreationTime': datetime.datetime(2023, 12, 9, 18, 14, 8, 866000, tzinfo=tzlocal())}], 'ResponseMetadata': {'RequestId': '87f9a111-56ac-4a0b-ae87-6626bc12ba35', 'HTTPStatusCode': 200, 'HTTPHeaders': {'x-amzn-requestid': '87f9a111-56ac-4a0b-ae87-6626bc12ba35', 'content-type': 'application/x-amz-json-1.1', 'content-length': '187', 'date': 'Sun, 10 Dec 2023 02:14:38 GMT'}, 'RetryAttempts': 0}}\n",
                        "InferenceObject.MODEL model-2023-12-03-11-24-39-75649 already exists, will delete first.\n",
                        "delete(InferenceObject.MODEL,model-2023-12-03-11-24-39-75649): {'ResponseMetadata': {'RequestId': '854e5d75-0a20-4e1e-8d65-bba8ab1a07de', 'HTTPStatusCode': 200, 'HTTPHeaders': {'x-amzn-requestid': '854e5d75-0a20-4e1e-8d65-bba8ab1a07de', 'content-type': 'application/x-amz-json-1.1', 'content-length': '0', 'date': 'Sun, 10 Dec 2023 02:14:38 GMT'}, 'RetryAttempts': 0}}\n",
                        "create(InferenceObject.MODEL,model-2023-12-03-11-24-39-75649): {'ModelArn': 'arn:aws:sagemaker:ca-central-1:120429650996:model/model-2023-12-03-11-24-39-75649', 'ResponseMetadata': {'RequestId': '84e524d4-3142-4dcf-9c0b-bb9f806c2826', 'HTTPStatusCode': 200, 'HTTPHeaders': {'x-amzn-requestid': '84e524d4-3142-4dcf-9c0b-bb9f806c2826', 'content-type': 'application/x-amz-json-1.1', 'content-length': '96', 'date': 'Sun, 10 Dec 2023 02:14:39 GMT'}, 'RetryAttempts': 0}}\n",
                        "exists(InferenceObject.MODEL,model-2023-12-03-11-24-39-75649): {'Models': [{'ModelName': 'model-2023-12-03-11-24-39-75649', 'ModelArn': 'arn:aws:sagemaker:ca-central-1:120429650996:model/model-2023-12-03-11-24-39-75649', 'CreationTime': datetime.datetime(2023, 12, 9, 18, 14, 39, 639000, tzinfo=tzlocal())}], 'ResponseMetadata': {'RequestId': '0e2c262a-ae01-4ec5-94c7-7d5a5635e6b5', 'HTTPStatusCode': 200, 'HTTPHeaders': {'x-amzn-requestid': '0e2c262a-ae01-4ec5-94c7-7d5a5635e6b5', 'content-type': 'application/x-amz-json-1.1', 'content-length': '187', 'date': 'Sun, 10 Dec 2023 02:14:39 GMT'}, 'RetryAttempts': 0}}\n"
                    ]
                }
            ],
            "source": [
                "assert inference_client.create(InferenceObject.MODEL, model_name)"
            ]
        },
        {
            "cell_type": "markdown",
            "metadata": {},
            "source": [
                "## Creating the endpoint configuration"
            ]
        },
        {
            "cell_type": "code",
            "execution_count": 7,
            "metadata": {},
            "outputs": [
                {
                    "name": "stderr",
                    "output_type": "stream",
                    "text": [
                        "create(InferenceObject.ENDPOINT_CONFIG,model-2023-12-03-11-24-39-75649)...\n",
                        "exists(InferenceObject.ENDPOINT_CONFIG,model-2023-12-03-11-24-39-75649): {'EndpointConfigs': [{'EndpointConfigName': 'model-2023-12-03-11-24-39-75649', 'EndpointConfigArn': 'arn:aws:sagemaker:ca-central-1:120429650996:endpoint-config/model-2023-12-03-11-24-39-75649', 'CreationTime': datetime.datetime(2023, 12, 9, 18, 14, 9, 742000, tzinfo=tzlocal())}], 'ResponseMetadata': {'RequestId': '43a78d0f-ee4a-462c-ae5f-990f1cac599f', 'HTTPStatusCode': 200, 'HTTPHeaders': {'x-amzn-requestid': '43a78d0f-ee4a-462c-ae5f-990f1cac599f', 'content-type': 'application/x-amz-json-1.1', 'content-length': '224', 'date': 'Sun, 10 Dec 2023 02:14:39 GMT'}, 'RetryAttempts': 0}}\n",
                        "InferenceObject.ENDPOINT_CONFIG model-2023-12-03-11-24-39-75649 already exists, will delete first.\n",
                        "delete(InferenceObject.ENDPOINT_CONFIG,model-2023-12-03-11-24-39-75649): {'ResponseMetadata': {'RequestId': '6353f461-d768-4228-8a79-326baf7cf527', 'HTTPStatusCode': 200, 'HTTPHeaders': {'x-amzn-requestid': '6353f461-d768-4228-8a79-326baf7cf527', 'content-type': 'application/x-amz-json-1.1', 'content-length': '0', 'date': 'Sun, 10 Dec 2023 02:14:39 GMT'}, 'RetryAttempts': 0}}\n",
                        "create(InferenceObject.ENDPOINT_CONFIG,model-2023-12-03-11-24-39-75649): {'EndpointConfigArn': 'arn:aws:sagemaker:ca-central-1:120429650996:endpoint-config/model-2023-12-03-11-24-39-75649', 'ResponseMetadata': {'RequestId': 'b746abc9-786d-414b-828f-3f746589b130', 'HTTPStatusCode': 200, 'HTTPHeaders': {'x-amzn-requestid': 'b746abc9-786d-414b-828f-3f746589b130', 'content-type': 'application/x-amz-json-1.1', 'content-length': '115', 'date': 'Sun, 10 Dec 2023 02:14:40 GMT'}, 'RetryAttempts': 0}}\n",
                        "exists(InferenceObject.ENDPOINT_CONFIG,model-2023-12-03-11-24-39-75649): {'EndpointConfigs': [{'EndpointConfigName': 'model-2023-12-03-11-24-39-75649', 'EndpointConfigArn': 'arn:aws:sagemaker:ca-central-1:120429650996:endpoint-config/model-2023-12-03-11-24-39-75649', 'CreationTime': datetime.datetime(2023, 12, 9, 18, 14, 40, 553000, tzinfo=tzlocal())}], 'ResponseMetadata': {'RequestId': 'de9530e7-1cf8-4e8a-89a2-9b33e672f31d', 'HTTPStatusCode': 200, 'HTTPHeaders': {'x-amzn-requestid': 'de9530e7-1cf8-4e8a-89a2-9b33e672f31d', 'content-type': 'application/x-amz-json-1.1', 'content-length': '224', 'date': 'Sun, 10 Dec 2023 02:14:40 GMT'}, 'RetryAttempts': 0}}\n"
                    ]
                }
            ],
            "source": [
                "assert inference_client.create(InferenceObject.ENDPOINT_CONFIG, model_name)"
            ]
        },
        {
            "attachments": {},
            "cell_type": "markdown",
            "metadata": {},
            "source": [
                "---"
            ]
        },
        {
            "cell_type": "code",
            "execution_count": 8,
            "metadata": {},
            "outputs": [],
            "source": [
                "# END"
            ]
        }
    ],
    "metadata": {
        "kernelspec": {
            "display_name": "Python 3 (ipykernel)",
            "language": "python",
            "name": "python3"
        },
        "language_info": {
            "codemirror_mode": {
                "name": "ipython",
                "version": 3
            },
            "file_extension": ".py",
            "mimetype": "text/x-python",
            "name": "python",
            "nbconvert_exporter": "python",
            "pygments_lexer": "ipython3",
            "version": "3.11.5"
        },
        "toc": {
            "base_numbering": 1,
            "nav_menu": {},
            "number_sections": true,
            "sideBar": true,
            "skip_h1_title": false,
            "title_cell": "Table of Contents",
            "title_sidebar": "Contents",
            "toc_cell": false,
            "toc_position": {},
            "toc_section_display": true,
            "toc_window_display": false
        }
    },
    "nbformat": 4,
    "nbformat_minor": 2
}
