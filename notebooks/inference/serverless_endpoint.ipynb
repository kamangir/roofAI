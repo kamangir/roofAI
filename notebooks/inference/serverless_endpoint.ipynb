{
    "cells": [
        {
            "attachments": {},
            "cell_type": "markdown",
            "metadata": {},
            "source": [
                "# serverless endpoint\n",
                "\n",
                "https://docs.aws.amazon.com/sagemaker/latest/dg/serverless-endpoints-create.html"
            ]
        },
        {
            "cell_type": "code",
            "execution_count": 1,
            "metadata": {},
            "outputs": [],
            "source": [
                "# !pip3 install sagemaker\n",
                "#!pip3 install --upgrade botocore"
            ]
        },
        {
            "cell_type": "code",
            "execution_count": 2,
            "metadata": {},
            "outputs": [
                {
                    "name": "stdout",
                    "output_type": "stream",
                    "text": [
                        "sagemaker.config INFO - Not applying SDK defaults from location: /Library/Application Support/sagemaker/config.yaml\n",
                        "sagemaker.config INFO - Not applying SDK defaults from location: /Users/kamangir/Library/Application Support/sagemaker/config.yaml\n"
                    ]
                },
                {
                    "name": "stderr",
                    "output_type": "stream",
                    "text": [
                        "roofAI-3.247.1-abcli-7.2554.1-unknown, built on 09 December 2023, 17:47:33\n"
                    ]
                }
            ],
            "source": [
                "import json\n",
                "\n",
                "from abcli import fullname\n",
                "from abcli import string\n",
                "from roofAI import NAME, VERSION\n",
                "from roofAI.inference.classes import InferenceClient\n",
                "\n",
                "import abcli.logging\n",
                "import logging\n",
                "\n",
                "logger = logging.getLogger()\n",
                "\n",
                "logger.info(f\"{NAME}-{VERSION}-{fullname()}, built on {string.pretty_date()}\")"
            ]
        },
        {
            "cell_type": "code",
            "execution_count": 3,
            "metadata": {},
            "outputs": [],
            "source": [
                "model_name = \"model-2023-12-03-11-24-39-75649\""
            ]
        },
        {
            "attachments": {},
            "cell_type": "markdown",
            "metadata": {},
            "source": [
                "---"
            ]
        },
        {
            "cell_type": "code",
            "execution_count": 4,
            "metadata": {},
            "outputs": [
                {
                    "name": "stderr",
                    "output_type": "stream",
                    "text": [
                        "Found credentials in shared credentials file: ~/.aws/credentials\n"
                    ]
                },
                {
                    "name": "stdout",
                    "output_type": "stream",
                    "text": [
                        "sagemaker.config      - Not applying SDK defaults from location: /Library/Application Support/sagemaker/config.yaml\n",
                        "sagemaker.config      - Not applying SDK defaults from location: /Users/kamangir/Library/Application Support/sagemaker/config.yaml\n"
                    ]
                },
                {
                    "name": "stderr",
                    "output_type": "stream",
                    "text": [
                        "Couldn't call 'get_role' to get Role ARN from role name shamim to get Role path.\n",
                        "sagemaker_role: defaulting to local.\n",
                        "Defaulting to only available Python version: py3\n",
                        "Defaulting to only supported image scope: cpu.\n",
                        "InferenceClient created.\n"
                    ]
                }
            ],
            "source": [
                "inference_client = InferenceClient(verbose=True)"
            ]
        },
        {
            "cell_type": "markdown",
            "metadata": {},
            "source": [
                "## creating the model"
            ]
        },
        {
            "cell_type": "code",
            "execution_count": 5,
            "metadata": {},
            "outputs": [],
            "source": [
                "import boto3\n",
                "import sagemaker\n",
                "region = boto3.Session().region_name\n",
                "client = boto3.client(\"sagemaker\", region_name=region)"
            ]
        },
        {
            "cell_type": "code",
            "execution_count": 6,
            "metadata": {},
            "outputs": [
                {
                    "name": "stderr",
                    "output_type": "stream",
                    "text": [
                        "creating model-2023-12-03-11-24-39-75649...\n",
                        "exists(model-2023-12-03-11-24-39-75649): {'Models': [{'ModelName': 'model-2023-12-03-11-24-39-75649', 'ModelArn': 'arn:aws:sagemaker:ca-central-1:120429650996:model/model-2023-12-03-11-24-39-75649', 'CreationTime': datetime.datetime(2023, 12, 9, 17, 47, 28, 273000, tzinfo=tzlocal())}], 'ResponseMetadata': {'RequestId': '4f8afa91-46e9-4ea2-956a-dd5dbad115bf', 'HTTPStatusCode': 200, 'HTTPHeaders': {'x-amzn-requestid': '4f8afa91-46e9-4ea2-956a-dd5dbad115bf', 'content-type': 'application/x-amz-json-1.1', 'content-length': '187', 'date': 'Sun, 10 Dec 2023 01:47:35 GMT'}, 'RetryAttempts': 0}}\n",
                        "model-2023-12-03-11-24-39-75649 already exists, will delete first.\n",
                        "delete(model-2023-12-03-11-24-39-75649): {'ResponseMetadata': {'RequestId': 'd32da9e1-db32-4d27-8f3b-1c1789cc34bd', 'HTTPStatusCode': 200, 'HTTPHeaders': {'x-amzn-requestid': 'd32da9e1-db32-4d27-8f3b-1c1789cc34bd', 'content-type': 'application/x-amz-json-1.1', 'content-length': '0', 'date': 'Sun, 10 Dec 2023 01:47:35 GMT'}, 'RetryAttempts': 0}}\n",
                        "create(model-2023-12-03-11-24-39-75649): {'ModelArn': 'arn:aws:sagemaker:ca-central-1:120429650996:model/model-2023-12-03-11-24-39-75649', 'ResponseMetadata': {'RequestId': '8b9f6405-e5eb-400e-b986-47d0c5c1d871', 'HTTPStatusCode': 200, 'HTTPHeaders': {'x-amzn-requestid': '8b9f6405-e5eb-400e-b986-47d0c5c1d871', 'content-type': 'application/x-amz-json-1.1', 'content-length': '96', 'date': 'Sun, 10 Dec 2023 01:47:35 GMT'}, 'RetryAttempts': 0}}\n",
                        "exists(model-2023-12-03-11-24-39-75649): {'Models': [{'ModelName': 'model-2023-12-03-11-24-39-75649', 'ModelArn': 'arn:aws:sagemaker:ca-central-1:120429650996:model/model-2023-12-03-11-24-39-75649', 'CreationTime': datetime.datetime(2023, 12, 9, 17, 47, 36, 466000, tzinfo=tzlocal())}], 'ResponseMetadata': {'RequestId': '76a27d51-48a1-4928-a1b6-40dc90968fc1', 'HTTPStatusCode': 200, 'HTTPHeaders': {'x-amzn-requestid': '76a27d51-48a1-4928-a1b6-40dc90968fc1', 'content-type': 'application/x-amz-json-1.1', 'content-length': '187', 'date': 'Sun, 10 Dec 2023 01:47:36 GMT'}, 'RetryAttempts': 0}}\n"
                    ]
                }
            ],
            "source": [
                "assert inference_client.create(model_name=model_name)"
            ]
        },
        {
            "cell_type": "markdown",
            "metadata": {},
            "source": [
                "## Creating the endpoint configuration"
            ]
        },
        {
            "cell_type": "code",
            "execution_count": 7,
            "metadata": {},
            "outputs": [
                {
                    "name": "stderr",
                    "output_type": "stream",
                    "text": [
                        "endpoint config already exists, will delete first.\n"
                    ]
                }
            ],
            "source": [
                "# https://boto3.amazonaws.com/v1/documentation/api/latest/reference/services/sagemaker/client/list_endpoint_configs.html\n",
                "response = client.list_endpoint_configs(NameContains=model_name)\n",
                "\n",
                "endpoint_config_found = bool(response[\"EndpointConfigs\"])\n",
                "if endpoint_config_found:\n",
                "    logger.info(\"endpoint config already exists, will delete first.\")"
            ]
        },
        {
            "cell_type": "code",
            "execution_count": 8,
            "metadata": {},
            "outputs": [
                {
                    "name": "stderr",
                    "output_type": "stream",
                    "text": [
                        "{\n",
                        "    \"ResponseMetadata\": {\n",
                        "        \"RequestId\": \"95d61f40-fb41-4052-a030-7e12c9d7f2a5\",\n",
                        "        \"HTTPStatusCode\": 200,\n",
                        "        \"HTTPHeaders\": {\n",
                        "            \"x-amzn-requestid\": \"95d61f40-fb41-4052-a030-7e12c9d7f2a5\",\n",
                        "            \"content-type\": \"application/x-amz-json-1.1\",\n",
                        "            \"content-length\": \"0\",\n",
                        "            \"date\": \"Sun, 10 Dec 2023 01:47:36 GMT\"\n",
                        "        },\n",
                        "        \"RetryAttempts\": 0\n",
                        "    }\n",
                        "}\n"
                    ]
                }
            ],
            "source": [
                "if endpoint_config_found:\n",
                "    # https://boto3.amazonaws.com/v1/documentation/api/latest/reference/services/sagemaker/client/delete_endpoint_config.html\n",
                "    response = client.delete_endpoint_config(EndpointConfigName=model_name)\n",
                "    logger.info(json.dumps(response,indent=4))    "
            ]
        },
        {
            "cell_type": "code",
            "execution_count": 9,
            "metadata": {},
            "outputs": [
                {
                    "name": "stderr",
                    "output_type": "stream",
                    "text": [
                        "{\n",
                        "    \"EndpointConfigArn\": \"arn:aws:sagemaker:ca-central-1:120429650996:endpoint-config/model-2023-12-03-11-24-39-75649\",\n",
                        "    \"ResponseMetadata\": {\n",
                        "        \"RequestId\": \"fe3518cb-5a68-4523-b392-86f9b39fa33d\",\n",
                        "        \"HTTPStatusCode\": 200,\n",
                        "        \"HTTPHeaders\": {\n",
                        "            \"x-amzn-requestid\": \"fe3518cb-5a68-4523-b392-86f9b39fa33d\",\n",
                        "            \"content-type\": \"application/x-amz-json-1.1\",\n",
                        "            \"content-length\": \"115\",\n",
                        "            \"date\": \"Sun, 10 Dec 2023 01:47:37 GMT\"\n",
                        "        },\n",
                        "        \"RetryAttempts\": 0\n",
                        "    }\n",
                        "}\n"
                    ]
                }
            ],
            "source": [
                "# https://docs.aws.amazon.com/sagemaker/latest/dg/serverless-endpoints-create.html#serverless-endpoints-create-config\n",
                "\n",
                "response = client.create_endpoint_config(\n",
                "   EndpointConfigName=model_name,\n",
                "   ProductionVariants=[\n",
                "        {\n",
                "            \"ModelName\": model_name,\n",
                "            \"VariantName\": \"AllTraffic\",\n",
                "            \"ServerlessConfig\": {\n",
                "                \"MemorySizeInMB\": 2048,\n",
                "                \"MaxConcurrency\": 20,\n",
                "                #\"ProvisionedConcurrency\": 10,\n",
                "            }\n",
                "        } \n",
                "    ]\n",
                ")\n",
                "\n",
                "logger.info(json.dumps(response,indent=4))"
            ]
        },
        {
            "cell_type": "code",
            "execution_count": 10,
            "metadata": {},
            "outputs": [
                {
                    "name": "stderr",
                    "output_type": "stream",
                    "text": [
                        "[{'EndpointConfigName': 'model-2023-12-03-11-24-39-75649', 'EndpointConfigArn': 'arn:aws:sagemaker:ca-central-1:120429650996:endpoint-config/model-2023-12-03-11-24-39-75649', 'CreationTime': datetime.datetime(2023, 12, 9, 17, 47, 37, 593000, tzinfo=tzlocal())}]\n"
                    ]
                }
            ],
            "source": [
                "response = client.list_endpoint_configs(NameContains=model_name)\n",
                "\n",
                "if response[\"EndpointConfigs\"]:\n",
                "    logger.info(response[\"EndpointConfigs\"])\n",
                "else:\n",
                "    logger.error(\"endpoint config was not created.\")\n",
                "    assert False"
            ]
        },
        {
            "attachments": {},
            "cell_type": "markdown",
            "metadata": {},
            "source": [
                "---"
            ]
        },
        {
            "cell_type": "code",
            "execution_count": 11,
            "metadata": {},
            "outputs": [],
            "source": [
                "# END"
            ]
        }
    ],
    "metadata": {
        "kernelspec": {
            "display_name": "Python 3 (ipykernel)",
            "language": "python",
            "name": "python3"
        },
        "language_info": {
            "codemirror_mode": {
                "name": "ipython",
                "version": 3
            },
            "file_extension": ".py",
            "mimetype": "text/x-python",
            "name": "python",
            "nbconvert_exporter": "python",
            "pygments_lexer": "ipython3",
            "version": "3.11.5"
        },
        "toc": {
            "base_numbering": 1,
            "nav_menu": {},
            "number_sections": true,
            "sideBar": true,
            "skip_h1_title": false,
            "title_cell": "Table of Contents",
            "title_sidebar": "Contents",
            "toc_cell": false,
            "toc_position": {},
            "toc_section_display": true,
            "toc_window_display": false
        }
    },
    "nbformat": 4,
    "nbformat_minor": 2
}
