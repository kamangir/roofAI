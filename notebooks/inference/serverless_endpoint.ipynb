{
    "cells": [
        {
            "attachments": {},
            "cell_type": "markdown",
            "metadata": {},
            "source": [
                "# serverless endpoint\n",
                "\n",
                "https://docs.aws.amazon.com/sagemaker/latest/dg/serverless-endpoints-create.html"
            ]
        },
        {
            "cell_type": "code",
            "execution_count": 1,
            "metadata": {},
            "outputs": [],
            "source": [
                "# !pip3 install sagemaker\n",
                "#!pip3 install --upgrade botocore"
            ]
        },
        {
            "cell_type": "code",
            "execution_count": 2,
            "metadata": {},
            "outputs": [
                {
                    "name": "stderr",
                    "output_type": "stream",
                    "text": [
                        "Found credentials in shared credentials file: ~/.aws/credentials\n"
                    ]
                },
                {
                    "name": "stdout",
                    "output_type": "stream",
                    "text": [
                        "sagemaker.config      - Not applying SDK defaults from location: /Library/Application Support/sagemaker/config.yaml\n",
                        "sagemaker.config      - Not applying SDK defaults from location: /Users/kamangir/Library/Application Support/sagemaker/config.yaml\n"
                    ]
                },
                {
                    "name": "stderr",
                    "output_type": "stream",
                    "text": [
                        "roofAI-3.257.1-abcli-7.2556.1-unknown, built on 09 December 2023, 18:31:06\n"
                    ]
                }
            ],
            "source": [
                "import json\n",
                "\n",
                "from abcli import fullname\n",
                "from abcli import string\n",
                "from abcli.plugins import cache\n",
                "from roofAI import NAME, VERSION\n",
                "from roofAI.inference.classes import InferenceClient, InferenceObject\n",
                "\n",
                "import abcli.logging\n",
                "import logging\n",
                "\n",
                "logger = logging.getLogger()\n",
                "\n",
                "logger.info(f\"{NAME}-{VERSION}-{fullname()}, built on {string.pretty_date()}\")"
            ]
        },
        {
            "cell_type": "code",
            "execution_count": 3,
            "metadata": {},
            "outputs": [],
            "source": [
                "model_name = cache.read(\"roofAI_semseg_model_AIRS_o2\")"
            ]
        },
        {
            "cell_type": "code",
            "execution_count": 4,
            "metadata": {},
            "outputs": [
                {
                    "name": "stderr",
                    "output_type": "stream",
                    "text": [
                        "Found credentials in shared credentials file: ~/.aws/credentials\n"
                    ]
                },
                {
                    "name": "stdout",
                    "output_type": "stream",
                    "text": [
                        "sagemaker.config      - Not applying SDK defaults from location: /Library/Application Support/sagemaker/config.yaml\n",
                        "sagemaker.config      - Not applying SDK defaults from location: /Users/kamangir/Library/Application Support/sagemaker/config.yaml\n"
                    ]
                },
                {
                    "name": "stderr",
                    "output_type": "stream",
                    "text": [
                        "Couldn't call 'get_role' to get Role ARN from role name shamim to get Role path.\n",
                        "sagemaker_role: defaulting to local.\n",
                        "Defaulting to only available Python version: py3\n",
                        "Defaulting to only supported image scope: cpu.\n",
                        "InferenceClient created.\n"
                    ]
                }
            ],
            "source": [
                "inference_client = InferenceClient(verbose=True)"
            ]
        },
        {
            "cell_type": "code",
            "execution_count": 5,
            "metadata": {},
            "outputs": [
                {
                    "name": "stderr",
                    "output_type": "stream",
                    "text": [
                        "create(InferenceObject.MODEL,model-2023-12-03-11-24-39-75649)...\n",
                        "exists(InferenceObject.MODEL,model-2023-12-03-11-24-39-75649): {'Models': [{'ModelName': 'model-2023-12-03-11-24-39-75649', 'ModelArn': 'arn:aws:sagemaker:ca-central-1:120429650996:model/model-2023-12-03-11-24-39-75649', 'CreationTime': datetime.datetime(2023, 12, 9, 18, 30, 4, 377000, tzinfo=tzlocal())}], 'ResponseMetadata': {'RequestId': 'e63af37f-ef1e-4556-97ea-041c88966767', 'HTTPStatusCode': 200, 'HTTPHeaders': {'x-amzn-requestid': 'e63af37f-ef1e-4556-97ea-041c88966767', 'content-type': 'application/x-amz-json-1.1', 'content-length': '187', 'date': 'Sun, 10 Dec 2023 02:31:08 GMT'}, 'RetryAttempts': 0}}\n",
                        "InferenceObject.MODEL model-2023-12-03-11-24-39-75649 already exists, will delete first.\n",
                        "delete(InferenceObject.MODEL,model-2023-12-03-11-24-39-75649): {'ResponseMetadata': {'RequestId': '870f0b80-9127-4dcd-9bd2-0cd755794b09', 'HTTPStatusCode': 200, 'HTTPHeaders': {'x-amzn-requestid': '870f0b80-9127-4dcd-9bd2-0cd755794b09', 'content-type': 'application/x-amz-json-1.1', 'content-length': '0', 'date': 'Sun, 10 Dec 2023 02:31:08 GMT'}, 'RetryAttempts': 0}}\n",
                        "create(InferenceObject.MODEL,model-2023-12-03-11-24-39-75649): {'ModelArn': 'arn:aws:sagemaker:ca-central-1:120429650996:model/model-2023-12-03-11-24-39-75649', 'ResponseMetadata': {'RequestId': '42d9f17f-bd71-4aab-8a93-d0c41084d9d4', 'HTTPStatusCode': 200, 'HTTPHeaders': {'x-amzn-requestid': '42d9f17f-bd71-4aab-8a93-d0c41084d9d4', 'content-type': 'application/x-amz-json-1.1', 'content-length': '96', 'date': 'Sun, 10 Dec 2023 02:31:09 GMT'}, 'RetryAttempts': 0}}\n",
                        "exists(InferenceObject.MODEL,model-2023-12-03-11-24-39-75649): {'Models': [{'ModelName': 'model-2023-12-03-11-24-39-75649', 'ModelArn': 'arn:aws:sagemaker:ca-central-1:120429650996:model/model-2023-12-03-11-24-39-75649', 'CreationTime': datetime.datetime(2023, 12, 9, 18, 31, 9, 242000, tzinfo=tzlocal())}], 'ResponseMetadata': {'RequestId': '16621b34-ec4d-4710-8689-3280be17f409', 'HTTPStatusCode': 200, 'HTTPHeaders': {'x-amzn-requestid': '16621b34-ec4d-4710-8689-3280be17f409', 'content-type': 'application/x-amz-json-1.1', 'content-length': '187', 'date': 'Sun, 10 Dec 2023 02:31:09 GMT'}, 'RetryAttempts': 0}}\n"
                    ]
                }
            ],
            "source": [
                "assert inference_client.create(InferenceObject.MODEL, model_name)"
            ]
        },
        {
            "cell_type": "code",
            "execution_count": 6,
            "metadata": {},
            "outputs": [
                {
                    "name": "stderr",
                    "output_type": "stream",
                    "text": [
                        "create(InferenceObject.ENDPOINT_CONFIG,model-2023-12-03-11-24-39-75649)...\n",
                        "exists(InferenceObject.ENDPOINT_CONFIG,model-2023-12-03-11-24-39-75649): {'EndpointConfigs': [{'EndpointConfigName': 'model-2023-12-03-11-24-39-75649', 'EndpointConfigArn': 'arn:aws:sagemaker:ca-central-1:120429650996:endpoint-config/model-2023-12-03-11-24-39-75649', 'CreationTime': datetime.datetime(2023, 12, 9, 18, 30, 5, 274000, tzinfo=tzlocal())}], 'ResponseMetadata': {'RequestId': 'f3f45cec-0286-4737-a8a3-a83c28ff02d8', 'HTTPStatusCode': 200, 'HTTPHeaders': {'x-amzn-requestid': 'f3f45cec-0286-4737-a8a3-a83c28ff02d8', 'content-type': 'application/x-amz-json-1.1', 'content-length': '224', 'date': 'Sun, 10 Dec 2023 02:31:09 GMT'}, 'RetryAttempts': 0}}\n",
                        "InferenceObject.ENDPOINT_CONFIG model-2023-12-03-11-24-39-75649 already exists, will delete first.\n",
                        "delete(InferenceObject.ENDPOINT_CONFIG,model-2023-12-03-11-24-39-75649): {'ResponseMetadata': {'RequestId': 'c7066d68-d553-426e-b3db-bd257ee1a403', 'HTTPStatusCode': 200, 'HTTPHeaders': {'x-amzn-requestid': 'c7066d68-d553-426e-b3db-bd257ee1a403', 'content-type': 'application/x-amz-json-1.1', 'content-length': '0', 'date': 'Sun, 10 Dec 2023 02:31:09 GMT'}, 'RetryAttempts': 0}}\n",
                        "create(InferenceObject.ENDPOINT_CONFIG,model-2023-12-03-11-24-39-75649): {'EndpointConfigArn': 'arn:aws:sagemaker:ca-central-1:120429650996:endpoint-config/model-2023-12-03-11-24-39-75649', 'ResponseMetadata': {'RequestId': '960e3e5c-a095-4854-a02a-d0bd05e6bc21', 'HTTPStatusCode': 200, 'HTTPHeaders': {'x-amzn-requestid': '960e3e5c-a095-4854-a02a-d0bd05e6bc21', 'content-type': 'application/x-amz-json-1.1', 'content-length': '115', 'date': 'Sun, 10 Dec 2023 02:31:09 GMT'}, 'RetryAttempts': 0}}\n",
                        "exists(InferenceObject.ENDPOINT_CONFIG,model-2023-12-03-11-24-39-75649): {'EndpointConfigs': [{'EndpointConfigName': 'model-2023-12-03-11-24-39-75649', 'EndpointConfigArn': 'arn:aws:sagemaker:ca-central-1:120429650996:endpoint-config/model-2023-12-03-11-24-39-75649', 'CreationTime': datetime.datetime(2023, 12, 9, 18, 31, 10, 130000, tzinfo=tzlocal())}], 'ResponseMetadata': {'RequestId': 'ea0b5e57-5f6d-49da-944e-6d1076af9fef', 'HTTPStatusCode': 200, 'HTTPHeaders': {'x-amzn-requestid': 'ea0b5e57-5f6d-49da-944e-6d1076af9fef', 'content-type': 'application/x-amz-json-1.1', 'content-length': '223', 'date': 'Sun, 10 Dec 2023 02:31:09 GMT'}, 'RetryAttempts': 0}}\n"
                    ]
                }
            ],
            "source": [
                "assert inference_client.create(InferenceObject.ENDPOINT_CONFIG, model_name)"
            ]
        },
        {
            "cell_type": "code",
            "execution_count": 7,
            "metadata": {},
            "outputs": [],
            "source": [
                "# END"
            ]
        }
    ],
    "metadata": {
        "kernelspec": {
            "display_name": "Python 3 (ipykernel)",
            "language": "python",
            "name": "python3"
        },
        "language_info": {
            "codemirror_mode": {
                "name": "ipython",
                "version": 3
            },
            "file_extension": ".py",
            "mimetype": "text/x-python",
            "name": "python",
            "nbconvert_exporter": "python",
            "pygments_lexer": "ipython3",
            "version": "3.11.5"
        },
        "toc": {
            "base_numbering": 1,
            "nav_menu": {},
            "number_sections": true,
            "sideBar": true,
            "skip_h1_title": false,
            "title_cell": "Table of Contents",
            "title_sidebar": "Contents",
            "toc_cell": false,
            "toc_position": {},
            "toc_section_display": true,
            "toc_window_display": false
        }
    },
    "nbformat": 4,
    "nbformat_minor": 2
}
