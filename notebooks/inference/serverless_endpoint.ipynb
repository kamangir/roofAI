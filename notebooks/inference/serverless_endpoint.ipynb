{
    "cells": [
        {
            "attachments": {},
            "cell_type": "markdown",
            "metadata": {},
            "source": [
                "# serverless endpoint\n",
                "\n",
                "https://docs.aws.amazon.com/sagemaker/latest/dg/serverless-endpoints-create.html"
            ]
        },
        {
            "cell_type": "code",
            "execution_count": 1,
            "metadata": {},
            "outputs": [],
            "source": [
                "# !pip3 install sagemaker\n",
                "#!pip3 install --upgrade botocore"
            ]
        },
        {
            "cell_type": "code",
            "execution_count": 2,
            "metadata": {},
            "outputs": [
                {
                    "name": "stderr",
                    "output_type": "stream",
                    "text": [
                        "Found credentials in shared credentials file: ~/.aws/credentials\n"
                    ]
                },
                {
                    "name": "stdout",
                    "output_type": "stream",
                    "text": [
                        "sagemaker.config      - Not applying SDK defaults from location: /Library/Application Support/sagemaker/config.yaml\n",
                        "sagemaker.config      - Not applying SDK defaults from location: /Users/kamangir/Library/Application Support/sagemaker/config.yaml\n"
                    ]
                },
                {
                    "name": "stderr",
                    "output_type": "stream",
                    "text": [
                        "roofAI-3.271.1-abcli-7.2564.1-unknown, built on 10 December 2023, 18:41:31\n"
                    ]
                }
            ],
            "source": [
                "import json\n",
                "\n",
                "from abcli import fullname\n",
                "from abcli import string\n",
                "from abcli.plugins import cache\n",
                "from roofAI import NAME, VERSION\n",
                "from roofAI.inference.classes import InferenceClient, InferenceObject\n",
                "\n",
                "import abcli.logging\n",
                "import logging\n",
                "\n",
                "logger = logging.getLogger()\n",
                "\n",
                "logger.info(f\"{NAME}-{VERSION}-{fullname()}, built on {string.pretty_date()}\")"
            ]
        },
        {
            "cell_type": "code",
            "execution_count": 3,
            "metadata": {},
            "outputs": [],
            "source": [
                "model_name = cache.read(\"roofAI_semseg_model_AIRS_o2\")"
            ]
        },
        {
            "cell_type": "code",
            "execution_count": 4,
            "metadata": {},
            "outputs": [
                {
                    "name": "stderr",
                    "output_type": "stream",
                    "text": [
                        "Found credentials in shared credentials file: ~/.aws/credentials\n"
                    ]
                },
                {
                    "name": "stdout",
                    "output_type": "stream",
                    "text": [
                        "sagemaker.config      - Not applying SDK defaults from location: /Library/Application Support/sagemaker/config.yaml\n",
                        "sagemaker.config      - Not applying SDK defaults from location: /Users/kamangir/Library/Application Support/sagemaker/config.yaml\n"
                    ]
                },
                {
                    "name": "stderr",
                    "output_type": "stream",
                    "text": [
                        "Couldn't call 'get_role' to get Role ARN from role name shamim to get Role path.\n",
                        "sagemaker_role: defaulting to local.\n",
                        "Defaulting to only available Python version: py3\n",
                        "Defaulting to only supported image scope: cpu.\n",
                        "InferenceClient created.\n"
                    ]
                }
            ],
            "source": [
                "inference_client = InferenceClient(verbose=True)"
            ]
        },
        {
            "cell_type": "code",
            "execution_count": 5,
            "metadata": {},
            "outputs": [
                {
                    "name": "stderr",
                    "output_type": "stream",
                    "text": [
                        "create_model(model-2023-12-03-11-24-39-75649)...\n",
                        "list(InferenceObject.MODEL,model-2023-12-03-11-24-39-75649): {'Models': [{'ModelName': 'model-2023-12-03-11-24-39-75649', 'ModelArn': 'arn:aws:sagemaker:ca-central-1:120429650996:model/model-2023-12-03-11-24-39-75649', 'CreationTime': datetime.datetime(2023, 12, 10, 18, 41, 0, 379000, tzinfo=tzlocal())}], 'ResponseMetadata': {'RequestId': '1c232f03-d444-496b-9f86-7d611036373e', 'HTTPStatusCode': 200, 'HTTPHeaders': {'x-amzn-requestid': '1c232f03-d444-496b-9f86-7d611036373e', 'content-type': 'application/x-amz-json-1.1', 'content-length': '187', 'date': 'Mon, 11 Dec 2023 02:41:33 GMT'}, 'RetryAttempts': 0}}\n",
                        "delete(InferenceObject.MODEL,model-2023-12-03-11-24-39-75649): {'ResponseMetadata': {'RequestId': '2297301c-4ea3-4bb6-b905-e9dffa2bcea5', 'HTTPStatusCode': 200, 'HTTPHeaders': {'x-amzn-requestid': '2297301c-4ea3-4bb6-b905-e9dffa2bcea5', 'content-type': 'application/x-amz-json-1.1', 'content-length': '0', 'date': 'Mon, 11 Dec 2023 02:41:33 GMT'}, 'RetryAttempts': 0}}\n",
                        "{'ModelArn': 'arn:aws:sagemaker:ca-central-1:120429650996:model/model-2023-12-03-11-24-39-75649', 'ResponseMetadata': {'RequestId': 'dd946f4d-94e3-4c6c-864d-2d2934fa9f5d', 'HTTPStatusCode': 200, 'HTTPHeaders': {'x-amzn-requestid': 'dd946f4d-94e3-4c6c-864d-2d2934fa9f5d', 'content-type': 'application/x-amz-json-1.1', 'content-length': '96', 'date': 'Mon, 11 Dec 2023 02:41:34 GMT'}, 'RetryAttempts': 0}}\n",
                        "list(InferenceObject.MODEL,model-2023-12-03-11-24-39-75649): {'Models': [{'ModelName': 'model-2023-12-03-11-24-39-75649', 'ModelArn': 'arn:aws:sagemaker:ca-central-1:120429650996:model/model-2023-12-03-11-24-39-75649', 'CreationTime': datetime.datetime(2023, 12, 10, 18, 41, 34, 88000, tzinfo=tzlocal())}], 'ResponseMetadata': {'RequestId': '412f9a72-d08d-40a8-93b0-15b2c0d79739', 'HTTPStatusCode': 200, 'HTTPHeaders': {'x-amzn-requestid': '412f9a72-d08d-40a8-93b0-15b2c0d79739', 'content-type': 'application/x-amz-json-1.1', 'content-length': '187', 'date': 'Mon, 11 Dec 2023 02:41:34 GMT'}, 'RetryAttempts': 0}}\n"
                    ]
                }
            ],
            "source": [
                "assert inference_client.create_model(name=model_name)"
            ]
        },
        {
            "cell_type": "code",
            "execution_count": 6,
            "metadata": {},
            "outputs": [
                {
                    "name": "stderr",
                    "output_type": "stream",
                    "text": [
                        "create_endpoint_config(config-model-2023-12-03-11-24-39-75649-Wnmubt9u:model-2023-12-03-11-24-39-75649)...\n",
                        "list(InferenceObject.ENDPOINT_CONFIG,config-model-2023-12-03-11-24-39-75649-Wnmubt9u): {'EndpointConfigs': [], 'ResponseMetadata': {'RequestId': 'cd9ba9de-54b6-41af-8273-1fc4b7e30e45', 'HTTPStatusCode': 200, 'HTTPHeaders': {'x-amzn-requestid': 'cd9ba9de-54b6-41af-8273-1fc4b7e30e45', 'content-type': 'application/x-amz-json-1.1', 'content-length': '22', 'date': 'Mon, 11 Dec 2023 02:41:34 GMT'}, 'RetryAttempts': 0}}\n",
                        "{'EndpointConfigArn': 'arn:aws:sagemaker:ca-central-1:120429650996:endpoint-config/config-model-2023-12-03-11-24-39-75649-wnmubt9u', 'ResponseMetadata': {'RequestId': '22890641-2040-497a-8292-2db8dc1b1221', 'HTTPStatusCode': 200, 'HTTPHeaders': {'x-amzn-requestid': '22890641-2040-497a-8292-2db8dc1b1221', 'content-type': 'application/x-amz-json-1.1', 'content-length': '131', 'date': 'Mon, 11 Dec 2023 02:41:34 GMT'}, 'RetryAttempts': 0}}\n",
                        "list(InferenceObject.ENDPOINT_CONFIG,config-model-2023-12-03-11-24-39-75649-Wnmubt9u): {'EndpointConfigs': [{'EndpointConfigName': 'config-model-2023-12-03-11-24-39-75649-Wnmubt9u', 'EndpointConfigArn': 'arn:aws:sagemaker:ca-central-1:120429650996:endpoint-config/config-model-2023-12-03-11-24-39-75649-wnmubt9u', 'CreationTime': datetime.datetime(2023, 12, 10, 18, 41, 34, 746000, tzinfo=tzlocal())}], 'ResponseMetadata': {'RequestId': '66a695fc-4263-4864-b1b3-3c9bfed9cd52', 'HTTPStatusCode': 200, 'HTTPHeaders': {'x-amzn-requestid': '66a695fc-4263-4864-b1b3-3c9bfed9cd52', 'content-type': 'application/x-amz-json-1.1', 'content-length': '256', 'date': 'Mon, 11 Dec 2023 02:41:34 GMT'}, 'RetryAttempts': 0}}\n"
                    ]
                }
            ],
            "source": [
                "config_name =  \"config-{}-{}\".format(model_name, string.random_(8))\n",
                "assert inference_client.create_endpoint_config(name=config_name, model_name=model_name)"
            ]
        },
        {
            "cell_type": "code",
            "execution_count": 7,
            "metadata": {},
            "outputs": [
                {
                    "name": "stderr",
                    "output_type": "stream",
                    "text": [
                        "create_endpoint(endpoint-model-2023-12-03-11-24-39-75649-AonRGlLb:config-model-2023-12-03-11-24-39-75649-Wnmubt9u)...\n",
                        "list(InferenceObject.ENDPOINT,endpoint-model-2023-12-03-11-24-39-75649-AonRGlLb): {'Endpoints': [], 'NextToken': 'cIws2QhTXUIa8bi8XNKmlzPAFyLsu1lXMD9a1y2x7vEtL8zPsPwGycEctt6JW+eTQvknOfRTFGHpHd9NH3CinlDyMohuxRq4WqvqjpyBjRrmYNDuXZUeTwx2efZ9V0F2iKTxVWlN1UJSXXqtnJpaYVf4Dg74gIWmpVtEFLpGmR/xlNm2TNoAQMhsZa94l32/zbw+MOe0RK+Vnc6VogrEDh5c/VidIQIkHJa6+wMXSFHEkY5jwzbpXJFgDIO453IdSY/xEQSeoYHHiwaYtVwdes04FZ9y/P7vJy+GOwptzC77zTdOttim4iavDE5+TgF9qXTh3d0yjmV3x66Voqe7N9RT7IYeQawGf4IaVKcsyTc7Lm17NR/twSiZIQcmrTH1lmZdSNzpbzdTJZdzyhKNNogMo3GxLP03Rzz6SGnpVXCF3l74sgqmRw89mVmIpZijdWP4+ZG16lpYK8BCohXQ7gmHdz5vLhakSqxrCWvFrGvgVJrsc6LNLZ4aDOvmP15pwpUTS9CgARneVSCCebO7xOEM3baWkd1FYJ4e+ImM+v9hNihqty5Kdy8MBggfEHXAwUOrDuUDZ+LSIA2jT/mqqF+nI4byyvMoBQrPQ55Y/HHPV8DLWg9AfOcp/HRlDNbSh+TSoH7aeWE=', 'ResponseMetadata': {'RequestId': '5b8a6f64-ae78-4a2d-b848-3e59a4e2eb87', 'HTTPStatusCode': 200, 'HTTPHeaders': {'x-amzn-requestid': '5b8a6f64-ae78-4a2d-b848-3e59a4e2eb87', 'content-type': 'application/x-amz-json-1.1', 'content-length': '683', 'date': 'Mon, 11 Dec 2023 02:41:34 GMT'}, 'RetryAttempts': 0}}\n",
                        "{'EndpointArn': 'arn:aws:sagemaker:ca-central-1:120429650996:endpoint/endpoint-model-2023-12-03-11-24-39-75649-aonrgllb', 'ResponseMetadata': {'RequestId': '8df902fe-0d87-4de7-a82f-6be9d4aafd38', 'HTTPStatusCode': 200, 'HTTPHeaders': {'x-amzn-requestid': '8df902fe-0d87-4de7-a82f-6be9d4aafd38', 'content-type': 'application/x-amz-json-1.1', 'content-length': '120', 'date': 'Mon, 11 Dec 2023 02:41:35 GMT'}, 'RetryAttempts': 0}}\n",
                        "list(InferenceObject.ENDPOINT,endpoint-model-2023-12-03-11-24-39-75649-AonRGlLb): {'Endpoints': [{'EndpointName': 'endpoint-model-2023-12-03-11-24-39-75649-AonRGlLb', 'EndpointArn': 'arn:aws:sagemaker:ca-central-1:120429650996:endpoint/endpoint-model-2023-12-03-11-24-39-75649-aonrgllb', 'CreationTime': datetime.datetime(2023, 12, 10, 18, 41, 35, 331000, tzinfo=tzlocal()), 'LastModifiedTime': datetime.datetime(2023, 12, 10, 18, 41, 35, 331000, tzinfo=tzlocal()), 'EndpointStatus': 'Creating'}], 'NextToken': 'cIws2QhTXUIa8bi8XNKmlzPAFyLsu1lXMD9a1y2x7vEtL8zPsPwGycEctt6JW+eTQvknOfRTFGHpHd9NH3CinlDyMohuxRq4WqvqjpyBjRrmYNDuXZUeTwx2efZ9V0F2iKTxVWlN1UJSXXqtnJpaYVf4Dg74gIWmpVtEFLpGmR/xlNm2TNoAQMhsZa94l32/zbw+MOe0RK+Vnc6VogrEDh5c/VidIQIkHJa6+wMXSFHEkY5jwzbpXJFgDIO453IdSY/xEQSeoYHHiwaYtVwdes04FZ9y/P7vJy+GOwptzC77zTdOttim4iavDE5+TgF9qXTh3d0yjmV3x66Voqe7N9RT7IYeQawGf4IaVKcsyTc7Lm17NR/twSiZIQcmrTH1lmZdSNzpbzdTJZdzyhKNNogMo3GxLP03Rzz6SGnpVXCF3l74sgqmRw89mVmIpZijdWP4+ZG16lpYK8BCohXTNflLUOmwG/FP96YMVP8wamKD96BXQSbsLNTRg72Ilpc6/tQPz0FHIH2EWMQ2EqGE/jX6cms5Rcgsrvm4aJsDABLKZKVr+qUSwgmiXvCEWjEXHTfugYD4WTHsomZ7zc6PNDOTyofiLP0AzfpzG0QFI/cZedHmAtFtydBeGf2BffsbNeterUFDqsg=', 'ResponseMetadata': {'RequestId': '314459a2-c3bd-4058-bfa0-c4ff298d193d', 'HTTPStatusCode': 200, 'HTTPHeaders': {'x-amzn-requestid': '314459a2-c3bd-4058-bfa0-c4ff298d193d', 'content-type': 'application/x-amz-json-1.1', 'content-length': '966', 'date': 'Mon, 11 Dec 2023 02:41:35 GMT'}, 'RetryAttempts': 0}}\n"
                    ]
                }
            ],
            "source": [
                "endpoint_name = \"endpoint-{}-{}\".format(model_name, string.random_(8))\n",
                "assert inference_client.create_endpoint(name=endpoint_name, config_name=config_name)"
            ]
        },
        {
            "cell_type": "code",
            "execution_count": 8,
            "metadata": {},
            "outputs": [],
            "source": [
                "# END"
            ]
        }
    ],
    "metadata": {
        "kernelspec": {
            "display_name": "Python 3 (ipykernel)",
            "language": "python",
            "name": "python3"
        },
        "language_info": {
            "codemirror_mode": {
                "name": "ipython",
                "version": 3
            },
            "file_extension": ".py",
            "mimetype": "text/x-python",
            "name": "python",
            "nbconvert_exporter": "python",
            "pygments_lexer": "ipython3",
            "version": "3.11.5"
        },
        "toc": {
            "base_numbering": 1,
            "nav_menu": {},
            "number_sections": true,
            "sideBar": true,
            "skip_h1_title": false,
            "title_cell": "Table of Contents",
            "title_sidebar": "Contents",
            "toc_cell": false,
            "toc_position": {},
            "toc_section_display": true,
            "toc_window_display": false
        }
    },
    "nbformat": 4,
    "nbformat_minor": 2
}
