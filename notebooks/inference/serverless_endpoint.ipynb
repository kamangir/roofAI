{
    "cells": [
        {
            "attachments": {},
            "cell_type": "markdown",
            "metadata": {},
            "source": [
                "# serverless endpoint\n",
                "\n",
                "https://docs.aws.amazon.com/sagemaker/latest/dg/serverless-endpoints-create.html"
            ]
        },
        {
            "cell_type": "code",
            "execution_count": 1,
            "metadata": {},
            "outputs": [],
            "source": [
                "# !pip3 install sagemaker\n",
                "#!pip3 install --upgrade botocore"
            ]
        },
        {
            "cell_type": "code",
            "execution_count": 2,
            "metadata": {},
            "outputs": [
                {
                    "name": "stderr",
                    "output_type": "stream",
                    "text": [
                        "Found credentials in shared credentials file: ~/.aws/credentials\n"
                    ]
                },
                {
                    "name": "stdout",
                    "output_type": "stream",
                    "text": [
                        "sagemaker.config      - Not applying SDK defaults from location: /Library/Application Support/sagemaker/config.yaml\n",
                        "sagemaker.config      - Not applying SDK defaults from location: /Users/kamangir/Library/Application Support/sagemaker/config.yaml\n"
                    ]
                },
                {
                    "name": "stderr",
                    "output_type": "stream",
                    "text": [
                        "roofAI-3.267.1-abcli-7.2559.1-unknown, built on 10 December 2023, 16:25:32\n"
                    ]
                }
            ],
            "source": [
                "import json\n",
                "\n",
                "from abcli import fullname\n",
                "from abcli import string\n",
                "from abcli.plugins import cache\n",
                "from roofAI import NAME, VERSION\n",
                "from roofAI.inference.classes import InferenceClient, InferenceObject\n",
                "\n",
                "import abcli.logging\n",
                "import logging\n",
                "\n",
                "logger = logging.getLogger()\n",
                "\n",
                "logger.info(f\"{NAME}-{VERSION}-{fullname()}, built on {string.pretty_date()}\")"
            ]
        },
        {
            "cell_type": "code",
            "execution_count": 3,
            "metadata": {},
            "outputs": [],
            "source": [
                "model_name = cache.read(\"roofAI_semseg_model_AIRS_o2\")"
            ]
        },
        {
            "cell_type": "code",
            "execution_count": 4,
            "metadata": {},
            "outputs": [
                {
                    "name": "stderr",
                    "output_type": "stream",
                    "text": [
                        "Found credentials in shared credentials file: ~/.aws/credentials\n"
                    ]
                },
                {
                    "name": "stdout",
                    "output_type": "stream",
                    "text": [
                        "sagemaker.config      - Not applying SDK defaults from location: /Library/Application Support/sagemaker/config.yaml\n",
                        "sagemaker.config      - Not applying SDK defaults from location: /Users/kamangir/Library/Application Support/sagemaker/config.yaml\n"
                    ]
                },
                {
                    "name": "stderr",
                    "output_type": "stream",
                    "text": [
                        "Couldn't call 'get_role' to get Role ARN from role name shamim to get Role path.\n",
                        "sagemaker_role: defaulting to local.\n",
                        "Defaulting to only available Python version: py3\n",
                        "Defaulting to only supported image scope: cpu.\n",
                        "InferenceClient created.\n"
                    ]
                }
            ],
            "source": [
                "inference_client = InferenceClient(verbose=True)"
            ]
        },
        {
            "cell_type": "code",
            "execution_count": 5,
            "metadata": {},
            "outputs": [
                {
                    "name": "stderr",
                    "output_type": "stream",
                    "text": [
                        "create(InferenceObject.MODEL,model-2023-12-03-11-24-39-75649)...\n",
                        "list(InferenceObject.MODEL,model-2023-12-03-11-24-39-75649): {'Models': [{'ModelName': 'model-2023-12-03-11-24-39-75649', 'ModelArn': 'arn:aws:sagemaker:ca-central-1:120429650996:model/model-2023-12-03-11-24-39-75649', 'CreationTime': datetime.datetime(2023, 12, 10, 14, 25, 59, 935000, tzinfo=tzlocal())}], 'ResponseMetadata': {'RequestId': '334609a7-d178-4bc7-9def-75930beee8e0', 'HTTPStatusCode': 200, 'HTTPHeaders': {'x-amzn-requestid': '334609a7-d178-4bc7-9def-75930beee8e0', 'content-type': 'application/x-amz-json-1.1', 'content-length': '187', 'date': 'Mon, 11 Dec 2023 00:25:34 GMT'}, 'RetryAttempts': 0}}\n",
                        "InferenceObject.MODEL model-2023-12-03-11-24-39-75649 already exists, will delete first.\n",
                        "delete(InferenceObject.MODEL,model-2023-12-03-11-24-39-75649): {'ResponseMetadata': {'RequestId': '7839e726-8e8c-4622-8fb6-208c02b72415', 'HTTPStatusCode': 200, 'HTTPHeaders': {'x-amzn-requestid': '7839e726-8e8c-4622-8fb6-208c02b72415', 'content-type': 'application/x-amz-json-1.1', 'content-length': '0', 'date': 'Mon, 11 Dec 2023 00:25:34 GMT'}, 'RetryAttempts': 0}}\n",
                        "create(InferenceObject.MODEL,model-2023-12-03-11-24-39-75649): {'ModelArn': 'arn:aws:sagemaker:ca-central-1:120429650996:model/model-2023-12-03-11-24-39-75649', 'ResponseMetadata': {'RequestId': 'a47fc22e-104b-43a6-9d22-179bc2945c5c', 'HTTPStatusCode': 200, 'HTTPHeaders': {'x-amzn-requestid': 'a47fc22e-104b-43a6-9d22-179bc2945c5c', 'content-type': 'application/x-amz-json-1.1', 'content-length': '96', 'date': 'Mon, 11 Dec 2023 00:25:35 GMT'}, 'RetryAttempts': 0}}\n",
                        "list(InferenceObject.MODEL,model-2023-12-03-11-24-39-75649): {'Models': [{'ModelName': 'model-2023-12-03-11-24-39-75649', 'ModelArn': 'arn:aws:sagemaker:ca-central-1:120429650996:model/model-2023-12-03-11-24-39-75649', 'CreationTime': datetime.datetime(2023, 12, 10, 16, 25, 35, 462000, tzinfo=tzlocal())}], 'ResponseMetadata': {'RequestId': 'd3ea6a1d-1041-47b8-8002-98b26cc5fa28', 'HTTPStatusCode': 200, 'HTTPHeaders': {'x-amzn-requestid': 'd3ea6a1d-1041-47b8-8002-98b26cc5fa28', 'content-type': 'application/x-amz-json-1.1', 'content-length': '187', 'date': 'Mon, 11 Dec 2023 00:25:35 GMT'}, 'RetryAttempts': 0}}\n"
                    ]
                }
            ],
            "source": [
                "assert inference_client.create(InferenceObject.MODEL, model_name)"
            ]
        },
        {
            "cell_type": "code",
            "execution_count": 6,
            "metadata": {},
            "outputs": [
                {
                    "name": "stderr",
                    "output_type": "stream",
                    "text": [
                        "create(InferenceObject.ENDPOINT_CONFIG,model-2023-12-03-11-24-39-75649)...\n",
                        "list(InferenceObject.ENDPOINT_CONFIG,model-2023-12-03-11-24-39-75649): {'EndpointConfigs': [{'EndpointConfigName': 'model-2023-12-03-11-24-39-75649', 'EndpointConfigArn': 'arn:aws:sagemaker:ca-central-1:120429650996:endpoint-config/model-2023-12-03-11-24-39-75649', 'CreationTime': datetime.datetime(2023, 12, 10, 14, 26, 1, 15000, tzinfo=tzlocal())}], 'ResponseMetadata': {'RequestId': '9239e693-01a8-494d-a23f-cd8ab273e10a', 'HTTPStatusCode': 200, 'HTTPHeaders': {'x-amzn-requestid': '9239e693-01a8-494d-a23f-cd8ab273e10a', 'content-type': 'application/x-amz-json-1.1', 'content-length': '224', 'date': 'Mon, 11 Dec 2023 00:25:35 GMT'}, 'RetryAttempts': 0}}\n",
                        "InferenceObject.ENDPOINT_CONFIG model-2023-12-03-11-24-39-75649 already exists, will delete first.\n",
                        "delete(InferenceObject.ENDPOINT_CONFIG,model-2023-12-03-11-24-39-75649): {'ResponseMetadata': {'RequestId': 'cb52628e-b605-467c-99eb-0a8a951ad5b6', 'HTTPStatusCode': 200, 'HTTPHeaders': {'x-amzn-requestid': 'cb52628e-b605-467c-99eb-0a8a951ad5b6', 'content-type': 'application/x-amz-json-1.1', 'content-length': '0', 'date': 'Mon, 11 Dec 2023 00:25:35 GMT'}, 'RetryAttempts': 0}}\n",
                        "create(InferenceObject.ENDPOINT_CONFIG,model-2023-12-03-11-24-39-75649): {'EndpointConfigArn': 'arn:aws:sagemaker:ca-central-1:120429650996:endpoint-config/model-2023-12-03-11-24-39-75649', 'ResponseMetadata': {'RequestId': '70dd5aef-7898-4e05-af14-c1848b11805c', 'HTTPStatusCode': 200, 'HTTPHeaders': {'x-amzn-requestid': '70dd5aef-7898-4e05-af14-c1848b11805c', 'content-type': 'application/x-amz-json-1.1', 'content-length': '115', 'date': 'Mon, 11 Dec 2023 00:25:35 GMT'}, 'RetryAttempts': 0}}\n",
                        "list(InferenceObject.ENDPOINT_CONFIG,model-2023-12-03-11-24-39-75649): {'EndpointConfigs': [{'EndpointConfigName': 'model-2023-12-03-11-24-39-75649', 'EndpointConfigArn': 'arn:aws:sagemaker:ca-central-1:120429650996:endpoint-config/model-2023-12-03-11-24-39-75649', 'CreationTime': datetime.datetime(2023, 12, 10, 16, 25, 36, 362000, tzinfo=tzlocal())}], 'ResponseMetadata': {'RequestId': '1a40baef-a405-4c53-a8fa-cc8a55e8e597', 'HTTPStatusCode': 200, 'HTTPHeaders': {'x-amzn-requestid': '1a40baef-a405-4c53-a8fa-cc8a55e8e597', 'content-type': 'application/x-amz-json-1.1', 'content-length': '224', 'date': 'Mon, 11 Dec 2023 00:25:36 GMT'}, 'RetryAttempts': 0}}\n"
                    ]
                }
            ],
            "source": [
                "assert inference_client.create(InferenceObject.ENDPOINT_CONFIG, model_name)"
            ]
        },
        {
            "cell_type": "code",
            "execution_count": 7,
            "metadata": {},
            "outputs": [
                {
                    "name": "stderr",
                    "output_type": "stream",
                    "text": [
                        "create(InferenceObject.ENDPOINT,model-2023-12-03-11-24-39-75649->model-2023-12-03-11-24-39-75649-lLhMVWru)...\n",
                        "list(InferenceObject.ENDPOINT,model-2023-12-03-11-24-39-75649-lLhMVWru): {'Endpoints': [], 'ResponseMetadata': {'RequestId': '40aae704-a455-465a-af60-02dd7de70f32', 'HTTPStatusCode': 200, 'HTTPHeaders': {'x-amzn-requestid': '40aae704-a455-465a-af60-02dd7de70f32', 'content-type': 'application/x-amz-json-1.1', 'content-length': '16', 'date': 'Mon, 11 Dec 2023 00:25:36 GMT'}, 'RetryAttempts': 0}}\n",
                        "create(InferenceObject.ENDPOINT,model-2023-12-03-11-24-39-75649-lLhMVWru): {'EndpointArn': 'arn:aws:sagemaker:ca-central-1:120429650996:endpoint/model-2023-12-03-11-24-39-75649-llhmvwru', 'ResponseMetadata': {'RequestId': 'fd3691bd-4f5c-45da-bd4d-aea0f6a19716', 'HTTPStatusCode': 200, 'HTTPHeaders': {'x-amzn-requestid': 'fd3691bd-4f5c-45da-bd4d-aea0f6a19716', 'content-type': 'application/x-amz-json-1.1', 'content-length': '111', 'date': 'Mon, 11 Dec 2023 00:25:36 GMT'}, 'RetryAttempts': 0}}\n",
                        "list(InferenceObject.ENDPOINT,model-2023-12-03-11-24-39-75649-lLhMVWru): {'Endpoints': [{'EndpointName': 'model-2023-12-03-11-24-39-75649-lLhMVWru', 'EndpointArn': 'arn:aws:sagemaker:ca-central-1:120429650996:endpoint/model-2023-12-03-11-24-39-75649-llhmvwru', 'CreationTime': datetime.datetime(2023, 12, 10, 16, 25, 36, 969000, tzinfo=tzlocal()), 'LastModifiedTime': datetime.datetime(2023, 12, 10, 16, 25, 36, 969000, tzinfo=tzlocal()), 'EndpointStatus': 'Creating'}], 'ResponseMetadata': {'RequestId': 'd411d6e9-cca2-4ead-9e35-9970fb86b7e9', 'HTTPStatusCode': 200, 'HTTPHeaders': {'x-amzn-requestid': 'd411d6e9-cca2-4ead-9e35-9970fb86b7e9', 'content-type': 'application/x-amz-json-1.1', 'content-length': '281', 'date': 'Mon, 11 Dec 2023 00:25:36 GMT'}, 'RetryAttempts': 0}}\n"
                    ]
                }
            ],
            "source": [
                "endpoint_name = \"{}-{}\".format(model_name, string.random_(8))\n",
                "assert inference_client.create(InferenceObject.ENDPOINT, endpoint_name, model_name)"
            ]
        },
        {
            "cell_type": "code",
            "execution_count": 8,
            "metadata": {},
            "outputs": [],
            "source": [
                "# END"
            ]
        }
    ],
    "metadata": {
        "kernelspec": {
            "display_name": "Python 3 (ipykernel)",
            "language": "python",
            "name": "python3"
        },
        "language_info": {
            "codemirror_mode": {
                "name": "ipython",
                "version": 3
            },
            "file_extension": ".py",
            "mimetype": "text/x-python",
            "name": "python",
            "nbconvert_exporter": "python",
            "pygments_lexer": "ipython3",
            "version": "3.11.5"
        },
        "toc": {
            "base_numbering": 1,
            "nav_menu": {},
            "number_sections": true,
            "sideBar": true,
            "skip_h1_title": false,
            "title_cell": "Table of Contents",
            "title_sidebar": "Contents",
            "toc_cell": false,
            "toc_position": {},
            "toc_section_display": true,
            "toc_window_display": false
        }
    },
    "nbformat": 4,
    "nbformat_minor": 2
}
