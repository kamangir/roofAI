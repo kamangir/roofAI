{
 "cells": [
  {
   "attachments": {},
   "cell_type": "markdown",
   "metadata": {},
   "source": [
    "# dataset/custom/AIRS\n",
    "\n",
    "review of the AIRS dataset."
   ]
  },
  {
   "cell_type": "code",
   "execution_count": 1,
   "metadata": {},
   "outputs": [
    {
     "name": "stderr",
     "output_type": "stream",
     "text": [
      "🏛️  roofAI-5.39.1.abcli-9.464.1.blue_objects-5.225.1.blue_options-4.187.1.torch-2.5.1.Python 3.9.6.Darwin 23.6.0..Jupyter-Notebook,\n",
      "built on 13 January 2025, 17:08:15\n"
     ]
    }
   ],
   "source": [
    "from blueflow import notebooks\n",
    "\n",
    "import os\n",
    "import numpy as np\n",
    "\n",
    "from blue_objects import file, objects\n",
    "from blue_options import string\n",
    "\n",
    "from roofAI import env\n",
    "from roofAI.host import signature\n",
    "from roofAI.semseg.utils import visualize\n",
    "from roofAI.logger import logger\n",
    "\n",
    "logger.info(f\"{'.'.join(signature())},\\nbuilt on {string.pretty_date()}\")"
   ]
  },
  {
   "cell_type": "code",
   "execution_count": 2,
   "metadata": {},
   "outputs": [],
   "source": [
    "# TODO: add command to cache 🔥\n",
    "cache_object_name = env.ROOFAI_AIRS_CACHE_OBJECT_NAME\n",
    "\n",
    "subset = \"test\"\n",
    "index = 10"
   ]
  },
  {
   "cell_type": "code",
   "execution_count": 3,
   "metadata": {},
   "outputs": [],
   "source": [
    "cache_object_path = objects.object_path(cache_object_name)"
   ]
  },
  {
   "cell_type": "code",
   "execution_count": 4,
   "metadata": {},
   "outputs": [
    {
     "name": "stdout",
     "output_type": "stream",
     "text": [
      "ls: /Users/kamangir/storage/abcli/AIRS-cache-v45: No such file or directory\n"
     ]
    }
   ],
   "source": [
    "! ls {cache_object_path}"
   ]
  },
  {
   "cell_type": "code",
   "execution_count": 5,
   "metadata": {},
   "outputs": [
    {
     "ename": "IndexError",
     "evalue": "list index out of range",
     "output_type": "error",
     "traceback": [
      "\u001b[0;31m---------------------------------------------------------------------------\u001b[0m",
      "\u001b[0;31mIndexError\u001b[0m                                Traceback (most recent call last)",
      "Cell \u001b[0;32mIn[5], line 1\u001b[0m\n\u001b[0;32m----> 1\u001b[0m record_id \u001b[38;5;241m=\u001b[39m file\u001b[38;5;241m.\u001b[39mname(\u001b[43mfile\u001b[49m\u001b[38;5;241;43m.\u001b[39;49m\u001b[43mlist_of\u001b[49m\u001b[43m(\u001b[49m\u001b[43mos\u001b[49m\u001b[38;5;241;43m.\u001b[39;49m\u001b[43mpath\u001b[49m\u001b[38;5;241;43m.\u001b[39;49m\u001b[43mjoin\u001b[49m\u001b[43m(\u001b[49m\u001b[43mcache_object_path\u001b[49m\u001b[43m,\u001b[49m\u001b[43msubset\u001b[49m\u001b[43m,\u001b[49m\u001b[38;5;124;43m\"\u001b[39;49m\u001b[38;5;124;43mimage/*.tif\u001b[39;49m\u001b[38;5;124;43m\"\u001b[39;49m\u001b[43m)\u001b[49m\u001b[43m)\u001b[49m\u001b[43m[\u001b[49m\u001b[43mindex\u001b[49m\u001b[43m]\u001b[49m)\n\u001b[1;32m      2\u001b[0m logger\u001b[38;5;241m.\u001b[39minfo(\u001b[38;5;124mf\u001b[39m\u001b[38;5;124m\"\u001b[39m\u001b[38;5;124mrecord_id: \u001b[39m\u001b[38;5;132;01m{\u001b[39;00mrecord_id\u001b[38;5;132;01m}\u001b[39;00m\u001b[38;5;124m\"\u001b[39m)\n",
      "\u001b[0;31mIndexError\u001b[0m: list index out of range"
     ]
    }
   ],
   "source": [
    "record_id = file.name(file.list_of(os.path.join(cache_object_path,subset,\"image/*.tif\"))[index])\n",
    "logger.info(f\"record_id: {record_id}\")"
   ]
  },
  {
   "cell_type": "code",
   "execution_count": null,
   "metadata": {},
   "outputs": [],
   "source": [
    "success, image = file.load_image(os.path.join(cache_object_path,f\"{subset}/image/{record_id}.tif\"))\n",
    "assert success"
   ]
  },
  {
   "cell_type": "code",
   "execution_count": null,
   "metadata": {},
   "outputs": [],
   "source": [
    "success, mask = file.load_image(os.path.join(cache_object_path,f\"{subset}/label/{record_id}.tif\"))\n",
    "assert success\n",
    "\n",
    "mask = mask[:,:,0]\n",
    "\n",
    "unique_value = np.unique(mask)\n",
    "logger.info(f\"{len(unique_value)} unique value(s): {unique_value}\")\n"
   ]
  },
  {
   "cell_type": "code",
   "execution_count": null,
   "metadata": {},
   "outputs": [],
   "source": [
    "visualize(\n",
    "    {\n",
    "        \"image\": image,\n",
    "        \"mask\": mask/np.max(mask),\n",
    "    },\n",
    "    in_notebook = True,\n",
    "    description = [cache_object_name, f\"#{index}: {record_id}\"])"
   ]
  },
  {
   "cell_type": "code",
   "execution_count": null,
   "metadata": {},
   "outputs": [],
   "source": [
    "# END"
   ]
  }
 ],
 "metadata": {
  "kernelspec": {
   "display_name": ".venv",
   "language": "python",
   "name": "python3"
  },
  "language_info": {
   "codemirror_mode": {
    "name": "ipython",
    "version": 3
   },
   "file_extension": ".py",
   "mimetype": "text/x-python",
   "name": "python",
   "nbconvert_exporter": "python",
   "pygments_lexer": "ipython3",
   "version": "3.9.6"
  },
  "toc": {
   "base_numbering": 1,
   "nav_menu": {},
   "number_sections": true,
   "sideBar": true,
   "skip_h1_title": false,
   "title_cell": "Table of Contents",
   "title_sidebar": "Contents",
   "toc_cell": false,
   "toc_position": {},
   "toc_section_display": true,
   "toc_window_display": false
  }
 },
 "nbformat": 4,
 "nbformat_minor": 2
}
