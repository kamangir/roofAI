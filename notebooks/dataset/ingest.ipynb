{
    "cells": [
        {
            "attachments": {},
            "cell_type": "markdown",
            "metadata": {},
            "source": [
                "# dataset/ingest"
            ]
        },
        {
            "cell_type": "code",
            "execution_count": 1,
            "metadata": {},
            "outputs": [
                {
                    "name": "stderr",
                    "output_type": "stream",
                    "text": [
                        "Found credentials in shared credentials file: ~/.aws/credentials\n",
                        "abcli-7.2383.1-2023-06-aws-batch-a, built on 21 October 2023, 12:44:24\n"
                    ]
                }
            ],
            "source": [
                "import os\n",
                "from tqdm import *\n",
                "from abcli import file\n",
                "from abcli.modules import objects\n",
                "from abcli import fullname\n",
                "from abcli.plugins import cache\n",
                "from roofAI.semseg.utils import visualize\n",
                "from roofAI.dataset import RoofAIDataset, DatasetKind, MatrixKind\n",
                "from roofAI.dataset.ingest.AIRS import ingest_AIRS\n",
                "from IPython.display import Image\n",
                "from abcli import string\n",
                "from abcli.plugins import seed\n",
                "import numpy as np\n",
                "\n",
                "import abcli.logging\n",
                "import logging\n",
                "\n",
                "logger = logging.getLogger()\n",
                "\n",
                "logger.info(f\"{fullname()}, built on {string.pretty_date()}\")"
            ]
        },
        {
            "cell_type": "code",
            "execution_count": 2,
            "metadata": {},
            "outputs": [
                {
                    "name": "stderr",
                    "output_type": "stream",
                    "text": [
                        "📂 roofAI-AIRS-ingest-2023-10-21-12-44-25-11766\n"
                    ]
                }
            ],
            "source": [
                "cache_object_name = cache.read(\"roofAI_ingest_AIRS_cache\")\n",
                "ingest_object_name=objects.unique_object(\"roofAI-AIRS-ingest\")"
            ]
        },
        {
            "cell_type": "code",
            "execution_count": 3,
            "metadata": {},
            "outputs": [
                {
                    "name": "stderr",
                    "output_type": "stream",
                    "text": [
                        "-> /Users/kamangir/storage/abcli/roofAI-AIRS-ingest-2023-10-21-12-44-25-11766\n"
                    ]
                }
            ],
            "source": [
                "cache_object_path = objects.object_path(cache_object_name)\n",
                "ingest_object_path = objects.object_path(ingest_object_name)\n",
                "logger.info(f\"-> {ingest_object_path}\")"
            ]
        },
        {
            "cell_type": "code",
            "execution_count": 4,
            "metadata": {},
            "outputs": [],
            "source": [
                "counts = {\n",
                "    \"test\": 10,\n",
                "    \"train\": 10,\n",
                "    \"val\": 10\n",
                "}\n",
                "\n",
                "chip_width = 480\n",
                "chip_height = 360\n",
                "chip_overlap = 0.1\n",
                "\n",
                "log=True"
            ]
        },
        {
            "cell_type": "code",
            "execution_count": 5,
            "metadata": {},
            "outputs": [
                {
                    "name": "stderr",
                    "output_type": "stream",
                    "text": [
                        "RoofAIDataset[DatasetKind.AIRS:AIRS](roofAI_ingest_AIRS_cache_2023-10-15-15-53-41-09195): 3 subset(s): 95 X test + 857 X train + 94 X val\n",
                        "RoofAIDataset[DatasetKind.CAMVID:AIRS](roofAI-AIRS-ingest-2023-10-21-12-44-25-11766): 3 subset(s): 0 X test + 0 X train + 0 X val\n",
                        "abcli.path.create(/Users/kamangir/storage/abcli/roofAI-AIRS-ingest-2023-10-21-12-44-25-11766/SegNet-Tutorial/CamVid/test)\n",
                        "abcli.path.create(/Users/kamangir/storage/abcli/roofAI-AIRS-ingest-2023-10-21-12-44-25-11766/SegNet-Tutorial/CamVid/testannot)\n",
                        "abcli.path.create(/Users/kamangir/storage/abcli/roofAI-AIRS-ingest-2023-10-21-12-44-25-11766/SegNet-Tutorial/CamVid/train)\n",
                        "abcli.path.create(/Users/kamangir/storage/abcli/roofAI-AIRS-ingest-2023-10-21-12-44-25-11766/SegNet-Tutorial/CamVid/trainannot)\n",
                        "abcli.path.create(/Users/kamangir/storage/abcli/roofAI-AIRS-ingest-2023-10-21-12-44-25-11766/SegNet-Tutorial/CamVid/val)\n",
                        "abcli.path.create(/Users/kamangir/storage/abcli/roofAI-AIRS-ingest-2023-10-21-12-44-25-11766/SegNet-Tutorial/CamVid/valannot)\n"
                    ]
                }
            ],
            "source": [
                "cache_dataset = RoofAIDataset(cache_object_path)\n",
                "ingest_dataset = RoofAIDataset(ingest_object_path, kind=DatasetKind.CAMVID).create(log=log)"
            ]
        },
        {
            "cell_type": "code",
            "execution_count": 7,
            "metadata": {},
            "outputs": [],
            "source": [
                "def slice_matrix(\n",
                "    input_matrix: np.ndarray,\n",
                "    kind: MatrixKind,\n",
                "    chip_height: int,\n",
                "    chip_width: int,\n",
                "    chip_overlap: float,\n",
                "    max_chip_count: int,\n",
                "    path: str,\n",
                "    prefix:str,\n",
                "    log:bool=False,\n",
                ") -> int:\n",
                "    if log:\n",
                "        logger.info(\"slice_matrix[{}]: {} -{}X{}x{}-@{:.0f}%-> {} - {}\".format(\n",
                "            string.pretty_shape_of_matrix(input_matrix),\n",
                "            kind,\n",
                "            max_chip_count,\n",
                "            chip_height,\n",
                "            chip_width,\n",
                "            chip_overlap * 100,\n",
                "            path,\n",
                "            prefix,\n",
                "        ))\n",
                "\n",
                "    count = 0\n",
                "    for y in trange(0,input_matrix.shape[0] - chip_height, int(chip_overlap * chip_height)):\n",
                "        for x in trange(0,input_matrix.shape[1] - chip_width, int(chip_overlap * chip_width)):\n",
                "            count += 1\n",
                "\n",
                "            chip = input_matrix[\n",
                "                y:y+chip_height,\n",
                "                x:x+chip_width\n",
                "                ]\n",
                "\n",
                "            assert file.save_image(\n",
                "                os.path.join(\n",
                "                    path,\n",
                "                    \"{}-{:010d}-{:010d}.png\".format(\n",
                "                        prefix,\n",
                "                        y,\n",
                "                        x,\n",
                "                    )\n",
                "                ),\n",
                "                chip,\n",
                "                log=log,\n",
                "            )\n",
                "\n",
                "            if count >= max_chip_count:\n",
                "                return count\n",
                "\n",
                "    return count"
            ]
        },
        {
            "cell_type": "code",
            "execution_count": 8,
            "metadata": {},
            "outputs": [
                {
                    "name": "stderr",
                    "output_type": "stream",
                    "text": [
                        "  0%|          | 0/3 [00:00<?, ?it/s]RoofAIDataset[roofAI_ingest_AIRS_cache_2023-10-15-15-53-41-09195].get_filename(test,christchurch_424,MatrixKind.IMAGE): /Users/kamangir/storage/abcli/roofAI_ingest_AIRS_cache_2023-10-15-15-53-41-09195/test/image/christchurch_424.tif\n",
                        "RoofAIDataset[roofAI_ingest_AIRS_cache_2023-10-15-15-53-41-09195].get_matrix(test,christchurch_424,MatrixKind.IMAGE): 10000x10000x3:uint8\n",
                        "slice_matrix[10000x10000x3:uint8]: MatrixKind.IMAGE -10X360x480-@10%-> /Users/kamangir/storage/abcli/roofAI-AIRS-ingest-2023-10-21-12-44-25-11766/SegNet-Tutorial/CamVid/test - christchurch_424\n",
                        "\n",
                        "\u001b[A-abcli.file: 360x480x3:uint8 -> /Users/kamangir/storage/abcli/roofAI-AIRS-ingest-2023-10-21-12-44-25-11766/SegNet-Tutorial/CamVid/test/christchurch_424-0000000000-0000000000.png\n",
                        "-abcli.file: 360x480x3:uint8 -> /Users/kamangir/storage/abcli/roofAI-AIRS-ingest-2023-10-21-12-44-25-11766/SegNet-Tutorial/CamVid/test/christchurch_424-0000000000-0000000048.png\n",
                        "-abcli.file: 360x480x3:uint8 -> /Users/kamangir/storage/abcli/roofAI-AIRS-ingest-2023-10-21-12-44-25-11766/SegNet-Tutorial/CamVid/test/christchurch_424-0000000000-0000000096.png\n",
                        "-abcli.file: 360x480x3:uint8 -> /Users/kamangir/storage/abcli/roofAI-AIRS-ingest-2023-10-21-12-44-25-11766/SegNet-Tutorial/CamVid/test/christchurch_424-0000000000-0000000144.png\n",
                        "\n",
                        "\u001b[A-abcli.file: 360x480x3:uint8 -> /Users/kamangir/storage/abcli/roofAI-AIRS-ingest-2023-10-21-12-44-25-11766/SegNet-Tutorial/CamVid/test/christchurch_424-0000000000-0000000192.png\n",
                        "-abcli.file: 360x480x3:uint8 -> /Users/kamangir/storage/abcli/roofAI-AIRS-ingest-2023-10-21-12-44-25-11766/SegNet-Tutorial/CamVid/test/christchurch_424-0000000000-0000000240.png\n",
                        "-abcli.file: 360x480x3:uint8 -> /Users/kamangir/storage/abcli/roofAI-AIRS-ingest-2023-10-21-12-44-25-11766/SegNet-Tutorial/CamVid/test/christchurch_424-0000000000-0000000288.png\n",
                        "-abcli.file: 360x480x3:uint8 -> /Users/kamangir/storage/abcli/roofAI-AIRS-ingest-2023-10-21-12-44-25-11766/SegNet-Tutorial/CamVid/test/christchurch_424-0000000000-0000000336.png\n",
                        "-abcli.file: 360x480x3:uint8 -> /Users/kamangir/storage/abcli/roofAI-AIRS-ingest-2023-10-21-12-44-25-11766/SegNet-Tutorial/CamVid/test/christchurch_424-0000000000-0000000384.png\n",
                        "-abcli.file: 360x480x3:uint8 -> /Users/kamangir/storage/abcli/roofAI-AIRS-ingest-2023-10-21-12-44-25-11766/SegNet-Tutorial/CamVid/test/christchurch_424-0000000000-0000000432.png\n",
                        "  5%|▍         | 9/199 [00:00<00:05, 36.73it/s]\n",
                        "  0%|          | 0/268 [00:00<?, ?it/s]\n",
                        "RoofAIDataset[roofAI_ingest_AIRS_cache_2023-10-15-15-53-41-09195].get_filename(test,christchurch_424,MatrixKind.MASK): /Users/kamangir/storage/abcli/roofAI_ingest_AIRS_cache_2023-10-15-15-53-41-09195/test/label/christchurch_424.tif\n",
                        "2 unique value(s): [0 1]\n",
                        "RoofAIDataset[roofAI_ingest_AIRS_cache_2023-10-15-15-53-41-09195].get_matrix(test,christchurch_424,MatrixKind.MASK): 10000x10000:uint8\n",
                        "slice_matrix[10000x10000:uint8]: MatrixKind.MASK -10X360x480-@10%-> /Users/kamangir/storage/abcli/roofAI-AIRS-ingest-2023-10-21-12-44-25-11766/SegNet-Tutorial/CamVid/testannot - christchurch_424\n",
                        "\n",
                        "\u001b[A-abcli.file: 360x480:uint8 -> /Users/kamangir/storage/abcli/roofAI-AIRS-ingest-2023-10-21-12-44-25-11766/SegNet-Tutorial/CamVid/testannot/christchurch_424-0000000000-0000000000.png\n",
                        "-abcli.file: 360x480:uint8 -> /Users/kamangir/storage/abcli/roofAI-AIRS-ingest-2023-10-21-12-44-25-11766/SegNet-Tutorial/CamVid/testannot/christchurch_424-0000000000-0000000048.png\n",
                        "-abcli.file: 360x480:uint8 -> /Users/kamangir/storage/abcli/roofAI-AIRS-ingest-2023-10-21-12-44-25-11766/SegNet-Tutorial/CamVid/testannot/christchurch_424-0000000000-0000000096.png\n",
                        "-abcli.file: 360x480:uint8 -> /Users/kamangir/storage/abcli/roofAI-AIRS-ingest-2023-10-21-12-44-25-11766/SegNet-Tutorial/CamVid/testannot/christchurch_424-0000000000-0000000144.png\n",
                        "-abcli.file: 360x480:uint8 -> /Users/kamangir/storage/abcli/roofAI-AIRS-ingest-2023-10-21-12-44-25-11766/SegNet-Tutorial/CamVid/testannot/christchurch_424-0000000000-0000000192.png\n",
                        "-abcli.file: 360x480:uint8 -> /Users/kamangir/storage/abcli/roofAI-AIRS-ingest-2023-10-21-12-44-25-11766/SegNet-Tutorial/CamVid/testannot/christchurch_424-0000000000-0000000240.png\n",
                        "-abcli.file: 360x480:uint8 -> /Users/kamangir/storage/abcli/roofAI-AIRS-ingest-2023-10-21-12-44-25-11766/SegNet-Tutorial/CamVid/testannot/christchurch_424-0000000000-0000000288.png\n",
                        "-abcli.file: 360x480:uint8 -> /Users/kamangir/storage/abcli/roofAI-AIRS-ingest-2023-10-21-12-44-25-11766/SegNet-Tutorial/CamVid/testannot/christchurch_424-0000000000-0000000336.png\n",
                        "-abcli.file: 360x480:uint8 -> /Users/kamangir/storage/abcli/roofAI-AIRS-ingest-2023-10-21-12-44-25-11766/SegNet-Tutorial/CamVid/testannot/christchurch_424-0000000000-0000000384.png\n",
                        "-abcli.file: 360x480:uint8 -> /Users/kamangir/storage/abcli/roofAI-AIRS-ingest-2023-10-21-12-44-25-11766/SegNet-Tutorial/CamVid/testannot/christchurch_424-0000000000-0000000432.png\n",
                        "  5%|▍         | 9/199 [00:00<00:00, 593.24it/s]\n",
                        "  0%|          | 0/268 [00:00<?, ?it/s]\n",
                        " 33%|███▎      | 1/3 [00:04<00:08,  4.07s/it]RoofAIDataset[roofAI_ingest_AIRS_cache_2023-10-15-15-53-41-09195].get_filename(train,christchurch_430,MatrixKind.IMAGE): /Users/kamangir/storage/abcli/roofAI_ingest_AIRS_cache_2023-10-15-15-53-41-09195/train/image/christchurch_430.tif\n",
                        "RoofAIDataset[roofAI_ingest_AIRS_cache_2023-10-15-15-53-41-09195].get_matrix(train,christchurch_430,MatrixKind.IMAGE): 10000x10000x3:uint8\n",
                        "slice_matrix[10000x10000x3:uint8]: MatrixKind.IMAGE -10X360x480-@10%-> /Users/kamangir/storage/abcli/roofAI-AIRS-ingest-2023-10-21-12-44-25-11766/SegNet-Tutorial/CamVid/train - christchurch_430\n",
                        "\n",
                        "\u001b[A-abcli.file: 360x480x3:uint8 -> /Users/kamangir/storage/abcli/roofAI-AIRS-ingest-2023-10-21-12-44-25-11766/SegNet-Tutorial/CamVid/train/christchurch_430-0000000000-0000000000.png\n",
                        "-abcli.file: 360x480x3:uint8 -> /Users/kamangir/storage/abcli/roofAI-AIRS-ingest-2023-10-21-12-44-25-11766/SegNet-Tutorial/CamVid/train/christchurch_430-0000000000-0000000048.png\n",
                        "-abcli.file: 360x480x3:uint8 -> /Users/kamangir/storage/abcli/roofAI-AIRS-ingest-2023-10-21-12-44-25-11766/SegNet-Tutorial/CamVid/train/christchurch_430-0000000000-0000000096.png\n",
                        "-abcli.file: 360x480x3:uint8 -> /Users/kamangir/storage/abcli/roofAI-AIRS-ingest-2023-10-21-12-44-25-11766/SegNet-Tutorial/CamVid/train/christchurch_430-0000000000-0000000144.png\n",
                        "-abcli.file: 360x480x3:uint8 -> /Users/kamangir/storage/abcli/roofAI-AIRS-ingest-2023-10-21-12-44-25-11766/SegNet-Tutorial/CamVid/train/christchurch_430-0000000000-0000000192.png\n",
                        "-abcli.file: 360x480x3:uint8 -> /Users/kamangir/storage/abcli/roofAI-AIRS-ingest-2023-10-21-12-44-25-11766/SegNet-Tutorial/CamVid/train/christchurch_430-0000000000-0000000240.png\n",
                        "-abcli.file: 360x480x3:uint8 -> /Users/kamangir/storage/abcli/roofAI-AIRS-ingest-2023-10-21-12-44-25-11766/SegNet-Tutorial/CamVid/train/christchurch_430-0000000000-0000000288.png\n",
                        "-abcli.file: 360x480x3:uint8 -> /Users/kamangir/storage/abcli/roofAI-AIRS-ingest-2023-10-21-12-44-25-11766/SegNet-Tutorial/CamVid/train/christchurch_430-0000000000-0000000336.png\n",
                        "-abcli.file: 360x480x3:uint8 -> /Users/kamangir/storage/abcli/roofAI-AIRS-ingest-2023-10-21-12-44-25-11766/SegNet-Tutorial/CamVid/train/christchurch_430-0000000000-0000000384.png\n",
                        "-abcli.file: 360x480x3:uint8 -> /Users/kamangir/storage/abcli/roofAI-AIRS-ingest-2023-10-21-12-44-25-11766/SegNet-Tutorial/CamVid/train/christchurch_430-0000000000-0000000432.png\n",
                        "  5%|▍         | 9/199 [00:00<00:02, 85.94it/s]\n",
                        "  0%|          | 0/268 [00:00<?, ?it/s]\n",
                        "RoofAIDataset[roofAI_ingest_AIRS_cache_2023-10-15-15-53-41-09195].get_filename(train,christchurch_430,MatrixKind.MASK): /Users/kamangir/storage/abcli/roofAI_ingest_AIRS_cache_2023-10-15-15-53-41-09195/train/label/christchurch_430.tif\n",
                        "2 unique value(s): [0 1]\n",
                        "RoofAIDataset[roofAI_ingest_AIRS_cache_2023-10-15-15-53-41-09195].get_matrix(train,christchurch_430,MatrixKind.MASK): 10000x10000:uint8\n",
                        "slice_matrix[10000x10000:uint8]: MatrixKind.MASK -10X360x480-@10%-> /Users/kamangir/storage/abcli/roofAI-AIRS-ingest-2023-10-21-12-44-25-11766/SegNet-Tutorial/CamVid/trainannot - christchurch_430\n",
                        "\n",
                        "\u001b[A-abcli.file: 360x480:uint8 -> /Users/kamangir/storage/abcli/roofAI-AIRS-ingest-2023-10-21-12-44-25-11766/SegNet-Tutorial/CamVid/trainannot/christchurch_430-0000000000-0000000000.png\n",
                        "-abcli.file: 360x480:uint8 -> /Users/kamangir/storage/abcli/roofAI-AIRS-ingest-2023-10-21-12-44-25-11766/SegNet-Tutorial/CamVid/trainannot/christchurch_430-0000000000-0000000048.png\n",
                        "-abcli.file: 360x480:uint8 -> /Users/kamangir/storage/abcli/roofAI-AIRS-ingest-2023-10-21-12-44-25-11766/SegNet-Tutorial/CamVid/trainannot/christchurch_430-0000000000-0000000096.png\n",
                        "-abcli.file: 360x480:uint8 -> /Users/kamangir/storage/abcli/roofAI-AIRS-ingest-2023-10-21-12-44-25-11766/SegNet-Tutorial/CamVid/trainannot/christchurch_430-0000000000-0000000144.png\n",
                        "-abcli.file: 360x480:uint8 -> /Users/kamangir/storage/abcli/roofAI-AIRS-ingest-2023-10-21-12-44-25-11766/SegNet-Tutorial/CamVid/trainannot/christchurch_430-0000000000-0000000192.png\n",
                        "-abcli.file: 360x480:uint8 -> /Users/kamangir/storage/abcli/roofAI-AIRS-ingest-2023-10-21-12-44-25-11766/SegNet-Tutorial/CamVid/trainannot/christchurch_430-0000000000-0000000240.png\n",
                        "-abcli.file: 360x480:uint8 -> /Users/kamangir/storage/abcli/roofAI-AIRS-ingest-2023-10-21-12-44-25-11766/SegNet-Tutorial/CamVid/trainannot/christchurch_430-0000000000-0000000288.png\n",
                        "-abcli.file: 360x480:uint8 -> /Users/kamangir/storage/abcli/roofAI-AIRS-ingest-2023-10-21-12-44-25-11766/SegNet-Tutorial/CamVid/trainannot/christchurch_430-0000000000-0000000336.png\n",
                        "-abcli.file: 360x480:uint8 -> /Users/kamangir/storage/abcli/roofAI-AIRS-ingest-2023-10-21-12-44-25-11766/SegNet-Tutorial/CamVid/trainannot/christchurch_430-0000000000-0000000384.png\n",
                        "-abcli.file: 360x480:uint8 -> /Users/kamangir/storage/abcli/roofAI-AIRS-ingest-2023-10-21-12-44-25-11766/SegNet-Tutorial/CamVid/trainannot/christchurch_430-0000000000-0000000432.png\n",
                        "  5%|▍         | 9/199 [00:00<00:00, 734.81it/s]\n",
                        "  0%|          | 0/268 [00:00<?, ?it/s]\n",
                        " 67%|██████▋   | 2/3 [00:07<00:03,  3.67s/it]RoofAIDataset[roofAI_ingest_AIRS_cache_2023-10-15-15-53-41-09195].get_filename(val,christchurch_626,MatrixKind.IMAGE): /Users/kamangir/storage/abcli/roofAI_ingest_AIRS_cache_2023-10-15-15-53-41-09195/val/image/christchurch_626.tif\n",
                        "RoofAIDataset[roofAI_ingest_AIRS_cache_2023-10-15-15-53-41-09195].get_matrix(val,christchurch_626,MatrixKind.IMAGE): 10000x10000x3:uint8\n",
                        "slice_matrix[10000x10000x3:uint8]: MatrixKind.IMAGE -10X360x480-@10%-> /Users/kamangir/storage/abcli/roofAI-AIRS-ingest-2023-10-21-12-44-25-11766/SegNet-Tutorial/CamVid/val - christchurch_626\n",
                        "\n",
                        "\u001b[A-abcli.file: 360x480x3:uint8 -> /Users/kamangir/storage/abcli/roofAI-AIRS-ingest-2023-10-21-12-44-25-11766/SegNet-Tutorial/CamVid/val/christchurch_626-0000000000-0000000000.png\n",
                        "-abcli.file: 360x480x3:uint8 -> /Users/kamangir/storage/abcli/roofAI-AIRS-ingest-2023-10-21-12-44-25-11766/SegNet-Tutorial/CamVid/val/christchurch_626-0000000000-0000000048.png\n",
                        "-abcli.file: 360x480x3:uint8 -> /Users/kamangir/storage/abcli/roofAI-AIRS-ingest-2023-10-21-12-44-25-11766/SegNet-Tutorial/CamVid/val/christchurch_626-0000000000-0000000096.png\n",
                        "-abcli.file: 360x480x3:uint8 -> /Users/kamangir/storage/abcli/roofAI-AIRS-ingest-2023-10-21-12-44-25-11766/SegNet-Tutorial/CamVid/val/christchurch_626-0000000000-0000000144.png\n",
                        "-abcli.file: 360x480x3:uint8 -> /Users/kamangir/storage/abcli/roofAI-AIRS-ingest-2023-10-21-12-44-25-11766/SegNet-Tutorial/CamVid/val/christchurch_626-0000000000-0000000192.png\n",
                        "-abcli.file: 360x480x3:uint8 -> /Users/kamangir/storage/abcli/roofAI-AIRS-ingest-2023-10-21-12-44-25-11766/SegNet-Tutorial/CamVid/val/christchurch_626-0000000000-0000000240.png\n",
                        "-abcli.file: 360x480x3:uint8 -> /Users/kamangir/storage/abcli/roofAI-AIRS-ingest-2023-10-21-12-44-25-11766/SegNet-Tutorial/CamVid/val/christchurch_626-0000000000-0000000288.png\n",
                        "-abcli.file: 360x480x3:uint8 -> /Users/kamangir/storage/abcli/roofAI-AIRS-ingest-2023-10-21-12-44-25-11766/SegNet-Tutorial/CamVid/val/christchurch_626-0000000000-0000000336.png\n",
                        "-abcli.file: 360x480x3:uint8 -> /Users/kamangir/storage/abcli/roofAI-AIRS-ingest-2023-10-21-12-44-25-11766/SegNet-Tutorial/CamVid/val/christchurch_626-0000000000-0000000384.png\n",
                        "\n",
                        "\u001b[A-abcli.file: 360x480x3:uint8 -> /Users/kamangir/storage/abcli/roofAI-AIRS-ingest-2023-10-21-12-44-25-11766/SegNet-Tutorial/CamVid/val/christchurch_626-0000000000-0000000432.png\n",
                        "  5%|▍         | 9/199 [00:00<00:02, 78.74it/s]\n",
                        "  0%|          | 0/268 [00:00<?, ?it/s]\n",
                        "RoofAIDataset[roofAI_ingest_AIRS_cache_2023-10-15-15-53-41-09195].get_filename(val,christchurch_626,MatrixKind.MASK): /Users/kamangir/storage/abcli/roofAI_ingest_AIRS_cache_2023-10-15-15-53-41-09195/val/label/christchurch_626.tif\n",
                        "1 unique value(s): [0]\n",
                        "RoofAIDataset[roofAI_ingest_AIRS_cache_2023-10-15-15-53-41-09195].get_matrix(val,christchurch_626,MatrixKind.MASK): 10000x10000:uint8\n",
                        "slice_matrix[10000x10000:uint8]: MatrixKind.MASK -10X360x480-@10%-> /Users/kamangir/storage/abcli/roofAI-AIRS-ingest-2023-10-21-12-44-25-11766/SegNet-Tutorial/CamVid/valannot - christchurch_626\n",
                        "\n",
                        "\u001b[A-abcli.file: 360x480:uint8 -> /Users/kamangir/storage/abcli/roofAI-AIRS-ingest-2023-10-21-12-44-25-11766/SegNet-Tutorial/CamVid/valannot/christchurch_626-0000000000-0000000000.png\n",
                        "-abcli.file: 360x480:uint8 -> /Users/kamangir/storage/abcli/roofAI-AIRS-ingest-2023-10-21-12-44-25-11766/SegNet-Tutorial/CamVid/valannot/christchurch_626-0000000000-0000000048.png\n",
                        "-abcli.file: 360x480:uint8 -> /Users/kamangir/storage/abcli/roofAI-AIRS-ingest-2023-10-21-12-44-25-11766/SegNet-Tutorial/CamVid/valannot/christchurch_626-0000000000-0000000096.png\n",
                        "-abcli.file: 360x480:uint8 -> /Users/kamangir/storage/abcli/roofAI-AIRS-ingest-2023-10-21-12-44-25-11766/SegNet-Tutorial/CamVid/valannot/christchurch_626-0000000000-0000000144.png\n",
                        "-abcli.file: 360x480:uint8 -> /Users/kamangir/storage/abcli/roofAI-AIRS-ingest-2023-10-21-12-44-25-11766/SegNet-Tutorial/CamVid/valannot/christchurch_626-0000000000-0000000192.png\n",
                        "-abcli.file: 360x480:uint8 -> /Users/kamangir/storage/abcli/roofAI-AIRS-ingest-2023-10-21-12-44-25-11766/SegNet-Tutorial/CamVid/valannot/christchurch_626-0000000000-0000000240.png\n",
                        "-abcli.file: 360x480:uint8 -> /Users/kamangir/storage/abcli/roofAI-AIRS-ingest-2023-10-21-12-44-25-11766/SegNet-Tutorial/CamVid/valannot/christchurch_626-0000000000-0000000288.png\n",
                        "-abcli.file: 360x480:uint8 -> /Users/kamangir/storage/abcli/roofAI-AIRS-ingest-2023-10-21-12-44-25-11766/SegNet-Tutorial/CamVid/valannot/christchurch_626-0000000000-0000000336.png\n",
                        "-abcli.file: 360x480:uint8 -> /Users/kamangir/storage/abcli/roofAI-AIRS-ingest-2023-10-21-12-44-25-11766/SegNet-Tutorial/CamVid/valannot/christchurch_626-0000000000-0000000384.png\n",
                        "-abcli.file: 360x480:uint8 -> /Users/kamangir/storage/abcli/roofAI-AIRS-ingest-2023-10-21-12-44-25-11766/SegNet-Tutorial/CamVid/valannot/christchurch_626-0000000000-0000000432.png\n",
                        "  5%|▍         | 9/199 [00:00<00:00, 670.23it/s]\n",
                        "  0%|          | 0/268 [00:00<?, ?it/s]\n",
                        "100%|██████████| 3/3 [00:10<00:00,  3.57s/it]\n"
                    ]
                }
            ],
            "source": [
                "for subset in tqdm(counts.keys()):\n",
                "    for matrix_kind in list(MatrixKind):\n",
                "        chip_count = counts[subset]\n",
                "        for record_id in cache_dataset.subsets[subset]:\n",
                "            input_matrix = cache_dataset.get_matrix(\n",
                "                subset,\n",
                "                record_id,\n",
                "                matrix_kind,\n",
                "                log=log,\n",
                "            )\n",
                "\n",
                "            chip_count -= slice_matrix(\n",
                "                input_matrix,\n",
                "                matrix_kind,\n",
                "                chip_height,\n",
                "                chip_width,\n",
                "                chip_overlap,\n",
                "                max_chip_count=chip_count,\n",
                "                path=ingest_dataset.subset_path(subset,matrix_kind),\n",
                "                prefix=record_id,\n",
                "                log=log,\n",
                "            )\n",
                "\n",
                "            if chip_count <= 0:\n",
                "                break"
            ]
        },
        {
            "cell_type": "markdown",
            "metadata": {},
            "source": [
                "```python\n",
                "assert ingest_AIRS(\n",
                "    cache_path=cache_object_path,\n",
                "    ingest_path=ingest_object_path,\n",
                "    {\n",
                "        \"test\": 10,\n",
                "        \"train\": 10,\n",
                "        \"val\": 10\n",
                "    }\n",
                ")\n",
                "```"
            ]
        },
        {
            "cell_type": "code",
            "execution_count": 9,
            "metadata": {},
            "outputs": [
                {
                    "name": "stderr",
                    "output_type": "stream",
                    "text": [
                        "abcli select /Users/kamangir/storage/abcli/roofAI-AIRS-ingest-2023-10-21-12-44-25-11766; open .\n"
                    ]
                }
            ],
            "source": [
                "seed.log(ingest_object_path)"
            ]
        },
        {
            "cell_type": "code",
            "execution_count": 10,
            "metadata": {},
            "outputs": [],
            "source": [
                "# END"
            ]
        }
    ],
    "metadata": {
        "kernelspec": {
            "display_name": "Python 3 (ipykernel)",
            "language": "python",
            "name": "python3"
        },
        "language_info": {
            "codemirror_mode": {
                "name": "ipython",
                "version": 3
            },
            "file_extension": ".py",
            "mimetype": "text/x-python",
            "name": "python",
            "nbconvert_exporter": "python",
            "pygments_lexer": "ipython3",
            "version": "3.11.5"
        },
        "toc": {
            "base_numbering": 1,
            "nav_menu": {},
            "number_sections": true,
            "sideBar": true,
            "skip_h1_title": false,
            "title_cell": "Table of Contents",
            "title_sidebar": "Contents",
            "toc_cell": false,
            "toc_position": {},
            "toc_section_display": true,
            "toc_window_display": false
        }
    },
    "nbformat": 4,
    "nbformat_minor": 2
}
