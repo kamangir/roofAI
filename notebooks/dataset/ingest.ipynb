{
    "cells": [
        {
            "attachments": {},
            "cell_type": "markdown",
            "metadata": {},
            "source": [
                "# dataset/ingest"
            ]
        },
        {
            "cell_type": "code",
            "execution_count": 15,
            "metadata": {},
            "outputs": [
                {
                    "name": "stderr",
                    "output_type": "stream",
                    "text": [
                        "abcli-7.2382.1-2023-06-aws-batch-a, built on 20 October 2023, 22:48:45\n"
                    ]
                }
            ],
            "source": [
                "import os\n",
                "from tqdm import *\n",
                "from abcli import file\n",
                "from abcli.modules import objects\n",
                "from abcli import fullname\n",
                "from abcli.plugins import cache\n",
                "from roofAI.semseg.utils import visualize\n",
                "from roofAI.dataset import RoofAIDataset, DatasetKind, MatrixKind\n",
                "from roofAI.dataset.ingest.AIRS import ingest_AIRS\n",
                "from IPython.display import Image\n",
                "from abcli import string\n",
                "from abcli.plugins import seed\n",
                "import numpy as np\n",
                "\n",
                "import abcli.logging\n",
                "import logging\n",
                "\n",
                "logger = logging.getLogger()\n",
                "\n",
                "logger.info(f\"{fullname()}, built on {string.pretty_date()}\")"
            ]
        },
        {
            "cell_type": "code",
            "execution_count": 2,
            "metadata": {},
            "outputs": [
                {
                    "name": "stderr",
                    "output_type": "stream",
                    "text": [
                        "using cache: roofAI_ingest_AIRS_cache_2023-10-15-15-53-41-09195\n"
                    ]
                }
            ],
            "source": [
                "cache_object_name = cache.read(\"roofAI_ingest_AIRS_cache\")\n",
                "ingest_object_name=objects.unique_object(\"roofAI-AIRS-ingest\")"
            ]
        },
        {
            "cell_type": "code",
            "execution_count": 4,
            "metadata": {},
            "outputs": [],
            "source": [
                "cache_object_path = objects.object_path(cache_object_name)\n",
                "ingest_object_path = objects.object_path(ingest_object_name)"
            ]
        },
        {
            "cell_type": "markdown",
            "metadata": {},
            "source": [
                "```python\n",
                "assert ingest_AIRS(\n",
                "    cache_path=cache_object_path,\n",
                "    ingest_path=ingest_object_path,\n",
                "    {\n",
                "        \"test\": 10,\n",
                "        \"train\": 10,\n",
                "        \"val\": 10\n",
                "    }\n",
                ")\n",
                "```"
            ]
        },
        {
            "cell_type": "code",
            "execution_count": 9,
            "metadata": {},
            "outputs": [],
            "source": [
                "counts = {\n",
                "    \"test\": 10,\n",
                "    \"train\": 10,\n",
                "    \"val\": 10\n",
                "}\n",
                "\n",
                "chip_width = 480\n",
                "chip_height = 360\n",
                "chip_overlap = 0.1"
            ]
        },
        {
            "cell_type": "code",
            "execution_count": 5,
            "metadata": {},
            "outputs": [
                {
                    "name": "stderr",
                    "output_type": "stream",
                    "text": [
                        "RoofAIDataset[DatasetKind.AIRS:AIRS](roofAI_ingest_AIRS_cache_2023-10-15-15-53-41-09195): 3 subset(s): 95 X test + 857 X train + 94 X val\n"
                    ]
                }
            ],
            "source": [
                "dataset = RoofAIDataset(cache_object_path)"
            ]
        },
        {
            "cell_type": "code",
            "execution_count": 16,
            "metadata": {},
            "outputs": [
                {
                    "name": "stderr",
                    "output_type": "stream",
                    "text": [
                        "100%|██████████| 3/3 [00:00<00:00, 3374.34it/s]"
                    ]
                },
                {
                    "name": "stdout",
                    "output_type": "stream",
                    "text": [
                        "MatrixKind.IMAGE\n",
                        "MatrixKind.MASK\n",
                        "MatrixKind.IMAGE\n",
                        "MatrixKind.MASK\n",
                        "MatrixKind.IMAGE\n",
                        "MatrixKind.MASK\n",
                        "MatrixKind.IMAGE\n",
                        "MatrixKind.MASK\n",
                        "MatrixKind.IMAGE\n",
                        "MatrixKind.MASK\n",
                        "MatrixKind.IMAGE\n",
                        "MatrixKind.MASK\n",
                        "MatrixKind.IMAGE\n",
                        "MatrixKind.MASK\n",
                        "MatrixKind.IMAGE\n",
                        "MatrixKind.MASK\n",
                        "MatrixKind.IMAGE\n",
                        "MatrixKind.MASK\n",
                        "MatrixKind.IMAGE\n",
                        "MatrixKind.MASK\n",
                        "MatrixKind.IMAGE\n",
                        "MatrixKind.MASK\n",
                        "MatrixKind.IMAGE\n",
                        "MatrixKind.MASK\n",
                        "MatrixKind.IMAGE\n",
                        "MatrixKind.MASK\n",
                        "MatrixKind.IMAGE\n",
                        "MatrixKind.MASK\n",
                        "MatrixKind.IMAGE\n",
                        "MatrixKind.MASK\n",
                        "MatrixKind.IMAGE\n",
                        "MatrixKind.MASK\n",
                        "MatrixKind.IMAGE\n",
                        "MatrixKind.MASK\n",
                        "MatrixKind.IMAGE\n",
                        "MatrixKind.MASK\n",
                        "MatrixKind.IMAGE\n",
                        "MatrixKind.MASK\n",
                        "MatrixKind.IMAGE\n",
                        "MatrixKind.MASK\n",
                        "MatrixKind.IMAGE\n",
                        "MatrixKind.MASK\n",
                        "MatrixKind.IMAGE\n",
                        "MatrixKind.MASK\n",
                        "MatrixKind.IMAGE\n",
                        "MatrixKind.MASK\n",
                        "MatrixKind.IMAGE\n",
                        "MatrixKind.MASK\n",
                        "MatrixKind.IMAGE\n",
                        "MatrixKind.MASK\n",
                        "MatrixKind.IMAGE\n",
                        "MatrixKind.MASK\n",
                        "MatrixKind.IMAGE\n",
                        "MatrixKind.MASK\n",
                        "MatrixKind.IMAGE\n",
                        "MatrixKind.MASK\n",
                        "MatrixKind.IMAGE\n",
                        "MatrixKind.MASK\n",
                        "MatrixKind.IMAGE\n",
                        "MatrixKind.MASK\n",
                        "MatrixKind.IMAGE\n",
                        "MatrixKind.MASK\n",
                        "MatrixKind.IMAGE\n",
                        "MatrixKind.MASK\n",
                        "MatrixKind.IMAGE\n",
                        "MatrixKind.MASK\n"
                    ]
                },
                {
                    "name": "stderr",
                    "output_type": "stream",
                    "text": [
                        "\n"
                    ]
                }
            ],
            "source": [
                "for subset in tqdm(counts.keys()):\n",
                "    count = 0\n",
                "    for record_id in dataset.subsets[subset]:\n",
                "        for matrix_kind in list(MatrixKind):\n",
                "            input_matrix = dataset.get_matrix(\n",
                "                subset,\n",
                "                record_id,\n",
                "                matrix_kind\n",
                "            )\n",
                "\n",
                "            sliced_matrix = slice(\n",
                "                input_matrix,\n",
                "                chip_width,\n",
                "                chip_height,\n",
                "                chip_overlap,\n",
                "                path=...\n",
                "            )\n",
                "        \n",
                "        count += len(sliced_matrix)\n",
                "        if count >= counts[subset]:\n",
                "            break\n"
            ]
        },
        {
            "cell_type": "code",
            "execution_count": 6,
            "metadata": {},
            "outputs": [
                {
                    "name": "stderr",
                    "output_type": "stream",
                    "text": [
                        "abcli select /Users/kamangir/storage/abcli/roofAI-AIRS-ingest-2023-10-20-22-42-17-60779; open .\n"
                    ]
                }
            ],
            "source": [
                "seed.log(ingest_object_path)"
            ]
        },
        {
            "cell_type": "code",
            "execution_count": 7,
            "metadata": {},
            "outputs": [],
            "source": [
                "# END"
            ]
        }
    ],
    "metadata": {
        "kernelspec": {
            "display_name": "Python 3 (ipykernel)",
            "language": "python",
            "name": "python3"
        },
        "language_info": {
            "codemirror_mode": {
                "name": "ipython",
                "version": 3
            },
            "file_extension": ".py",
            "mimetype": "text/x-python",
            "name": "python",
            "nbconvert_exporter": "python",
            "pygments_lexer": "ipython3",
            "version": "3.11.5"
        },
        "toc": {
            "base_numbering": 1,
            "nav_menu": {},
            "number_sections": true,
            "sideBar": true,
            "skip_h1_title": false,
            "title_cell": "Table of Contents",
            "title_sidebar": "Contents",
            "toc_cell": false,
            "toc_position": {},
            "toc_section_display": true,
            "toc_window_display": false
        }
    },
    "nbformat": 4,
    "nbformat_minor": 2
}
