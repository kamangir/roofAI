{
    "cells": [
        {
            "attachments": {},
            "cell_type": "markdown",
            "metadata": {},
            "source": [
                "# dataset/ingest"
            ]
        },
        {
            "cell_type": "code",
            "execution_count": 9,
            "metadata": {},
            "outputs": [
                {
                    "name": "stderr",
                    "output_type": "stream",
                    "text": [
                        "abcli-7.2383.1-2023-06-aws-batch-a, built on 21 October 2023, 12:55:32\n"
                    ]
                }
            ],
            "source": [
                "import os\n",
                "from tqdm import *\n",
                "from abcli import file\n",
                "from abcli.modules import objects\n",
                "from abcli import fullname\n",
                "from abcli.plugins import cache\n",
                "from roofAI.semseg.utils import visualize\n",
                "from roofAI.dataset import RoofAIDataset, DatasetKind, MatrixKind\n",
                "from roofAI.dataset.ingest.AIRS import ingest_AIRS\n",
                "from IPython.display import Image\n",
                "from roofAI import NAME, VERSION\n",
                "from abcli import string\n",
                "from abcli.plugins import seed\n",
                "import numpy as np\n",
                "\n",
                "import abcli.logging\n",
                "import logging\n",
                "\n",
                "logger = logging.getLogger()\n",
                "\n",
                "logger.info(f\"{fullname()}, built on {string.pretty_date()}\")"
            ]
        },
        {
            "cell_type": "code",
            "execution_count": 2,
            "metadata": {},
            "outputs": [
                {
                    "name": "stderr",
                    "output_type": "stream",
                    "text": [
                        "📂 roofAI-AIRS-ingest-2023-10-21-12-54-48-78614\n"
                    ]
                }
            ],
            "source": [
                "cache_object_name = cache.read(\"roofAI_ingest_AIRS_cache\")\n",
                "ingest_object_name=objects.unique_object(\"roofAI-AIRS-ingest\")"
            ]
        },
        {
            "cell_type": "code",
            "execution_count": 3,
            "metadata": {},
            "outputs": [
                {
                    "name": "stderr",
                    "output_type": "stream",
                    "text": [
                        "-> /Users/kamangir/storage/abcli/roofAI-AIRS-ingest-2023-10-21-12-54-48-78614\n"
                    ]
                }
            ],
            "source": [
                "cache_object_path = objects.object_path(cache_object_name)\n",
                "ingest_object_path = objects.object_path(ingest_object_name)\n",
                "logger.info(f\"-> {ingest_object_path}\")"
            ]
        },
        {
            "cell_type": "code",
            "execution_count": 4,
            "metadata": {},
            "outputs": [],
            "source": [
                "counts = {\n",
                "    \"test\": 10,\n",
                "    \"train\": 10,\n",
                "    \"val\": 10\n",
                "}\n",
                "\n",
                "chip_width = 480\n",
                "chip_height = 360\n",
                "chip_overlap = 0.1\n",
                "\n",
                "log=True"
            ]
        },
        {
            "cell_type": "code",
            "execution_count": 5,
            "metadata": {},
            "outputs": [
                {
                    "name": "stderr",
                    "output_type": "stream",
                    "text": [
                        "RoofAIDataset[DatasetKind.AIRS:AIRS](roofAI_ingest_AIRS_cache_2023-10-15-15-53-41-09195): 3 subset(s): 95 X test + 857 X train + 94 X val\n",
                        "RoofAIDataset[DatasetKind.CAMVID:AIRS](roofAI-AIRS-ingest-2023-10-21-12-54-48-78614): 3 subset(s): 0 X test + 0 X train + 0 X val\n",
                        "abcli.path.create(/Users/kamangir/storage/abcli/roofAI-AIRS-ingest-2023-10-21-12-54-48-78614/SegNet-Tutorial/CamVid/test)\n",
                        "abcli.path.create(/Users/kamangir/storage/abcli/roofAI-AIRS-ingest-2023-10-21-12-54-48-78614/SegNet-Tutorial/CamVid/testannot)\n",
                        "abcli.path.create(/Users/kamangir/storage/abcli/roofAI-AIRS-ingest-2023-10-21-12-54-48-78614/SegNet-Tutorial/CamVid/train)\n",
                        "abcli.path.create(/Users/kamangir/storage/abcli/roofAI-AIRS-ingest-2023-10-21-12-54-48-78614/SegNet-Tutorial/CamVid/trainannot)\n",
                        "abcli.path.create(/Users/kamangir/storage/abcli/roofAI-AIRS-ingest-2023-10-21-12-54-48-78614/SegNet-Tutorial/CamVid/val)\n",
                        "abcli.path.create(/Users/kamangir/storage/abcli/roofAI-AIRS-ingest-2023-10-21-12-54-48-78614/SegNet-Tutorial/CamVid/valannot)\n"
                    ]
                }
            ],
            "source": [
                "cache_dataset = RoofAIDataset(cache_object_path)\n",
                "ingest_dataset = RoofAIDataset(ingest_object_path, kind=DatasetKind.CAMVID).create(log=log)"
            ]
        },
        {
            "cell_type": "code",
            "execution_count": 6,
            "metadata": {},
            "outputs": [],
            "source": [
                "def slice_matrix(\n",
                "    input_matrix: np.ndarray,\n",
                "    kind: MatrixKind,\n",
                "    chip_height: int,\n",
                "    chip_width: int,\n",
                "    chip_overlap: float,\n",
                "    max_chip_count: int,\n",
                "    path: str,\n",
                "    prefix:str,\n",
                "    log:bool=False,\n",
                ") -> int:\n",
                "    if log:\n",
                "        logger.info(\"slice_matrix[{}]: {} -{}X{}x{}-@{:.0f}%-> {} - {}\".format(\n",
                "            string.pretty_shape_of_matrix(input_matrix),\n",
                "            kind,\n",
                "            max_chip_count,\n",
                "            chip_height,\n",
                "            chip_width,\n",
                "            chip_overlap * 100,\n",
                "            path,\n",
                "            prefix,\n",
                "        ))\n",
                "\n",
                "    count = 0\n",
                "    for y in range(0,input_matrix.shape[0] - chip_height, int(chip_overlap * chip_height)):\n",
                "        for x in range(0,input_matrix.shape[1] - chip_width, int(chip_overlap * chip_width)):\n",
                "            count += 1\n",
                "\n",
                "            chip = input_matrix[\n",
                "                y:y+chip_height,\n",
                "                x:x+chip_width\n",
                "                ]\n",
                "\n",
                "            assert file.save_image(\n",
                "                os.path.join(\n",
                "                    path,\n",
                "                    \"{}-{:010d}-{:010d}.png\".format(\n",
                "                        prefix,\n",
                "                        y,\n",
                "                        x,\n",
                "                    )\n",
                "                ),\n",
                "                chip,\n",
                "                log=log,\n",
                "            )\n",
                "\n",
                "            if count >= max_chip_count:\n",
                "                return count\n",
                "\n",
                "    return count"
            ]
        },
        {
            "cell_type": "code",
            "execution_count": 7,
            "metadata": {},
            "outputs": [
                {
                    "name": "stderr",
                    "output_type": "stream",
                    "text": [
                        "100%|██████████| 3/3 [00:10<00:00,  3.39s/it]\n"
                    ]
                }
            ],
            "source": [
                "log_ = False\n",
                "for subset in tqdm(counts.keys()):\n",
                "    for matrix_kind in list(MatrixKind):\n",
                "        chip_count = counts[subset]\n",
                "        for record_id in cache_dataset.subsets[subset]:\n",
                "            input_matrix = cache_dataset.get_matrix(\n",
                "                subset,\n",
                "                record_id,\n",
                "                matrix_kind,\n",
                "                log=log_,\n",
                "            )\n",
                "\n",
                "            chip_count -= slice_matrix(\n",
                "                input_matrix,\n",
                "                matrix_kind,\n",
                "                chip_height,\n",
                "                chip_width,\n",
                "                chip_overlap,\n",
                "                max_chip_count=chip_count,\n",
                "                path=ingest_dataset.subset_path(subset,matrix_kind),\n",
                "                prefix=record_id,\n",
                "                log=log_,\n",
                "            )\n",
                "\n",
                "            if chip_count <= 0:\n",
                "                break"
            ]
        },
        {
            "cell_type": "code",
            "execution_count": 8,
            "metadata": {},
            "outputs": [
                {
                    "ename": "NameError",
                    "evalue": "name 'ingest_path' is not defined",
                    "output_type": "error",
                    "traceback": [
                        "\u001b[0;31m---------------------------------------------------------------------------\u001b[0m",
                        "\u001b[0;31mNameError\u001b[0m                                 Traceback (most recent call last)",
                        "\u001b[1;32m/Users/kamangir/git/roofAI/notebooks/dataset/ingest.ipynb Cell 9\u001b[0m line \u001b[0;36m2\n\u001b[1;32m      <a href='vscode-notebook-cell:/Users/kamangir/git/roofAI/notebooks/dataset/ingest.ipynb#X22sZmlsZQ%3D%3D?line=0'>1</a>\u001b[0m file\u001b[39m.\u001b[39msave_yaml(\n\u001b[0;32m----> <a href='vscode-notebook-cell:/Users/kamangir/git/roofAI/notebooks/dataset/ingest.ipynb#X22sZmlsZQ%3D%3D?line=1'>2</a>\u001b[0m         os\u001b[39m.\u001b[39mpath\u001b[39m.\u001b[39mjoin(ingest_path, \u001b[39m\"\u001b[39m\u001b[39mmetadata.yaml\u001b[39m\u001b[39m\"\u001b[39m),\n\u001b[1;32m      <a href='vscode-notebook-cell:/Users/kamangir/git/roofAI/notebooks/dataset/ingest.ipynb#X22sZmlsZQ%3D%3D?line=2'>3</a>\u001b[0m         {\n\u001b[1;32m      <a href='vscode-notebook-cell:/Users/kamangir/git/roofAI/notebooks/dataset/ingest.ipynb#X22sZmlsZQ%3D%3D?line=3'>4</a>\u001b[0m             \u001b[39m\"\u001b[39m\u001b[39mclasses\u001b[39m\u001b[39m\"\u001b[39m: Dataset\u001b[39m.\u001b[39mCLASSES,\n\u001b[1;32m      <a href='vscode-notebook-cell:/Users/kamangir/git/roofAI/notebooks/dataset/ingest.ipynb#X22sZmlsZQ%3D%3D?line=4'>5</a>\u001b[0m             \u001b[39m\"\u001b[39m\u001b[39mpath_prefix\u001b[39m\u001b[39m\"\u001b[39m: \u001b[39m\"\u001b[39m\u001b[39mSegNet-Tutorial/CamVid\u001b[39m\u001b[39m\"\u001b[39m,\n\u001b[1;32m      <a href='vscode-notebook-cell:/Users/kamangir/git/roofAI/notebooks/dataset/ingest.ipynb#X22sZmlsZQ%3D%3D?line=5'>6</a>\u001b[0m             \u001b[39m\"\u001b[39m\u001b[39msource\u001b[39m\u001b[39m\"\u001b[39m: \u001b[39m\"\u001b[39m\u001b[39mCamVid\u001b[39m\u001b[39m\"\u001b[39m,\n\u001b[1;32m      <a href='vscode-notebook-cell:/Users/kamangir/git/roofAI/notebooks/dataset/ingest.ipynb#X22sZmlsZQ%3D%3D?line=6'>7</a>\u001b[0m             \u001b[39m\"\u001b[39m\u001b[39mingested-by\u001b[39m\u001b[39m\"\u001b[39m: \u001b[39mf\u001b[39m\u001b[39m\"\u001b[39m\u001b[39m{\u001b[39;00mNAME\u001b[39m}\u001b[39;00m\u001b[39m-\u001b[39m\u001b[39m{\u001b[39;00mVERSION\u001b[39m}\u001b[39;00m\u001b[39m\"\u001b[39m,\n\u001b[1;32m      <a href='vscode-notebook-cell:/Users/kamangir/git/roofAI/notebooks/dataset/ingest.ipynb#X22sZmlsZQ%3D%3D?line=7'>8</a>\u001b[0m         },\n\u001b[1;32m      <a href='vscode-notebook-cell:/Users/kamangir/git/roofAI/notebooks/dataset/ingest.ipynb#X22sZmlsZQ%3D%3D?line=8'>9</a>\u001b[0m         log\u001b[39m=\u001b[39m\u001b[39mTrue\u001b[39;00m,\n\u001b[1;32m     <a href='vscode-notebook-cell:/Users/kamangir/git/roofAI/notebooks/dataset/ingest.ipynb#X22sZmlsZQ%3D%3D?line=9'>10</a>\u001b[0m     )\n",
                        "\u001b[0;31mNameError\u001b[0m: name 'ingest_path' is not defined"
                    ]
                }
            ],
            "source": [
                "file.save_yaml(\n",
                "        os.path.join(ingest_dataset.path, \"metadata.yaml\"),\n",
                "        {\n",
                "            \"classes\": Dataset.CLASSES,\n",
                "            \"path_prefix\": \"SegNet-Tutorial/CamVid\",\n",
                "            \"source\": \"CamVid\",\n",
                "            \"ingested-by\": f\"{NAME}-{VERSION}\",\n",
                "        },\n",
                "        log=True,\n",
                "    )\n"
            ]
        },
        {
            "cell_type": "code",
            "execution_count": null,
            "metadata": {},
            "outputs": [],
            "source": [
                "ingest_dataset = RoofAIDataset(ingest_object_path)"
            ]
        },
        {
            "cell_type": "markdown",
            "metadata": {},
            "source": [
                "```python\n",
                "assert ingest_AIRS(\n",
                "    cache_path=cache_object_path,\n",
                "    ingest_path=ingest_object_path,\n",
                "    {\n",
                "        \"test\": 10,\n",
                "        \"train\": 10,\n",
                "        \"val\": 10\n",
                "    }\n",
                ")\n",
                "```"
            ]
        },
        {
            "cell_type": "code",
            "execution_count": null,
            "metadata": {},
            "outputs": [],
            "source": [
                "seed.log(ingest_object_path)"
            ]
        },
        {
            "cell_type": "code",
            "execution_count": null,
            "metadata": {},
            "outputs": [],
            "source": [
                "# END"
            ]
        }
    ],
    "metadata": {
        "kernelspec": {
            "display_name": "Python 3 (ipykernel)",
            "language": "python",
            "name": "python3"
        },
        "language_info": {
            "codemirror_mode": {
                "name": "ipython",
                "version": 3
            },
            "file_extension": ".py",
            "mimetype": "text/x-python",
            "name": "python",
            "nbconvert_exporter": "python",
            "pygments_lexer": "ipython3",
            "version": "3.11.5"
        },
        "toc": {
            "base_numbering": 1,
            "nav_menu": {},
            "number_sections": true,
            "sideBar": true,
            "skip_h1_title": false,
            "title_cell": "Table of Contents",
            "title_sidebar": "Contents",
            "toc_cell": false,
            "toc_position": {},
            "toc_section_display": true,
            "toc_window_display": false
        }
    },
    "nbformat": 4,
    "nbformat_minor": 2
}
