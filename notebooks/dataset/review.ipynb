{
 "cells": [
  {
   "attachments": {},
   "cell_type": "markdown",
   "metadata": {},
   "source": [
    "# dataset/review\n",
    "\n",
    "for CamVid and CamVid-like datasets"
   ]
  },
  {
   "cell_type": "code",
   "execution_count": 1,
   "metadata": {},
   "outputs": [
    {
     "name": "stderr",
     "output_type": "stream",
     "text": [
      "🏛️  roofAI-5.91.1.abcli-9.464.1.blue_objects-5.240.1.blue_options-4.190.1.torch-2.5.1.Python 3.9.6.Darwin 23.6.0..Jupyter-Notebook,\n",
      "built on 18 January 2025, 11:47:36\n"
     ]
    }
   ],
   "source": [
    "from blueflow import notebooks\n",
    "\n",
    "import numpy as np\n",
    "\n",
    "from blue_options import string\n",
    "from blue_objects import objects\n",
    "\n",
    "from roofAI.host import signature\n",
    "from roofAI.dataset import RoofAIDataset, MatrixKind\n",
    "from roofAI.logger import logger\n",
    "\n",
    "logger.info(f\"{'.'.join(signature())},\\nbuilt on {string.pretty_date()}\")"
   ]
  },
  {
   "cell_type": "code",
   "execution_count": 2,
   "metadata": {},
   "outputs": [],
   "source": [
    "# dataset_object_name = \"roofAI-AIRS-ingest-2025-01-13-18-38-41-g98q9n\"\n",
    "dataset_object_name = \"palisades-dataset-v1\""
   ]
  },
  {
   "cell_type": "code",
   "execution_count": 3,
   "metadata": {},
   "outputs": [],
   "source": [
    "subset = \"test\"\n",
    "index = 2"
   ]
  },
  {
   "cell_type": "code",
   "execution_count": 4,
   "metadata": {},
   "outputs": [],
   "source": [
    "assert objects.download(dataset_object_name)"
   ]
  },
  {
   "cell_type": "code",
   "execution_count": 5,
   "metadata": {},
   "outputs": [
    {
     "name": "stderr",
     "output_type": "stream",
     "text": [
      "🏛️  RoofAIDataset[kind:DatasetKind.AIRS,source:AIRS](palisades-dataset-v1): 3 subset(s): 0 X test + 0 X train + 0 X val - 2 class(es): other, roof\n"
     ]
    }
   ],
   "source": [
    "dataset = RoofAIDataset(objects.object_path(dataset_object_name))"
   ]
  },
  {
   "cell_type": "code",
   "execution_count": 6,
   "metadata": {},
   "outputs": [
    {
     "name": "stderr",
     "output_type": "stream",
     "text": [
      "⚠️  🏛️  roofAI.roofAI.dataset.classes.visualize: item ignored, index=2 > len(subset[test]) = 0.\n"
     ]
    }
   ],
   "source": [
    "dataset.visualize(\n",
    "        subset=subset,\n",
    "        index=index,\n",
    "        in_notebook=True,\n",
    "        log=True,\n",
    "    )"
   ]
  },
  {
   "cell_type": "code",
   "execution_count": 7,
   "metadata": {},
   "outputs": [],
   "source": [
    "if index <= len(dataset.subsets[subset]):\n",
    "    record_id = dataset.list_of_record_id(subset=subset)[index]\n",
    "    mask = dataset.get_matrix(subset=subset, record_id=record_id, kind=MatrixKind.MASK)\n",
    "\n",
    "    mask.dtype, np.unique(mask)"
   ]
  },
  {
   "cell_type": "code",
   "execution_count": 8,
   "metadata": {},
   "outputs": [],
   "source": [
    "# END"
   ]
  }
 ],
 "metadata": {
  "kernelspec": {
   "display_name": ".venv",
   "language": "python",
   "name": "python3"
  },
  "language_info": {
   "codemirror_mode": {
    "name": "ipython",
    "version": 3
   },
   "file_extension": ".py",
   "mimetype": "text/x-python",
   "name": "python",
   "nbconvert_exporter": "python",
   "pygments_lexer": "ipython3",
   "version": "3.9.6"
  },
  "toc": {
   "base_numbering": 1,
   "nav_menu": {},
   "number_sections": true,
   "sideBar": true,
   "skip_h1_title": false,
   "title_cell": "Table of Contents",
   "title_sidebar": "Contents",
   "toc_cell": false,
   "toc_position": {},
   "toc_section_display": true,
   "toc_window_display": false
  }
 },
 "nbformat": 4,
 "nbformat_minor": 2
}
