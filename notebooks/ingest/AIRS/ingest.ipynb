{
    "cells": [
        {
            "attachments": {},
            "cell_type": "markdown",
            "metadata": {},
            "source": [
                "# AIRS/ingest"
            ]
        },
        {
            "cell_type": "code",
            "execution_count": 1,
            "metadata": {},
            "outputs": [
                {
                    "name": "stderr",
                    "output_type": "stream",
                    "text": [
                        "Found credentials in shared credentials file: ~/.aws/credentials\n",
                        "abcli-7.2379.1-2023-06-aws-batch-a, built on 20 October 2023, 18:45:03\n"
                    ]
                }
            ],
            "source": [
                "import os\n",
                "from abcli import file\n",
                "from abcli.modules import objects\n",
                "from abcli import fullname\n",
                "from abcli.plugins import cache\n",
                "from roofAI.semseg.utils import visualize\n",
                "from roofAI.ingest.AIRS import ingest_AIRS\n",
                "from IPython.display import Image\n",
                "from abcli import string\n",
                "from abcli.plugins import seed\n",
                "import numpy as np\n",
                "\n",
                "import abcli.logging\n",
                "import logging\n",
                "\n",
                "logger = logging.getLogger()\n",
                "\n",
                "logger.info(f\"{fullname()}, built on {string.pretty_date()}\")"
            ]
        },
        {
            "cell_type": "code",
            "execution_count": 2,
            "metadata": {},
            "outputs": [
                {
                    "name": "stderr",
                    "output_type": "stream",
                    "text": [
                        "using cache: roofAI_ingest_AIRS_cache_2023-10-15-15-53-41-09195\n"
                    ]
                }
            ],
            "source": [
                "cache_object_name = cache.read(\"roofAI_ingest_AIRS_cache\")\n",
                "assert cache_object_name\n",
                "logger.info(f\"using cache: {cache_object_name}\")"
            ]
        },
        {
            "cell_type": "code",
            "execution_count": 3,
            "metadata": {},
            "outputs": [
                {
                    "name": "stderr",
                    "output_type": "stream",
                    "text": [
                        "📂 roofAI-AIRS-ingest-2023-10-20-18-45-04-92611\n"
                    ]
                }
            ],
            "source": [
                "ingest_object_name=objects.unique_object(\"roofAI-AIRS-ingest\")"
            ]
        },
        {
            "cell_type": "code",
            "execution_count": 4,
            "metadata": {},
            "outputs": [],
            "source": [
                "cache_object_path = objects.object_path(cache_object_name)\n",
                "ingest_object_path = objects.object_path(ingest_object_name)"
            ]
        },
        {
            "cell_type": "code",
            "execution_count": 5,
            "metadata": {},
            "outputs": [
                {
                    "name": "stderr",
                    "output_type": "stream",
                    "text": [
                        "ingesting AIRS -test X 10 + train X 10 + val X 10-> /Users/kamangir/storage/abcli/roofAI-AIRS-ingest-2023-10-20-18-45-04-92611 from /Users/kamangir/storage/abcli/roofAI_ingest_AIRS_cache_2023-10-15-15-53-41-09195\n",
                        "wip\n"
                    ]
                }
            ],
            "source": [
                "assert ingest_AIRS(\n",
                "    cache_path=cache_object_path,\n",
                "    ingest_path=ingest_object_path,\n",
                "    test_count=10,\n",
                "    train_count=10,\n",
                "    val_count=10,\n",
                ")"
            ]
        },
        {
            "cell_type": "code",
            "execution_count": 6,
            "metadata": {},
            "outputs": [
                {
                    "name": "stderr",
                    "output_type": "stream",
                    "text": [
                        "abcli select /Users/kamangir/storage/abcli/roofAI-AIRS-ingest-2023-10-20-18-45-04-92611; open .\n"
                    ]
                }
            ],
            "source": [
                "seed.log(ingest_object_path)"
            ]
        },
        {
            "cell_type": "code",
            "execution_count": 7,
            "metadata": {},
            "outputs": [],
            "source": [
                "# END"
            ]
        }
    ],
    "metadata": {
        "kernelspec": {
            "display_name": "Python 3 (ipykernel)",
            "language": "python",
            "name": "python3"
        },
        "language_info": {
            "codemirror_mode": {
                "name": "ipython",
                "version": 3
            },
            "file_extension": ".py",
            "mimetype": "text/x-python",
            "name": "python",
            "nbconvert_exporter": "python",
            "pygments_lexer": "ipython3",
            "version": "3.11.5"
        },
        "toc": {
            "base_numbering": 1,
            "nav_menu": {},
            "number_sections": true,
            "sideBar": true,
            "skip_h1_title": false,
            "title_cell": "Table of Contents",
            "title_sidebar": "Contents",
            "toc_cell": false,
            "toc_position": {},
            "toc_section_display": true,
            "toc_window_display": false
        }
    },
    "nbformat": 4,
    "nbformat_minor": 2
}
