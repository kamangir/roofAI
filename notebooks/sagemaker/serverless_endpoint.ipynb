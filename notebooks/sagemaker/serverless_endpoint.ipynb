{
    "cells": [
        {
            "attachments": {},
            "cell_type": "markdown",
            "metadata": {},
            "source": [
                "# serverless endpoint\n",
                "\n",
                "https://docs.aws.amazon.com/sagemaker/latest/dg/serverless-endpoints-create.html"
            ]
        },
        {
            "cell_type": "code",
            "execution_count": 1,
            "metadata": {},
            "outputs": [],
            "source": [
                "# !pip3 install sagemaker\n",
                "#!pip3 install --upgrade botocore"
            ]
        },
        {
            "cell_type": "code",
            "execution_count": 2,
            "metadata": {},
            "outputs": [
                {
                    "name": "stderr",
                    "output_type": "stream",
                    "text": [
                        "abcli-7.2554.1-unknown, built on 09 December 2023, 17:10:08\n"
                    ]
                }
            ],
            "source": [
                "import json\n",
                "\n",
                "from abcli import fullname\n",
                "from abcli import string\n",
                "\n",
                "import abcli.logging\n",
                "import logging\n",
                "\n",
                "logger = logging.getLogger()\n",
                "\n",
                "logger.info(f\"{fullname()}, built on {string.pretty_date()}\")"
            ]
        },
        {
            "attachments": {},
            "cell_type": "markdown",
            "metadata": {},
            "source": [
                "---"
            ]
        },
        {
            "cell_type": "markdown",
            "metadata": {},
            "source": [
                "## creating the model"
            ]
        },
        {
            "cell_type": "code",
            "execution_count": 3,
            "metadata": {},
            "outputs": [],
            "source": [
                "model_name = \"model-2023-12-03-11-24-39-75649\"\n",
                "model_url = f\"s3://kamangir/bolt/{model_name}.tar.gz\""
            ]
        },
        {
            "cell_type": "code",
            "execution_count": 4,
            "metadata": {},
            "outputs": [
                {
                    "name": "stderr",
                    "output_type": "stream",
                    "text": [
                        "Found credentials in shared credentials file: ~/.aws/credentials\n"
                    ]
                },
                {
                    "name": "stdout",
                    "output_type": "stream",
                    "text": [
                        "sagemaker.config      - Not applying SDK defaults from location: /Library/Application Support/sagemaker/config.yaml\n",
                        "sagemaker.config      - Not applying SDK defaults from location: /Users/kamangir/Library/Application Support/sagemaker/config.yaml\n"
                    ]
                },
                {
                    "name": "stderr",
                    "output_type": "stream",
                    "text": [
                        "Found credentials in shared credentials file: ~/.aws/credentials\n"
                    ]
                }
            ],
            "source": [
                "import boto3\n",
                "import sagemaker\n",
                "region = boto3.Session().region_name\n",
                "client = boto3.client(\"sagemaker\", region_name=region)"
            ]
        },
        {
            "cell_type": "code",
            "execution_count": 5,
            "metadata": {},
            "outputs": [
                {
                    "name": "stdout",
                    "output_type": "stream",
                    "text": [
                        "sagemaker.config      - Not applying SDK defaults from location: /Library/Application Support/sagemaker/config.yaml\n",
                        "sagemaker.config      - Not applying SDK defaults from location: /Users/kamangir/Library/Application Support/sagemaker/config.yaml\n"
                    ]
                },
                {
                    "name": "stderr",
                    "output_type": "stream",
                    "text": [
                        "Couldn't call 'get_role' to get Role ARN from role name shamim to get Role path.\n",
                        "sagemaker_role: defaulting to local.\n"
                    ]
                }
            ],
            "source": [
                "# Role to give SageMaker permission to access AWS services.\n",
                "# https://github.com/aws-solutions-library-samples/guidance-for-training-an-aws-deepracer-model-using-amazon-sagemaker/issues/47#issuecomment-607238430\n",
                "try:\n",
                "    sagemaker_role = sagemaker.get_execution_role()\n",
                "except ValueError:\n",
                "    logger.info(\"sagemaker_role: defaulting to local.\")\n",
                "    iam = boto3.client('iam')\n",
                "    sagemaker_role = iam.get_role(RoleName='Sagemaker-Access')['Role']['Arn']"
            ]
        },
        {
            "cell_type": "code",
            "execution_count": 6,
            "metadata": {},
            "outputs": [
                {
                    "name": "stderr",
                    "output_type": "stream",
                    "text": [
                        "Defaulting to only available Python version: py3\n",
                        "Defaulting to only supported image scope: cpu.\n"
                    ]
                }
            ],
            "source": [
                "# Get container image (prebuilt example)\n",
                "from sagemaker import image_uris\n",
                "container = image_uris.retrieve(\"xgboost\", region, \"0.90-1\")"
            ]
        },
        {
            "cell_type": "code",
            "execution_count": 7,
            "metadata": {},
            "outputs": [
                {
                    "name": "stderr",
                    "output_type": "stream",
                    "text": [
                        "model already exists, will delete first.\n"
                    ]
                }
            ],
            "source": [
                "# https://boto3.amazonaws.com/v1/documentation/api/latest/reference/services/sagemaker/client/list_models.html\n",
                "response = client.list_models(\n",
                "    NameContains=model_name\n",
                ")\n",
                "\n",
                "model_found = bool(response[\"Models\"])\n",
                "if model_found:\n",
                "    logger.info(\"model already exists, will delete first.\")"
            ]
        },
        {
            "cell_type": "code",
            "execution_count": 8,
            "metadata": {},
            "outputs": [
                {
                    "name": "stderr",
                    "output_type": "stream",
                    "text": [
                        "{\n",
                        "    \"ResponseMetadata\": {\n",
                        "        \"RequestId\": \"22795b45-f7da-4f13-84fb-b44480589305\",\n",
                        "        \"HTTPStatusCode\": 200,\n",
                        "        \"HTTPHeaders\": {\n",
                        "            \"x-amzn-requestid\": \"22795b45-f7da-4f13-84fb-b44480589305\",\n",
                        "            \"content-type\": \"application/x-amz-json-1.1\",\n",
                        "            \"content-length\": \"0\",\n",
                        "            \"date\": \"Sun, 10 Dec 2023 01:10:10 GMT\"\n",
                        "        },\n",
                        "        \"RetryAttempts\": 0\n",
                        "    }\n",
                        "}\n"
                    ]
                }
            ],
            "source": [
                "if model_found:\n",
                "    # delete the model\n",
                "    # https://boto3.amazonaws.com/v1/documentation/api/latest/reference/services/sagemaker/client/delete_model.html#\n",
                "    response = client.delete_model(\n",
                "        ModelName=model_name\n",
                "    )\n",
                "    logger.info(json.dumps(response,indent=4))"
            ]
        },
        {
            "cell_type": "code",
            "execution_count": 9,
            "metadata": {},
            "outputs": [
                {
                    "name": "stderr",
                    "output_type": "stream",
                    "text": [
                        "{\n",
                        "    \"ModelArn\": \"arn:aws:sagemaker:ca-central-1:120429650996:model/model-2023-12-03-11-24-39-75649\",\n",
                        "    \"ResponseMetadata\": {\n",
                        "        \"RequestId\": \"30dafcb4-7816-4edb-b6fa-ca7b4939ebc4\",\n",
                        "        \"HTTPStatusCode\": 200,\n",
                        "        \"HTTPHeaders\": {\n",
                        "            \"x-amzn-requestid\": \"30dafcb4-7816-4edb-b6fa-ca7b4939ebc4\",\n",
                        "            \"content-type\": \"application/x-amz-json-1.1\",\n",
                        "            \"content-length\": \"96\",\n",
                        "            \"date\": \"Sun, 10 Dec 2023 01:10:11 GMT\"\n",
                        "        },\n",
                        "        \"RetryAttempts\": 0\n",
                        "    }\n",
                        "}\n"
                    ]
                }
            ],
            "source": [
                "# Create model\n",
                "response = client.create_model(\n",
                "    ModelName = model_name,\n",
                "    ExecutionRoleArn = sagemaker_role,\n",
                "    Containers = [{\n",
                "        \"Image\": container,\n",
                "        \"Mode\": \"SingleModel\",\n",
                "        \"ModelDataUrl\": model_url,\n",
                "    }]\n",
                ")\n",
                "\n",
                "logger.info(json.dumps(response,indent=4))"
            ]
        },
        {
            "cell_type": "code",
            "execution_count": 10,
            "metadata": {},
            "outputs": [
                {
                    "name": "stderr",
                    "output_type": "stream",
                    "text": [
                        "[{'ModelName': 'model-2023-12-03-11-24-39-75649', 'ModelArn': 'arn:aws:sagemaker:ca-central-1:120429650996:model/model-2023-12-03-11-24-39-75649', 'CreationTime': datetime.datetime(2023, 12, 9, 17, 10, 12, 255000, tzinfo=tzlocal())}]\n"
                    ]
                }
            ],
            "source": [
                "response = client.list_models(NameContains=model_name)\n",
                "if response[\"Models\"]:\n",
                "    logger.info(response[\"Models\"])\n",
                "else:\n",
                "    logger.error(\"model was not created.\")\n",
                "    assert False"
            ]
        },
        {
            "cell_type": "markdown",
            "metadata": {},
            "source": [
                "## Creating the endpoint configuration"
            ]
        },
        {
            "cell_type": "code",
            "execution_count": 11,
            "metadata": {},
            "outputs": [
                {
                    "name": "stderr",
                    "output_type": "stream",
                    "text": [
                        "endpoint config already exists, will delete first.\n"
                    ]
                }
            ],
            "source": [
                "# https://boto3.amazonaws.com/v1/documentation/api/latest/reference/services/sagemaker/client/list_endpoint_configs.html\n",
                "response = client.list_endpoint_configs(NameContains=model_name)\n",
                "\n",
                "endpoint_config_found = bool(response[\"EndpointConfigs\"])\n",
                "if endpoint_config_found:\n",
                "    logger.info(\"endpoint config already exists, will delete first.\")"
            ]
        },
        {
            "cell_type": "code",
            "execution_count": 12,
            "metadata": {},
            "outputs": [
                {
                    "name": "stderr",
                    "output_type": "stream",
                    "text": [
                        "{\n",
                        "    \"ResponseMetadata\": {\n",
                        "        \"RequestId\": \"9a1cf6bb-3ff9-413b-b9b1-23e2ab74dc3c\",\n",
                        "        \"HTTPStatusCode\": 200,\n",
                        "        \"HTTPHeaders\": {\n",
                        "            \"x-amzn-requestid\": \"9a1cf6bb-3ff9-413b-b9b1-23e2ab74dc3c\",\n",
                        "            \"content-type\": \"application/x-amz-json-1.1\",\n",
                        "            \"content-length\": \"0\",\n",
                        "            \"date\": \"Sun, 10 Dec 2023 01:10:11 GMT\"\n",
                        "        },\n",
                        "        \"RetryAttempts\": 0\n",
                        "    }\n",
                        "}\n"
                    ]
                }
            ],
            "source": [
                "if endpoint_config_found:\n",
                "    # https://boto3.amazonaws.com/v1/documentation/api/latest/reference/services/sagemaker/client/delete_endpoint_config.html\n",
                "    response = client.delete_endpoint_config(EndpointConfigName=model_name)\n",
                "    logger.info(json.dumps(response,indent=4))    "
            ]
        },
        {
            "cell_type": "code",
            "execution_count": 13,
            "metadata": {},
            "outputs": [
                {
                    "name": "stderr",
                    "output_type": "stream",
                    "text": [
                        "{\n",
                        "    \"EndpointConfigArn\": \"arn:aws:sagemaker:ca-central-1:120429650996:endpoint-config/model-2023-12-03-11-24-39-75649\",\n",
                        "    \"ResponseMetadata\": {\n",
                        "        \"RequestId\": \"39f10528-8a1d-48a8-9610-3540a8b39ddd\",\n",
                        "        \"HTTPStatusCode\": 200,\n",
                        "        \"HTTPHeaders\": {\n",
                        "            \"x-amzn-requestid\": \"39f10528-8a1d-48a8-9610-3540a8b39ddd\",\n",
                        "            \"content-type\": \"application/x-amz-json-1.1\",\n",
                        "            \"content-length\": \"115\",\n",
                        "            \"date\": \"Sun, 10 Dec 2023 01:10:12 GMT\"\n",
                        "        },\n",
                        "        \"RetryAttempts\": 0\n",
                        "    }\n",
                        "}\n"
                    ]
                }
            ],
            "source": [
                "# https://docs.aws.amazon.com/sagemaker/latest/dg/serverless-endpoints-create.html#serverless-endpoints-create-config\n",
                "\n",
                "response = client.create_endpoint_config(\n",
                "   EndpointConfigName=model_name,\n",
                "   ProductionVariants=[\n",
                "        {\n",
                "            \"ModelName\": model_name,\n",
                "            \"VariantName\": \"AllTraffic\",\n",
                "            \"ServerlessConfig\": {\n",
                "                \"MemorySizeInMB\": 2048,\n",
                "                \"MaxConcurrency\": 20,\n",
                "                #\"ProvisionedConcurrency\": 10,\n",
                "            }\n",
                "        } \n",
                "    ]\n",
                ")\n",
                "\n",
                "logger.info(json.dumps(response,indent=4))"
            ]
        },
        {
            "cell_type": "code",
            "execution_count": 14,
            "metadata": {},
            "outputs": [
                {
                    "name": "stderr",
                    "output_type": "stream",
                    "text": [
                        "[{'EndpointConfigName': 'model-2023-12-03-11-24-39-75649', 'EndpointConfigArn': 'arn:aws:sagemaker:ca-central-1:120429650996:endpoint-config/model-2023-12-03-11-24-39-75649', 'CreationTime': datetime.datetime(2023, 12, 9, 17, 10, 13, 110000, tzinfo=tzlocal())}]\n"
                    ]
                }
            ],
            "source": [
                "response = client.list_endpoint_configs(NameContains=model_name)\n",
                "\n",
                "if response[\"EndpointConfigs\"]:\n",
                "    logger.info(response[\"EndpointConfigs\"])\n",
                "else:\n",
                "    logger.error(\"endpoint config was not created.\")\n",
                "    assert False"
            ]
        },
        {
            "attachments": {},
            "cell_type": "markdown",
            "metadata": {},
            "source": [
                "---"
            ]
        },
        {
            "cell_type": "code",
            "execution_count": 15,
            "metadata": {},
            "outputs": [],
            "source": [
                "# END"
            ]
        }
    ],
    "metadata": {
        "kernelspec": {
            "display_name": "Python 3 (ipykernel)",
            "language": "python",
            "name": "python3"
        },
        "language_info": {
            "codemirror_mode": {
                "name": "ipython",
                "version": 3
            },
            "file_extension": ".py",
            "mimetype": "text/x-python",
            "name": "python",
            "nbconvert_exporter": "python",
            "pygments_lexer": "ipython3",
            "version": "3.11.5"
        },
        "toc": {
            "base_numbering": 1,
            "nav_menu": {},
            "number_sections": true,
            "sideBar": true,
            "skip_h1_title": false,
            "title_cell": "Table of Contents",
            "title_sidebar": "Contents",
            "toc_cell": false,
            "toc_position": {},
            "toc_section_display": true,
            "toc_window_display": false
        }
    },
    "nbformat": 4,
    "nbformat_minor": 2
}
