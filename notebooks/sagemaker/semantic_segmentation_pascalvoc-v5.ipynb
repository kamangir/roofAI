{
 "cells": [
  {
   "cell_type": "markdown",
   "metadata": {},
   "source": [
    "# Amazon SageMaker Semantic Segmentation Algorithm - v5"
   ]
  },
  {
   "cell_type": "code",
   "execution_count": 1,
   "metadata": {
    "tags": []
   },
   "outputs": [],
   "source": [
    "dryrun = True\n",
    "install = False"
   ]
  },
  {
   "cell_type": "code",
   "execution_count": 2,
   "metadata": {
    "tags": []
   },
   "outputs": [
    {
     "name": "stdout",
     "output_type": "stream",
     "text": [
      "\u001b[0;36m🔋 gpu: not found.\u001b[0m\n",
      "\u001b[0;36m🚀 abcli-7.2670.1.2023-06-aws-batch-a\u001b[0m\n"
     ]
    }
   ],
   "source": [
    "%%bash -s $install\n",
    "source ~/git/awesome-bash-cli/bash/abcli.sh in_notebook\n",
    "\n",
    "install=$1\n",
    "\n",
    "if [[ \"$install\" == True ]] ; then\n",
    "    cd ~/git/awesome-bash-cli\n",
    "    pip3 install -e .\n",
    "\n",
    "    cd ~/git/notebooks-and-scripts\n",
    "    pip3 install -e .\n",
    "\n",
    "    pip3 install 'sagemaker>=2,<3'\n",
    "fi"
   ]
  },
  {
   "cell_type": "code",
   "execution_count": 28,
   "metadata": {
    "tags": []
   },
   "outputs": [
    {
     "name": "stderr",
     "output_type": "stream",
     "text": [
      "abcli-7.2670.1-unknown, built on 04 February 2024, 18:58:10\n"
     ]
    }
   ],
   "source": [
    "import os\n",
    "os.environ[\"abcli_path_bash\"] = \"{}/git/awesome-bash-cli/bash\".format(os.getenv(\"HOME\"))\n",
    "\n",
    "import sagemaker\n",
    "import time\n",
    "from abcli import file, path\n",
    "from abcli import fullname\n",
    "from abcli import string\n",
    "from abcli.modules.objects import unique_object\n",
    "from abcli.plugins.storage import instance as storage\n",
    "from notebooks_and_scripts.sagemaker import role\n",
    "from notebooks_and_scripts.sagesemseg.dataset import upload as upload_dataset\n",
    "from abcli.modules import objects\n",
    "from roofAI.logger import logger\n",
    "\n",
    "\n",
    "logger.info(f\"{fullname()}, built on {string.pretty_date()}\")"
   ]
  },
  {
   "cell_type": "code",
   "execution_count": 4,
   "metadata": {
    "tags": []
   },
   "outputs": [
    {
     "name": "stderr",
     "output_type": "stream",
     "text": [
      "dataset_object_name: pascal-voc-v1-debug-v2\n",
      "📂 sagesemseg-model-2024-02-04-18-38-44-12308\n"
     ]
    }
   ],
   "source": [
    "# sagesemseg upload_dataset - suffix=full-v2\n",
    "dataset_object_name = \"pascal-voc-v1-full-v2\"\n",
    "\n",
    "if dryrun:\n",
    "    # sagesemseg upload_dataset - suffix=debug-v2 --count 16\n",
    "    dataset_object_name = \"pascal-voc-v1-debug-v2\"\n",
    "\n",
    "logger.info(f\"dataset_object_name: {dataset_object_name}\")\n",
    "model_object_name = unique_object(\"sagesemseg-model\")"
   ]
  },
  {
   "cell_type": "code",
   "execution_count": 5,
   "metadata": {
    "tags": []
   },
   "outputs": [
    {
     "name": "stdout",
     "output_type": "stream",
     "text": [
      "\u001b[0;36m🔋 gpu: not found.\u001b[0m\n",
      "\u001b[0;36m🚀 abcli-7.2670.1.2023-06-aws-batch-a\u001b[0m\n",
      "\u001b[0;36mdownloading pascal-voc-v1-debug-v2/metadata.yaml ...\u001b[0m\n",
      "download: s3://kamangir/bolt/pascal-voc-v1-debug-v2/metadata.yaml to ../../../../../storage/abcli/pascal-voc-v1-debug-v2/metadata.yaml\n",
      "\u001b[0;36mdownload completed: pascal-voc-v1-debug-v2 metadata.yaml\u001b[0m\n"
     ]
    }
   ],
   "source": [
    "%%bash -s $dataset_object_name\n",
    "source ~/git/awesome-bash-cli/bash/abcli.sh in_notebook\n",
    "\n",
    "dataset_object_name=$1\n",
    "\n",
    "abcli download filename=metadata.yaml $dataset_object_name"
   ]
  },
  {
   "cell_type": "code",
   "execution_count": 6,
   "metadata": {
    "tags": []
   },
   "outputs": [
    {
     "name": "stdout",
     "output_type": "stream",
     "text": [
      "CPU times: user 30.1 ms, sys: 6.28 ms, total: 36.4 ms\n",
      "Wall time: 39.1 ms\n"
     ]
    }
   ],
   "source": [
    "%%time\n",
    "sess = sagemaker.Session()"
   ]
  },
  {
   "cell_type": "code",
   "execution_count": 7,
   "metadata": {
    "tags": []
   },
   "outputs": [
    {
     "name": "stderr",
     "output_type": "stream",
     "text": [
      "dataset_object_name: pascal-voc-v1-debug-v2\n"
     ]
    }
   ],
   "source": [
    "metadata_filename = objects.path_of(object_name = dataset_object_name, filename = \"metadata.yaml\")\n",
    "success, metadata = file.load_yaml(metadata_filename)\n",
    "assert success\n",
    "\n",
    "logger.info(f\"dataset_object_name: {dataset_object_name}\")"
   ]
  },
  {
   "cell_type": "code",
   "execution_count": 8,
   "metadata": {
    "tags": []
   },
   "outputs": [
    {
     "name": "stderr",
     "output_type": "stream",
     "text": [
      "Same images used for training and inference. Defaulting to image scope: inference.\n",
      "Defaulting to the only supported framework/algorithm version: 1.\n",
      "Ignoring unnecessary instance type: None.\n",
      "training_image: 469771592824.dkr.ecr.ca-central-1.amazonaws.com/semantic-segmentation:1\n"
     ]
    }
   ],
   "source": [
    "training_image = sagemaker.image_uris.retrieve(\"semantic-segmentation\", sess.boto_region_name)\n",
    "logger.info(f\"training_image: {training_image}\")"
   ]
  },
  {
   "cell_type": "code",
   "execution_count": 9,
   "metadata": {
    "tags": []
   },
   "outputs": [],
   "source": [
    "ss_estimator = sagemaker.estimator.Estimator(\n",
    "    training_image,  # Container image URI\n",
    "    role,  # Training job execution role with permissions to access our S3 bucket\n",
    "    instance_count=1,\n",
    "    instance_type=\"ml.p3.2xlarge\",\n",
    "    volume_size=50,  # in GB\n",
    "    max_run=360000,  # in seconds\n",
    "    output_path=f\"s3://kamangir/bolt/{model_object_name}\",\n",
    "    base_job_name=model_object_name,\n",
    "    sagemaker_session=sess,\n",
    ")"
   ]
  },
  {
   "cell_type": "code",
   "execution_count": 10,
   "metadata": {
    "tags": []
   },
   "outputs": [],
   "source": [
    "# Setup hyperparameters\n",
    "ss_estimator.set_hyperparameters(\n",
    "    backbone=\"resnet-50\",  # This is the encoder. Other option is resnet-101\n",
    "    algorithm=\"fcn\",  # This is the decoder. Other options are 'psp' and 'deeplab'\n",
    "    use_pretrained_model=\"True\",  # Use the pre-trained model.\n",
    "    crop_size=240,  # Size of image random crop.\n",
    "    num_classes=21,  # Pascal has 21 classes. This is a mandatory parameter.\n",
    "    epochs=10,  # Number of epochs to run.\n",
    "    learning_rate=0.0001,\n",
    "    optimizer=\"rmsprop\",  # Other options include 'adam', 'rmsprop', 'nag', 'adagrad'.\n",
    "    lr_scheduler=\"poly\",  # Other options include 'cosine' and 'step'.\n",
    "    mini_batch_size=16,  # Setup some mini batch size.\n",
    "    validation_mini_batch_size=16,\n",
    "    early_stopping=True,  # Turn on early stopping. If OFF, other early stopping parameters are ignored.\n",
    "    early_stopping_patience=2,  # Tolerate these many epochs if the mIoU doens't increase.\n",
    "    early_stopping_min_epochs=10,  # No matter what, run these many number of epochs.\n",
    "    num_training_samples=metadata[\"num\"][\"train\"], # num_training_samples,  # This is a mandatory parameter, 1464 in this case.\n",
    ")"
   ]
  },
  {
   "cell_type": "code",
   "execution_count": 11,
   "metadata": {
    "tags": []
   },
   "outputs": [],
   "source": [
    "distribution = \"FullyReplicated\"\n",
    "\n",
    "data_channels = {\n",
    "    \"train\": sagemaker.inputs.TrainingInput(\n",
    "        metadata[\"channel\"][\"train\"], #train_channel, \n",
    "        distribution=distribution,\n",
    "    ),\n",
    "    \"validation\": sagemaker.inputs.TrainingInput(\n",
    "        metadata[\"channel\"][\"validation\"], #validation_channel, \n",
    "        distribution=distribution,\n",
    "    ),\n",
    "    \"train_annotation\": sagemaker.inputs.TrainingInput(\n",
    "        metadata[\"channel\"][\"train_annotation\"], #train_annotation_channel, \n",
    "        distribution=distribution\n",
    "    ),\n",
    "    \"validation_annotation\": sagemaker.inputs.TrainingInput(\n",
    "        metadata[\"channel\"][\"validation_annotation\"], #validation_annotation_channel, \n",
    "        distribution=distribution,\n",
    "    ),\n",
    "    # 'label_map': metadata[\"channel\"][\"label_map\"], # label_map_channel\n",
    "}"
   ]
  },
  {
   "cell_type": "code",
   "execution_count": 12,
   "metadata": {
    "tags": []
   },
   "outputs": [
    {
     "name": "stderr",
     "output_type": "stream",
     "text": [
      "Creating training-job with name: sagesemseg-model-2024-02-04-18-38-44-12-2024-02-05-02-38-50-099\n"
     ]
    },
    {
     "name": "stdout",
     "output_type": "stream",
     "text": [
      "2024-02-05 02:38:50 Starting - Starting the training job......\n",
      "2024-02-05 02:39:26 Starting - Preparing the instances for training...\n",
      "2024-02-05 02:40:17 Downloading - Downloading input data...\n",
      "2024-02-05 02:40:42 Downloading - Downloading the training image..................\n",
      "2024-02-05 02:43:43 Training - Training image download completed. Training in progress...Docker entrypoint called with argument(s): train\n",
      "Running default environment configuration script\n",
      "Nvidia gpu devices, drivers and cuda toolkit versions (only available on hosts with GPU):\n",
      "Mon Feb  5 02:44:09 2024       \n",
      "+---------------------------------------------------------------------------------------+\n",
      "| NVIDIA-SMI 535.104.12             Driver Version: 535.104.12   CUDA Version: 12.2     |\n",
      "|-----------------------------------------+----------------------+----------------------+\n",
      "| GPU  Name                 Persistence-M | Bus-Id        Disp.A | Volatile Uncorr. ECC |\n",
      "| Fan  Temp   Perf          Pwr:Usage/Cap |         Memory-Usage | GPU-Util  Compute M. |\n",
      "|                                         |                      |               MIG M. |\n",
      "|=========================================+======================+======================|\n",
      "|   0  Tesla V100-SXM2-16GB           On  | 00000000:00:1E.0 Off |                    0 |\n",
      "| N/A   25C    P0              24W / 300W |      0MiB / 16384MiB |      0%      Default |\n",
      "|                                         |                      |                  N/A |\n",
      "+-----------------------------------------+----------------------+----------------------+\n",
      "                                                                                         \n",
      "+---------------------------------------------------------------------------------------+\n",
      "| Processes:                                                                            |\n",
      "|  GPU   GI   CI        PID   Type   Process name                            GPU Memory |\n",
      "|        ID   ID                                                             Usage      |\n",
      "|=======================================================================================|\n",
      "|  No running processes found                                                           |\n",
      "+---------------------------------------------------------------------------------------+\n",
      "Checking for nvidia driver and cuda compatibility.\n",
      "CUDA Compatibility driver provided.\n",
      "Proceeding with compatibility check between driver, cuda-toolkit and cuda-compat.\n",
      "Detected cuda-toolkit version: 11.1.\n",
      "Detected cuda-compat version: 455.32.00.\n",
      "Detected Nvidia driver version: 535.104.12.\n",
      "Nvidia driver compatible with cuda-toolkit. Disabling cuda-compat.\n",
      "Running custom environment configuration script\n",
      "/opt/amazon/lib/python3.8/site-packages/mxnet/model.py:97: SyntaxWarning: \"is\" with a literal. Did you mean \"==\"?\n",
      "  if num_device is 1 and 'dist' not in kvstore:\n",
      "/opt/amazon/lib/python3.8/site-packages/scipy/optimize/_shgo.py:495: SyntaxWarning: \"is\" with a literal. Did you mean \"==\"?\n",
      "  if cons['type'] is 'ineq':\n",
      "/opt/amazon/lib/python3.8/site-packages/scipy/optimize/_shgo.py:743: SyntaxWarning: \"is not\" with a literal. Did you mean \"!=\"?\n",
      "  if len(self.X_min) is not 0:\n",
      "[02/05/2024 02:44:13 INFO 140238156400448] Reading default configuration from /opt/amazon/lib/python3.8/site-packages/algorithm/default-input.json: {'backbone': 'resnet-50', 'algorithm': 'fcn', 'use_pretrained_model': 'True', 'crop_size': '240', 'epochs': '10', 'learning_rate': '0.001', 'optimizer': 'sgd', 'lr_scheduler': 'poly', 'lr_scheduler_factor': '0.1', 'weight_decay': '0.0001', 'momentum': '0.9', 'gamma1': '0.9', 'gamma2': '0.9', 'mini_batch_size': '16', 'validation_mini_batch_size': '16', 'num_training_samples': '8', 'early_stopping_min_epochs': '5', 'early_stopping': 'False', 'early_stopping_patience': '4', 'early_stopping_tolerance': '0.0', 'precision_dtype': 'float32', '_kvstore': 'device', '_num_kv_servers': 'auto', 'syncbn': 'False', '_workers': '16', '_aux_loss': 'True', '_aux_weight': '0.5', '_hybrid': 'False', '_augmentation_type': 'default', '_logging_frequency': '20'}\n",
      "[02/05/2024 02:44:13 INFO 140238156400448] Merging with provided configuration from /opt/ml/input/config/hyperparameters.json: {'algorithm': 'fcn', 'backbone': 'resnet-50', 'crop_size': '240', 'early_stopping': 'True', 'early_stopping_min_epochs': '10', 'early_stopping_patience': '2', 'epochs': '10', 'learning_rate': '0.0001', 'lr_scheduler': 'poly', 'mini_batch_size': '16', 'num_classes': '21', 'num_training_samples': '16', 'optimizer': 'rmsprop', 'use_pretrained_model': 'True', 'validation_mini_batch_size': '16'}\n",
      "[02/05/2024 02:44:13 INFO 140238156400448] Final configuration: {'backbone': 'resnet-50', 'algorithm': 'fcn', 'use_pretrained_model': 'True', 'crop_size': '240', 'epochs': '10', 'learning_rate': '0.0001', 'optimizer': 'rmsprop', 'lr_scheduler': 'poly', 'lr_scheduler_factor': '0.1', 'weight_decay': '0.0001', 'momentum': '0.9', 'gamma1': '0.9', 'gamma2': '0.9', 'mini_batch_size': '16', 'validation_mini_batch_size': '16', 'num_training_samples': '16', 'early_stopping_min_epochs': '10', 'early_stopping': 'True', 'early_stopping_patience': '2', 'early_stopping_tolerance': '0.0', 'precision_dtype': 'float32', '_kvstore': 'device', '_num_kv_servers': 'auto', 'syncbn': 'False', '_workers': '16', '_aux_loss': 'True', '_aux_weight': '0.5', '_hybrid': 'False', '_augmentation_type': 'default', '_logging_frequency': '20', 'num_classes': '21'}\n",
      "Process 7 is a worker.\n",
      "[02/05/2024 02:44:13 INFO 140238156400448] Using default worker.\n",
      "[02/05/2024 02:44:13 INFO 140238156400448] Loaded iterator creator application/json for content type ('application/json', '1.0')\n",
      "/opt/amazon/lib/python3.8/site-packages/matplotlib/pyplot.py:2422: SyntaxWarning: \"is\" with a literal. Did you mean \"==\"?\n",
      "  if fignum is False or fignum is 0:\n",
      "/opt/amazon/lib/python3.8/site-packages/matplotlib/contour.py:871: SyntaxWarning: \"is not\" with a literal. Did you mean \"!=\"?\n",
      "  if self.extend is not 'neither':\n",
      "[02/05/2024 02:44:13 INFO 140238156400448] font search path ['/opt/amazon/lib/python3.8/site-packages/matplotlib/mpl-data/fonts/ttf', '/opt/amazon/lib/python3.8/site-packages/matplotlib/mpl-data/fonts/afm', '/opt/amazon/lib/python3.8/site-packages/matplotlib/mpl-data/fonts/pdfcorefonts']\n",
      "[02/05/2024 02:44:13 INFO 140238156400448] generated new fontManager\n",
      "/opt/amazon/lib/python3.8/site-packages/scipy/io/netcdf.py:770: SyntaxWarning: \"is not\" with a literal. Did you mean \"!=\"?\n",
      "  if typecode is not 'c':\n",
      "[02/05/2024 02:44:14 INFO 140238156400448] Loaded iterator creator application/x-image for content type ('application/x-image', '1.0')\n",
      "[02/05/2024 02:44:14 INFO 140238156400448] Loaded iterator creator application/x-recordio for content type ('application/x-recordio', '1.0')\n",
      "[02/05/2024 02:44:14 INFO 140238156400448] Loaded iterator creator image/jpeg for content type ('image/jpeg', '1.0')\n",
      "[02/05/2024 02:44:14 INFO 140238156400448] Loaded iterator creator image/png for content type ('image/png', '1.0')\n",
      "[02/05/2024 02:44:14 INFO 140238156400448] Checkpoint loading and saving are disabled.\n",
      "[02/05/2024 02:44:14 WARNING 140238156400448] /opt/ml/input/data/train/train_annotation is not a readable image file\n",
      "[02/05/2024 02:44:14 WARNING 140238156400448] label maps not provided, using defaults.\n",
      "[02/05/2024 02:44:14 INFO 140238156400448] #label_map train :{'scale': 1}\n",
      "[02/05/2024 02:44:14 WARNING 140238156400448] /opt/ml/input/data/validation/validation_annotation is not a readable image file\n",
      "[02/05/2024 02:44:14 WARNING 140238156400448] label maps not provided, using defaults.\n",
      "[02/05/2024 02:44:14 INFO 140238156400448] #label_map validation :{'scale': 1}\n",
      "/opt/amazon/python3.8/lib/python3.8/subprocess.py:848: RuntimeWarning: line buffering (buffering=1) isn't supported in binary mode, the default buffer size will be used\n",
      "  self.stdout = io.open(c2pread, 'rb', bufsize)\n",
      "[02/05/2024 02:44:14 INFO 140238156400448] nvidia-smi: took 0.058 seconds to run.\n",
      "[02/05/2024 02:44:14 INFO 140238156400448] nvidia-smi identified 1 GPUs.\n",
      "[02/05/2024 02:44:14 INFO 140238156400448] Number of GPUs being used: 1\n",
      "[02/05/2024 02:44:14 INFO 140238156400448] Number of GPUs being used: 1\n",
      "[02/05/2024 02:44:14 INFO 140238156400448] Number of GPUs being used: 1\n",
      "[02:44:16] /opt/brazil-pkg-cache/packages/AIAlgorithmsMXNet/AIAlgorithmsMXNet-1.4.x_ecl_Cuda_11.1.x.366.0/AL2_x86_64/generic-flavor/src/src/storage/storage.cc:108: Using GPUPooledRoundedStorageManager.\n",
      "[02/05/2024 02:44:18 INFO 140238156400448] LRScheduler setup: iters per epoch: 1, num_epochs 10\n",
      "#metrics {\"StartTime\": 1707101058.8309479, \"EndTime\": 1707101058.8314602, \"Dimensions\": {\"Algorithm\": \"AWS/Semantic Segmentation\", \"Host\": \"algo-1\", \"Operation\": \"training\", \"Meta\": \"init_train_data_iter\"}, \"Metrics\": {\"Total Records Seen\": {\"sum\": 0.0, \"count\": 1, \"min\": 0, \"max\": 0}, \"Total Batches Seen\": {\"sum\": 0.0, \"count\": 1, \"min\": 0, \"max\": 0}, \"Max Records Seen Between Resets\": {\"sum\": 0.0, \"count\": 1, \"min\": 0, \"max\": 0}, \"Max Batches Seen Between Resets\": {\"sum\": 0.0, \"count\": 1, \"min\": 0, \"max\": 0}, \"Reset Count\": {\"sum\": 0.0, \"count\": 1, \"min\": 0, \"max\": 0}, \"Number of Records Since Last Reset\": {\"sum\": 0.0, \"count\": 1, \"min\": 0, \"max\": 0}, \"Number of Batches Since Last Reset\": {\"sum\": 0.0, \"count\": 1, \"min\": 0, \"max\": 0}}}\n",
      "[02/05/2024 02:44:19 INFO 140238156400448] #quality_metric. host: algo-1, epoch: 0, train loss: 4.769582748413086 .\n",
      "[02/05/2024 02:44:19 INFO 140238156400448] #throughput_metric. host: algo-1, epoch: 0, train throughput: 35.252824975244856 samples/sec.\n",
      "[02/05/2024 02:44:20 INFO 140238156400448] #quality_metric. host: algo-1, epoch: 0, validation pixel_accuracy: 0.12257152585041735 .\n",
      "[02/05/2024 02:44:20 INFO 140238156400448] #quality_metric. host: algo-1, epoch: 0, validation mIOU: 0.03341878262586142 .\n",
      "[02/05/2024 02:44:20 INFO 140238156400448] #throughput_metric. host: algo-1, epoch: 0, validation throughput: 45.86260122097318 samples/sec.\n",
      "[02/05/2024 02:44:20 INFO 140238156400448] Serializing model to /opt/ml/model/model_best.params\n",
      "[02/05/2024 02:44:20 INFO 140238156400448] Serializing model to /opt/ml/model/model_best.params\n",
      "[02/05/2024 02:44:20 INFO 140238156400448] #progress_metric: host=algo-1, completed 10.0 % of epochs\n",
      "#metrics {\"StartTime\": 1707101058.8331046, \"EndTime\": 1707101060.6579888, \"Dimensions\": {\"Algorithm\": \"AWS/Semantic Segmentation\", \"Host\": \"algo-1\", \"Operation\": \"training\", \"epoch\": 0, \"Meta\": \"training_data_iter\"}, \"Metrics\": {\"Total Records Seen\": {\"sum\": 0.0, \"count\": 1, \"min\": 0, \"max\": 0}, \"Total Batches Seen\": {\"sum\": 0.0, \"count\": 1, \"min\": 0, \"max\": 0}, \"Max Records Seen Between Resets\": {\"sum\": 0.0, \"count\": 1, \"min\": 0, \"max\": 0}, \"Max Batches Seen Between Resets\": {\"sum\": 0.0, \"count\": 1, \"min\": 0, \"max\": 0}, \"Reset Count\": {\"sum\": 1.0, \"count\": 1, \"min\": 1, \"max\": 1}, \"Number of Records Since Last Reset\": {\"sum\": 0.0, \"count\": 1, \"min\": 0, \"max\": 0}, \"Number of Batches Since Last Reset\": {\"sum\": 0.0, \"count\": 1, \"min\": 0, \"max\": 0}}}\n",
      "[02/05/2024 02:44:21 INFO 140238156400448] #quality_metric. host: algo-1, epoch: 1, train loss: 3.517143964767456 .\n",
      "[02/05/2024 02:44:21 INFO 140238156400448] #throughput_metric. host: algo-1, epoch: 1, train throughput: 49.807708264835135 samples/sec.\n",
      "[02/05/2024 02:44:21 INFO 140238156400448] #quality_metric. host: algo-1, epoch: 1, validation pixel_accuracy: 0.395331001585451 .\n",
      "[02/05/2024 02:44:21 INFO 140238156400448] #quality_metric. host: algo-1, epoch: 1, validation mIOU: 0.07598660691900537 .\n",
      "[02/05/2024 02:44:21 INFO 140238156400448] #throughput_metric. host: algo-1, epoch: 1, validation throughput: 45.798813482863885 samples/sec.\n",
      "[02/05/2024 02:44:21 INFO 140238156400448] Serializing model to /opt/ml/model/model_best.params\n",
      "[02/05/2024 02:44:22 INFO 140238156400448] #progress_metric: host=algo-1, completed 20.0 % of epochs\n",
      "#metrics {\"StartTime\": 1707101060.6582043, \"EndTime\": 1707101062.1170356, \"Dimensions\": {\"Algorithm\": \"AWS/Semantic Segmentation\", \"Host\": \"algo-1\", \"Operation\": \"training\", \"epoch\": 1, \"Meta\": \"training_data_iter\"}, \"Metrics\": {\"Total Records Seen\": {\"sum\": 0.0, \"count\": 1, \"min\": 0, \"max\": 0}, \"Total Batches Seen\": {\"sum\": 0.0, \"count\": 1, \"min\": 0, \"max\": 0}, \"Max Records Seen Between Resets\": {\"sum\": 0.0, \"count\": 1, \"min\": 0, \"max\": 0}, \"Max Batches Seen Between Resets\": {\"sum\": 0.0, \"count\": 1, \"min\": 0, \"max\": 0}, \"Reset Count\": {\"sum\": 2.0, \"count\": 1, \"min\": 2, \"max\": 2}, \"Number of Records Since Last Reset\": {\"sum\": 0.0, \"count\": 1, \"min\": 0, \"max\": 0}, \"Number of Batches Since Last Reset\": {\"sum\": 0.0, \"count\": 1, \"min\": 0, \"max\": 0}}}\n",
      "[02/05/2024 02:44:22 INFO 140238156400448] #quality_metric. host: algo-1, epoch: 2, train loss: 2.927263021469116 .\n",
      "[02/05/2024 02:44:22 INFO 140238156400448] #throughput_metric. host: algo-1, epoch: 2, train throughput: 50.57262656558501 samples/sec.\n",
      "[02/05/2024 02:44:23 INFO 140238156400448] #quality_metric. host: algo-1, epoch: 2, validation pixel_accuracy: 0.3740414785161646 .\n",
      "[02/05/2024 02:44:23 INFO 140238156400448] #quality_metric. host: algo-1, epoch: 2, validation mIOU: 0.07633479581744868 .\n",
      "[02/05/2024 02:44:23 INFO 140238156400448] #throughput_metric. host: algo-1, epoch: 2, validation throughput: 45.59524784979879 samples/sec.\n",
      "[02/05/2024 02:44:23 INFO 140238156400448] Serializing model to /opt/ml/model/model_best.params\n",
      "[02/05/2024 02:44:23 INFO 140238156400448] #progress_metric: host=algo-1, completed 30.0 % of epochs\n",
      "#metrics {\"StartTime\": 1707101062.1172056, \"EndTime\": 1707101063.562155, \"Dimensions\": {\"Algorithm\": \"AWS/Semantic Segmentation\", \"Host\": \"algo-1\", \"Operation\": \"training\", \"epoch\": 2, \"Meta\": \"training_data_iter\"}, \"Metrics\": {\"Total Records Seen\": {\"sum\": 0.0, \"count\": 1, \"min\": 0, \"max\": 0}, \"Total Batches Seen\": {\"sum\": 0.0, \"count\": 1, \"min\": 0, \"max\": 0}, \"Max Records Seen Between Resets\": {\"sum\": 0.0, \"count\": 1, \"min\": 0, \"max\": 0}, \"Max Batches Seen Between Resets\": {\"sum\": 0.0, \"count\": 1, \"min\": 0, \"max\": 0}, \"Reset Count\": {\"sum\": 3.0, \"count\": 1, \"min\": 3, \"max\": 3}, \"Number of Records Since Last Reset\": {\"sum\": 0.0, \"count\": 1, \"min\": 0, \"max\": 0}, \"Number of Batches Since Last Reset\": {\"sum\": 0.0, \"count\": 1, \"min\": 0, \"max\": 0}}}\n",
      "[02/05/2024 02:44:24 INFO 140238156400448] #quality_metric. host: algo-1, epoch: 3, train loss: 2.2663650512695312 .\n",
      "[02/05/2024 02:44:24 INFO 140238156400448] #throughput_metric. host: algo-1, epoch: 3, train throughput: 49.18994927727446 samples/sec.\n",
      "[02/05/2024 02:44:24 INFO 140238156400448] #quality_metric. host: algo-1, epoch: 3, validation pixel_accuracy: 0.43556798237317823 .\n",
      "[02/05/2024 02:44:24 INFO 140238156400448] #quality_metric. host: algo-1, epoch: 3, validation mIOU: 0.08436229506025168 .\n",
      "[02/05/2024 02:44:24 INFO 140238156400448] #throughput_metric. host: algo-1, epoch: 3, validation throughput: 44.8497824304302 samples/sec.\n",
      "[02/05/2024 02:44:24 INFO 140238156400448] Serializing model to /opt/ml/model/model_best.params\n",
      "[02/05/2024 02:44:25 INFO 140238156400448] #progress_metric: host=algo-1, completed 40.0 % of epochs\n",
      "#metrics {\"StartTime\": 1707101063.562326, \"EndTime\": 1707101065.0278714, \"Dimensions\": {\"Algorithm\": \"AWS/Semantic Segmentation\", \"Host\": \"algo-1\", \"Operation\": \"training\", \"epoch\": 3, \"Meta\": \"training_data_iter\"}, \"Metrics\": {\"Total Records Seen\": {\"sum\": 0.0, \"count\": 1, \"min\": 0, \"max\": 0}, \"Total Batches Seen\": {\"sum\": 0.0, \"count\": 1, \"min\": 0, \"max\": 0}, \"Max Records Seen Between Resets\": {\"sum\": 0.0, \"count\": 1, \"min\": 0, \"max\": 0}, \"Max Batches Seen Between Resets\": {\"sum\": 0.0, \"count\": 1, \"min\": 0, \"max\": 0}, \"Reset Count\": {\"sum\": 4.0, \"count\": 1, \"min\": 4, \"max\": 4}, \"Number of Records Since Last Reset\": {\"sum\": 0.0, \"count\": 1, \"min\": 0, \"max\": 0}, \"Number of Batches Since Last Reset\": {\"sum\": 0.0, \"count\": 1, \"min\": 0, \"max\": 0}}}\n",
      "[02/05/2024 02:44:25 INFO 140238156400448] #quality_metric. host: algo-1, epoch: 4, train loss: 2.1318721771240234 .\n",
      "[02/05/2024 02:44:25 INFO 140238156400448] #throughput_metric. host: algo-1, epoch: 4, train throughput: 50.56557700059902 samples/sec.\n",
      "[02/05/2024 02:44:26 INFO 140238156400448] #quality_metric. host: algo-1, epoch: 4, validation pixel_accuracy: 0.4863872466918184 .\n",
      "[02/05/2024 02:44:26 INFO 140238156400448] #quality_metric. host: algo-1, epoch: 4, validation mIOU: 0.09646075992631552 .\n",
      "[02/05/2024 02:44:26 INFO 140238156400448] #throughput_metric. host: algo-1, epoch: 4, validation throughput: 46.71351136881746 samples/sec.\n",
      "[02/05/2024 02:44:26 INFO 140238156400448] Serializing model to /opt/ml/model/model_best.params\n",
      "[02/05/2024 02:44:26 INFO 140238156400448] #progress_metric: host=algo-1, completed 50.0 % of epochs\n",
      "#metrics {\"StartTime\": 1707101065.0280507, \"EndTime\": 1707101066.4810352, \"Dimensions\": {\"Algorithm\": \"AWS/Semantic Segmentation\", \"Host\": \"algo-1\", \"Operation\": \"training\", \"epoch\": 4, \"Meta\": \"training_data_iter\"}, \"Metrics\": {\"Total Records Seen\": {\"sum\": 0.0, \"count\": 1, \"min\": 0, \"max\": 0}, \"Total Batches Seen\": {\"sum\": 0.0, \"count\": 1, \"min\": 0, \"max\": 0}, \"Max Records Seen Between Resets\": {\"sum\": 0.0, \"count\": 1, \"min\": 0, \"max\": 0}, \"Max Batches Seen Between Resets\": {\"sum\": 0.0, \"count\": 1, \"min\": 0, \"max\": 0}, \"Reset Count\": {\"sum\": 5.0, \"count\": 1, \"min\": 5, \"max\": 5}, \"Number of Records Since Last Reset\": {\"sum\": 0.0, \"count\": 1, \"min\": 0, \"max\": 0}, \"Number of Batches Since Last Reset\": {\"sum\": 0.0, \"count\": 1, \"min\": 0, \"max\": 0}}}\n",
      "[02/05/2024 02:44:27 INFO 140238156400448] #quality_metric. host: algo-1, epoch: 5, train loss: 1.6727765798568726 .\n",
      "[02/05/2024 02:44:27 INFO 140238156400448] #throughput_metric. host: algo-1, epoch: 5, train throughput: 51.045312514261894 samples/sec.\n",
      "[02/05/2024 02:44:27 INFO 140238156400448] #quality_metric. host: algo-1, epoch: 5, validation pixel_accuracy: 0.49571194545039765 .\n",
      "[02/05/2024 02:44:27 INFO 140238156400448] #quality_metric. host: algo-1, epoch: 5, validation mIOU: 0.09804703553926952 .\n",
      "[02/05/2024 02:44:27 INFO 140238156400448] #throughput_metric. host: algo-1, epoch: 5, validation throughput: 45.796500681397404 samples/sec.\n",
      "[02/05/2024 02:44:27 INFO 140238156400448] Serializing model to /opt/ml/model/model_best.params\n",
      "[02/05/2024 02:44:27 INFO 140238156400448] #progress_metric: host=algo-1, completed 60.0 % of epochs\n",
      "#metrics {\"StartTime\": 1707101066.4812126, \"EndTime\": 1707101067.9250288, \"Dimensions\": {\"Algorithm\": \"AWS/Semantic Segmentation\", \"Host\": \"algo-1\", \"Operation\": \"training\", \"epoch\": 5, \"Meta\": \"training_data_iter\"}, \"Metrics\": {\"Total Records Seen\": {\"sum\": 0.0, \"count\": 1, \"min\": 0, \"max\": 0}, \"Total Batches Seen\": {\"sum\": 0.0, \"count\": 1, \"min\": 0, \"max\": 0}, \"Max Records Seen Between Resets\": {\"sum\": 0.0, \"count\": 1, \"min\": 0, \"max\": 0}, \"Max Batches Seen Between Resets\": {\"sum\": 0.0, \"count\": 1, \"min\": 0, \"max\": 0}, \"Reset Count\": {\"sum\": 6.0, \"count\": 1, \"min\": 6, \"max\": 6}, \"Number of Records Since Last Reset\": {\"sum\": 0.0, \"count\": 1, \"min\": 0, \"max\": 0}, \"Number of Batches Since Last Reset\": {\"sum\": 0.0, \"count\": 1, \"min\": 0, \"max\": 0}}}\n",
      "[02/05/2024 02:44:28 INFO 140238156400448] #quality_metric. host: algo-1, epoch: 6, train loss: 1.6904823780059814 .\n",
      "[02/05/2024 02:44:28 INFO 140238156400448] #throughput_metric. host: algo-1, epoch: 6, train throughput: 50.5487802857173 samples/sec.\n",
      "[02/05/2024 02:44:29 INFO 140238156400448] #quality_metric. host: algo-1, epoch: 6, validation pixel_accuracy: 0.5325556254850643 .\n",
      "[02/05/2024 02:44:29 INFO 140238156400448] #quality_metric. host: algo-1, epoch: 6, validation mIOU: 0.10348001525679702 .\n",
      "[02/05/2024 02:44:29 INFO 140238156400448] #throughput_metric. host: algo-1, epoch: 6, validation throughput: 46.59405896598458 samples/sec.\n",
      "[02/05/2024 02:44:29 INFO 140238156400448] Serializing model to /opt/ml/model/model_best.params\n",
      "[02/05/2024 02:44:29 INFO 140238156400448] #progress_metric: host=algo-1, completed 70.0 % of epochs\n",
      "#metrics {\"StartTime\": 1707101067.9251988, \"EndTime\": 1707101069.364531, \"Dimensions\": {\"Algorithm\": \"AWS/Semantic Segmentation\", \"Host\": \"algo-1\", \"Operation\": \"training\", \"epoch\": 6, \"Meta\": \"training_data_iter\"}, \"Metrics\": {\"Total Records Seen\": {\"sum\": 0.0, \"count\": 1, \"min\": 0, \"max\": 0}, \"Total Batches Seen\": {\"sum\": 0.0, \"count\": 1, \"min\": 0, \"max\": 0}, \"Max Records Seen Between Resets\": {\"sum\": 0.0, \"count\": 1, \"min\": 0, \"max\": 0}, \"Max Batches Seen Between Resets\": {\"sum\": 0.0, \"count\": 1, \"min\": 0, \"max\": 0}, \"Reset Count\": {\"sum\": 7.0, \"count\": 1, \"min\": 7, \"max\": 7}, \"Number of Records Since Last Reset\": {\"sum\": 0.0, \"count\": 1, \"min\": 0, \"max\": 0}, \"Number of Batches Since Last Reset\": {\"sum\": 0.0, \"count\": 1, \"min\": 0, \"max\": 0}}}\n",
      "[02/05/2024 02:44:30 INFO 140238156400448] #quality_metric. host: algo-1, epoch: 7, train loss: 1.631495475769043 .\n",
      "[02/05/2024 02:44:30 INFO 140238156400448] #throughput_metric. host: algo-1, epoch: 7, train throughput: 50.19594326737665 samples/sec.\n",
      "[02/05/2024 02:44:30 INFO 140238156400448] #quality_metric. host: algo-1, epoch: 7, validation pixel_accuracy: 0.5599634073783657 .\n",
      "[02/05/2024 02:44:30 INFO 140238156400448] #quality_metric. host: algo-1, epoch: 7, validation mIOU: 0.10855306989200435 .\n",
      "[02/05/2024 02:44:30 INFO 140238156400448] #throughput_metric. host: algo-1, epoch: 7, validation throughput: 46.7281809610947 samples/sec.\n",
      "[02/05/2024 02:44:30 INFO 140238156400448] Serializing model to /opt/ml/model/model_best.params\n",
      "[02/05/2024 02:44:30 INFO 140238156400448] #progress_metric: host=algo-1, completed 80.0 % of epochs\n",
      "#metrics {\"StartTime\": 1707101069.364745, \"EndTime\": 1707101070.8041964, \"Dimensions\": {\"Algorithm\": \"AWS/Semantic Segmentation\", \"Host\": \"algo-1\", \"Operation\": \"training\", \"epoch\": 7, \"Meta\": \"training_data_iter\"}, \"Metrics\": {\"Total Records Seen\": {\"sum\": 0.0, \"count\": 1, \"min\": 0, \"max\": 0}, \"Total Batches Seen\": {\"sum\": 0.0, \"count\": 1, \"min\": 0, \"max\": 0}, \"Max Records Seen Between Resets\": {\"sum\": 0.0, \"count\": 1, \"min\": 0, \"max\": 0}, \"Max Batches Seen Between Resets\": {\"sum\": 0.0, \"count\": 1, \"min\": 0, \"max\": 0}, \"Reset Count\": {\"sum\": 8.0, \"count\": 1, \"min\": 8, \"max\": 8}, \"Number of Records Since Last Reset\": {\"sum\": 0.0, \"count\": 1, \"min\": 0, \"max\": 0}, \"Number of Batches Since Last Reset\": {\"sum\": 0.0, \"count\": 1, \"min\": 0, \"max\": 0}}}\n",
      "[02/05/2024 02:44:31 INFO 140238156400448] #quality_metric. host: algo-1, epoch: 8, train loss: 1.57626473903656 .\n",
      "[02/05/2024 02:44:31 INFO 140238156400448] #throughput_metric. host: algo-1, epoch: 8, train throughput: 50.254356799242764 samples/sec.\n",
      "[02/05/2024 02:44:32 INFO 140238156400448] #quality_metric. host: algo-1, epoch: 8, validation pixel_accuracy: 0.5740719723675266 .\n",
      "[02/05/2024 02:44:32 INFO 140238156400448] #quality_metric. host: algo-1, epoch: 8, validation mIOU: 0.11157582769578218 .\n",
      "[02/05/2024 02:44:32 INFO 140238156400448] #throughput_metric. host: algo-1, epoch: 8, validation throughput: 46.32593688907543 samples/sec.\n",
      "[02/05/2024 02:44:32 INFO 140238156400448] Serializing model to /opt/ml/model/model_best.params\n",
      "[02/05/2024 02:44:32 INFO 140238156400448] #progress_metric: host=algo-1, completed 90.0 % of epochs\n",
      "#metrics {\"StartTime\": 1707101070.8044057, \"EndTime\": 1707101072.247759, \"Dimensions\": {\"Algorithm\": \"AWS/Semantic Segmentation\", \"Host\": \"algo-1\", \"Operation\": \"training\", \"epoch\": 8, \"Meta\": \"training_data_iter\"}, \"Metrics\": {\"Total Records Seen\": {\"sum\": 0.0, \"count\": 1, \"min\": 0, \"max\": 0}, \"Total Batches Seen\": {\"sum\": 0.0, \"count\": 1, \"min\": 0, \"max\": 0}, \"Max Records Seen Between Resets\": {\"sum\": 0.0, \"count\": 1, \"min\": 0, \"max\": 0}, \"Max Batches Seen Between Resets\": {\"sum\": 0.0, \"count\": 1, \"min\": 0, \"max\": 0}, \"Reset Count\": {\"sum\": 9.0, \"count\": 1, \"min\": 9, \"max\": 9}, \"Number of Records Since Last Reset\": {\"sum\": 0.0, \"count\": 1, \"min\": 0, \"max\": 0}, \"Number of Batches Since Last Reset\": {\"sum\": 0.0, \"count\": 1, \"min\": 0, \"max\": 0}}}\n",
      "[02/05/2024 02:44:32 INFO 140238156400448] #quality_metric. host: algo-1, epoch: 9, train loss: 1.4626951217651367 .\n",
      "[02/05/2024 02:44:32 INFO 140238156400448] #throughput_metric. host: algo-1, epoch: 9, train throughput: 50.72430484379582 samples/sec.\n",
      "[02/05/2024 02:44:33 INFO 140238156400448] #quality_metric. host: algo-1, epoch: 9, validation pixel_accuracy: 0.583897641541338 .\n",
      "[02/05/2024 02:44:33 INFO 140238156400448] #quality_metric. host: algo-1, epoch: 9, validation mIOU: 0.11438440664693925 .\n",
      "[02/05/2024 02:44:33 INFO 140238156400448] #throughput_metric. host: algo-1, epoch: 9, validation throughput: 46.40733899783069 samples/sec.\n",
      "[02/05/2024 02:44:33 INFO 140238156400448] Serializing model to /opt/ml/model/model_best.params\n",
      "[02/05/2024 02:44:33 INFO 140238156400448] #progress_metric: host=algo-1, completed 100.0 % of epochs\n",
      "#metrics {\"StartTime\": 1707101072.247928, \"EndTime\": 1707101073.6640668, \"Dimensions\": {\"Algorithm\": \"AWS/Semantic Segmentation\", \"Host\": \"algo-1\", \"Operation\": \"training\", \"epoch\": 9, \"Meta\": \"training_data_iter\"}, \"Metrics\": {\"Total Records Seen\": {\"sum\": 0.0, \"count\": 1, \"min\": 0, \"max\": 0}, \"Total Batches Seen\": {\"sum\": 0.0, \"count\": 1, \"min\": 0, \"max\": 0}, \"Max Records Seen Between Resets\": {\"sum\": 0.0, \"count\": 1, \"min\": 0, \"max\": 0}, \"Max Batches Seen Between Resets\": {\"sum\": 0.0, \"count\": 1, \"min\": 0, \"max\": 0}, \"Reset Count\": {\"sum\": 10.0, \"count\": 1, \"min\": 10, \"max\": 10}, \"Number of Records Since Last Reset\": {\"sum\": 0.0, \"count\": 1, \"min\": 0, \"max\": 0}, \"Number of Batches Since Last Reset\": {\"sum\": 0.0, \"count\": 1, \"min\": 0, \"max\": 0}}}\n",
      "[02/05/2024 02:44:33 WARNING 140238156400448] wait_for_all_workers will not sync workers since the kv store is not running distributed\n",
      "[02/05/2024 02:44:33 INFO 140238156400448] Serializing model to /opt/ml/model/model_algo-1\n",
      "[02/05/2024 02:44:33 INFO 140238156400448] Test data is not provided.\n",
      "#metrics {\"StartTime\": 1707101054.721492, \"EndTime\": 1707101073.9055123, \"Dimensions\": {\"Algorithm\": \"AWS/Semantic Segmentation\", \"Host\": \"algo-1\", \"Operation\": \"training\"}, \"Metrics\": {\"epochs\": {\"sum\": 10.0, \"count\": 1, \"min\": 10, \"max\": 10}, \"setuptime\": {\"sum\": 13.455390930175781, \"count\": 1, \"min\": 13.455390930175781, \"max\": 13.455390930175781}, \"totaltime\": {\"sum\": 20447.646379470825, \"count\": 1, \"min\": 20447.646379470825, \"max\": 20447.646379470825}}}\n",
      "\n",
      "2024-02-05 02:44:54 Uploading - Uploading generated training model\n",
      "2024-02-05 02:44:54 Completed - Training job completed\n",
      "Training seconds: 277\n",
      "Billable seconds: 277\n"
     ]
    }
   ],
   "source": [
    "ss_estimator.fit(data_channels, logs=True)"
   ]
  },
  {
   "cell_type": "code",
   "execution_count": 13,
   "metadata": {
    "tags": []
   },
   "outputs": [
    {
     "name": "stderr",
     "output_type": "stream",
     "text": [
      "Creating model with name: sagesemseg-model-2024-02-04-18-38-44-12-2024-02-05-02-45-16-304\n",
      "Creating endpoint-config with name sagesemseg-model-2024-02-04-18-38-44-12-2024-02-05-02-45-16-304\n",
      "Creating endpoint with name sagesemseg-model-2024-02-04-18-38-44-12-2024-02-05-02-45-16-304\n"
     ]
    },
    {
     "name": "stdout",
     "output_type": "stream",
     "text": [
      "---------------!"
     ]
    }
   ],
   "source": [
    "ss_predictor = ss_estimator.deploy(initial_instance_count=1, instance_type=\"ml.c5.xlarge\")"
   ]
  },
  {
   "cell_type": "code",
   "execution_count": 35,
   "metadata": {
    "tags": []
   },
   "outputs": [
    {
     "name": "stdout",
     "output_type": "stream",
     "text": [
      "--2024-02-04 19:03:28--  https://github.com/kamangir/blue-bracket/raw/main/images/helmet-1.jpg\n",
      "Resolving github.com (github.com)... 140.82.113.4\n",
      "Connecting to github.com (github.com)|140.82.113.4|:443... connected.\n",
      "HTTP request sent, awaiting response... 302 Found\n",
      "Location: https://raw.githubusercontent.com/kamangir/blue-bracket/main/images/helmet-1.jpg [following]\n",
      "--2024-02-04 19:03:29--  https://raw.githubusercontent.com/kamangir/blue-bracket/main/images/helmet-1.jpg\n",
      "Resolving raw.githubusercontent.com (raw.githubusercontent.com)... 2606:50c0:8003::154, 2606:50c0:8000::154, 2606:50c0:8001::154, ...\n",
      "Connecting to raw.githubusercontent.com (raw.githubusercontent.com)|2606:50c0:8003::154|:443... connected.\n",
      "HTTP request sent, awaiting response... 200 OK\n",
      "Length: 1385654 (1.3M) [image/jpeg]\n",
      "Saving to: ‘/Users/kamangir/storage/abcli/sagesemseg-model-2024-02-04-18-38-44-12308/validation/test.jpg’\n",
      "\n",
      "/Users/kamangir/sto 100%[===================>]   1.32M  --.-KB/s    in 0.1s    \n",
      "\n",
      "2024-02-04 19:03:29 (12.5 MB/s) - ‘/Users/kamangir/storage/abcli/sagesemseg-model-2024-02-04-18-38-44-12308/validation/test.jpg’ saved [1385654/1385654]\n",
      "\n"
     ]
    }
   ],
   "source": [
    "path.create(objects.path_of(object_name = model_object_name, filename = \"validation/\"))\n",
    "filename_raw = objects.path_of(object_name = model_object_name, filename = \"validation/test.jpg\")\n",
    "\n",
    "!wget -O $filename_raw https://github.com/kamangir/blue-bracket/raw/main/images/helmet-1.jpg"
   ]
  },
  {
   "cell_type": "code",
   "execution_count": 36,
   "metadata": {
    "tags": []
   },
   "outputs": [
    {
     "data": {
      "image/png": "[encoded data removed]",
      "text/plain": [
       "<Figure size 640x480 with 1 Axes>"
      ]
     },
     "metadata": {},
     "output_type": "display_data"
    }
   ],
   "source": [
    "from matplotlib import pyplot as plt\n",
    "import PIL\n",
    "\n",
    "%matplotlib inline\n",
    "\n",
    "filename = objects.path_of(object_name = model_object_name, filename = \"validation/test_resized.jpg\")\n",
    "width = 800\n",
    "\n",
    "im = PIL.Image.open(filename_raw)\n",
    "\n",
    "aspect = im.size[0] / im.size[1]\n",
    "\n",
    "# https://stackoverflow.com/a/14351890/17619982\n",
    "im.thumbnail([width, int(width / aspect)], PIL.Image.LANCZOS)\n",
    "im.save(filename, \"JPEG\")\n",
    "\n",
    "plt.imshow(im)\n",
    "plt.show()"
   ]
  },
  {
   "cell_type": "code",
   "execution_count": 37,
   "metadata": {
    "tags": []
   },
   "outputs": [],
   "source": [
    "from PIL import Image\n",
    "import numpy as np\n",
    "\n",
    "\n",
    "class ImageDeserializer(sagemaker.deserializers.BaseDeserializer):\n",
    "    \"\"\"Deserialize a PIL-compatible stream of Image bytes into a numpy pixel array\"\"\"\n",
    "\n",
    "    def __init__(self, accept=\"image/png\"):\n",
    "        self.accept = accept\n",
    "\n",
    "    @property\n",
    "    def ACCEPT(self):\n",
    "        return (self.accept,)\n",
    "\n",
    "    def deserialize(self, stream, content_type):\n",
    "        \"\"\"Read a stream of bytes returned from an inference endpoint.\n",
    "        Args:\n",
    "            stream (botocore.response.StreamingBody): A stream of bytes.\n",
    "            content_type (str): The MIME type of the data.\n",
    "        Returns:\n",
    "            mask: The numpy array of class labels per pixel\n",
    "        \"\"\"\n",
    "        try:\n",
    "            return np.array(Image.open(stream))\n",
    "        finally:\n",
    "            stream.close()\n",
    "\n",
    "\n",
    "ss_predictor.deserializer = ImageDeserializer(accept=\"image/png\")"
   ]
  },
  {
   "cell_type": "code",
   "execution_count": 38,
   "metadata": {
    "tags": []
   },
   "outputs": [],
   "source": [
    "ss_predictor.serializer = sagemaker.serializers.IdentitySerializer(\"image/jpeg\")\n",
    "\n",
    "with open(filename, \"rb\") as imfile:\n",
    "    imbytes = imfile.read()\n",
    "\n",
    "# Extension exercise: Could you write a custom serializer which takes a filename as input instead?"
   ]
  },
  {
   "cell_type": "code",
   "execution_count": 39,
   "metadata": {
    "tags": []
   },
   "outputs": [
    {
     "name": "stderr",
     "output_type": "stream",
     "text": [
      "22 second(s) -> 1422x800:uint8: [ 0  1  2  3  4  5  7  8  9 10 11 12 13 14 15 19 20]\n"
     ]
    },
    {
     "data": {
      "image/png": "[encoded data removed]",
      "text/plain": [
       "<Figure size 640x480 with 1 Axes>"
      ]
     },
     "metadata": {},
     "output_type": "display_data"
    }
   ],
   "source": [
    "start_time = time.time()\n",
    "cls_mask = ss_predictor.predict(imbytes)\n",
    "elapsed_time = time.time() - start_time\n",
    "\n",
    "logger.info(\"{} -> {}: {}\".format(\n",
    "    string.pretty_duration(elapsed_time),\n",
    "    string.pretty_shape_of_matrix(cls_mask),\n",
    "    np.unique(cls_mask),\n",
    "))\n",
    "\n",
    "plt.imshow(cls_mask, cmap=\"jet\")\n",
    "plt.savefig(objects.path_of(object_name = model_object_name, filename = \"validation/output.jpg\"))\n",
    "plt.show()"
   ]
  },
  {
   "cell_type": "code",
   "execution_count": 41,
   "metadata": {},
   "outputs": [
    {
     "name": "stderr",
     "output_type": "stream",
     "text": [
      "Deleting endpoint configuration with name: sagesemseg-model-2024-02-04-18-38-44-12-2024-02-05-02-45-16-304\n",
      "Deleting endpoint with name: sagesemseg-model-2024-02-04-18-38-44-12-2024-02-05-02-45-16-304\n"
     ]
    }
   ],
   "source": [
    "# assert False\n",
    "ss_predictor.delete_endpoint()"
   ]
  },
  {
   "cell_type": "code",
   "execution_count": 40,
   "metadata": {},
   "outputs": [
    {
     "name": "stdout",
     "output_type": "stream",
     "text": [
      "\u001b[0;36m🔋 gpu: not found.\u001b[0m\n",
      "\u001b[0;36m🚀 abcli-7.2670.1.2023-06-aws-batch-a\u001b[0m\n",
      "\u001b[0;36mconfirmed: sagesemseg-model-2024-02-04-18-38-44-12308 does not exist.\u001b[0m\n",
      "\u001b[0;36msagesemseg-model-2024-02-04-18-38-44-12308 open upload started.\u001b[0m\n",
      "upload: ../../../../../storage/abcli/sagesemseg-model-2024-02-04-18-38-44-12308/validation/output.jpg to s3://kamangir/bolt/sagesemseg-model-2024-02-04-18-38-44-12308/validation/output.jpg\n",
      "upload: ../../../../../storage/abcli/sagesemseg-model-2024-02-04-18-38-44-12308/validation/test_resized.jpg to s3://kamangir/bolt/sagesemseg-model-2024-02-04-18-38-44-12308/validation/test_resized.jpg\n",
      "upload: ../../../../../storage/abcli/sagesemseg-model-2024-02-04-18-38-44-12308/validation/test.jpg to s3://kamangir/bolt/sagesemseg-model-2024-02-04-18-38-44-12308/validation/test.jpg\n"
     ]
    },
    {
     "name": "stderr",
     "output_type": "stream",
     "text": [
      "sagesemseg-model-2024-02-04-18-38-44-12308 += #open.\n"
     ]
    }
   ],
   "source": [
    "%%bash -s $model_object_name\n",
    "source ~/git/awesome-bash-cli/bash/abcli.sh in_notebook\n",
    "\n",
    "model_object_name=$1\n",
    "\n",
    "abcli_upload - $model_object_name"
   ]
  },
  {
   "cell_type": "code",
   "execution_count": 42,
   "metadata": {},
   "outputs": [],
   "source": [
    "# END"
   ]
  }
 ],
 "metadata": {
  "availableInstances": [
   {
    "_defaultOrder": 0,
    "_isFastLaunch": true,
    "category": "General purpose",
    "gpuNum": 0,
    "hideHardwareSpecs": false,
    "memoryGiB": 4,
    "name": "ml.t3.medium",
    "vcpuNum": 2
   },
   {
    "_defaultOrder": 1,
    "_isFastLaunch": false,
    "category": "General purpose",
    "gpuNum": 0,
    "hideHardwareSpecs": false,
    "memoryGiB": 8,
    "name": "ml.t3.large",
    "vcpuNum": 2
   },
   {
    "_defaultOrder": 2,
    "_isFastLaunch": false,
    "category": "General purpose",
    "gpuNum": 0,
    "hideHardwareSpecs": false,
    "memoryGiB": 16,
    "name": "ml.t3.xlarge",
    "vcpuNum": 4
   },
   {
    "_defaultOrder": 3,
    "_isFastLaunch": false,
    "category": "General purpose",
    "gpuNum": 0,
    "hideHardwareSpecs": false,
    "memoryGiB": 32,
    "name": "ml.t3.2xlarge",
    "vcpuNum": 8
   },
   {
    "_defaultOrder": 4,
    "_isFastLaunch": true,
    "category": "General purpose",
    "gpuNum": 0,
    "hideHardwareSpecs": false,
    "memoryGiB": 8,
    "name": "ml.m5.large",
    "vcpuNum": 2
   },
   {
    "_defaultOrder": 5,
    "_isFastLaunch": false,
    "category": "General purpose",
    "gpuNum": 0,
    "hideHardwareSpecs": false,
    "memoryGiB": 16,
    "name": "ml.m5.xlarge",
    "vcpuNum": 4
   },
   {
    "_defaultOrder": 6,
    "_isFastLaunch": false,
    "category": "General purpose",
    "gpuNum": 0,
    "hideHardwareSpecs": false,
    "memoryGiB": 32,
    "name": "ml.m5.2xlarge",
    "vcpuNum": 8
   },
   {
    "_defaultOrder": 7,
    "_isFastLaunch": false,
    "category": "General purpose",
    "gpuNum": 0,
    "hideHardwareSpecs": false,
    "memoryGiB": 64,
    "name": "ml.m5.4xlarge",
    "vcpuNum": 16
   },
   {
    "_defaultOrder": 8,
    "_isFastLaunch": false,
    "category": "General purpose",
    "gpuNum": 0,
    "hideHardwareSpecs": false,
    "memoryGiB": 128,
    "name": "ml.m5.8xlarge",
    "vcpuNum": 32
   },
   {
    "_defaultOrder": 9,
    "_isFastLaunch": false,
    "category": "General purpose",
    "gpuNum": 0,
    "hideHardwareSpecs": false,
    "memoryGiB": 192,
    "name": "ml.m5.12xlarge",
    "vcpuNum": 48
   },
   {
    "_defaultOrder": 10,
    "_isFastLaunch": false,
    "category": "General purpose",
    "gpuNum": 0,
    "hideHardwareSpecs": false,
    "memoryGiB": 256,
    "name": "ml.m5.16xlarge",
    "vcpuNum": 64
   },
   {
    "_defaultOrder": 11,
    "_isFastLaunch": false,
    "category": "General purpose",
    "gpuNum": 0,
    "hideHardwareSpecs": false,
    "memoryGiB": 384,
    "name": "ml.m5.24xlarge",
    "vcpuNum": 96
   },
   {
    "_defaultOrder": 12,
    "_isFastLaunch": false,
    "category": "General purpose",
    "gpuNum": 0,
    "hideHardwareSpecs": false,
    "memoryGiB": 8,
    "name": "ml.m5d.large",
    "vcpuNum": 2
   },
   {
    "_defaultOrder": 13,
    "_isFastLaunch": false,
    "category": "General purpose",
    "gpuNum": 0,
    "hideHardwareSpecs": false,
    "memoryGiB": 16,
    "name": "ml.m5d.xlarge",
    "vcpuNum": 4
   },
   {
    "_defaultOrder": 14,
    "_isFastLaunch": false,
    "category": "General purpose",
    "gpuNum": 0,
    "hideHardwareSpecs": false,
    "memoryGiB": 32,
    "name": "ml.m5d.2xlarge",
    "vcpuNum": 8
   },
   {
    "_defaultOrder": 15,
    "_isFastLaunch": false,
    "category": "General purpose",
    "gpuNum": 0,
    "hideHardwareSpecs": false,
    "memoryGiB": 64,
    "name": "ml.m5d.4xlarge",
    "vcpuNum": 16
   },
   {
    "_defaultOrder": 16,
    "_isFastLaunch": false,
    "category": "General purpose",
    "gpuNum": 0,
    "hideHardwareSpecs": false,
    "memoryGiB": 128,
    "name": "ml.m5d.8xlarge",
    "vcpuNum": 32
   },
   {
    "_defaultOrder": 17,
    "_isFastLaunch": false,
    "category": "General purpose",
    "gpuNum": 0,
    "hideHardwareSpecs": false,
    "memoryGiB": 192,
    "name": "ml.m5d.12xlarge",
    "vcpuNum": 48
   },
   {
    "_defaultOrder": 18,
    "_isFastLaunch": false,
    "category": "General purpose",
    "gpuNum": 0,
    "hideHardwareSpecs": false,
    "memoryGiB": 256,
    "name": "ml.m5d.16xlarge",
    "vcpuNum": 64
   },
   {
    "_defaultOrder": 19,
    "_isFastLaunch": false,
    "category": "General purpose",
    "gpuNum": 0,
    "hideHardwareSpecs": false,
    "memoryGiB": 384,
    "name": "ml.m5d.24xlarge",
    "vcpuNum": 96
   },
   {
    "_defaultOrder": 20,
    "_isFastLaunch": false,
    "category": "General purpose",
    "gpuNum": 0,
    "hideHardwareSpecs": true,
    "memoryGiB": 0,
    "name": "ml.geospatial.interactive",
    "supportedImageNames": [
     "sagemaker-geospatial-v1-0"
    ],
    "vcpuNum": 0
   },
   {
    "_defaultOrder": 21,
    "_isFastLaunch": true,
    "category": "Compute optimized",
    "gpuNum": 0,
    "hideHardwareSpecs": false,
    "memoryGiB": 4,
    "name": "ml.c5.large",
    "vcpuNum": 2
   },
   {
    "_defaultOrder": 22,
    "_isFastLaunch": false,
    "category": "Compute optimized",
    "gpuNum": 0,
    "hideHardwareSpecs": false,
    "memoryGiB": 8,
    "name": "ml.c5.xlarge",
    "vcpuNum": 4
   },
   {
    "_defaultOrder": 23,
    "_isFastLaunch": false,
    "category": "Compute optimized",
    "gpuNum": 0,
    "hideHardwareSpecs": false,
    "memoryGiB": 16,
    "name": "ml.c5.2xlarge",
    "vcpuNum": 8
   },
   {
    "_defaultOrder": 24,
    "_isFastLaunch": false,
    "category": "Compute optimized",
    "gpuNum": 0,
    "hideHardwareSpecs": false,
    "memoryGiB": 32,
    "name": "ml.c5.4xlarge",
    "vcpuNum": 16
   },
   {
    "_defaultOrder": 25,
    "_isFastLaunch": false,
    "category": "Compute optimized",
    "gpuNum": 0,
    "hideHardwareSpecs": false,
    "memoryGiB": 72,
    "name": "ml.c5.9xlarge",
    "vcpuNum": 36
   },
   {
    "_defaultOrder": 26,
    "_isFastLaunch": false,
    "category": "Compute optimized",
    "gpuNum": 0,
    "hideHardwareSpecs": false,
    "memoryGiB": 96,
    "name": "ml.c5.12xlarge",
    "vcpuNum": 48
   },
   {
    "_defaultOrder": 27,
    "_isFastLaunch": false,
    "category": "Compute optimized",
    "gpuNum": 0,
    "hideHardwareSpecs": false,
    "memoryGiB": 144,
    "name": "ml.c5.18xlarge",
    "vcpuNum": 72
   },
   {
    "_defaultOrder": 28,
    "_isFastLaunch": false,
    "category": "Compute optimized",
    "gpuNum": 0,
    "hideHardwareSpecs": false,
    "memoryGiB": 192,
    "name": "ml.c5.24xlarge",
    "vcpuNum": 96
   },
   {
    "_defaultOrder": 29,
    "_isFastLaunch": true,
    "category": "Accelerated computing",
    "gpuNum": 1,
    "hideHardwareSpecs": false,
    "memoryGiB": 16,
    "name": "ml.g4dn.xlarge",
    "vcpuNum": 4
   },
   {
    "_defaultOrder": 30,
    "_isFastLaunch": false,
    "category": "Accelerated computing",
    "gpuNum": 1,
    "hideHardwareSpecs": false,
    "memoryGiB": 32,
    "name": "ml.g4dn.2xlarge",
    "vcpuNum": 8
   },
   {
    "_defaultOrder": 31,
    "_isFastLaunch": false,
    "category": "Accelerated computing",
    "gpuNum": 1,
    "hideHardwareSpecs": false,
    "memoryGiB": 64,
    "name": "ml.g4dn.4xlarge",
    "vcpuNum": 16
   },
   {
    "_defaultOrder": 32,
    "_isFastLaunch": false,
    "category": "Accelerated computing",
    "gpuNum": 1,
    "hideHardwareSpecs": false,
    "memoryGiB": 128,
    "name": "ml.g4dn.8xlarge",
    "vcpuNum": 32
   },
   {
    "_defaultOrder": 33,
    "_isFastLaunch": false,
    "category": "Accelerated computing",
    "gpuNum": 4,
    "hideHardwareSpecs": false,
    "memoryGiB": 192,
    "name": "ml.g4dn.12xlarge",
    "vcpuNum": 48
   },
   {
    "_defaultOrder": 34,
    "_isFastLaunch": false,
    "category": "Accelerated computing",
    "gpuNum": 1,
    "hideHardwareSpecs": false,
    "memoryGiB": 256,
    "name": "ml.g4dn.16xlarge",
    "vcpuNum": 64
   },
   {
    "_defaultOrder": 35,
    "_isFastLaunch": false,
    "category": "Accelerated computing",
    "gpuNum": 1,
    "hideHardwareSpecs": false,
    "memoryGiB": 61,
    "name": "ml.p3.2xlarge",
    "vcpuNum": 8
   },
   {
    "_defaultOrder": 36,
    "_isFastLaunch": false,
    "category": "Accelerated computing",
    "gpuNum": 4,
    "hideHardwareSpecs": false,
    "memoryGiB": 244,
    "name": "ml.p3.8xlarge",
    "vcpuNum": 32
   },
   {
    "_defaultOrder": 37,
    "_isFastLaunch": false,
    "category": "Accelerated computing",
    "gpuNum": 8,
    "hideHardwareSpecs": false,
    "memoryGiB": 488,
    "name": "ml.p3.16xlarge",
    "vcpuNum": 64
   },
   {
    "_defaultOrder": 38,
    "_isFastLaunch": false,
    "category": "Accelerated computing",
    "gpuNum": 8,
    "hideHardwareSpecs": false,
    "memoryGiB": 768,
    "name": "ml.p3dn.24xlarge",
    "vcpuNum": 96
   },
   {
    "_defaultOrder": 39,
    "_isFastLaunch": false,
    "category": "Memory Optimized",
    "gpuNum": 0,
    "hideHardwareSpecs": false,
    "memoryGiB": 16,
    "name": "ml.r5.large",
    "vcpuNum": 2
   },
   {
    "_defaultOrder": 40,
    "_isFastLaunch": false,
    "category": "Memory Optimized",
    "gpuNum": 0,
    "hideHardwareSpecs": false,
    "memoryGiB": 32,
    "name": "ml.r5.xlarge",
    "vcpuNum": 4
   },
   {
    "_defaultOrder": 41,
    "_isFastLaunch": false,
    "category": "Memory Optimized",
    "gpuNum": 0,
    "hideHardwareSpecs": false,
    "memoryGiB": 64,
    "name": "ml.r5.2xlarge",
    "vcpuNum": 8
   },
   {
    "_defaultOrder": 42,
    "_isFastLaunch": false,
    "category": "Memory Optimized",
    "gpuNum": 0,
    "hideHardwareSpecs": false,
    "memoryGiB": 128,
    "name": "ml.r5.4xlarge",
    "vcpuNum": 16
   },
   {
    "_defaultOrder": 43,
    "_isFastLaunch": false,
    "category": "Memory Optimized",
    "gpuNum": 0,
    "hideHardwareSpecs": false,
    "memoryGiB": 256,
    "name": "ml.r5.8xlarge",
    "vcpuNum": 32
   },
   {
    "_defaultOrder": 44,
    "_isFastLaunch": false,
    "category": "Memory Optimized",
    "gpuNum": 0,
    "hideHardwareSpecs": false,
    "memoryGiB": 384,
    "name": "ml.r5.12xlarge",
    "vcpuNum": 48
   },
   {
    "_defaultOrder": 45,
    "_isFastLaunch": false,
    "category": "Memory Optimized",
    "gpuNum": 0,
    "hideHardwareSpecs": false,
    "memoryGiB": 512,
    "name": "ml.r5.16xlarge",
    "vcpuNum": 64
   },
   {
    "_defaultOrder": 46,
    "_isFastLaunch": false,
    "category": "Memory Optimized",
    "gpuNum": 0,
    "hideHardwareSpecs": false,
    "memoryGiB": 768,
    "name": "ml.r5.24xlarge",
    "vcpuNum": 96
   },
   {
    "_defaultOrder": 47,
    "_isFastLaunch": false,
    "category": "Accelerated computing",
    "gpuNum": 1,
    "hideHardwareSpecs": false,
    "memoryGiB": 16,
    "name": "ml.g5.xlarge",
    "vcpuNum": 4
   },
   {
    "_defaultOrder": 48,
    "_isFastLaunch": false,
    "category": "Accelerated computing",
    "gpuNum": 1,
    "hideHardwareSpecs": false,
    "memoryGiB": 32,
    "name": "ml.g5.2xlarge",
    "vcpuNum": 8
   },
   {
    "_defaultOrder": 49,
    "_isFastLaunch": false,
    "category": "Accelerated computing",
    "gpuNum": 1,
    "hideHardwareSpecs": false,
    "memoryGiB": 64,
    "name": "ml.g5.4xlarge",
    "vcpuNum": 16
   },
   {
    "_defaultOrder": 50,
    "_isFastLaunch": false,
    "category": "Accelerated computing",
    "gpuNum": 1,
    "hideHardwareSpecs": false,
    "memoryGiB": 128,
    "name": "ml.g5.8xlarge",
    "vcpuNum": 32
   },
   {
    "_defaultOrder": 51,
    "_isFastLaunch": false,
    "category": "Accelerated computing",
    "gpuNum": 1,
    "hideHardwareSpecs": false,
    "memoryGiB": 256,
    "name": "ml.g5.16xlarge",
    "vcpuNum": 64
   },
   {
    "_defaultOrder": 52,
    "_isFastLaunch": false,
    "category": "Accelerated computing",
    "gpuNum": 4,
    "hideHardwareSpecs": false,
    "memoryGiB": 192,
    "name": "ml.g5.12xlarge",
    "vcpuNum": 48
   },
   {
    "_defaultOrder": 53,
    "_isFastLaunch": false,
    "category": "Accelerated computing",
    "gpuNum": 4,
    "hideHardwareSpecs": false,
    "memoryGiB": 384,
    "name": "ml.g5.24xlarge",
    "vcpuNum": 96
   },
   {
    "_defaultOrder": 54,
    "_isFastLaunch": false,
    "category": "Accelerated computing",
    "gpuNum": 8,
    "hideHardwareSpecs": false,
    "memoryGiB": 768,
    "name": "ml.g5.48xlarge",
    "vcpuNum": 192
   },
   {
    "_defaultOrder": 55,
    "_isFastLaunch": false,
    "category": "Accelerated computing",
    "gpuNum": 8,
    "hideHardwareSpecs": false,
    "memoryGiB": 1152,
    "name": "ml.p4d.24xlarge",
    "vcpuNum": 96
   },
   {
    "_defaultOrder": 56,
    "_isFastLaunch": false,
    "category": "Accelerated computing",
    "gpuNum": 8,
    "hideHardwareSpecs": false,
    "memoryGiB": 1152,
    "name": "ml.p4de.24xlarge",
    "vcpuNum": 96
   },
   {
    "_defaultOrder": 57,
    "_isFastLaunch": false,
    "category": "Accelerated computing",
    "gpuNum": 0,
    "hideHardwareSpecs": false,
    "memoryGiB": 32,
    "name": "ml.trn1.2xlarge",
    "vcpuNum": 8
   },
   {
    "_defaultOrder": 58,
    "_isFastLaunch": false,
    "category": "Accelerated computing",
    "gpuNum": 0,
    "hideHardwareSpecs": false,
    "memoryGiB": 512,
    "name": "ml.trn1.32xlarge",
    "vcpuNum": 128
   },
   {
    "_defaultOrder": 59,
    "_isFastLaunch": false,
    "category": "Accelerated computing",
    "gpuNum": 0,
    "hideHardwareSpecs": false,
    "memoryGiB": 512,
    "name": "ml.trn1n.32xlarge",
    "vcpuNum": 128
   }
  ],
  "instance_type": "ml.g4dn.xlarge",
  "kernelspec": {
   "display_name": "Python 3",
   "language": "python",
   "name": "python3"
  },
  "language_info": {
   "codemirror_mode": {
    "name": "ipython",
    "version": 3
   },
   "file_extension": ".py",
   "mimetype": "text/x-python",
   "name": "python",
   "nbconvert_exporter": "python",
   "pygments_lexer": "ipython3",
   "version": "3.11.7"
  }
 },
 "nbformat": 4,
 "nbformat_minor": 4
}
