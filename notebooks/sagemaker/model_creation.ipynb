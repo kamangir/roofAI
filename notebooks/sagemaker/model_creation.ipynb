{
    "cells": [
        {
            "attachments": {},
            "cell_type": "markdown",
            "metadata": {},
            "source": [
                "# model creation (using API)\n",
                "\n",
                "https://docs.aws.amazon.com/sagemaker/latest/dg/serverless-endpoints-create.html"
            ]
        },
        {
            "cell_type": "code",
            "execution_count": null,
            "metadata": {},
            "outputs": [],
            "source": [
                "# !pip3 install sagemaker\n",
                "#!pip3 install --upgrade botocore"
            ]
        },
        {
            "cell_type": "code",
            "execution_count": null,
            "metadata": {},
            "outputs": [],
            "source": [
                "from abcli import fullname\n",
                "from abcli import string\n",
                "\n",
                "import abcli.logging\n",
                "import logging\n",
                "\n",
                "logger = logging.getLogger()\n",
                "\n",
                "logger.info(f\"{fullname()}, built on {string.pretty_date()}\")"
            ]
        },
        {
            "attachments": {},
            "cell_type": "markdown",
            "metadata": {},
            "source": [
                "---"
            ]
        },
        {
            "cell_type": "code",
            "execution_count": null,
            "metadata": {},
            "outputs": [],
            "source": [
                "#Setup\n",
                "import boto3\n",
                "import sagemaker\n",
                "region = boto3.Session().region_name\n",
                "client = boto3.client(\"sagemaker\", region_name=region)\n",
                "\n",
                "#Role to give SageMaker permission to access AWS services.\n",
                "sagemaker_role = sagemaker.get_execution_role()\n",
                "\n",
                "#Get model from S3\n",
                "model_url = \"s3://DOC-EXAMPLE-BUCKET/models/model.tar.gz\"\n",
                "\n",
                "#Get container image (prebuilt example)\n",
                "from sagemaker import image_uris\n",
                "container = image_uris.retrieve(\"xgboost\", region, \"0.90-1\")\n",
                "\n",
                "#Create model\n",
                "model_name = \"<name-for-model>\"\n",
                "\n",
                "response = client.create_model(\n",
                "    ModelName = model_name,\n",
                "    ExecutionRoleArn = sagemaker_role,\n",
                "    Containers = [{\n",
                "        \"Image\": container,\n",
                "        \"Mode\": \"SingleModel\",\n",
                "        \"ModelDataUrl\": model_url,\n",
                "    }]\n",
                ")"
            ]
        },
        {
            "attachments": {},
            "cell_type": "markdown",
            "metadata": {},
            "source": [
                "---"
            ]
        },
        {
            "cell_type": "code",
            "execution_count": null,
            "metadata": {},
            "outputs": [],
            "source": [
                "# END"
            ]
        }
    ],
    "metadata": {
        "kernelspec": {
            "display_name": "Python 3 (ipykernel)",
            "language": "python",
            "name": "python3"
        },
        "language_info": {
            "codemirror_mode": {
                "name": "ipython",
                "version": 3
            },
            "file_extension": ".py",
            "mimetype": "text/x-python",
            "name": "python",
            "nbconvert_exporter": "python",
            "pygments_lexer": "ipython3",
            "version": "3.11.5"
        },
        "toc": {
            "base_numbering": 1,
            "nav_menu": {},
            "number_sections": true,
            "sideBar": true,
            "skip_h1_title": false,
            "title_cell": "Table of Contents",
            "title_sidebar": "Contents",
            "toc_cell": false,
            "toc_position": {},
            "toc_section_display": true,
            "toc_window_display": false
        }
    },
    "nbformat": 4,
    "nbformat_minor": 2
}
