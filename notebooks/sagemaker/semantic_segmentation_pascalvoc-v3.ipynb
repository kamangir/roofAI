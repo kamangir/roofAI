{
 "cells": [
  {
   "cell_type": "markdown",
   "metadata": {},
   "source": [
    "# Amazon SageMaker Semantic Segmentation Algorithm - v3.1\n"
   ]
  },
  {
   "cell_type": "code",
   "execution_count": 2,
   "metadata": {
    "tags": []
   },
   "outputs": [],
   "source": [
    "#! cd ~/git/awesome-bash-cli; pip3 install -e ."
   ]
  },
  {
   "cell_type": "code",
   "execution_count": 3,
   "metadata": {
    "tags": []
   },
   "outputs": [],
   "source": [
    "import os\n",
    "os.environ[\"abcli_path_bash\"] = \"{}/git/awesome-bash-cli/bash\".format(os.getenv(\"HOME\"))"
   ]
  },
  {
   "cell_type": "code",
   "execution_count": 4,
   "metadata": {
    "tags": []
   },
   "outputs": [
    {
     "name": "stderr",
     "output_type": "stream",
     "text": [
      "abcli-7.2670.1-unknown, built on 31 January 2024, 20:01:12\n"
     ]
    }
   ],
   "source": [
    "from abcli import file\n",
    "from abcli import fullname\n",
    "from abcli import string\n",
    "from abcli.modules import objects\n",
    "from roofAI.logger import logger\n",
    "\n",
    "logger.info(f\"{fullname()}, built on {string.pretty_date()}\")"
   ]
  },
  {
   "cell_type": "markdown",
   "metadata": {},
   "source": [
    "---\n",
    "\n",
    "This notebook's CI test result for us-west-2 is as follows. CI test results in other regions can be found at the end of the notebook. \n",
    "\n",
    "![This us-west-2 badge failed to load. Check your device's internet connectivity, otherwise the service is currently unavailable](https://prod.us-west-2.tcx-beacon.docs.aws.dev/sagemaker-nb/us-west-2/introduction_to_amazon_algorithms|semantic_segmentation_pascalvoc|semantic_segmentation_pascalvoc.ipynb)\n",
    "\n",
    "---"
   ]
  },
  {
   "cell_type": "markdown",
   "metadata": {},
   "source": [
    "\n",
    "1. [Introduction](#Introduction)\n",
    "2. [Setup](#Setup)\n",
    "3. [Data Preparation](#Data-Preparation)\n",
    "  1. [Download data](#Download-data)\n",
    "  2. [Setup data](#Setup-data)\n",
    "  3. [Upload to S3](#Upload-to-S3)\n",
    "4. [Training](#Training)\n",
    "5. [Deployment](#Deployment)\n",
    "6. [Inference](#Inference)\n",
    "\n",
    "## Introduction\n",
    "\n",
    "Semantic Segmentation (SS) is the task of classifying every pixel in an image with a class from a known set of labels. In contrast, [image classification](https://sagemaker-examples.readthedocs.io/en/latest/introduction_to_amazon_algorithms/imageclassification_caltech/Image-classification-fulltraining-highlevel.html) generates only one label per image and [object detection](https://sagemaker-examples.readthedocs.io/en/latest/introduction_to_amazon_algorithms/object_detection_birds/object_detection_birds.html) generates a bounding box along with the label for each object in the image. The semantic segmentation output is usually represented as different pixel values in the image. Therefore, the output is an integer matrix (or a grayscale image) with the same shape as the input image. This output image is also called a segmentation mask. With the Amazon SageMaker Semantic Segmentation algorithm, not only can you train your models with your own dataset but also use our pre-trained models for lazy initialization.\n",
    "\n",
    "This notebook is an end-to-end example introducing the Amazon SageMaker Semantic Segmentation algorithm. In this demo, we will demonstrate how to train and host a semantic segmentation model using the fully-convolutional network ([FCN](https://arxiv.org/abs/1605.06211)) algorithm using the [Pascal VOC dataset](http://host.robots.ox.ac.uk/pascal/VOC/) for training. Amazon SageMaker Semantic Segmentation also provides the option of using Pyramid Scene Parsing Network ([PSP](https://arxiv.org/abs/1612.01105)) and [Deeplab-v3](https://arxiv.org/abs/1706.05587) in addition to the FCN Network. Along the way, we will also demonstrate how to construct a training dataset in the format that the training job will consume. Finally, we will demonstrate how to host and validate the trained model.\n",
    "\n",
    "## Setup\n",
    "\n",
    "This notebook has been updated for [SageMaker SDK](https://sagemaker.readthedocs.io/en/stable/) (`sagemaker`) **version 2** - which introduces some breaking changes from the v1 API. See the [migration guide](https://sagemaker.readthedocs.io/en/stable/v2.html) for details.\n",
    "\n",
    "In this first cell we'll upgrade the SageMaker SDK installation if needed, before we `import sagemaker`. You can skip this cell if your environment as already up-to-date:"
   ]
  },
  {
   "cell_type": "code",
   "execution_count": 5,
   "metadata": {
    "tags": []
   },
   "outputs": [],
   "source": [
    "#!pip install 'sagemaker>=2,<3'"
   ]
  },
  {
   "cell_type": "markdown",
   "metadata": {},
   "source": [
    "To train the Semantic Segmentation algorithm on Amazon SageMaker, we need to setup and authenticate the use of AWS services. To begin with, we need an AWS account role with SageMaker access. This role that is used to give SageMaker access to your data in S3 can automatically be obtained from the role used to start the notebook."
   ]
  },
  {
   "cell_type": "code",
   "execution_count": 6,
   "metadata": {
    "tags": []
   },
   "outputs": [],
   "source": [
    "# https://github.com/aws/sagemaker-python-sdk/issues/300#issuecomment-1431539831\n",
    "sagemaker_role = \"arn:aws:iam::120429650996:role/service-role/AmazonSageMaker-ExecutionRole-20231022T170206\""
   ]
  },
  {
   "cell_type": "code",
   "execution_count": 7,
   "metadata": {
    "tags": []
   },
   "outputs": [
    {
     "name": "stderr",
     "output_type": "stream",
     "text": [
      "role: arn:aws:iam::120429650996:role/service-role/AmazonSageMaker-ExecutionRole-20240108T180012\n"
     ]
    },
    {
     "name": "stdout",
     "output_type": "stream",
     "text": [
      "CPU times: user 617 ms, sys: 52.6 ms, total: 670 ms\n",
      "Wall time: 748 ms\n"
     ]
    }
   ],
   "source": [
    "%%time\n",
    "import sagemaker\n",
    "from sagemaker import get_execution_role\n",
    "\n",
    "try:\n",
    "    role = get_execution_role()\n",
    "except:\n",
    "    role = sagemaker_role\n",
    "logger.info(f\"role: {role}\")\n",
    "\n",
    "sess = sagemaker.Session()"
   ]
  },
  {
   "cell_type": "markdown",
   "metadata": {},
   "source": [
    "We also need the S3 bucket that is used to store training data and the trained model artifacts. In this notebook, we use the default bucket that comes with Sagemaker. However, you can also create a bucket and use that bucket instead."
   ]
  },
  {
   "cell_type": "code",
   "execution_count": 8,
   "metadata": {
    "tags": []
   },
   "outputs": [
    {
     "name": "stderr",
     "output_type": "stream",
     "text": [
      "training on kamangir/bolt/pascal-voc-v1-full-v2\n"
     ]
    }
   ],
   "source": [
    "dataset_object_name = \"pascal-voc-v1-full-v2\"\n",
    "\n",
    "if False:\n",
    "    bucket, prefix = sess.default_bucket(), \"semantic-segmentation-demo\"\n",
    "else:\n",
    "    bucket, prefix = \"kamangir\", f\"bolt/{dataset_object_name}\"\n",
    "\n",
    "logger.info(f\"training on {bucket}/{prefix}\")"
   ]
  },
  {
   "cell_type": "code",
   "execution_count": 9,
   "metadata": {
    "tags": []
   },
   "outputs": [],
   "source": [
    "metadata_filename = objects.path_of(object_name = dataset_object_name, filename = \"metadata.yaml\")\n",
    "success, metadata = file.load_yaml(metadata_filename)\n",
    "assert success"
   ]
  },
  {
   "cell_type": "markdown",
   "metadata": {},
   "source": [
    "Lastly, we need the location of the Amazon SageMaker Semantic Segmentaion algorithm's docker image, which the SDK can look up for us."
   ]
  },
  {
   "cell_type": "code",
   "execution_count": 10,
   "metadata": {
    "tags": []
   },
   "outputs": [
    {
     "name": "stderr",
     "output_type": "stream",
     "text": [
      "Same images used for training and inference. Defaulting to image scope: inference.\n",
      "Defaulting to the only supported framework/algorithm version: 1.\n",
      "Ignoring unnecessary instance type: None.\n",
      "469771592824.dkr.ecr.ca-central-1.amazonaws.com/semantic-segmentation:1\n"
     ]
    }
   ],
   "source": [
    "training_image = sagemaker.image_uris.retrieve(\"semantic-segmentation\", sess.boto_region_name)\n",
    "logger.info(training_image)"
   ]
  },
  {
   "cell_type": "markdown",
   "metadata": {},
   "source": [
    "## Data Preparation\n",
    "[Pascal VOC](http://host.robots.ox.ac.uk/pascal/VOC/) is a popular computer vision dataset which is used for annual semantic segmentation challenges from 2005 to 2012. The dataset has 1464 training and 1449 validation images with 21 classes. Examples of the segmentation dataset can be seen in the [Pascal VOC Dataset page](http://host.robots.ox.ac.uk/pascal/VOC/voc2012/segexamples/index.html). The classes are as follows:\n",
    "\n",
    "| Label Id |     Class     |\n",
    "|:--------:|:-------------:|\n",
    "|     0    |   Background  |\n",
    "|     1    |   Aeroplane   |\n",
    "|     2    |    Bicycle    |\n",
    "|     3    |      Bird     |\n",
    "|     4    |      Boat     |\n",
    "|    5     |     Bottle    |\n",
    "|     6    |      Bus      |\n",
    "|     7    |      Car      |\n",
    "|     8    |      Cat      |\n",
    "|     9    |     Chair     |\n",
    "|    10    |      Cow      |\n",
    "|    11    |  Dining Table |\n",
    "|    12    |      Dog      |\n",
    "|    13    |     Horse     |\n",
    "|    14    |   Motorbike   |\n",
    "|    15    |     Person    |\n",
    "|    16    |  Potted Plant |\n",
    "|    17    |     Sheep     |\n",
    "|    18    |      Sofa     |\n",
    "|    19    |     Train     |\n",
    "|    20    |  TV / Monitor |\n",
    "|    255   | Hole / Ignore |\n",
    "\n",
    "In this notebook, we will use the data sets from 2012. While using the Pascal VOC dataset, please be aware of the  usage rights:\n",
    "\"The VOC data includes images obtained from the \"flickr\" website. Use of these images must respect the corresponding terms of use: \n",
    "* \"flickr\" terms of use (https://www.flickr.com/help/terms)\""
   ]
  },
  {
   "cell_type": "markdown",
   "metadata": {},
   "source": [
    "### Download data\n",
    "Let us download the Pascal VOC 2012 datasets.\n",
    "\n",
    "If this notebook was run before, you may have downloaded some data and set the files up already - in which case you can skip over this section and don't need to run it all over again.\n",
    "\n",
    "If you'd like to **clear** previously downloaded data before re-downloading, *un-comment* the cell below and run it first."
   ]
  },
  {
   "cell_type": "markdown",
   "metadata": {},
   "source": [
    "You can find the Pascal VOC 2012 dataset homepage (including downloads) at http://host.robots.ox.ac.uk/pascal/VOC/voc2012/\n",
    "\n",
    "Here though, we'll use the [combined VOC2007+2012 archive from FastAI](https://registry.opendata.aws/fast-ai-imagelocal/) listed on the [AWS Open Data Registry](https://aws.amazon.com/opendata/): (and extract only the `VOC2012` folder) ...because even though the overall size is larger, the download is often faster."
   ]
  },
  {
   "cell_type": "markdown",
   "metadata": {},
   "source": [
    "### Setup data \n",
    "\n",
    "-> [`sagesemseg/dataset.py`](../../../notebooks_and_scripts/sagesemseg/dataset.py)\n",
    "\n",
    "```bash\n",
    "sagesemseg upload_dataset help\n",
    "```\n",
    "\n",
    "---"
   ]
  },
  {
   "cell_type": "markdown",
   "metadata": {},
   "source": [
    "Next we need to set up an output location in S3, where the outputs of the training job (including model artifact) will be stored.\n",
    "\n",
    "We'll use another folder in the same S3 bucket:"
   ]
  },
  {
   "cell_type": "code",
   "execution_count": 11,
   "metadata": {
    "tags": []
   },
   "outputs": [
    {
     "name": "stdout",
     "output_type": "stream",
     "text": [
      "s3://kamangir/bolt/pascal-voc-v1-full-v2/output\n"
     ]
    }
   ],
   "source": [
    "s3_output_location = \"s3://{}/{}/output\".format(bucket, prefix)\n",
    "print(s3_output_location)"
   ]
  },
  {
   "cell_type": "markdown",
   "metadata": {},
   "source": [
    "## Training\n",
    "\n",
    "Now we are ready to train our segmentation algorithm. To begin, let us create a `sageMaker.estimator.Estimator` object, specifying the image of the *Semantic Segmentation* algorithm container.\n",
    "\n",
    "Here we'll also configure the base training job name (a timestamp will be appended when the job starts), and the infrastructure the training should run on (a GPU-accelerated `ml.p3.2xlarge` to keep our job nice and fast).\n",
    "\n",
    "We'll use this Estimator later to actually start the training job in SageMaker."
   ]
  },
  {
   "cell_type": "code",
   "execution_count": 12,
   "metadata": {
    "tags": []
   },
   "outputs": [],
   "source": [
    "ss_estimator = sagemaker.estimator.Estimator(\n",
    "    training_image,  # Container image URI\n",
    "    role,  # Training job execution role with permissions to access our S3 bucket\n",
    "    instance_count=1,\n",
    "    instance_type=\"ml.p3.2xlarge\",\n",
    "    volume_size=50,  # in GB\n",
    "    max_run=360000,  # in seconds\n",
    "    output_path=s3_output_location,\n",
    "    base_job_name=\"ss-notebook-demo\",\n",
    "    sagemaker_session=sess,\n",
    ")"
   ]
  },
  {
   "cell_type": "code",
   "execution_count": 13,
   "metadata": {
    "tags": []
   },
   "outputs": [],
   "source": [
    "# Note: You can also 'attach' to a previously completed training job if, for example, you had to re-start the\n",
    "# notebook and would like to skip straight to `ss_estimator.deploy()` later on:\n",
    "\n",
    "# ss_estimator = sagemaker.estimator.Estimator.attach(\"ss-notebook-demo-2020-10-29-07-05-36-516\")"
   ]
  },
  {
   "cell_type": "markdown",
   "metadata": {},
   "source": [
    "The semantic segmentation algorithm at its core has two components.\n",
    "\n",
    "- An encoder or backbone network,\n",
    "- A decoder or algorithm network. \n",
    "\n",
    "The encoder or backbone network is typically a regular convolutional neural network that may or may not have had their layers pre-trained on an alternate task such as the [classification task of ImageNet images](http://www.image-net.org/). The Amazon SageMaker Semantic Segmentation algorithm comes with two choices of pre-trained or to be trained-from-scratch backbone networks ([ResNets](https://arxiv.org/abs/1512.03385) 50 or 101). \n",
    "\n",
    "The decoder is a network that picks up the outputs of one or many layers from the backbone and reconstructs the segmentation mask from it. Amazon SageMaker Semantic Segmentation algorithm comes with a choice of the [Fully-convolutional network (FCN)](https://arxiv.org/abs/1605.06211) or the [Pyramid scene parsing (PSP) network](https://arxiv.org/abs/1612.01105).\n",
    "\n",
    "The algorithm also has ample options for hyperparameters that help configure the training job. The next step in our training, is to setup these networks and hyperparameters along with data channels for training the model. Consider the following example definition of hyperparameters. See the SageMaker Semantic Segmentation [documentation](https://docs.aws.amazon.com/sagemaker/latest/dg/semantic-segmentation.html) for more details on the hyperparameters.\n",
    "\n",
    "One of the hyperparameters here for instance is the `epochs`. This defines how many passes of the dataset we iterate over and determines that training time of the algorithm. For the sake of demonstration let us run only `10` epochs. Based on our tests, train the model for `30` epochs with similar settings should give us 'reasonable' segmentation results on the Pascal VOC data. For the most part, we will stick to using the simplest of settings. For more information on the hyperparameters of this algorithm, refer to the [documentation](https://docs.aws.amazon.com/sagemaker/latest/dg/segmentation-hyperparameters.html)."
   ]
  },
  {
   "cell_type": "code",
   "execution_count": 14,
   "metadata": {
    "tags": []
   },
   "outputs": [],
   "source": [
    "# Setup hyperparameters\n",
    "ss_estimator.set_hyperparameters(\n",
    "    backbone=\"resnet-50\",  # This is the encoder. Other option is resnet-101\n",
    "    algorithm=\"fcn\",  # This is the decoder. Other options are 'psp' and 'deeplab'\n",
    "    use_pretrained_model=\"True\",  # Use the pre-trained model.\n",
    "    crop_size=240,  # Size of image random crop.\n",
    "    num_classes=21,  # Pascal has 21 classes. This is a mandatory parameter.\n",
    "    epochs=10,  # Number of epochs to run.\n",
    "    learning_rate=0.0001,\n",
    "    optimizer=\"rmsprop\",  # Other options include 'adam', 'rmsprop', 'nag', 'adagrad'.\n",
    "    lr_scheduler=\"poly\",  # Other options include 'cosine' and 'step'.\n",
    "    mini_batch_size=16,  # Setup some mini batch size.\n",
    "    validation_mini_batch_size=16,\n",
    "    early_stopping=True,  # Turn on early stopping. If OFF, other early stopping parameters are ignored.\n",
    "    early_stopping_patience=2,  # Tolerate these many epochs if the mIoU doens't increase.\n",
    "    early_stopping_min_epochs=10,  # No matter what, run these many number of epochs.\n",
    "    num_training_samples=metadata[\"num\"][\"train\"], # num_training_samples,  # This is a mandatory parameter, 1464 in this case.\n",
    ")"
   ]
  },
  {
   "cell_type": "markdown",
   "metadata": {},
   "source": [
    "Next let us define the input data \"channels\" for training - as defined for this algorithm in the [documentation](https://docs.aws.amazon.com/sagemaker/latest/dg/semantic-segmentation.html).\n",
    "\n",
    "Each channel can be configured either with a simple `s3://...` string pointing to the data, or by a [sagemaker.inputs.TrainingInput](https://sagemaker.readthedocs.io/en/stable/api/utility/inputs.html#sagemaker.inputs.TrainingInput) object which provides additional configuration options such as:\n",
    "\n",
    "- How the data is distributed between nodes for multi-instance training jobs\n",
    "- Whether the channel should use [Pipe Mode](https://aws.amazon.com/blogs/machine-learning/accelerate-model-training-using-faster-pipe-mode-on-amazon-sagemaker/), and other options\n",
    "\n",
    "The channels are specified in a simple dictionary, specifying what data sources the training job should connect to and how."
   ]
  },
  {
   "cell_type": "code",
   "execution_count": 15,
   "metadata": {
    "tags": []
   },
   "outputs": [],
   "source": [
    "distribution = \"FullyReplicated\"\n",
    "\n",
    "data_channels = {\n",
    "    \"train\": sagemaker.inputs.TrainingInput(\n",
    "        metadata[\"channel\"][\"train\"], #train_channel, \n",
    "        distribution=distribution,\n",
    "    ),\n",
    "    \"validation\": sagemaker.inputs.TrainingInput(\n",
    "        metadata[\"channel\"][\"validation\"], #validation_channel, \n",
    "        distribution=distribution,\n",
    "    ),\n",
    "    \"train_annotation\": sagemaker.inputs.TrainingInput(\n",
    "        metadata[\"channel\"][\"train_annotation\"], #train_annotation_channel, \n",
    "        distribution=distribution\n",
    "    ),\n",
    "    \"validation_annotation\": sagemaker.inputs.TrainingInput(\n",
    "        metadata[\"channel\"][\"validation_annotation\"], #validation_annotation_channel, \n",
    "        distribution=distribution,\n",
    "    ),\n",
    "    # 'label_map': metadata[\"channel\"][\"label_map\"], # label_map_channel\n",
    "}"
   ]
  },
  {
   "cell_type": "markdown",
   "metadata": {},
   "source": [
    "We have our `Estimator` object with the hyperparameters and data channels for training defined, so the only remaining thing to do is actually train a model.\n",
    "\n",
    "The following simple command will perform several steps:\n",
    "\n",
    "- Firstly, the instances that we requested while creating the `Estimator` above are provisioned and the appropriate container image for the algorithm installed.\n",
    "- Then, the data from our channels are downloaded into the instance.\n",
    "- Once data and container are ready, the training job begins.\n",
    "- Logs from the training will be pulled through to this notebook as it runs, including the loss on the training data (which is the pixel-wise cross-entropy loss as described in the algorithm docs) and the metrics on the validation data (pixel-wise label accuracy and mean intersection-over-union or mIoU)\n",
    "- These logs and metrics will also be published to [Amazon CloudWatch](https://aws.amazon.com/cloudwatch/) - linked from the [Amazon SageMaker Console](https://console.aws.amazon.com/sagemaker/home?#/jobs) for your training job.\n",
    "- When the training is complete, your model artifacts will be uploaded to Amazon S3 in the output location we specified earlier.\n",
    "- As soon as the training job finishes (regardless of whether it succeeds or fails), the infrastructure is terminated - so we only pay for the GPU-accelerated training instance for the time that the job runs. Nice!\n",
    "\n",
    "Once the job has finished a \"Job complete\" message will be printed below, and your trained model can then be found in the S3 location we set up for the estimator's `output_path`."
   ]
  },
  {
   "cell_type": "code",
   "execution_count": 16,
   "metadata": {
    "tags": []
   },
   "outputs": [
    {
     "name": "stderr",
     "output_type": "stream",
     "text": [
      "Creating training-job with name: ss-notebook-demo-2024-02-01-04-01-14-511\n"
     ]
    },
    {
     "name": "stdout",
     "output_type": "stream",
     "text": [
      "2024-02-01 04:01:14 Starting - Starting the training job......\n",
      "2024-02-01 04:01:53 Starting - Preparing the instances for training......\n",
      "2024-02-01 04:02:49 Downloading - Downloading input data...\n",
      "2024-02-01 04:03:39 Downloading - Downloading the training image..................\n",
      "2024-02-01 04:06:45 Training - Training image download completed. Training in progress.....\u001b[34mDocker entrypoint called with argument(s): train\u001b[0m\n",
      "\u001b[34mRunning default environment configuration script\u001b[0m\n",
      "\u001b[34mNvidia gpu devices, drivers and cuda toolkit versions (only available on hosts with GPU):\u001b[0m\n",
      "\u001b[34mThu Feb  1 04:07:08 2024       \u001b[0m\n",
      "\u001b[34m+---------------------------------------------------------------------------------------+\u001b[0m\n",
      "\u001b[34m| NVIDIA-SMI 535.104.12             Driver Version: 535.104.12   CUDA Version: 12.2     |\u001b[0m\n",
      "\u001b[34m|-----------------------------------------+----------------------+----------------------+\u001b[0m\n",
      "\u001b[34m| GPU  Name                 Persistence-M | Bus-Id        Disp.A | Volatile Uncorr. ECC |\u001b[0m\n",
      "\u001b[34m| Fan  Temp   Perf          Pwr:Usage/Cap |         Memory-Usage | GPU-Util  Compute M. |\u001b[0m\n",
      "\u001b[34m|                                         |                      |               MIG M. |\u001b[0m\n",
      "\u001b[34m|=========================================+======================+======================|\u001b[0m\n",
      "\u001b[34m|   0  Tesla V100-SXM2-16GB           On  | 00000000:00:1E.0 Off |                    0 |\u001b[0m\n",
      "\u001b[34m| N/A   28C    P0              23W / 300W |      0MiB / 16384MiB |      0%      Default |\u001b[0m\n",
      "\u001b[34m|                                         |                      |                  N/A |\u001b[0m\n",
      "\u001b[34m+-----------------------------------------+----------------------+----------------------+\n",
      "                                                                                         \u001b[0m\n",
      "\u001b[34m+---------------------------------------------------------------------------------------+\u001b[0m\n",
      "\u001b[34m| Processes:                                                                            |\u001b[0m\n",
      "\u001b[34m|  GPU   GI   CI        PID   Type   Process name                            GPU Memory |\u001b[0m\n",
      "\u001b[34m|        ID   ID                                                             Usage      |\u001b[0m\n",
      "\u001b[34m|=======================================================================================|\u001b[0m\n",
      "\u001b[34m|  No running processes found                                                           |\u001b[0m\n",
      "\u001b[34m+---------------------------------------------------------------------------------------+\u001b[0m\n",
      "\u001b[34mChecking for nvidia driver and cuda compatibility.\u001b[0m\n",
      "\u001b[34mCUDA Compatibility driver provided.\u001b[0m\n",
      "\u001b[34mProceeding with compatibility check between driver, cuda-toolkit and cuda-compat.\u001b[0m\n",
      "\u001b[34mDetected cuda-toolkit version: 11.1.\u001b[0m\n",
      "\u001b[34mDetected cuda-compat version: 455.32.00.\u001b[0m\n",
      "\u001b[34mDetected Nvidia driver version: 535.104.12.\u001b[0m\n",
      "\u001b[34mNvidia driver compatible with cuda-toolkit. Disabling cuda-compat.\u001b[0m\n",
      "\u001b[34mRunning custom environment configuration script\u001b[0m\n",
      "\u001b[34m/opt/amazon/lib/python3.8/site-packages/mxnet/model.py:97: SyntaxWarning: \"is\" with a literal. Did you mean \"==\"?\n",
      "  if num_device is 1 and 'dist' not in kvstore:\u001b[0m\n",
      "\u001b[34m/opt/amazon/lib/python3.8/site-packages/scipy/optimize/_shgo.py:495: SyntaxWarning: \"is\" with a literal. Did you mean \"==\"?\n",
      "  if cons['type'] is 'ineq':\u001b[0m\n",
      "\u001b[34m/opt/amazon/lib/python3.8/site-packages/scipy/optimize/_shgo.py:743: SyntaxWarning: \"is not\" with a literal. Did you mean \"!=\"?\n",
      "  if len(self.X_min) is not 0:\u001b[0m\n",
      "\u001b[34m[02/01/2024 04:07:12 INFO 139696741308224] Reading default configuration from /opt/amazon/lib/python3.8/site-packages/algorithm/default-input.json: {'backbone': 'resnet-50', 'algorithm': 'fcn', 'use_pretrained_model': 'True', 'crop_size': '240', 'epochs': '10', 'learning_rate': '0.001', 'optimizer': 'sgd', 'lr_scheduler': 'poly', 'lr_scheduler_factor': '0.1', 'weight_decay': '0.0001', 'momentum': '0.9', 'gamma1': '0.9', 'gamma2': '0.9', 'mini_batch_size': '16', 'validation_mini_batch_size': '16', 'num_training_samples': '8', 'early_stopping_min_epochs': '5', 'early_stopping': 'False', 'early_stopping_patience': '4', 'early_stopping_tolerance': '0.0', 'precision_dtype': 'float32', '_kvstore': 'device', '_num_kv_servers': 'auto', 'syncbn': 'False', '_workers': '16', '_aux_loss': 'True', '_aux_weight': '0.5', '_hybrid': 'False', '_augmentation_type': 'default', '_logging_frequency': '20'}\u001b[0m\n",
      "\u001b[34m[02/01/2024 04:07:12 INFO 139696741308224] Merging with provided configuration from /opt/ml/input/config/hyperparameters.json: {'algorithm': 'fcn', 'backbone': 'resnet-50', 'crop_size': '240', 'early_stopping': 'True', 'early_stopping_min_epochs': '10', 'early_stopping_patience': '2', 'epochs': '10', 'learning_rate': '0.0001', 'lr_scheduler': 'poly', 'mini_batch_size': '16', 'num_classes': '21', 'num_training_samples': '1464', 'optimizer': 'rmsprop', 'use_pretrained_model': 'True', 'validation_mini_batch_size': '16'}\u001b[0m\n",
      "\u001b[34m[02/01/2024 04:07:12 INFO 139696741308224] Final configuration: {'backbone': 'resnet-50', 'algorithm': 'fcn', 'use_pretrained_model': 'True', 'crop_size': '240', 'epochs': '10', 'learning_rate': '0.0001', 'optimizer': 'rmsprop', 'lr_scheduler': 'poly', 'lr_scheduler_factor': '0.1', 'weight_decay': '0.0001', 'momentum': '0.9', 'gamma1': '0.9', 'gamma2': '0.9', 'mini_batch_size': '16', 'validation_mini_batch_size': '16', 'num_training_samples': '1464', 'early_stopping_min_epochs': '10', 'early_stopping': 'True', 'early_stopping_patience': '2', 'early_stopping_tolerance': '0.0', 'precision_dtype': 'float32', '_kvstore': 'device', '_num_kv_servers': 'auto', 'syncbn': 'False', '_workers': '16', '_aux_loss': 'True', '_aux_weight': '0.5', '_hybrid': 'False', '_augmentation_type': 'default', '_logging_frequency': '20', 'num_classes': '21'}\u001b[0m\n",
      "\u001b[34mProcess 7 is a worker.\u001b[0m\n",
      "\u001b[34m[02/01/2024 04:07:12 INFO 139696741308224] Using default worker.\u001b[0m\n",
      "\u001b[34m[02/01/2024 04:07:12 INFO 139696741308224] Loaded iterator creator application/json for content type ('application/json', '1.0')\u001b[0m\n",
      "\u001b[34m/opt/amazon/lib/python3.8/site-packages/matplotlib/pyplot.py:2422: SyntaxWarning: \"is\" with a literal. Did you mean \"==\"?\n",
      "  if fignum is False or fignum is 0:\u001b[0m\n",
      "\u001b[34m/opt/amazon/lib/python3.8/site-packages/matplotlib/contour.py:871: SyntaxWarning: \"is not\" with a literal. Did you mean \"!=\"?\n",
      "  if self.extend is not 'neither':\u001b[0m\n",
      "\u001b[34m[02/01/2024 04:07:13 INFO 139696741308224] font search path ['/opt/amazon/lib/python3.8/site-packages/matplotlib/mpl-data/fonts/ttf', '/opt/amazon/lib/python3.8/site-packages/matplotlib/mpl-data/fonts/afm', '/opt/amazon/lib/python3.8/site-packages/matplotlib/mpl-data/fonts/pdfcorefonts']\u001b[0m\n",
      "\u001b[34m[02/01/2024 04:07:13 INFO 139696741308224] generated new fontManager\u001b[0m\n",
      "\u001b[34m/opt/amazon/lib/python3.8/site-packages/scipy/io/netcdf.py:770: SyntaxWarning: \"is not\" with a literal. Did you mean \"!=\"?\n",
      "  if typecode is not 'c':\u001b[0m\n",
      "\u001b[34m[02/01/2024 04:07:14 INFO 139696741308224] Loaded iterator creator application/x-image for content type ('application/x-image', '1.0')\u001b[0m\n",
      "\u001b[34m[02/01/2024 04:07:14 INFO 139696741308224] Loaded iterator creator application/x-recordio for content type ('application/x-recordio', '1.0')\u001b[0m\n",
      "\u001b[34m[02/01/2024 04:07:14 INFO 139696741308224] Loaded iterator creator image/jpeg for content type ('image/jpeg', '1.0')\u001b[0m\n",
      "\u001b[34m[02/01/2024 04:07:14 INFO 139696741308224] Loaded iterator creator image/png for content type ('image/png', '1.0')\u001b[0m\n",
      "\u001b[34m[02/01/2024 04:07:14 INFO 139696741308224] Checkpoint loading and saving are disabled.\u001b[0m\n",
      "\u001b[34m[02/01/2024 04:07:14 WARNING 139696741308224] /opt/ml/input/data/train/train_annotation is not a readable image file\u001b[0m\n",
      "\u001b[34m[02/01/2024 04:07:14 WARNING 139696741308224] label maps not provided, using defaults.\u001b[0m\n",
      "\u001b[34m[02/01/2024 04:07:14 INFO 139696741308224] #label_map train :{'scale': 1}\u001b[0m\n",
      "\u001b[34m[02/01/2024 04:07:14 WARNING 139696741308224] /opt/ml/input/data/validation/validation_annotation is not a readable image file\u001b[0m\n",
      "\u001b[34m[02/01/2024 04:07:15 WARNING 139696741308224] label maps not provided, using defaults.\u001b[0m\n",
      "\u001b[34m[02/01/2024 04:07:15 INFO 139696741308224] #label_map validation :{'scale': 1}\u001b[0m\n",
      "\u001b[34m/opt/amazon/python3.8/lib/python3.8/subprocess.py:848: RuntimeWarning: line buffering (buffering=1) isn't supported in binary mode, the default buffer size will be used\n",
      "  self.stdout = io.open(c2pread, 'rb', bufsize)\u001b[0m\n",
      "\u001b[34m[02/01/2024 04:07:15 INFO 139696741308224] nvidia-smi: took 0.058 seconds to run.\u001b[0m\n",
      "\u001b[34m[02/01/2024 04:07:15 INFO 139696741308224] nvidia-smi identified 1 GPUs.\u001b[0m\n",
      "\u001b[34m[02/01/2024 04:07:15 INFO 139696741308224] Number of GPUs being used: 1\u001b[0m\n",
      "\u001b[34m[02/01/2024 04:07:15 INFO 139696741308224] Number of GPUs being used: 1\u001b[0m\n",
      "\u001b[34m[02/01/2024 04:07:15 INFO 139696741308224] Number of GPUs being used: 1\u001b[0m\n",
      "\u001b[34m[04:07:16] /opt/brazil-pkg-cache/packages/AIAlgorithmsMXNet/AIAlgorithmsMXNet-1.4.x_ecl_Cuda_11.1.x.365.0/AL2_x86_64/generic-flavor/src/src/storage/storage.cc:108: Using GPUPooledRoundedStorageManager.\u001b[0m\n",
      "\u001b[34m[02/01/2024 04:07:19 INFO 139696741308224] LRScheduler setup: iters per epoch: 91, num_epochs 10\u001b[0m\n",
      "\u001b[34m#metrics {\"StartTime\": 1706760439.4589982, \"EndTime\": 1706760439.4592626, \"Dimensions\": {\"Algorithm\": \"AWS/Semantic Segmentation\", \"Host\": \"algo-1\", \"Operation\": \"training\", \"Meta\": \"init_train_data_iter\"}, \"Metrics\": {\"Total Records Seen\": {\"sum\": 0.0, \"count\": 1, \"min\": 0, \"max\": 0}, \"Total Batches Seen\": {\"sum\": 0.0, \"count\": 1, \"min\": 0, \"max\": 0}, \"Max Records Seen Between Resets\": {\"sum\": 0.0, \"count\": 1, \"min\": 0, \"max\": 0}, \"Max Batches Seen Between Resets\": {\"sum\": 0.0, \"count\": 1, \"min\": 0, \"max\": 0}, \"Reset Count\": {\"sum\": 0.0, \"count\": 1, \"min\": 0, \"max\": 0}, \"Number of Records Since Last Reset\": {\"sum\": 0.0, \"count\": 1, \"min\": 0, \"max\": 0}, \"Number of Batches Since Last Reset\": {\"sum\": 0.0, \"count\": 1, \"min\": 0, \"max\": 0}}}\u001b[0m\n",
      "\u001b[34m[02/01/2024 04:07:27 INFO 139696741308224] #progress_notice. epoch: 0, iterations: 20 speed: 50.57117838642731 samples/sec learning_rate: 0.000098\u001b[0m\n",
      "\u001b[34m[02/01/2024 04:07:34 INFO 139696741308224] #progress_notice. epoch: 0, iterations: 40 speed: 50.20063688788185 samples/sec learning_rate: 0.000096\u001b[0m\n",
      "\u001b[34m[02/01/2024 04:07:40 INFO 139696741308224] #progress_notice. epoch: 0, iterations: 60 speed: 50.719819458269 samples/sec learning_rate: 0.000094\u001b[0m\n",
      "\u001b[34m[02/01/2024 04:07:47 INFO 139696741308224] #progress_notice. epoch: 0, iterations: 80 speed: 50.40409128019245 samples/sec learning_rate: 0.000092\u001b[0m\n",
      "\u001b[34m[02/01/2024 04:07:50 INFO 139696741308224] #quality_metric. host: algo-1, epoch: 0, train loss: 1.4532129227460087 .\u001b[0m\n",
      "\u001b[34m[02/01/2024 04:07:50 INFO 139696741308224] #throughput_metric. host: algo-1, epoch: 0, train throughput: 49.17646619435869 samples/sec.\u001b[0m\n",
      "\u001b[34m[02/01/2024 04:07:59 INFO 139696741308224] #progress_notice. epoch: 0, iterations: 20 speed: 45.94461495487958 samples/sec\u001b[0m\n",
      "\u001b[34m[02/01/2024 04:08:06 INFO 139696741308224] #progress_notice. epoch: 0, iterations: 40 speed: 45.90325746958028 samples/sec\u001b[0m\n",
      "\u001b[34m[02/01/2024 04:08:13 INFO 139696741308224] #progress_notice. epoch: 0, iterations: 60 speed: 45.82473908613913 samples/sec\u001b[0m\n",
      "\u001b[34m[02/01/2024 04:08:20 INFO 139696741308224] #progress_notice. epoch: 0, iterations: 80 speed: 46.326768364998436 samples/sec\u001b[0m\n",
      "\u001b[34m[02/01/2024 04:08:23 INFO 139696741308224] #quality_metric. host: algo-1, epoch: 0, validation pixel_accuracy: 0.8433687002686544 .\u001b[0m\n",
      "\u001b[34m[02/01/2024 04:08:23 INFO 139696741308224] #quality_metric. host: algo-1, epoch: 0, validation mIOU: 0.4976552862925271 .\u001b[0m\n",
      "\u001b[34m[02/01/2024 04:08:23 INFO 139696741308224] #throughput_metric. host: algo-1, epoch: 0, validation throughput: 44.83163535375174 samples/sec.\u001b[0m\n",
      "\u001b[34m[02/01/2024 04:08:23 INFO 139696741308224] Serializing model to /opt/ml/model/model_best.params\u001b[0m\n",
      "\u001b[34m[02/01/2024 04:08:23 INFO 139696741308224] Serializing model to /opt/ml/model/model_best.params\u001b[0m\n",
      "\u001b[34m[02/01/2024 04:08:24 INFO 139696741308224] #progress_metric: host=algo-1, completed 10.0 % of epochs\u001b[0m\n",
      "\u001b[34m#metrics {\"StartTime\": 1706760439.4601293, \"EndTime\": 1706760504.0913177, \"Dimensions\": {\"Algorithm\": \"AWS/Semantic Segmentation\", \"Host\": \"algo-1\", \"Operation\": \"training\", \"epoch\": 0, \"Meta\": \"training_data_iter\"}, \"Metrics\": {\"Total Records Seen\": {\"sum\": 0.0, \"count\": 1, \"min\": 0, \"max\": 0}, \"Total Batches Seen\": {\"sum\": 0.0, \"count\": 1, \"min\": 0, \"max\": 0}, \"Max Records Seen Between Resets\": {\"sum\": 0.0, \"count\": 1, \"min\": 0, \"max\": 0}, \"Max Batches Seen Between Resets\": {\"sum\": 0.0, \"count\": 1, \"min\": 0, \"max\": 0}, \"Reset Count\": {\"sum\": 1.0, \"count\": 1, \"min\": 1, \"max\": 1}, \"Number of Records Since Last Reset\": {\"sum\": 0.0, \"count\": 1, \"min\": 0, \"max\": 0}, \"Number of Batches Since Last Reset\": {\"sum\": 0.0, \"count\": 1, \"min\": 0, \"max\": 0}}}\u001b[0m\n",
      "\u001b[34m[02/01/2024 04:08:32 INFO 139696741308224] #progress_notice. epoch: 1, iterations: 20 speed: 49.58476507979433 samples/sec learning_rate: 0.000089\u001b[0m\n",
      "\u001b[34m[02/01/2024 04:08:38 INFO 139696741308224] #progress_notice. epoch: 1, iterations: 40 speed: 50.30185672535441 samples/sec learning_rate: 0.000087\u001b[0m\n",
      "\u001b[34m[02/01/2024 04:08:44 INFO 139696741308224] #progress_notice. epoch: 1, iterations: 60 speed: 50.49944503097668 samples/sec learning_rate: 0.000085\u001b[0m\n",
      "\u001b[34m[02/01/2024 04:08:51 INFO 139696741308224] #progress_notice. epoch: 1, iterations: 80 speed: 50.85877376064217 samples/sec learning_rate: 0.000083\u001b[0m\n",
      "\u001b[34m[02/01/2024 04:08:55 INFO 139696741308224] #quality_metric. host: algo-1, epoch: 1, train loss: 1.0464422178009283 .\u001b[0m\n",
      "\u001b[34m[02/01/2024 04:08:55 INFO 139696741308224] #throughput_metric. host: algo-1, epoch: 1, train throughput: 49.49396307838178 samples/sec.\u001b[0m\n",
      "\u001b[34m[02/01/2024 04:09:03 INFO 139696741308224] #progress_notice. epoch: 1, iterations: 20 speed: 43.67221401894642 samples/sec\u001b[0m\n",
      "\u001b[34m[02/01/2024 04:09:10 INFO 139696741308224] #progress_notice. epoch: 1, iterations: 40 speed: 46.315513992891404 samples/sec\u001b[0m\n",
      "\u001b[34m[02/01/2024 04:09:17 INFO 139696741308224] #progress_notice. epoch: 1, iterations: 60 speed: 45.937035556456074 samples/sec\u001b[0m\n",
      "\u001b[34m[02/01/2024 04:09:24 INFO 139696741308224] #progress_notice. epoch: 1, iterations: 80 speed: 46.4137261357066 samples/sec\u001b[0m\n",
      "\u001b[34m[02/01/2024 04:09:28 INFO 139696741308224] #quality_metric. host: algo-1, epoch: 1, validation pixel_accuracy: 0.8457237986412105 .\u001b[0m\n",
      "\u001b[34m[02/01/2024 04:09:28 INFO 139696741308224] #quality_metric. host: algo-1, epoch: 1, validation mIOU: 0.5410211420302323 .\u001b[0m\n",
      "\u001b[34m[02/01/2024 04:09:28 INFO 139696741308224] #throughput_metric. host: algo-1, epoch: 1, validation throughput: 45.3287518850187 samples/sec.\u001b[0m\n",
      "\u001b[34m[02/01/2024 04:09:28 INFO 139696741308224] Serializing model to /opt/ml/model/model_best.params\u001b[0m\n",
      "\u001b[34m[02/01/2024 04:09:28 INFO 139696741308224] #progress_metric: host=algo-1, completed 20.0 % of epochs\u001b[0m\n",
      "\u001b[34m#metrics {\"StartTime\": 1706760504.0915334, \"EndTime\": 1706760568.6760428, \"Dimensions\": {\"Algorithm\": \"AWS/Semantic Segmentation\", \"Host\": \"algo-1\", \"Operation\": \"training\", \"epoch\": 1, \"Meta\": \"training_data_iter\"}, \"Metrics\": {\"Total Records Seen\": {\"sum\": 0.0, \"count\": 1, \"min\": 0, \"max\": 0}, \"Total Batches Seen\": {\"sum\": 0.0, \"count\": 1, \"min\": 0, \"max\": 0}, \"Max Records Seen Between Resets\": {\"sum\": 0.0, \"count\": 1, \"min\": 0, \"max\": 0}, \"Max Batches Seen Between Resets\": {\"sum\": 0.0, \"count\": 1, \"min\": 0, \"max\": 0}, \"Reset Count\": {\"sum\": 2.0, \"count\": 1, \"min\": 2, \"max\": 2}, \"Number of Records Since Last Reset\": {\"sum\": 0.0, \"count\": 1, \"min\": 0, \"max\": 0}, \"Number of Batches Since Last Reset\": {\"sum\": 0.0, \"count\": 1, \"min\": 0, \"max\": 0}}}\u001b[0m\n",
      "\u001b[34m[02/01/2024 04:09:36 INFO 139696741308224] #progress_notice. epoch: 2, iterations: 20 speed: 49.32879362559172 samples/sec learning_rate: 0.000080\u001b[0m\n",
      "\u001b[34m[02/01/2024 04:09:43 INFO 139696741308224] #progress_notice. epoch: 2, iterations: 40 speed: 50.03766421333063 samples/sec learning_rate: 0.000078\u001b[0m\n",
      "\u001b[34m[02/01/2024 04:09:49 INFO 139696741308224] #progress_notice. epoch: 2, iterations: 60 speed: 50.43079494285766 samples/sec learning_rate: 0.000076\u001b[0m\n",
      "\u001b[34m[02/01/2024 04:09:56 INFO 139696741308224] #progress_notice. epoch: 2, iterations: 80 speed: 50.37734024760458 samples/sec learning_rate: 0.000074\u001b[0m\n",
      "\u001b[34m[02/01/2024 04:09:59 INFO 139696741308224] #quality_metric. host: algo-1, epoch: 2, train loss: 0.9080089163649213 .\u001b[0m\n",
      "\u001b[34m[02/01/2024 04:09:59 INFO 139696741308224] #throughput_metric. host: algo-1, epoch: 2, train throughput: 49.25694733809797 samples/sec.\u001b[0m\n",
      "\u001b[34m[02/01/2024 04:10:08 INFO 139696741308224] #progress_notice. epoch: 2, iterations: 20 speed: 45.02077256443628 samples/sec\u001b[0m\n",
      "\u001b[34m[02/01/2024 04:10:15 INFO 139696741308224] #progress_notice. epoch: 2, iterations: 40 speed: 46.164240440586696 samples/sec\u001b[0m\n",
      "\u001b[34m[02/01/2024 04:10:22 INFO 139696741308224] #progress_notice. epoch: 2, iterations: 60 speed: 45.31259807430015 samples/sec\u001b[0m\n",
      "\u001b[34m[02/01/2024 04:10:29 INFO 139696741308224] #progress_notice. epoch: 2, iterations: 80 speed: 46.32197179909826 samples/sec\u001b[0m\n",
      "\u001b[34m[02/01/2024 04:10:32 INFO 139696741308224] #quality_metric. host: algo-1, epoch: 2, validation pixel_accuracy: 0.8682566069658545 .\u001b[0m\n",
      "\u001b[34m[02/01/2024 04:10:32 INFO 139696741308224] #quality_metric. host: algo-1, epoch: 2, validation mIOU: 0.5646618540572471 .\u001b[0m\n",
      "\u001b[34m[02/01/2024 04:10:32 INFO 139696741308224] #throughput_metric. host: algo-1, epoch: 2, validation throughput: 44.44379447715412 samples/sec.\u001b[0m\n",
      "\u001b[34m[02/01/2024 04:10:33 INFO 139696741308224] Serializing model to /opt/ml/model/model_best.params\u001b[0m\n",
      "\u001b[34m[02/01/2024 04:10:33 INFO 139696741308224] #progress_metric: host=algo-1, completed 30.0 % of epochs\u001b[0m\n",
      "\u001b[34m#metrics {\"StartTime\": 1706760568.6762416, \"EndTime\": 1706760633.18082, \"Dimensions\": {\"Algorithm\": \"AWS/Semantic Segmentation\", \"Host\": \"algo-1\", \"Operation\": \"training\", \"epoch\": 2, \"Meta\": \"training_data_iter\"}, \"Metrics\": {\"Total Records Seen\": {\"sum\": 0.0, \"count\": 1, \"min\": 0, \"max\": 0}, \"Total Batches Seen\": {\"sum\": 0.0, \"count\": 1, \"min\": 0, \"max\": 0}, \"Max Records Seen Between Resets\": {\"sum\": 0.0, \"count\": 1, \"min\": 0, \"max\": 0}, \"Max Batches Seen Between Resets\": {\"sum\": 0.0, \"count\": 1, \"min\": 0, \"max\": 0}, \"Reset Count\": {\"sum\": 3.0, \"count\": 1, \"min\": 3, \"max\": 3}, \"Number of Records Since Last Reset\": {\"sum\": 0.0, \"count\": 1, \"min\": 0, \"max\": 0}, \"Number of Batches Since Last Reset\": {\"sum\": 0.0, \"count\": 1, \"min\": 0, \"max\": 0}}}\u001b[0m\n",
      "\u001b[34m[02/01/2024 04:10:41 INFO 139696741308224] #progress_notice. epoch: 3, iterations: 20 speed: 49.81698868984521 samples/sec learning_rate: 0.000070\u001b[0m\n",
      "\u001b[34m[02/01/2024 04:10:47 INFO 139696741308224] #progress_notice. epoch: 3, iterations: 40 speed: 49.251537164220075 samples/sec learning_rate: 0.000068\u001b[0m\n",
      "\u001b[34m[02/01/2024 04:10:54 INFO 139696741308224] #progress_notice. epoch: 3, iterations: 60 speed: 49.383533539573726 samples/sec learning_rate: 0.000066\u001b[0m\n",
      "\u001b[34m[02/01/2024 04:11:00 INFO 139696741308224] #progress_notice. epoch: 3, iterations: 80 speed: 50.28014855783963 samples/sec learning_rate: 0.000064\u001b[0m\n",
      "\u001b[34m[02/01/2024 04:11:04 INFO 139696741308224] #quality_metric. host: algo-1, epoch: 3, train loss: 0.8009027456459792 .\u001b[0m\n",
      "\u001b[34m[02/01/2024 04:11:04 INFO 139696741308224] #throughput_metric. host: algo-1, epoch: 3, train throughput: 49.281052297090724 samples/sec.\u001b[0m\n",
      "\u001b[34m[02/01/2024 04:11:12 INFO 139696741308224] #progress_notice. epoch: 3, iterations: 20 speed: 45.37086561045163 samples/sec\u001b[0m\n",
      "\u001b[34m[02/01/2024 04:11:19 INFO 139696741308224] #progress_notice. epoch: 3, iterations: 40 speed: 46.13275955701902 samples/sec\u001b[0m\n",
      "\u001b[34m[02/01/2024 04:11:27 INFO 139696741308224] #progress_notice. epoch: 3, iterations: 60 speed: 46.47138613244327 samples/sec\u001b[0m\n",
      "\u001b[34m[02/01/2024 04:11:34 INFO 139696741308224] #progress_notice. epoch: 3, iterations: 80 speed: 46.01458284479295 samples/sec\u001b[0m\n",
      "\u001b[34m[02/01/2024 04:11:38 INFO 139696741308224] #quality_metric. host: algo-1, epoch: 3, validation pixel_accuracy: 0.8859026201620689 .\u001b[0m\n",
      "\u001b[34m[02/01/2024 04:11:38 INFO 139696741308224] #quality_metric. host: algo-1, epoch: 3, validation mIOU: 0.6058639100096531 .\u001b[0m\n",
      "\u001b[34m[02/01/2024 04:11:38 INFO 139696741308224] #throughput_metric. host: algo-1, epoch: 3, validation throughput: 44.760909242171124 samples/sec.\u001b[0m\n",
      "\u001b[34m[02/01/2024 04:11:38 INFO 139696741308224] Serializing model to /opt/ml/model/model_best.params\u001b[0m\n",
      "\u001b[34m[02/01/2024 04:11:38 INFO 139696741308224] #progress_metric: host=algo-1, completed 40.0 % of epochs\u001b[0m\n",
      "\u001b[34m#metrics {\"StartTime\": 1706760633.1809711, \"EndTime\": 1706760698.2454536, \"Dimensions\": {\"Algorithm\": \"AWS/Semantic Segmentation\", \"Host\": \"algo-1\", \"Operation\": \"training\", \"epoch\": 3, \"Meta\": \"training_data_iter\"}, \"Metrics\": {\"Total Records Seen\": {\"sum\": 0.0, \"count\": 1, \"min\": 0, \"max\": 0}, \"Total Batches Seen\": {\"sum\": 0.0, \"count\": 1, \"min\": 0, \"max\": 0}, \"Max Records Seen Between Resets\": {\"sum\": 0.0, \"count\": 1, \"min\": 0, \"max\": 0}, \"Max Batches Seen Between Resets\": {\"sum\": 0.0, \"count\": 1, \"min\": 0, \"max\": 0}, \"Reset Count\": {\"sum\": 4.0, \"count\": 1, \"min\": 4, \"max\": 4}, \"Number of Records Since Last Reset\": {\"sum\": 0.0, \"count\": 1, \"min\": 0, \"max\": 0}, \"Number of Batches Since Last Reset\": {\"sum\": 0.0, \"count\": 1, \"min\": 0, \"max\": 0}}}\u001b[0m\n",
      "\u001b[34m[02/01/2024 04:11:46 INFO 139696741308224] #progress_notice. epoch: 4, iterations: 20 speed: 50.3457825784589 samples/sec learning_rate: 0.000061\u001b[0m\n",
      "\u001b[34m[02/01/2024 04:11:52 INFO 139696741308224] #progress_notice. epoch: 4, iterations: 40 speed: 50.04564962381232 samples/sec learning_rate: 0.000059\u001b[0m\n",
      "\u001b[34m[02/01/2024 04:11:59 INFO 139696741308224] #progress_notice. epoch: 4, iterations: 60 speed: 50.92507793315506 samples/sec learning_rate: 0.000057\u001b[0m\n",
      "\u001b[34m[02/01/2024 04:12:05 INFO 139696741308224] #progress_notice. epoch: 4, iterations: 80 speed: 50.79110432976707 samples/sec learning_rate: 0.000054\u001b[0m\n",
      "\u001b[34m[02/01/2024 04:12:09 INFO 139696741308224] #quality_metric. host: algo-1, epoch: 4, train loss: 0.7858235803279248 .\u001b[0m\n",
      "\u001b[34m[02/01/2024 04:12:09 INFO 139696741308224] #throughput_metric. host: algo-1, epoch: 4, train throughput: 49.490531669019184 samples/sec.\u001b[0m\n",
      "\u001b[34m[02/01/2024 04:12:17 INFO 139696741308224] #progress_notice. epoch: 4, iterations: 20 speed: 44.95297909795106 samples/sec\u001b[0m\n",
      "\u001b[34m[02/01/2024 04:12:24 INFO 139696741308224] #progress_notice. epoch: 4, iterations: 40 speed: 45.51515468021858 samples/sec\u001b[0m\n",
      "\u001b[34m[02/01/2024 04:12:31 INFO 139696741308224] #progress_notice. epoch: 4, iterations: 60 speed: 46.91556174488856 samples/sec\u001b[0m\n",
      "\u001b[34m[02/01/2024 04:12:38 INFO 139696741308224] #progress_notice. epoch: 4, iterations: 80 speed: 47.033340902528394 samples/sec\u001b[0m\n",
      "\u001b[34m[02/01/2024 04:12:42 INFO 139696741308224] #quality_metric. host: algo-1, epoch: 4, validation pixel_accuracy: 0.8896075599358668 .\u001b[0m\n",
      "\u001b[34m[02/01/2024 04:12:42 INFO 139696741308224] #quality_metric. host: algo-1, epoch: 4, validation mIOU: 0.6208695981071436 .\u001b[0m\n",
      "\u001b[34m[02/01/2024 04:12:42 INFO 139696741308224] #throughput_metric. host: algo-1, epoch: 4, validation throughput: 45.23746091874922 samples/sec.\u001b[0m\n",
      "\u001b[34m[02/01/2024 04:12:42 INFO 139696741308224] Serializing model to /opt/ml/model/model_best.params\u001b[0m\n",
      "\u001b[34m[02/01/2024 04:12:42 INFO 139696741308224] #progress_metric: host=algo-1, completed 50.0 % of epochs\u001b[0m\n",
      "\u001b[34m#metrics {\"StartTime\": 1706760698.2456312, \"EndTime\": 1706760762.2319083, \"Dimensions\": {\"Algorithm\": \"AWS/Semantic Segmentation\", \"Host\": \"algo-1\", \"Operation\": \"training\", \"epoch\": 4, \"Meta\": \"training_data_iter\"}, \"Metrics\": {\"Total Records Seen\": {\"sum\": 0.0, \"count\": 1, \"min\": 0, \"max\": 0}, \"Total Batches Seen\": {\"sum\": 0.0, \"count\": 1, \"min\": 0, \"max\": 0}, \"Max Records Seen Between Resets\": {\"sum\": 0.0, \"count\": 1, \"min\": 0, \"max\": 0}, \"Max Batches Seen Between Resets\": {\"sum\": 0.0, \"count\": 1, \"min\": 0, \"max\": 0}, \"Reset Count\": {\"sum\": 5.0, \"count\": 1, \"min\": 5, \"max\": 5}, \"Number of Records Since Last Reset\": {\"sum\": 0.0, \"count\": 1, \"min\": 0, \"max\": 0}, \"Number of Batches Since Last Reset\": {\"sum\": 0.0, \"count\": 1, \"min\": 0, \"max\": 0}}}\u001b[0m\n",
      "\u001b[34m[02/01/2024 04:12:50 INFO 139696741308224] #progress_notice. epoch: 5, iterations: 20 speed: 49.94311553271326 samples/sec learning_rate: 0.000051\u001b[0m\n",
      "\u001b[34m[02/01/2024 04:12:56 INFO 139696741308224] #progress_notice. epoch: 5, iterations: 40 speed: 50.25721706153187 samples/sec learning_rate: 0.000049\u001b[0m\n",
      "\u001b[34m[02/01/2024 04:13:03 INFO 139696741308224] #progress_notice. epoch: 5, iterations: 60 speed: 49.41651589624639 samples/sec learning_rate: 0.000047\u001b[0m\n",
      "\u001b[34m[02/01/2024 04:13:09 INFO 139696741308224] #progress_notice. epoch: 5, iterations: 80 speed: 50.67210117980179 samples/sec learning_rate: 0.000045\u001b[0m\n",
      "\u001b[34m[02/01/2024 04:13:13 INFO 139696741308224] #quality_metric. host: algo-1, epoch: 5, train loss: 0.7128793085398881 .\u001b[0m\n",
      "\u001b[34m[02/01/2024 04:13:13 INFO 139696741308224] #throughput_metric. host: algo-1, epoch: 5, train throughput: 49.42107476960003 samples/sec.\u001b[0m\n",
      "\u001b[34m[02/01/2024 04:13:21 INFO 139696741308224] #progress_notice. epoch: 5, iterations: 20 speed: 45.25554813010027 samples/sec\u001b[0m\n",
      "\u001b[34m[02/01/2024 04:13:28 INFO 139696741308224] #progress_notice. epoch: 5, iterations: 40 speed: 46.526189536941835 samples/sec\u001b[0m\n",
      "\u001b[34m[02/01/2024 04:13:35 INFO 139696741308224] #progress_notice. epoch: 5, iterations: 60 speed: 46.67708868031878 samples/sec\u001b[0m\n",
      "\u001b[34m[02/01/2024 04:13:42 INFO 139696741308224] #progress_notice. epoch: 5, iterations: 80 speed: 47.11228864575326 samples/sec\u001b[0m\n",
      "\u001b[34m[02/01/2024 04:13:46 INFO 139696741308224] #quality_metric. host: algo-1, epoch: 5, validation pixel_accuracy: 0.8967621437241499 .\u001b[0m\n",
      "\u001b[34m[02/01/2024 04:13:46 INFO 139696741308224] #quality_metric. host: algo-1, epoch: 5, validation mIOU: 0.6270140398801006 .\u001b[0m\n",
      "\u001b[34m[02/01/2024 04:13:46 INFO 139696741308224] #throughput_metric. host: algo-1, epoch: 5, validation throughput: 44.77453549723289 samples/sec.\u001b[0m\n",
      "\u001b[34m[02/01/2024 04:13:46 INFO 139696741308224] Serializing model to /opt/ml/model/model_best.params\u001b[0m\n",
      "\u001b[34m[02/01/2024 04:13:46 INFO 139696741308224] #progress_metric: host=algo-1, completed 60.0 % of epochs\u001b[0m\n",
      "\u001b[34m#metrics {\"StartTime\": 1706760762.2321064, \"EndTime\": 1706760826.9045112, \"Dimensions\": {\"Algorithm\": \"AWS/Semantic Segmentation\", \"Host\": \"algo-1\", \"Operation\": \"training\", \"epoch\": 5, \"Meta\": \"training_data_iter\"}, \"Metrics\": {\"Total Records Seen\": {\"sum\": 0.0, \"count\": 1, \"min\": 0, \"max\": 0}, \"Total Batches Seen\": {\"sum\": 0.0, \"count\": 1, \"min\": 0, \"max\": 0}, \"Max Records Seen Between Resets\": {\"sum\": 0.0, \"count\": 1, \"min\": 0, \"max\": 0}, \"Max Batches Seen Between Resets\": {\"sum\": 0.0, \"count\": 1, \"min\": 0, \"max\": 0}, \"Reset Count\": {\"sum\": 6.0, \"count\": 1, \"min\": 6, \"max\": 6}, \"Number of Records Since Last Reset\": {\"sum\": 0.0, \"count\": 1, \"min\": 0, \"max\": 0}, \"Number of Batches Since Last Reset\": {\"sum\": 0.0, \"count\": 1, \"min\": 0, \"max\": 0}}}\u001b[0m\n",
      "\u001b[34m[02/01/2024 04:13:54 INFO 139696741308224] #progress_notice. epoch: 6, iterations: 20 speed: 49.929812866054 samples/sec learning_rate: 0.000041\u001b[0m\n",
      "\u001b[34m[02/01/2024 04:14:01 INFO 139696741308224] #progress_notice. epoch: 6, iterations: 40 speed: 49.908907079807264 samples/sec learning_rate: 0.000039\u001b[0m\n",
      "\u001b[34m[02/01/2024 04:14:07 INFO 139696741308224] #progress_notice. epoch: 6, iterations: 60 speed: 50.64078467001813 samples/sec learning_rate: 0.000037\u001b[0m\n",
      "\u001b[34m[02/01/2024 04:14:14 INFO 139696741308224] #progress_notice. epoch: 6, iterations: 80 speed: 50.60626288554843 samples/sec learning_rate: 0.000035\u001b[0m\n",
      "\u001b[34m[02/01/2024 04:14:17 INFO 139696741308224] #quality_metric. host: algo-1, epoch: 6, train loss: 0.6809454756778676 .\u001b[0m\n",
      "\u001b[34m[02/01/2024 04:14:17 INFO 139696741308224] #throughput_metric. host: algo-1, epoch: 6, train throughput: 49.18999801183022 samples/sec.\u001b[0m\n",
      "\u001b[34m[02/01/2024 04:14:25 INFO 139696741308224] #progress_notice. epoch: 6, iterations: 20 speed: 46.26812664347361 samples/sec\u001b[0m\n",
      "\u001b[34m[02/01/2024 04:14:32 INFO 139696741308224] #progress_notice. epoch: 6, iterations: 40 speed: 45.92552971625741 samples/sec\u001b[0m\n",
      "\u001b[34m[02/01/2024 04:14:40 INFO 139696741308224] #progress_notice. epoch: 6, iterations: 60 speed: 45.48399764409101 samples/sec\u001b[0m\n",
      "\u001b[34m[02/01/2024 04:14:47 INFO 139696741308224] #progress_notice. epoch: 6, iterations: 80 speed: 46.38940663965238 samples/sec\u001b[0m\n",
      "\u001b[34m[02/01/2024 04:14:50 INFO 139696741308224] #quality_metric. host: algo-1, epoch: 6, validation pixel_accuracy: 0.8968620633382334 .\u001b[0m\n",
      "\u001b[34m[02/01/2024 04:14:50 INFO 139696741308224] #quality_metric. host: algo-1, epoch: 6, validation mIOU: 0.6298634516121048 .\u001b[0m\n",
      "\u001b[34m[02/01/2024 04:14:50 INFO 139696741308224] #throughput_metric. host: algo-1, epoch: 6, validation throughput: 45.18825086786231 samples/sec.\u001b[0m\n",
      "\u001b[34m[02/01/2024 04:14:50 INFO 139696741308224] Serializing model to /opt/ml/model/model_best.params\u001b[0m\n",
      "\u001b[34m[02/01/2024 04:14:50 INFO 139696741308224] #progress_metric: host=algo-1, completed 70.0 % of epochs\u001b[0m\n",
      "\u001b[34m#metrics {\"StartTime\": 1706760826.9047248, \"EndTime\": 1706760890.7010844, \"Dimensions\": {\"Algorithm\": \"AWS/Semantic Segmentation\", \"Host\": \"algo-1\", \"Operation\": \"training\", \"epoch\": 6, \"Meta\": \"training_data_iter\"}, \"Metrics\": {\"Total Records Seen\": {\"sum\": 0.0, \"count\": 1, \"min\": 0, \"max\": 0}, \"Total Batches Seen\": {\"sum\": 0.0, \"count\": 1, \"min\": 0, \"max\": 0}, \"Max Records Seen Between Resets\": {\"sum\": 0.0, \"count\": 1, \"min\": 0, \"max\": 0}, \"Max Batches Seen Between Resets\": {\"sum\": 0.0, \"count\": 1, \"min\": 0, \"max\": 0}, \"Reset Count\": {\"sum\": 7.0, \"count\": 1, \"min\": 7, \"max\": 7}, \"Number of Records Since Last Reset\": {\"sum\": 0.0, \"count\": 1, \"min\": 0, \"max\": 0}, \"Number of Batches Since Last Reset\": {\"sum\": 0.0, \"count\": 1, \"min\": 0, \"max\": 0}}}\u001b[0m\n",
      "\u001b[34m[02/01/2024 04:14:58 INFO 139696741308224] #progress_notice. epoch: 7, iterations: 20 speed: 50.25115820734139 samples/sec learning_rate: 0.000031\u001b[0m\n",
      "\u001b[34m[02/01/2024 04:15:05 INFO 139696741308224] #progress_notice. epoch: 7, iterations: 40 speed: 49.9331935983833 samples/sec learning_rate: 0.000029\u001b[0m\n",
      "\u001b[34m[02/01/2024 04:15:11 INFO 139696741308224] #progress_notice. epoch: 7, iterations: 60 speed: 49.62106198707952 samples/sec learning_rate: 0.000027\u001b[0m\n",
      "\u001b[34m[02/01/2024 04:15:18 INFO 139696741308224] #progress_notice. epoch: 7, iterations: 80 speed: 50.65385718555733 samples/sec learning_rate: 0.000024\u001b[0m\n",
      "\u001b[34m[02/01/2024 04:15:21 INFO 139696741308224] #quality_metric. host: algo-1, epoch: 7, train loss: 0.6298076014803804 .\u001b[0m\n",
      "\u001b[34m[02/01/2024 04:15:21 INFO 139696741308224] #throughput_metric. host: algo-1, epoch: 7, train throughput: 49.254373606282826 samples/sec.\u001b[0m\n",
      "\u001b[34m[02/01/2024 04:15:30 INFO 139696741308224] #progress_notice. epoch: 7, iterations: 20 speed: 46.58435583247952 samples/sec\u001b[0m\n",
      "\u001b[34m[02/01/2024 04:15:37 INFO 139696741308224] #progress_notice. epoch: 7, iterations: 40 speed: 46.71149542656719 samples/sec\u001b[0m\n",
      "\u001b[34m[02/01/2024 04:15:44 INFO 139696741308224] #progress_notice. epoch: 7, iterations: 60 speed: 46.19357023627196 samples/sec\u001b[0m\n",
      "\u001b[34m[02/01/2024 04:15:51 INFO 139696741308224] #progress_notice. epoch: 7, iterations: 80 speed: 45.58926979848264 samples/sec\u001b[0m\n",
      "\u001b[34m[02/01/2024 04:15:55 INFO 139696741308224] #quality_metric. host: algo-1, epoch: 7, validation pixel_accuracy: 0.9006131215197605 .\u001b[0m\n",
      "\u001b[34m[02/01/2024 04:15:55 INFO 139696741308224] #quality_metric. host: algo-1, epoch: 7, validation mIOU: 0.6424944292714525 .\u001b[0m\n",
      "\u001b[34m[02/01/2024 04:15:55 INFO 139696741308224] #throughput_metric. host: algo-1, epoch: 7, validation throughput: 44.94598365469087 samples/sec.\u001b[0m\n",
      "\u001b[34m[02/01/2024 04:15:55 INFO 139696741308224] Serializing model to /opt/ml/model/model_best.params\u001b[0m\n",
      "\u001b[34m[02/01/2024 04:15:55 INFO 139696741308224] #progress_metric: host=algo-1, completed 80.0 % of epochs\u001b[0m\n",
      "\u001b[34m#metrics {\"StartTime\": 1706760890.7012956, \"EndTime\": 1706760955.3252673, \"Dimensions\": {\"Algorithm\": \"AWS/Semantic Segmentation\", \"Host\": \"algo-1\", \"Operation\": \"training\", \"epoch\": 7, \"Meta\": \"training_data_iter\"}, \"Metrics\": {\"Total Records Seen\": {\"sum\": 0.0, \"count\": 1, \"min\": 0, \"max\": 0}, \"Total Batches Seen\": {\"sum\": 0.0, \"count\": 1, \"min\": 0, \"max\": 0}, \"Max Records Seen Between Resets\": {\"sum\": 0.0, \"count\": 1, \"min\": 0, \"max\": 0}, \"Max Batches Seen Between Resets\": {\"sum\": 0.0, \"count\": 1, \"min\": 0, \"max\": 0}, \"Reset Count\": {\"sum\": 8.0, \"count\": 1, \"min\": 8, \"max\": 8}, \"Number of Records Since Last Reset\": {\"sum\": 0.0, \"count\": 1, \"min\": 0, \"max\": 0}, \"Number of Batches Since Last Reset\": {\"sum\": 0.0, \"count\": 1, \"min\": 0, \"max\": 0}}}\u001b[0m\n",
      "\u001b[34m[02/01/2024 04:16:03 INFO 139696741308224] #progress_notice. epoch: 8, iterations: 20 speed: 49.1325077331381 samples/sec learning_rate: 0.000021\u001b[0m\n",
      "\u001b[34m[02/01/2024 04:16:09 INFO 139696741308224] #progress_notice. epoch: 8, iterations: 40 speed: 50.5385782084746 samples/sec learning_rate: 0.000018\u001b[0m\n",
      "\u001b[34m[02/01/2024 04:16:16 INFO 139696741308224] #progress_notice. epoch: 8, iterations: 60 speed: 50.74816355235596 samples/sec learning_rate: 0.000016\u001b[0m\n",
      "\u001b[34m[02/01/2024 04:16:22 INFO 139696741308224] #progress_notice. epoch: 8, iterations: 80 speed: 50.625198211831304 samples/sec learning_rate: 0.000013\u001b[0m\n",
      "\u001b[34m[02/01/2024 04:16:26 INFO 139696741308224] #quality_metric. host: algo-1, epoch: 8, train loss: 0.6032169212351789 .\u001b[0m\n",
      "\u001b[34m[02/01/2024 04:16:26 INFO 139696741308224] #throughput_metric. host: algo-1, epoch: 8, train throughput: 49.48584397582237 samples/sec.\u001b[0m\n",
      "\u001b[34m[02/01/2024 04:16:34 INFO 139696741308224] #progress_notice. epoch: 8, iterations: 20 speed: 45.412129324240375 samples/sec\u001b[0m\n",
      "\u001b[34m[02/01/2024 04:16:41 INFO 139696741308224] #progress_notice. epoch: 8, iterations: 40 speed: 46.276294358347734 samples/sec\u001b[0m\n",
      "\u001b[34m[02/01/2024 04:16:48 INFO 139696741308224] #progress_notice. epoch: 8, iterations: 60 speed: 45.918207962164566 samples/sec\u001b[0m\n",
      "\u001b[34m[02/01/2024 04:16:55 INFO 139696741308224] #progress_notice. epoch: 8, iterations: 80 speed: 46.22726759228389 samples/sec\u001b[0m\n",
      "\u001b[34m[02/01/2024 04:16:59 INFO 139696741308224] #quality_metric. host: algo-1, epoch: 8, validation pixel_accuracy: 0.9016537433390115 .\u001b[0m\n",
      "\u001b[34m[02/01/2024 04:16:59 INFO 139696741308224] #quality_metric. host: algo-1, epoch: 8, validation mIOU: 0.6494115776035068 .\u001b[0m\n",
      "\u001b[34m[02/01/2024 04:16:59 INFO 139696741308224] #throughput_metric. host: algo-1, epoch: 8, validation throughput: 45.23861198497382 samples/sec.\u001b[0m\n",
      "\u001b[34m[02/01/2024 04:16:59 INFO 139696741308224] Serializing model to /opt/ml/model/model_best.params\u001b[0m\n",
      "\u001b[34m[02/01/2024 04:16:59 INFO 139696741308224] #progress_metric: host=algo-1, completed 90.0 % of epochs\u001b[0m\n",
      "\u001b[34m#metrics {\"StartTime\": 1706760955.32545, \"EndTime\": 1706761019.7851856, \"Dimensions\": {\"Algorithm\": \"AWS/Semantic Segmentation\", \"Host\": \"algo-1\", \"Operation\": \"training\", \"epoch\": 8, \"Meta\": \"training_data_iter\"}, \"Metrics\": {\"Total Records Seen\": {\"sum\": 0.0, \"count\": 1, \"min\": 0, \"max\": 0}, \"Total Batches Seen\": {\"sum\": 0.0, \"count\": 1, \"min\": 0, \"max\": 0}, \"Max Records Seen Between Resets\": {\"sum\": 0.0, \"count\": 1, \"min\": 0, \"max\": 0}, \"Max Batches Seen Between Resets\": {\"sum\": 0.0, \"count\": 1, \"min\": 0, \"max\": 0}, \"Reset Count\": {\"sum\": 9.0, \"count\": 1, \"min\": 9, \"max\": 9}, \"Number of Records Since Last Reset\": {\"sum\": 0.0, \"count\": 1, \"min\": 0, \"max\": 0}, \"Number of Batches Since Last Reset\": {\"sum\": 0.0, \"count\": 1, \"min\": 0, \"max\": 0}}}\u001b[0m\n",
      "\u001b[34m[02/01/2024 04:17:07 INFO 139696741308224] #progress_notice. epoch: 9, iterations: 20 speed: 50.08875510431042 samples/sec learning_rate: 0.000009\u001b[0m\n",
      "\u001b[34m[02/01/2024 04:17:14 INFO 139696741308224] #progress_notice. epoch: 9, iterations: 40 speed: 50.301819021320355 samples/sec learning_rate: 0.000007\u001b[0m\n",
      "\u001b[34m[02/01/2024 04:17:20 INFO 139696741308224] #progress_notice. epoch: 9, iterations: 60 speed: 49.98965626408334 samples/sec learning_rate: 0.000004\u001b[0m\n",
      "\u001b[34m[02/01/2024 04:17:26 INFO 139696741308224] #progress_notice. epoch: 9, iterations: 80 speed: 50.43079494285766 samples/sec learning_rate: 0.000001\u001b[0m\n",
      "\u001b[34m[02/01/2024 04:17:30 INFO 139696741308224] #quality_metric. host: algo-1, epoch: 9, train loss: 0.5745235597309859 .\u001b[0m\n",
      "\u001b[34m[02/01/2024 04:17:30 INFO 139696741308224] #throughput_metric. host: algo-1, epoch: 9, train throughput: 49.302876625578406 samples/sec.\u001b[0m\n",
      "\u001b[34m[02/01/2024 04:17:39 INFO 139696741308224] #progress_notice. epoch: 9, iterations: 20 speed: 45.583355238982136 samples/sec\u001b[0m\n",
      "\u001b[34m[02/01/2024 04:17:46 INFO 139696741308224] #progress_notice. epoch: 9, iterations: 40 speed: 45.01361565864466 samples/sec\u001b[0m\n",
      "\u001b[34m[02/01/2024 04:17:53 INFO 139696741308224] #progress_notice. epoch: 9, iterations: 60 speed: 45.66092363045529 samples/sec\u001b[0m\n",
      "\u001b[34m[02/01/2024 04:18:00 INFO 139696741308224] #progress_notice. epoch: 9, iterations: 80 speed: 45.452760094632204 samples/sec\u001b[0m\n",
      "\u001b[34m[02/01/2024 04:18:03 INFO 139696741308224] #quality_metric. host: algo-1, epoch: 9, validation pixel_accuracy: 0.9035771880246918 .\u001b[0m\n",
      "\u001b[34m[02/01/2024 04:18:03 INFO 139696741308224] #quality_metric. host: algo-1, epoch: 9, validation mIOU: 0.6504309875883476 .\u001b[0m\n",
      "\u001b[34m[02/01/2024 04:18:03 INFO 139696741308224] #throughput_metric. host: algo-1, epoch: 9, validation throughput: 45.15294734892862 samples/sec.\u001b[0m\n",
      "\u001b[34m[02/01/2024 04:18:03 INFO 139696741308224] Serializing model to /opt/ml/model/model_best.params\u001b[0m\n",
      "\u001b[34m[02/01/2024 04:18:04 INFO 139696741308224] #progress_metric: host=algo-1, completed 100.0 % of epochs\u001b[0m\n",
      "\u001b[34m#metrics {\"StartTime\": 1706761019.7853527, \"EndTime\": 1706761084.0104558, \"Dimensions\": {\"Algorithm\": \"AWS/Semantic Segmentation\", \"Host\": \"algo-1\", \"Operation\": \"training\", \"epoch\": 9, \"Meta\": \"training_data_iter\"}, \"Metrics\": {\"Total Records Seen\": {\"sum\": 0.0, \"count\": 1, \"min\": 0, \"max\": 0}, \"Total Batches Seen\": {\"sum\": 0.0, \"count\": 1, \"min\": 0, \"max\": 0}, \"Max Records Seen Between Resets\": {\"sum\": 0.0, \"count\": 1, \"min\": 0, \"max\": 0}, \"Max Batches Seen Between Resets\": {\"sum\": 0.0, \"count\": 1, \"min\": 0, \"max\": 0}, \"Reset Count\": {\"sum\": 10.0, \"count\": 1, \"min\": 10, \"max\": 10}, \"Number of Records Since Last Reset\": {\"sum\": 0.0, \"count\": 1, \"min\": 0, \"max\": 0}, \"Number of Batches Since Last Reset\": {\"sum\": 0.0, \"count\": 1, \"min\": 0, \"max\": 0}}}\u001b[0m\n",
      "\u001b[34m[02/01/2024 04:18:04 WARNING 139696741308224] wait_for_all_workers will not sync workers since the kv store is not running distributed\u001b[0m\n",
      "\u001b[34m[02/01/2024 04:18:04 INFO 139696741308224] Serializing model to /opt/ml/model/model_algo-1\u001b[0m\n",
      "\u001b[34m[02/01/2024 04:18:04 INFO 139696741308224] Test data is not provided.\u001b[0m\n",
      "\u001b[34m#metrics {\"StartTime\": 1706760434.1464524, \"EndTime\": 1706761084.2662776, \"Dimensions\": {\"Algorithm\": \"AWS/Semantic Segmentation\", \"Host\": \"algo-1\", \"Operation\": \"training\"}, \"Metrics\": {\"epochs\": {\"sum\": 10.0, \"count\": 1, \"min\": 10, \"max\": 10}, \"setuptime\": {\"sum\": 13.978242874145508, \"count\": 1, \"min\": 13.978242874145508, \"max\": 13.978242874145508}, \"totaltime\": {\"sum\": 651372.2591400146, \"count\": 1, \"min\": 651372.2591400146, \"max\": 651372.2591400146}}}\u001b[0m\n",
      "\n",
      "2024-02-01 04:18:47 Uploading - Uploading generated training model\n",
      "2024-02-01 04:18:58 Completed - Training job completed\n",
      "Training seconds: 970\n",
      "Billable seconds: 970\n"
     ]
    }
   ],
   "source": [
    "ss_estimator.fit(data_channels, logs=True)"
   ]
  },
  {
   "cell_type": "markdown",
   "metadata": {},
   "source": [
    "## Deployment\n",
    "\n",
    "Once the training is done, we can deploy the trained model as an Amazon SageMaker hosted endpoint. This will allow us to make predictions (or inference) from the model.\n",
    "\n",
    "Note that we don't have to host on the same number or type of instances that we used to train, and can choose any SageMaker-supported instance type. Training is compute-heavy job that may have different infrastructure requirements than inference/hosting. In our case we chose the GPU-accelerated `ml.p3.2xlarge` instance to train, but will host the model on a lower cost-per-hour `ml.c5.xlarge` type - because we'll only be serving occasional requests.\n",
    "\n",
    "The endpoint deployment can be accomplished as follows:"
   ]
  },
  {
   "cell_type": "code",
   "execution_count": 17,
   "metadata": {},
   "outputs": [
    {
     "name": "stderr",
     "output_type": "stream",
     "text": [
      "Creating model with name: ss-notebook-demo-2024-02-01-04-19-36-787\n",
      "Creating endpoint-config with name ss-notebook-demo-2024-02-01-04-19-36-787\n",
      "Creating endpoint with name ss-notebook-demo-2024-02-01-04-19-36-787\n"
     ]
    },
    {
     "name": "stdout",
     "output_type": "stream",
     "text": [
      "--------------!"
     ]
    }
   ],
   "source": [
    "ss_predictor = ss_estimator.deploy(initial_instance_count=1, instance_type=\"ml.c5.xlarge\")"
   ]
  },
  {
   "cell_type": "code",
   "execution_count": 18,
   "metadata": {},
   "outputs": [],
   "source": [
    "# As with Estimators & training jobs, we can instead attach to an existing Endpoint:\n",
    "# ss_predictor = sagemaker.predictor.Predictor(\"ss-notebook-demo-2020-10-29-07-23-03-086\")"
   ]
  },
  {
   "cell_type": "markdown",
   "metadata": {},
   "source": [
    "## Inference\n",
    "\n",
    "Now that the trained model is deployed to an endpoint, we can use this endpoint for inference.\n",
    "\n",
    "To test it out, let us download an image from the web which the algorithm has so-far not seen. "
   ]
  },
  {
   "cell_type": "code",
   "execution_count": 21,
   "metadata": {
    "tags": []
   },
   "outputs": [],
   "source": [
    "!mkdir data"
   ]
  },
  {
   "cell_type": "code",
   "execution_count": 24,
   "metadata": {},
   "outputs": [
    {
     "name": "stdout",
     "output_type": "stream",
     "text": [
      "--2024-01-31 21:04:39--  https://github.com/kamangir/blue-bracket/raw/main/images/helmet-1.jpg\n",
      "Resolving github.com (github.com)... 140.82.112.4\n",
      "Connecting to github.com (github.com)|140.82.112.4|:443... connected.\n",
      "HTTP request sent, awaiting response... 302 Found\n",
      "Location: https://raw.githubusercontent.com/kamangir/blue-bracket/main/images/helmet-1.jpg [following]\n",
      "--2024-01-31 21:04:39--  https://raw.githubusercontent.com/kamangir/blue-bracket/main/images/helmet-1.jpg\n",
      "Resolving raw.githubusercontent.com (raw.githubusercontent.com)... 185.199.110.133, 185.199.108.133, 185.199.109.133, ...\n",
      "Connecting to raw.githubusercontent.com (raw.githubusercontent.com)|185.199.110.133|:443... connected.\n",
      "HTTP request sent, awaiting response... 200 OK\n",
      "Length: 1385654 (1.3M) [image/jpeg]\n",
      "Saving to: ‘data/test.jpg’\n",
      "\n",
      "data/test.jpg       100%[===================>]   1.32M  --.-KB/s    in 0.1s    \n",
      "\n",
      "2024-01-31 21:04:40 (8.81 MB/s) - ‘data/test.jpg’ saved [1385654/1385654]\n",
      "\n"
     ]
    }
   ],
   "source": [
    "filename_raw = \"data/test.jpg\"\n",
    "\n",
    "!wget -O $filename_raw https://github.com/kamangir/blue-bracket/raw/main/images/helmet-1.jpg"
   ]
  },
  {
   "cell_type": "markdown",
   "metadata": {},
   "source": [
    "The scale of the input image may affect the prediction results and latency, so we'll down-scale the raw image before sending it to our endpoint. You could experiment with different input resolutions (and aspect ratios) and see how the results change:"
   ]
  },
  {
   "cell_type": "code",
   "execution_count": 25,
   "metadata": {},
   "outputs": [
    {
     "data": {
      "image/png": "[encoded data removed]",
      "text/plain": [
       "<Figure size 640x480 with 1 Axes>"
      ]
     },
     "metadata": {},
     "output_type": "display_data"
    }
   ],
   "source": [
    "from matplotlib import pyplot as plt\n",
    "import PIL\n",
    "\n",
    "%matplotlib inline\n",
    "\n",
    "filename = \"data/test_resized.jpg\"\n",
    "width = 800\n",
    "\n",
    "im = PIL.Image.open(filename_raw)\n",
    "\n",
    "aspect = im.size[0] / im.size[1]\n",
    "\n",
    "# https://stackoverflow.com/a/14351890/17619982\n",
    "im.thumbnail([width, int(width / aspect)], PIL.Image.LANCZOS)\n",
    "im.save(filename, \"JPEG\")\n",
    "\n",
    "plt.imshow(im)\n",
    "plt.show()"
   ]
  },
  {
   "cell_type": "markdown",
   "metadata": {},
   "source": [
    "The endpoint accepts images in formats similar to the ones found images in the training dataset. The input `Content-Type` should be `image/jpeg`, and the output `Accept` type can be either:\n",
    "\n",
    "- `image/png`, which produces an indexed-PNG segmentation mask as used in training: One predicted class ID per pixel... Or,\n",
    "- `application/x-protobuf`, which produces a 3D matrix giving the *confidence of each class*, for each pixel.\n",
    "\n",
    "In the SageMaker SDK, A `Predictor` has an associated **serializer** and **deserializer** which control how data gets translated to our API call, and loaded back into a Python result object.\n",
    "\n",
    "There are pre-built [serializers](https://sagemaker.readthedocs.io/en/stable/api/inference/serializers.html) and [deserializers](https://sagemaker.readthedocs.io/en/stable/api/inference/deserializers.html) offered by the SDK, and we're free to define custom ones so long as they offer the same API.\n",
    "\n",
    "\n",
    "### Basic inference - class IDs PNG\n",
    "\n",
    "In our first example, we'll request the simple PNG response and would like to map those into pixel arrays (assigned class for each pixel)... So we'll write a custom deserializer for that:"
   ]
  },
  {
   "cell_type": "code",
   "execution_count": 26,
   "metadata": {},
   "outputs": [],
   "source": [
    "from PIL import Image\n",
    "import numpy as np\n",
    "\n",
    "\n",
    "class ImageDeserializer(sagemaker.deserializers.BaseDeserializer):\n",
    "    \"\"\"Deserialize a PIL-compatible stream of Image bytes into a numpy pixel array\"\"\"\n",
    "\n",
    "    def __init__(self, accept=\"image/png\"):\n",
    "        self.accept = accept\n",
    "\n",
    "    @property\n",
    "    def ACCEPT(self):\n",
    "        return (self.accept,)\n",
    "\n",
    "    def deserialize(self, stream, content_type):\n",
    "        \"\"\"Read a stream of bytes returned from an inference endpoint.\n",
    "        Args:\n",
    "            stream (botocore.response.StreamingBody): A stream of bytes.\n",
    "            content_type (str): The MIME type of the data.\n",
    "        Returns:\n",
    "            mask: The numpy array of class labels per pixel\n",
    "        \"\"\"\n",
    "        try:\n",
    "            return np.array(Image.open(stream))\n",
    "        finally:\n",
    "            stream.close()\n",
    "\n",
    "\n",
    "ss_predictor.deserializer = ImageDeserializer(accept=\"image/png\")"
   ]
  },
  {
   "cell_type": "markdown",
   "metadata": {},
   "source": [
    "For the input our data is already stored as a JPEG file, so we'll use the built-in `IdentitySerializer` and feed it the file bytes:"
   ]
  },
  {
   "cell_type": "code",
   "execution_count": 27,
   "metadata": {},
   "outputs": [],
   "source": [
    "ss_predictor.serializer = sagemaker.serializers.IdentitySerializer(\"image/jpeg\")\n",
    "\n",
    "with open(filename, \"rb\") as imfile:\n",
    "    imbytes = imfile.read()\n",
    "\n",
    "# Extension exercise: Could you write a custom serializer which takes a filename as input instead?"
   ]
  },
  {
   "cell_type": "markdown",
   "metadata": {},
   "source": [
    "With that configured, calling our endpoint is now simple!"
   ]
  },
  {
   "cell_type": "code",
   "execution_count": 28,
   "metadata": {},
   "outputs": [
    {
     "name": "stdout",
     "output_type": "stream",
     "text": [
      "<class 'numpy.ndarray'>\n",
      "(1422, 800)\n",
      "CPU times: user 21.2 ms, sys: 7.65 ms, total: 28.9 ms\n",
      "Wall time: 22.6 s\n"
     ]
    }
   ],
   "source": [
    "%%time\n",
    "\n",
    "cls_mask = ss_predictor.predict(imbytes)\n",
    "\n",
    "print(type(cls_mask))\n",
    "print(cls_mask.shape)"
   ]
  },
  {
   "cell_type": "code",
   "execution_count": 29,
   "metadata": {},
   "outputs": [
    {
     "data": {
      "text/plain": [
       "['delete_predictor', 'predict']"
      ]
     },
     "execution_count": 29,
     "metadata": {},
     "output_type": "execute_result"
    }
   ],
   "source": [
    "[func for func in dir(ss_predictor) if \"predict\" in func]"
   ]
  },
  {
   "cell_type": "code",
   "execution_count": 30,
   "metadata": {},
   "outputs": [
    {
     "data": {
      "text/plain": [
       "array([ 0,  1,  5,  6,  7, 10, 14, 15, 19], dtype=uint8)"
      ]
     },
     "execution_count": 30,
     "metadata": {},
     "output_type": "execute_result"
    }
   ],
   "source": [
    "np.unique(cls_mask)"
   ]
  },
  {
   "cell_type": "markdown",
   "metadata": {},
   "source": [
    "Let us display the segmentation mask.\n",
    "\n",
    "Since the raw value of each pixel is a small number (the class ID), we'll apply a [colormap](https://matplotlib.org/3.3.2/tutorials/colors/colormaps.html) to make it a bit more human readable and not just a black square!"
   ]
  },
  {
   "cell_type": "code",
   "execution_count": 31,
   "metadata": {},
   "outputs": [
    {
     "data": {
      "image/png": "[encoded data removed]",
      "text/plain": [
       "<Figure size 640x480 with 1 Axes>"
      ]
     },
     "metadata": {},
     "output_type": "display_data"
    }
   ],
   "source": [
    "plt.imshow(cls_mask, cmap=\"jet\")\n",
    "plt.show()"
   ]
  },
  {
   "cell_type": "markdown",
   "metadata": {},
   "source": [
    "## Delete the Endpoint\n",
    "\n",
    "Deployed endpoints are backed by infrastructure (1x`ml.c5.xlarge` in our case, as we requested above) - so we should delete the endpoint when we're finished with it, to avoid incurring continued costs."
   ]
  },
  {
   "cell_type": "code",
   "execution_count": 32,
   "metadata": {},
   "outputs": [
    {
     "name": "stderr",
     "output_type": "stream",
     "text": [
      "Deleting endpoint configuration with name: ss-notebook-demo-2024-02-01-04-19-36-787\n",
      "Deleting endpoint with name: ss-notebook-demo-2024-02-01-04-19-36-787\n"
     ]
    }
   ],
   "source": [
    "ss_predictor.delete_endpoint()"
   ]
  },
  {
   "cell_type": "markdown",
   "metadata": {},
   "source": [
    "## Notebook CI Test Results\n",
    "\n",
    "This notebook was tested in multiple regions. The test results are as follows, except for us-west-2 which is shown at the top of the notebook.\n",
    "\n",
    "![This us-east-1 badge failed to load. Check your device's internet connectivity, otherwise the service is currently unavailable](https://prod.us-west-2.tcx-beacon.docs.aws.dev/sagemaker-nb/us-east-1/introduction_to_amazon_algorithms|semantic_segmentation_pascalvoc|semantic_segmentation_pascalvoc.ipynb)\n",
    "\n",
    "![This us-east-2 badge failed to load. Check your device's internet connectivity, otherwise the service is currently unavailable](https://prod.us-west-2.tcx-beacon.docs.aws.dev/sagemaker-nb/us-east-2/introduction_to_amazon_algorithms|semantic_segmentation_pascalvoc|semantic_segmentation_pascalvoc.ipynb)\n",
    "\n",
    "![This us-west-1 badge failed to load. Check your device's internet connectivity, otherwise the service is currently unavailable](https://prod.us-west-2.tcx-beacon.docs.aws.dev/sagemaker-nb/us-west-1/introduction_to_amazon_algorithms|semantic_segmentation_pascalvoc|semantic_segmentation_pascalvoc.ipynb)\n",
    "\n",
    "![This ca-central-1 badge failed to load. Check your device's internet connectivity, otherwise the service is currently unavailable](https://prod.us-west-2.tcx-beacon.docs.aws.dev/sagemaker-nb/ca-central-1/introduction_to_amazon_algorithms|semantic_segmentation_pascalvoc|semantic_segmentation_pascalvoc.ipynb)\n",
    "\n",
    "![This sa-east-1 badge failed to load. Check your device's internet connectivity, otherwise the service is currently unavailable](https://prod.us-west-2.tcx-beacon.docs.aws.dev/sagemaker-nb/sa-east-1/introduction_to_amazon_algorithms|semantic_segmentation_pascalvoc|semantic_segmentation_pascalvoc.ipynb)\n",
    "\n",
    "![This eu-west-1 badge failed to load. Check your device's internet connectivity, otherwise the service is currently unavailable](https://prod.us-west-2.tcx-beacon.docs.aws.dev/sagemaker-nb/eu-west-1/introduction_to_amazon_algorithms|semantic_segmentation_pascalvoc|semantic_segmentation_pascalvoc.ipynb)\n",
    "\n",
    "![This eu-west-2 badge failed to load. Check your device's internet connectivity, otherwise the service is currently unavailable](https://prod.us-west-2.tcx-beacon.docs.aws.dev/sagemaker-nb/eu-west-2/introduction_to_amazon_algorithms|semantic_segmentation_pascalvoc|semantic_segmentation_pascalvoc.ipynb)\n",
    "\n",
    "![This eu-west-3 badge failed to load. Check your device's internet connectivity, otherwise the service is currently unavailable](https://prod.us-west-2.tcx-beacon.docs.aws.dev/sagemaker-nb/eu-west-3/introduction_to_amazon_algorithms|semantic_segmentation_pascalvoc|semantic_segmentation_pascalvoc.ipynb)\n",
    "\n",
    "![This eu-central-1 badge failed to load. Check your device's internet connectivity, otherwise the service is currently unavailable](https://prod.us-west-2.tcx-beacon.docs.aws.dev/sagemaker-nb/eu-central-1/introduction_to_amazon_algorithms|semantic_segmentation_pascalvoc|semantic_segmentation_pascalvoc.ipynb)\n",
    "\n",
    "![This eu-north-1 badge failed to load. Check your device's internet connectivity, otherwise the service is currently unavailable](https://prod.us-west-2.tcx-beacon.docs.aws.dev/sagemaker-nb/eu-north-1/introduction_to_amazon_algorithms|semantic_segmentation_pascalvoc|semantic_segmentation_pascalvoc.ipynb)\n",
    "\n",
    "![This ap-southeast-1 badge failed to load. Check your device's internet connectivity, otherwise the service is currently unavailable](https://prod.us-west-2.tcx-beacon.docs.aws.dev/sagemaker-nb/ap-southeast-1/introduction_to_amazon_algorithms|semantic_segmentation_pascalvoc|semantic_segmentation_pascalvoc.ipynb)\n",
    "\n",
    "![This ap-southeast-2 badge failed to load. Check your device's internet connectivity, otherwise the service is currently unavailable](https://prod.us-west-2.tcx-beacon.docs.aws.dev/sagemaker-nb/ap-southeast-2/introduction_to_amazon_algorithms|semantic_segmentation_pascalvoc|semantic_segmentation_pascalvoc.ipynb)\n",
    "\n",
    "![This ap-northeast-1 badge failed to load. Check your device's internet connectivity, otherwise the service is currently unavailable](https://prod.us-west-2.tcx-beacon.docs.aws.dev/sagemaker-nb/ap-northeast-1/introduction_to_amazon_algorithms|semantic_segmentation_pascalvoc|semantic_segmentation_pascalvoc.ipynb)\n",
    "\n",
    "![This ap-northeast-2 badge failed to load. Check your device's internet connectivity, otherwise the service is currently unavailable](https://prod.us-west-2.tcx-beacon.docs.aws.dev/sagemaker-nb/ap-northeast-2/introduction_to_amazon_algorithms|semantic_segmentation_pascalvoc|semantic_segmentation_pascalvoc.ipynb)\n",
    "\n",
    "![This ap-south-1 badge failed to load. Check your device's internet connectivity, otherwise the service is currently unavailable](https://prod.us-west-2.tcx-beacon.docs.aws.dev/sagemaker-nb/ap-south-1/introduction_to_amazon_algorithms|semantic_segmentation_pascalvoc|semantic_segmentation_pascalvoc.ipynb)\n"
   ]
  }
 ],
 "metadata": {
  "availableInstances": [
   {
    "_defaultOrder": 0,
    "_isFastLaunch": true,
    "category": "General purpose",
    "gpuNum": 0,
    "hideHardwareSpecs": false,
    "memoryGiB": 4,
    "name": "ml.t3.medium",
    "vcpuNum": 2
   },
   {
    "_defaultOrder": 1,
    "_isFastLaunch": false,
    "category": "General purpose",
    "gpuNum": 0,
    "hideHardwareSpecs": false,
    "memoryGiB": 8,
    "name": "ml.t3.large",
    "vcpuNum": 2
   },
   {
    "_defaultOrder": 2,
    "_isFastLaunch": false,
    "category": "General purpose",
    "gpuNum": 0,
    "hideHardwareSpecs": false,
    "memoryGiB": 16,
    "name": "ml.t3.xlarge",
    "vcpuNum": 4
   },
   {
    "_defaultOrder": 3,
    "_isFastLaunch": false,
    "category": "General purpose",
    "gpuNum": 0,
    "hideHardwareSpecs": false,
    "memoryGiB": 32,
    "name": "ml.t3.2xlarge",
    "vcpuNum": 8
   },
   {
    "_defaultOrder": 4,
    "_isFastLaunch": true,
    "category": "General purpose",
    "gpuNum": 0,
    "hideHardwareSpecs": false,
    "memoryGiB": 8,
    "name": "ml.m5.large",
    "vcpuNum": 2
   },
   {
    "_defaultOrder": 5,
    "_isFastLaunch": false,
    "category": "General purpose",
    "gpuNum": 0,
    "hideHardwareSpecs": false,
    "memoryGiB": 16,
    "name": "ml.m5.xlarge",
    "vcpuNum": 4
   },
   {
    "_defaultOrder": 6,
    "_isFastLaunch": false,
    "category": "General purpose",
    "gpuNum": 0,
    "hideHardwareSpecs": false,
    "memoryGiB": 32,
    "name": "ml.m5.2xlarge",
    "vcpuNum": 8
   },
   {
    "_defaultOrder": 7,
    "_isFastLaunch": false,
    "category": "General purpose",
    "gpuNum": 0,
    "hideHardwareSpecs": false,
    "memoryGiB": 64,
    "name": "ml.m5.4xlarge",
    "vcpuNum": 16
   },
   {
    "_defaultOrder": 8,
    "_isFastLaunch": false,
    "category": "General purpose",
    "gpuNum": 0,
    "hideHardwareSpecs": false,
    "memoryGiB": 128,
    "name": "ml.m5.8xlarge",
    "vcpuNum": 32
   },
   {
    "_defaultOrder": 9,
    "_isFastLaunch": false,
    "category": "General purpose",
    "gpuNum": 0,
    "hideHardwareSpecs": false,
    "memoryGiB": 192,
    "name": "ml.m5.12xlarge",
    "vcpuNum": 48
   },
   {
    "_defaultOrder": 10,
    "_isFastLaunch": false,
    "category": "General purpose",
    "gpuNum": 0,
    "hideHardwareSpecs": false,
    "memoryGiB": 256,
    "name": "ml.m5.16xlarge",
    "vcpuNum": 64
   },
   {
    "_defaultOrder": 11,
    "_isFastLaunch": false,
    "category": "General purpose",
    "gpuNum": 0,
    "hideHardwareSpecs": false,
    "memoryGiB": 384,
    "name": "ml.m5.24xlarge",
    "vcpuNum": 96
   },
   {
    "_defaultOrder": 12,
    "_isFastLaunch": false,
    "category": "General purpose",
    "gpuNum": 0,
    "hideHardwareSpecs": false,
    "memoryGiB": 8,
    "name": "ml.m5d.large",
    "vcpuNum": 2
   },
   {
    "_defaultOrder": 13,
    "_isFastLaunch": false,
    "category": "General purpose",
    "gpuNum": 0,
    "hideHardwareSpecs": false,
    "memoryGiB": 16,
    "name": "ml.m5d.xlarge",
    "vcpuNum": 4
   },
   {
    "_defaultOrder": 14,
    "_isFastLaunch": false,
    "category": "General purpose",
    "gpuNum": 0,
    "hideHardwareSpecs": false,
    "memoryGiB": 32,
    "name": "ml.m5d.2xlarge",
    "vcpuNum": 8
   },
   {
    "_defaultOrder": 15,
    "_isFastLaunch": false,
    "category": "General purpose",
    "gpuNum": 0,
    "hideHardwareSpecs": false,
    "memoryGiB": 64,
    "name": "ml.m5d.4xlarge",
    "vcpuNum": 16
   },
   {
    "_defaultOrder": 16,
    "_isFastLaunch": false,
    "category": "General purpose",
    "gpuNum": 0,
    "hideHardwareSpecs": false,
    "memoryGiB": 128,
    "name": "ml.m5d.8xlarge",
    "vcpuNum": 32
   },
   {
    "_defaultOrder": 17,
    "_isFastLaunch": false,
    "category": "General purpose",
    "gpuNum": 0,
    "hideHardwareSpecs": false,
    "memoryGiB": 192,
    "name": "ml.m5d.12xlarge",
    "vcpuNum": 48
   },
   {
    "_defaultOrder": 18,
    "_isFastLaunch": false,
    "category": "General purpose",
    "gpuNum": 0,
    "hideHardwareSpecs": false,
    "memoryGiB": 256,
    "name": "ml.m5d.16xlarge",
    "vcpuNum": 64
   },
   {
    "_defaultOrder": 19,
    "_isFastLaunch": false,
    "category": "General purpose",
    "gpuNum": 0,
    "hideHardwareSpecs": false,
    "memoryGiB": 384,
    "name": "ml.m5d.24xlarge",
    "vcpuNum": 96
   },
   {
    "_defaultOrder": 20,
    "_isFastLaunch": false,
    "category": "General purpose",
    "gpuNum": 0,
    "hideHardwareSpecs": true,
    "memoryGiB": 0,
    "name": "ml.geospatial.interactive",
    "supportedImageNames": [
     "sagemaker-geospatial-v1-0"
    ],
    "vcpuNum": 0
   },
   {
    "_defaultOrder": 21,
    "_isFastLaunch": true,
    "category": "Compute optimized",
    "gpuNum": 0,
    "hideHardwareSpecs": false,
    "memoryGiB": 4,
    "name": "ml.c5.large",
    "vcpuNum": 2
   },
   {
    "_defaultOrder": 22,
    "_isFastLaunch": false,
    "category": "Compute optimized",
    "gpuNum": 0,
    "hideHardwareSpecs": false,
    "memoryGiB": 8,
    "name": "ml.c5.xlarge",
    "vcpuNum": 4
   },
   {
    "_defaultOrder": 23,
    "_isFastLaunch": false,
    "category": "Compute optimized",
    "gpuNum": 0,
    "hideHardwareSpecs": false,
    "memoryGiB": 16,
    "name": "ml.c5.2xlarge",
    "vcpuNum": 8
   },
   {
    "_defaultOrder": 24,
    "_isFastLaunch": false,
    "category": "Compute optimized",
    "gpuNum": 0,
    "hideHardwareSpecs": false,
    "memoryGiB": 32,
    "name": "ml.c5.4xlarge",
    "vcpuNum": 16
   },
   {
    "_defaultOrder": 25,
    "_isFastLaunch": false,
    "category": "Compute optimized",
    "gpuNum": 0,
    "hideHardwareSpecs": false,
    "memoryGiB": 72,
    "name": "ml.c5.9xlarge",
    "vcpuNum": 36
   },
   {
    "_defaultOrder": 26,
    "_isFastLaunch": false,
    "category": "Compute optimized",
    "gpuNum": 0,
    "hideHardwareSpecs": false,
    "memoryGiB": 96,
    "name": "ml.c5.12xlarge",
    "vcpuNum": 48
   },
   {
    "_defaultOrder": 27,
    "_isFastLaunch": false,
    "category": "Compute optimized",
    "gpuNum": 0,
    "hideHardwareSpecs": false,
    "memoryGiB": 144,
    "name": "ml.c5.18xlarge",
    "vcpuNum": 72
   },
   {
    "_defaultOrder": 28,
    "_isFastLaunch": false,
    "category": "Compute optimized",
    "gpuNum": 0,
    "hideHardwareSpecs": false,
    "memoryGiB": 192,
    "name": "ml.c5.24xlarge",
    "vcpuNum": 96
   },
   {
    "_defaultOrder": 29,
    "_isFastLaunch": true,
    "category": "Accelerated computing",
    "gpuNum": 1,
    "hideHardwareSpecs": false,
    "memoryGiB": 16,
    "name": "ml.g4dn.xlarge",
    "vcpuNum": 4
   },
   {
    "_defaultOrder": 30,
    "_isFastLaunch": false,
    "category": "Accelerated computing",
    "gpuNum": 1,
    "hideHardwareSpecs": false,
    "memoryGiB": 32,
    "name": "ml.g4dn.2xlarge",
    "vcpuNum": 8
   },
   {
    "_defaultOrder": 31,
    "_isFastLaunch": false,
    "category": "Accelerated computing",
    "gpuNum": 1,
    "hideHardwareSpecs": false,
    "memoryGiB": 64,
    "name": "ml.g4dn.4xlarge",
    "vcpuNum": 16
   },
   {
    "_defaultOrder": 32,
    "_isFastLaunch": false,
    "category": "Accelerated computing",
    "gpuNum": 1,
    "hideHardwareSpecs": false,
    "memoryGiB": 128,
    "name": "ml.g4dn.8xlarge",
    "vcpuNum": 32
   },
   {
    "_defaultOrder": 33,
    "_isFastLaunch": false,
    "category": "Accelerated computing",
    "gpuNum": 4,
    "hideHardwareSpecs": false,
    "memoryGiB": 192,
    "name": "ml.g4dn.12xlarge",
    "vcpuNum": 48
   },
   {
    "_defaultOrder": 34,
    "_isFastLaunch": false,
    "category": "Accelerated computing",
    "gpuNum": 1,
    "hideHardwareSpecs": false,
    "memoryGiB": 256,
    "name": "ml.g4dn.16xlarge",
    "vcpuNum": 64
   },
   {
    "_defaultOrder": 35,
    "_isFastLaunch": false,
    "category": "Accelerated computing",
    "gpuNum": 1,
    "hideHardwareSpecs": false,
    "memoryGiB": 61,
    "name": "ml.p3.2xlarge",
    "vcpuNum": 8
   },
   {
    "_defaultOrder": 36,
    "_isFastLaunch": false,
    "category": "Accelerated computing",
    "gpuNum": 4,
    "hideHardwareSpecs": false,
    "memoryGiB": 244,
    "name": "ml.p3.8xlarge",
    "vcpuNum": 32
   },
   {
    "_defaultOrder": 37,
    "_isFastLaunch": false,
    "category": "Accelerated computing",
    "gpuNum": 8,
    "hideHardwareSpecs": false,
    "memoryGiB": 488,
    "name": "ml.p3.16xlarge",
    "vcpuNum": 64
   },
   {
    "_defaultOrder": 38,
    "_isFastLaunch": false,
    "category": "Accelerated computing",
    "gpuNum": 8,
    "hideHardwareSpecs": false,
    "memoryGiB": 768,
    "name": "ml.p3dn.24xlarge",
    "vcpuNum": 96
   },
   {
    "_defaultOrder": 39,
    "_isFastLaunch": false,
    "category": "Memory Optimized",
    "gpuNum": 0,
    "hideHardwareSpecs": false,
    "memoryGiB": 16,
    "name": "ml.r5.large",
    "vcpuNum": 2
   },
   {
    "_defaultOrder": 40,
    "_isFastLaunch": false,
    "category": "Memory Optimized",
    "gpuNum": 0,
    "hideHardwareSpecs": false,
    "memoryGiB": 32,
    "name": "ml.r5.xlarge",
    "vcpuNum": 4
   },
   {
    "_defaultOrder": 41,
    "_isFastLaunch": false,
    "category": "Memory Optimized",
    "gpuNum": 0,
    "hideHardwareSpecs": false,
    "memoryGiB": 64,
    "name": "ml.r5.2xlarge",
    "vcpuNum": 8
   },
   {
    "_defaultOrder": 42,
    "_isFastLaunch": false,
    "category": "Memory Optimized",
    "gpuNum": 0,
    "hideHardwareSpecs": false,
    "memoryGiB": 128,
    "name": "ml.r5.4xlarge",
    "vcpuNum": 16
   },
   {
    "_defaultOrder": 43,
    "_isFastLaunch": false,
    "category": "Memory Optimized",
    "gpuNum": 0,
    "hideHardwareSpecs": false,
    "memoryGiB": 256,
    "name": "ml.r5.8xlarge",
    "vcpuNum": 32
   },
   {
    "_defaultOrder": 44,
    "_isFastLaunch": false,
    "category": "Memory Optimized",
    "gpuNum": 0,
    "hideHardwareSpecs": false,
    "memoryGiB": 384,
    "name": "ml.r5.12xlarge",
    "vcpuNum": 48
   },
   {
    "_defaultOrder": 45,
    "_isFastLaunch": false,
    "category": "Memory Optimized",
    "gpuNum": 0,
    "hideHardwareSpecs": false,
    "memoryGiB": 512,
    "name": "ml.r5.16xlarge",
    "vcpuNum": 64
   },
   {
    "_defaultOrder": 46,
    "_isFastLaunch": false,
    "category": "Memory Optimized",
    "gpuNum": 0,
    "hideHardwareSpecs": false,
    "memoryGiB": 768,
    "name": "ml.r5.24xlarge",
    "vcpuNum": 96
   },
   {
    "_defaultOrder": 47,
    "_isFastLaunch": false,
    "category": "Accelerated computing",
    "gpuNum": 1,
    "hideHardwareSpecs": false,
    "memoryGiB": 16,
    "name": "ml.g5.xlarge",
    "vcpuNum": 4
   },
   {
    "_defaultOrder": 48,
    "_isFastLaunch": false,
    "category": "Accelerated computing",
    "gpuNum": 1,
    "hideHardwareSpecs": false,
    "memoryGiB": 32,
    "name": "ml.g5.2xlarge",
    "vcpuNum": 8
   },
   {
    "_defaultOrder": 49,
    "_isFastLaunch": false,
    "category": "Accelerated computing",
    "gpuNum": 1,
    "hideHardwareSpecs": false,
    "memoryGiB": 64,
    "name": "ml.g5.4xlarge",
    "vcpuNum": 16
   },
   {
    "_defaultOrder": 50,
    "_isFastLaunch": false,
    "category": "Accelerated computing",
    "gpuNum": 1,
    "hideHardwareSpecs": false,
    "memoryGiB": 128,
    "name": "ml.g5.8xlarge",
    "vcpuNum": 32
   },
   {
    "_defaultOrder": 51,
    "_isFastLaunch": false,
    "category": "Accelerated computing",
    "gpuNum": 1,
    "hideHardwareSpecs": false,
    "memoryGiB": 256,
    "name": "ml.g5.16xlarge",
    "vcpuNum": 64
   },
   {
    "_defaultOrder": 52,
    "_isFastLaunch": false,
    "category": "Accelerated computing",
    "gpuNum": 4,
    "hideHardwareSpecs": false,
    "memoryGiB": 192,
    "name": "ml.g5.12xlarge",
    "vcpuNum": 48
   },
   {
    "_defaultOrder": 53,
    "_isFastLaunch": false,
    "category": "Accelerated computing",
    "gpuNum": 4,
    "hideHardwareSpecs": false,
    "memoryGiB": 384,
    "name": "ml.g5.24xlarge",
    "vcpuNum": 96
   },
   {
    "_defaultOrder": 54,
    "_isFastLaunch": false,
    "category": "Accelerated computing",
    "gpuNum": 8,
    "hideHardwareSpecs": false,
    "memoryGiB": 768,
    "name": "ml.g5.48xlarge",
    "vcpuNum": 192
   },
   {
    "_defaultOrder": 55,
    "_isFastLaunch": false,
    "category": "Accelerated computing",
    "gpuNum": 8,
    "hideHardwareSpecs": false,
    "memoryGiB": 1152,
    "name": "ml.p4d.24xlarge",
    "vcpuNum": 96
   },
   {
    "_defaultOrder": 56,
    "_isFastLaunch": false,
    "category": "Accelerated computing",
    "gpuNum": 8,
    "hideHardwareSpecs": false,
    "memoryGiB": 1152,
    "name": "ml.p4de.24xlarge",
    "vcpuNum": 96
   },
   {
    "_defaultOrder": 57,
    "_isFastLaunch": false,
    "category": "Accelerated computing",
    "gpuNum": 0,
    "hideHardwareSpecs": false,
    "memoryGiB": 32,
    "name": "ml.trn1.2xlarge",
    "vcpuNum": 8
   },
   {
    "_defaultOrder": 58,
    "_isFastLaunch": false,
    "category": "Accelerated computing",
    "gpuNum": 0,
    "hideHardwareSpecs": false,
    "memoryGiB": 512,
    "name": "ml.trn1.32xlarge",
    "vcpuNum": 128
   },
   {
    "_defaultOrder": 59,
    "_isFastLaunch": false,
    "category": "Accelerated computing",
    "gpuNum": 0,
    "hideHardwareSpecs": false,
    "memoryGiB": 512,
    "name": "ml.trn1n.32xlarge",
    "vcpuNum": 128
   }
  ],
  "kernelspec": {
   "display_name": "Python 3 (PyTorch 2.0.0 Python 3.10 CPU Optimized)",
   "language": "python",
   "name": "python3__SAGEMAKER_INTERNAL__arn:aws:sagemaker:ca-central-1:310906938811:image/pytorch-2.0.0-cpu-py310"
  },
  "language_info": {
   "codemirror_mode": {
    "name": "ipython",
    "version": 3
   },
   "file_extension": ".py",
   "mimetype": "text/x-python",
   "name": "python",
   "nbconvert_exporter": "python",
   "pygments_lexer": "ipython3",
   "version": "3.10.8"
  }
 },
 "nbformat": 4,
 "nbformat_minor": 4
}
