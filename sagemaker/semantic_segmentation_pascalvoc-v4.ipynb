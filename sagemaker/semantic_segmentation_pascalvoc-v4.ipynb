{
 "cells": [
  {
   "cell_type": "markdown",
   "metadata": {},
   "source": [
    "# Amazon SageMaker Semantic Segmentation Algorithm - v4\n"
   ]
  },
  {
   "cell_type": "code",
   "execution_count": 2,
   "metadata": {
    "tags": []
   },
   "outputs": [],
   "source": [
    "dryrun = True\n",
    "install = False"
   ]
  },
  {
   "cell_type": "code",
   "execution_count": 3,
   "metadata": {
    "tags": []
   },
   "outputs": [
    {
     "name": "stdout",
     "output_type": "stream",
     "text": [
      "\u001b[0;36m🔋 gpu: not found.\u001b[0m\n",
      "\u001b[0;36m🚀 abcli-7.2670.1.2023-06-aws-batch-a\u001b[0m\n"
     ]
    }
   ],
   "source": [
    "%%bash -s $install\n",
    "source ~/git/awesome-bash-cli/bash/abcli.sh in_notebook\n",
    "\n",
    "install=$1\n",
    "\n",
    "if [[ \"$install\" == True ]] ; then\n",
    "    cd ~/git/awesome-bash-cli\n",
    "    pip3 install -e .\n",
    "\n",
    "    cd ~/git/notebooks-and-scripts\n",
    "    pip3 install -e .\n",
    "\n",
    "    pip3 install 'sagemaker>=2,<3'\n",
    "fi"
   ]
  },
  {
   "cell_type": "code",
   "execution_count": 4,
   "metadata": {
    "tags": []
   },
   "outputs": [
    {
     "name": "stderr",
     "output_type": "stream",
     "text": [
      "sagemaker role: arn:aws:iam::120429650996:role/service-role/AmazonSageMaker-ExecutionRole-20240108T180012\n",
      "abcli-7.2670.1-unknown, built on 01 February 2024, 19:14:59\n"
     ]
    }
   ],
   "source": [
    "import os\n",
    "os.environ[\"abcli_path_bash\"] = \"{}/git/awesome-bash-cli/bash\".format(os.getenv(\"HOME\"))\n",
    "\n",
    "import sagemaker\n",
    "from abcli import file\n",
    "from abcli import fullname\n",
    "from abcli import string\n",
    "from abcli.modules.objects import unique_object\n",
    "from abcli.plugins.storage import instance as storage\n",
    "from notebooks_and_scripts.sagemaker import role\n",
    "from notebooks_and_scripts.sagesemseg.dataset import upload as upload_dataset\n",
    "from abcli.modules import objects\n",
    "from abcli import logging\n",
    "import logging\n",
    "\n",
    "logger = logging.getLogger(__name__)\n",
    "\n",
    "logger.info(f\"{fullname()}, built on {string.pretty_date()}\")"
   ]
  },
  {
   "cell_type": "code",
   "execution_count": 5,
   "metadata": {
    "tags": []
   },
   "outputs": [
    {
     "name": "stderr",
     "output_type": "stream",
     "text": [
      "dataset_object_name: pascal-voc-v1-debug-v2\n",
      "📂 sagesemseg-model-2024-02-01-19-14-59-00080\n"
     ]
    }
   ],
   "source": [
    "# sagesemseg upload_dataset - suffix=full-v2\n",
    "dataset_object_name = \"pascal-voc-v1-full-v2\"\n",
    "\n",
    "if dryrun:\n",
    "    # sagesemseg upload_dataset - suffix=debug-v2 --count 16\n",
    "    dataset_object_name = \"pascal-voc-v1-debug-v2\"\n",
    "\n",
    "logger.info(f\"dataset_object_name: {dataset_object_name}\")\n",
    "model_object_name = unique_object(\"sagesemseg-model\")"
   ]
  },
  {
   "cell_type": "code",
   "execution_count": 6,
   "metadata": {
    "tags": []
   },
   "outputs": [
    {
     "name": "stdout",
     "output_type": "stream",
     "text": [
      "\u001b[0;36m🔋 gpu: not found.\u001b[0m\n",
      "\u001b[0;36m🚀 abcli-7.2670.1.2023-06-aws-batch-a\u001b[0m\n",
      "\u001b[0;36mdownloading pascal-voc-v1-debug-v2/metadata.yaml ...\u001b[0m\n",
      "download: s3://kamangir/bolt/pascal-voc-v1-debug-v2/metadata.yaml to ../../../../../storage/abcli/pascal-voc-v1-debug-v2/metadata.yaml\n",
      "\u001b[0;36mdownload completed: pascal-voc-v1-debug-v2 metadata.yaml\u001b[0m\n"
     ]
    }
   ],
   "source": [
    "%%bash -s $dataset_object_name\n",
    "source ~/git/awesome-bash-cli/bash/abcli.sh in_notebook\n",
    "\n",
    "dataset_object_name=$1\n",
    "\n",
    "abcli download filename=metadata.yaml $dataset_object_name"
   ]
  },
  {
   "cell_type": "code",
   "execution_count": 7,
   "metadata": {
    "tags": []
   },
   "outputs": [
    {
     "name": "stdout",
     "output_type": "stream",
     "text": [
      "CPU times: user 20 ms, sys: 1.29 ms, total: 21.3 ms\n",
      "Wall time: 20.4 ms\n"
     ]
    }
   ],
   "source": [
    "%%time\n",
    "sess = sagemaker.Session()"
   ]
  },
  {
   "cell_type": "code",
   "execution_count": 8,
   "metadata": {
    "tags": []
   },
   "outputs": [
    {
     "name": "stderr",
     "output_type": "stream",
     "text": [
      "dataset_object_name: pascal-voc-v1-debug-v2\n"
     ]
    }
   ],
   "source": [
    "metadata_filename = objects.path_of(object_name = dataset_object_name, filename = \"metadata.yaml\")\n",
    "success, metadata = file.load_yaml(metadata_filename)\n",
    "assert success\n",
    "\n",
    "logger.info(f\"dataset_object_name: {dataset_object_name}\")"
   ]
  },
  {
   "cell_type": "code",
   "execution_count": 9,
   "metadata": {
    "tags": []
   },
   "outputs": [
    {
     "name": "stderr",
     "output_type": "stream",
     "text": [
      "Same images used for training and inference. Defaulting to image scope: inference.\n",
      "Defaulting to the only supported framework/algorithm version: 1.\n",
      "Ignoring unnecessary instance type: None.\n",
      "training_image: 469771592824.dkr.ecr.ca-central-1.amazonaws.com/semantic-segmentation:1\n"
     ]
    }
   ],
   "source": [
    "training_image = sagemaker.image_uris.retrieve(\"semantic-segmentation\", sess.boto_region_name)\n",
    "logger.info(f\"training_image: {training_image}\")"
   ]
  },
  {
   "cell_type": "code",
   "execution_count": 10,
   "metadata": {
    "tags": []
   },
   "outputs": [],
   "source": [
    "ss_estimator = sagemaker.estimator.Estimator(\n",
    "    training_image,  # Container image URI\n",
    "    role,  # Training job execution role with permissions to access our S3 bucket\n",
    "    instance_count=1,\n",
    "    instance_type=\"ml.p3.2xlarge\",\n",
    "    volume_size=50,  # in GB\n",
    "    max_run=360000,  # in seconds\n",
    "    output_path=f\"s3://kamangir/bolt/{model_object_name}\",\n",
    "    base_job_name=model_object_name,\n",
    "    sagemaker_session=sess,\n",
    ")"
   ]
  },
  {
   "cell_type": "code",
   "execution_count": 11,
   "metadata": {
    "tags": []
   },
   "outputs": [],
   "source": [
    "# Setup hyperparameters\n",
    "ss_estimator.set_hyperparameters(\n",
    "    backbone=\"resnet-50\",  # This is the encoder. Other option is resnet-101\n",
    "    algorithm=\"fcn\",  # This is the decoder. Other options are 'psp' and 'deeplab'\n",
    "    use_pretrained_model=\"True\",  # Use the pre-trained model.\n",
    "    crop_size=240,  # Size of image random crop.\n",
    "    num_classes=21,  # Pascal has 21 classes. This is a mandatory parameter.\n",
    "    epochs=10,  # Number of epochs to run.\n",
    "    learning_rate=0.0001,\n",
    "    optimizer=\"rmsprop\",  # Other options include 'adam', 'rmsprop', 'nag', 'adagrad'.\n",
    "    lr_scheduler=\"poly\",  # Other options include 'cosine' and 'step'.\n",
    "    mini_batch_size=16,  # Setup some mini batch size.\n",
    "    validation_mini_batch_size=16,\n",
    "    early_stopping=True,  # Turn on early stopping. If OFF, other early stopping parameters are ignored.\n",
    "    early_stopping_patience=2,  # Tolerate these many epochs if the mIoU doens't increase.\n",
    "    early_stopping_min_epochs=10,  # No matter what, run these many number of epochs.\n",
    "    num_training_samples=metadata[\"num\"][\"train\"], # num_training_samples,  # This is a mandatory parameter, 1464 in this case.\n",
    ")"
   ]
  },
  {
   "cell_type": "code",
   "execution_count": 12,
   "metadata": {
    "tags": []
   },
   "outputs": [],
   "source": [
    "distribution = \"FullyReplicated\"\n",
    "\n",
    "data_channels = {\n",
    "    \"train\": sagemaker.inputs.TrainingInput(\n",
    "        metadata[\"channel\"][\"train\"], #train_channel, \n",
    "        distribution=distribution,\n",
    "    ),\n",
    "    \"validation\": sagemaker.inputs.TrainingInput(\n",
    "        metadata[\"channel\"][\"validation\"], #validation_channel, \n",
    "        distribution=distribution,\n",
    "    ),\n",
    "    \"train_annotation\": sagemaker.inputs.TrainingInput(\n",
    "        metadata[\"channel\"][\"train_annotation\"], #train_annotation_channel, \n",
    "        distribution=distribution\n",
    "    ),\n",
    "    \"validation_annotation\": sagemaker.inputs.TrainingInput(\n",
    "        metadata[\"channel\"][\"validation_annotation\"], #validation_annotation_channel, \n",
    "        distribution=distribution,\n",
    "    ),\n",
    "    # 'label_map': metadata[\"channel\"][\"label_map\"], # label_map_channel\n",
    "}"
   ]
  },
  {
   "cell_type": "code",
   "execution_count": 13,
   "metadata": {
    "tags": []
   },
   "outputs": [
    {
     "name": "stderr",
     "output_type": "stream",
     "text": [
      "Creating training-job with name: sagesemseg-model-2024-02-01-19-14-59-00-2024-02-02-03-16-08-465\n"
     ]
    },
    {
     "name": "stdout",
     "output_type": "stream",
     "text": [
      "2024-02-02 03:16:08 Starting - Starting the training job......\n",
      "2024-02-02 03:16:44 Starting - Preparing the instances for training...\n",
      "2024-02-02 03:17:31 Downloading - Downloading input data..\n",
      "2024-02-02 03:17:56 Downloading - Downloading the training image..................\n",
      "2024-02-02 03:21:22 Training - Training image download completed. Training in progress....\u001b[34mDocker entrypoint called with argument(s): train\u001b[0m\n",
      "\u001b[34mRunning default environment configuration script\u001b[0m\n",
      "\u001b[34mNvidia gpu devices, drivers and cuda toolkit versions (only available on hosts with GPU):\u001b[0m\n",
      "\u001b[34mFri Feb  2 03:21:49 2024       \u001b[0m\n",
      "\u001b[34m+---------------------------------------------------------------------------------------+\u001b[0m\n",
      "\u001b[34m| NVIDIA-SMI 535.104.12             Driver Version: 535.104.12   CUDA Version: 12.2     |\u001b[0m\n",
      "\u001b[34m|-----------------------------------------+----------------------+----------------------+\u001b[0m\n",
      "\u001b[34m| GPU  Name                 Persistence-M | Bus-Id        Disp.A | Volatile Uncorr. ECC |\u001b[0m\n",
      "\u001b[34m| Fan  Temp   Perf          Pwr:Usage/Cap |         Memory-Usage | GPU-Util  Compute M. |\u001b[0m\n",
      "\u001b[34m|                                         |                      |               MIG M. |\u001b[0m\n",
      "\u001b[34m|=========================================+======================+======================|\u001b[0m\n",
      "\u001b[34m|   0  Tesla V100-SXM2-16GB           On  | 00000000:00:1E.0 Off |                    0 |\u001b[0m\n",
      "\u001b[34m| N/A   30C    P0              24W / 300W |      0MiB / 16384MiB |      0%      Default |\u001b[0m\n",
      "\u001b[34m|                                         |                      |                  N/A |\u001b[0m\n",
      "\u001b[34m+-----------------------------------------+----------------------+----------------------+\n",
      "                                                                                         \u001b[0m\n",
      "\u001b[34m+---------------------------------------------------------------------------------------+\u001b[0m\n",
      "\u001b[34m| Processes:                                                                            |\u001b[0m\n",
      "\u001b[34m|  GPU   GI   CI        PID   Type   Process name                            GPU Memory |\u001b[0m\n",
      "\u001b[34m|        ID   ID                                                             Usage      |\u001b[0m\n",
      "\u001b[34m|=======================================================================================|\u001b[0m\n",
      "\u001b[34m|  No running processes found                                                           |\u001b[0m\n",
      "\u001b[34m+---------------------------------------------------------------------------------------+\u001b[0m\n",
      "\u001b[34mChecking for nvidia driver and cuda compatibility.\u001b[0m\n",
      "\u001b[34mCUDA Compatibility driver provided.\u001b[0m\n",
      "\u001b[34mProceeding with compatibility check between driver, cuda-toolkit and cuda-compat.\u001b[0m\n",
      "\u001b[34mDetected cuda-toolkit version: 11.1.\u001b[0m\n",
      "\u001b[34mDetected cuda-compat version: 455.32.00.\u001b[0m\n",
      "\u001b[34mDetected Nvidia driver version: 535.104.12.\u001b[0m\n",
      "\u001b[34mNvidia driver compatible with cuda-toolkit. Disabling cuda-compat.\u001b[0m\n",
      "\u001b[34mRunning custom environment configuration script\u001b[0m\n",
      "\u001b[34m/opt/amazon/lib/python3.8/site-packages/mxnet/model.py:97: SyntaxWarning: \"is\" with a literal. Did you mean \"==\"?\n",
      "  if num_device is 1 and 'dist' not in kvstore:\u001b[0m\n",
      "\u001b[34m/opt/amazon/lib/python3.8/site-packages/scipy/optimize/_shgo.py:495: SyntaxWarning: \"is\" with a literal. Did you mean \"==\"?\n",
      "  if cons['type'] is 'ineq':\u001b[0m\n",
      "\u001b[34m/opt/amazon/lib/python3.8/site-packages/scipy/optimize/_shgo.py:743: SyntaxWarning: \"is not\" with a literal. Did you mean \"!=\"?\n",
      "  if len(self.X_min) is not 0:\u001b[0m\n",
      "\u001b[34m[02/02/2024 03:21:53 INFO 139632371713856] Reading default configuration from /opt/amazon/lib/python3.8/site-packages/algorithm/default-input.json: {'backbone': 'resnet-50', 'algorithm': 'fcn', 'use_pretrained_model': 'True', 'crop_size': '240', 'epochs': '10', 'learning_rate': '0.001', 'optimizer': 'sgd', 'lr_scheduler': 'poly', 'lr_scheduler_factor': '0.1', 'weight_decay': '0.0001', 'momentum': '0.9', 'gamma1': '0.9', 'gamma2': '0.9', 'mini_batch_size': '16', 'validation_mini_batch_size': '16', 'num_training_samples': '8', 'early_stopping_min_epochs': '5', 'early_stopping': 'False', 'early_stopping_patience': '4', 'early_stopping_tolerance': '0.0', 'precision_dtype': 'float32', '_kvstore': 'device', '_num_kv_servers': 'auto', 'syncbn': 'False', '_workers': '16', '_aux_loss': 'True', '_aux_weight': '0.5', '_hybrid': 'False', '_augmentation_type': 'default', '_logging_frequency': '20'}\u001b[0m\n",
      "\u001b[34m[02/02/2024 03:21:53 INFO 139632371713856] Merging with provided configuration from /opt/ml/input/config/hyperparameters.json: {'algorithm': 'fcn', 'backbone': 'resnet-50', 'crop_size': '240', 'early_stopping': 'True', 'early_stopping_min_epochs': '10', 'early_stopping_patience': '2', 'epochs': '10', 'learning_rate': '0.0001', 'lr_scheduler': 'poly', 'mini_batch_size': '16', 'num_classes': '21', 'num_training_samples': '16', 'optimizer': 'rmsprop', 'use_pretrained_model': 'True', 'validation_mini_batch_size': '16'}\u001b[0m\n",
      "\u001b[34m[02/02/2024 03:21:53 INFO 139632371713856] Final configuration: {'backbone': 'resnet-50', 'algorithm': 'fcn', 'use_pretrained_model': 'True', 'crop_size': '240', 'epochs': '10', 'learning_rate': '0.0001', 'optimizer': 'rmsprop', 'lr_scheduler': 'poly', 'lr_scheduler_factor': '0.1', 'weight_decay': '0.0001', 'momentum': '0.9', 'gamma1': '0.9', 'gamma2': '0.9', 'mini_batch_size': '16', 'validation_mini_batch_size': '16', 'num_training_samples': '16', 'early_stopping_min_epochs': '10', 'early_stopping': 'True', 'early_stopping_patience': '2', 'early_stopping_tolerance': '0.0', 'precision_dtype': 'float32', '_kvstore': 'device', '_num_kv_servers': 'auto', 'syncbn': 'False', '_workers': '16', '_aux_loss': 'True', '_aux_weight': '0.5', '_hybrid': 'False', '_augmentation_type': 'default', '_logging_frequency': '20', 'num_classes': '21'}\u001b[0m\n",
      "\u001b[34mProcess 7 is a worker.\u001b[0m\n",
      "\u001b[34m[02/02/2024 03:21:53 INFO 139632371713856] Using default worker.\u001b[0m\n",
      "\u001b[34m[02/02/2024 03:21:53 INFO 139632371713856] Loaded iterator creator application/json for content type ('application/json', '1.0')\u001b[0m\n",
      "\u001b[34m/opt/amazon/lib/python3.8/site-packages/matplotlib/pyplot.py:2422: SyntaxWarning: \"is\" with a literal. Did you mean \"==\"?\n",
      "  if fignum is False or fignum is 0:\u001b[0m\n",
      "\u001b[34m/opt/amazon/lib/python3.8/site-packages/matplotlib/contour.py:871: SyntaxWarning: \"is not\" with a literal. Did you mean \"!=\"?\n",
      "  if self.extend is not 'neither':\u001b[0m\n",
      "\u001b[34m[02/02/2024 03:21:53 INFO 139632371713856] font search path ['/opt/amazon/lib/python3.8/site-packages/matplotlib/mpl-data/fonts/ttf', '/opt/amazon/lib/python3.8/site-packages/matplotlib/mpl-data/fonts/afm', '/opt/amazon/lib/python3.8/site-packages/matplotlib/mpl-data/fonts/pdfcorefonts']\u001b[0m\n",
      "\u001b[34m[02/02/2024 03:21:53 INFO 139632371713856] generated new fontManager\u001b[0m\n",
      "\u001b[34m/opt/amazon/lib/python3.8/site-packages/scipy/io/netcdf.py:770: SyntaxWarning: \"is not\" with a literal. Did you mean \"!=\"?\n",
      "  if typecode is not 'c':\u001b[0m\n",
      "\u001b[34m[02/02/2024 03:21:54 INFO 139632371713856] Loaded iterator creator application/x-image for content type ('application/x-image', '1.0')\u001b[0m\n",
      "\u001b[34m[02/02/2024 03:21:54 INFO 139632371713856] Loaded iterator creator application/x-recordio for content type ('application/x-recordio', '1.0')\u001b[0m\n",
      "\u001b[34m[02/02/2024 03:21:54 INFO 139632371713856] Loaded iterator creator image/jpeg for content type ('image/jpeg', '1.0')\u001b[0m\n",
      "\u001b[34m[02/02/2024 03:21:54 INFO 139632371713856] Loaded iterator creator image/png for content type ('image/png', '1.0')\u001b[0m\n",
      "\u001b[34m[02/02/2024 03:21:54 INFO 139632371713856] Checkpoint loading and saving are disabled.\u001b[0m\n",
      "\u001b[34m[02/02/2024 03:21:54 WARNING 139632371713856] /opt/ml/input/data/train/train_annotation is not a readable image file\u001b[0m\n",
      "\u001b[34m[02/02/2024 03:21:54 WARNING 139632371713856] label maps not provided, using defaults.\u001b[0m\n",
      "\u001b[34m[02/02/2024 03:21:54 INFO 139632371713856] #label_map train :{'scale': 1}\u001b[0m\n",
      "\u001b[34m[02/02/2024 03:21:54 WARNING 139632371713856] /opt/ml/input/data/validation/validation_annotation is not a readable image file\u001b[0m\n",
      "\u001b[34m[02/02/2024 03:21:54 WARNING 139632371713856] label maps not provided, using defaults.\u001b[0m\n",
      "\u001b[34m[02/02/2024 03:21:54 INFO 139632371713856] #label_map validation :{'scale': 1}\u001b[0m\n",
      "\u001b[34m/opt/amazon/python3.8/lib/python3.8/subprocess.py:848: RuntimeWarning: line buffering (buffering=1) isn't supported in binary mode, the default buffer size will be used\n",
      "  self.stdout = io.open(c2pread, 'rb', bufsize)\u001b[0m\n",
      "\u001b[34m[02/02/2024 03:21:54 INFO 139632371713856] nvidia-smi: took 0.033 seconds to run.\u001b[0m\n",
      "\u001b[34m[02/02/2024 03:21:54 INFO 139632371713856] nvidia-smi identified 1 GPUs.\u001b[0m\n",
      "\u001b[34m[02/02/2024 03:21:54 INFO 139632371713856] Number of GPUs being used: 1\u001b[0m\n",
      "\u001b[34m[02/02/2024 03:21:54 INFO 139632371713856] Number of GPUs being used: 1\u001b[0m\n",
      "\u001b[34m[02/02/2024 03:21:54 INFO 139632371713856] Number of GPUs being used: 1\u001b[0m\n",
      "\u001b[34m[03:21:56] /opt/brazil-pkg-cache/packages/AIAlgorithmsMXNet/AIAlgorithmsMXNet-1.4.x_ecl_Cuda_11.1.x.365.0/AL2_x86_64/generic-flavor/src/src/storage/storage.cc:108: Using GPUPooledRoundedStorageManager.\u001b[0m\n",
      "\u001b[34m[02/02/2024 03:21:58 INFO 139632371713856] LRScheduler setup: iters per epoch: 1, num_epochs 10\u001b[0m\n",
      "\u001b[34m#metrics {\"StartTime\": 1706844118.5498683, \"EndTime\": 1706844118.5501368, \"Dimensions\": {\"Algorithm\": \"AWS/Semantic Segmentation\", \"Host\": \"algo-1\", \"Operation\": \"training\", \"Meta\": \"init_train_data_iter\"}, \"Metrics\": {\"Total Records Seen\": {\"sum\": 0.0, \"count\": 1, \"min\": 0, \"max\": 0}, \"Total Batches Seen\": {\"sum\": 0.0, \"count\": 1, \"min\": 0, \"max\": 0}, \"Max Records Seen Between Resets\": {\"sum\": 0.0, \"count\": 1, \"min\": 0, \"max\": 0}, \"Max Batches Seen Between Resets\": {\"sum\": 0.0, \"count\": 1, \"min\": 0, \"max\": 0}, \"Reset Count\": {\"sum\": 0.0, \"count\": 1, \"min\": 0, \"max\": 0}, \"Number of Records Since Last Reset\": {\"sum\": 0.0, \"count\": 1, \"min\": 0, \"max\": 0}, \"Number of Batches Since Last Reset\": {\"sum\": 0.0, \"count\": 1, \"min\": 0, \"max\": 0}}}\u001b[0m\n",
      "\u001b[34m[02/02/2024 03:21:59 INFO 139632371713856] #quality_metric. host: algo-1, epoch: 0, train loss: 4.774637699127197 .\u001b[0m\n",
      "\u001b[34m[02/02/2024 03:21:59 INFO 139632371713856] #throughput_metric. host: algo-1, epoch: 0, train throughput: 35.935288611678125 samples/sec.\u001b[0m\n",
      "\u001b[34m[02/02/2024 03:21:59 INFO 139632371713856] #quality_metric. host: algo-1, epoch: 0, validation pixel_accuracy: 0.10064690527532165 .\u001b[0m\n",
      "\u001b[34m[02/02/2024 03:21:59 INFO 139632371713856] #quality_metric. host: algo-1, epoch: 0, validation mIOU: 0.02103569116858202 .\u001b[0m\n",
      "\u001b[34m[02/02/2024 03:21:59 INFO 139632371713856] #throughput_metric. host: algo-1, epoch: 0, validation throughput: 46.55126622142435 samples/sec.\u001b[0m\n",
      "\u001b[34m[02/02/2024 03:21:59 INFO 139632371713856] Serializing model to /opt/ml/model/model_best.params\u001b[0m\n",
      "\u001b[34m[02/02/2024 03:22:00 INFO 139632371713856] Serializing model to /opt/ml/model/model_best.params\u001b[0m\n",
      "\u001b[34m[02/02/2024 03:22:00 INFO 139632371713856] #progress_metric: host=algo-1, completed 10.0 % of epochs\u001b[0m\n",
      "\u001b[34m#metrics {\"StartTime\": 1706844118.5512474, \"EndTime\": 1706844120.3324337, \"Dimensions\": {\"Algorithm\": \"AWS/Semantic Segmentation\", \"Host\": \"algo-1\", \"Operation\": \"training\", \"epoch\": 0, \"Meta\": \"training_data_iter\"}, \"Metrics\": {\"Total Records Seen\": {\"sum\": 0.0, \"count\": 1, \"min\": 0, \"max\": 0}, \"Total Batches Seen\": {\"sum\": 0.0, \"count\": 1, \"min\": 0, \"max\": 0}, \"Max Records Seen Between Resets\": {\"sum\": 0.0, \"count\": 1, \"min\": 0, \"max\": 0}, \"Max Batches Seen Between Resets\": {\"sum\": 0.0, \"count\": 1, \"min\": 0, \"max\": 0}, \"Reset Count\": {\"sum\": 1.0, \"count\": 1, \"min\": 1, \"max\": 1}, \"Number of Records Since Last Reset\": {\"sum\": 0.0, \"count\": 1, \"min\": 0, \"max\": 0}, \"Number of Batches Since Last Reset\": {\"sum\": 0.0, \"count\": 1, \"min\": 0, \"max\": 0}}}\u001b[0m\n",
      "\u001b[34m[02/02/2024 03:22:01 INFO 139632371713856] #quality_metric. host: algo-1, epoch: 1, train loss: 3.4266724586486816 .\u001b[0m\n",
      "\u001b[34m[02/02/2024 03:22:01 INFO 139632371713856] #throughput_metric. host: algo-1, epoch: 1, train throughput: 49.67799733062299 samples/sec.\u001b[0m\n",
      "\u001b[34m[02/02/2024 03:22:01 INFO 139632371713856] #quality_metric. host: algo-1, epoch: 1, validation pixel_accuracy: 0.3189645388607451 .\u001b[0m\n",
      "\u001b[34m[02/02/2024 03:22:01 INFO 139632371713856] #quality_metric. host: algo-1, epoch: 1, validation mIOU: 0.05497452019411752 .\u001b[0m\n",
      "\u001b[34m[02/02/2024 03:22:01 INFO 139632371713856] #throughput_metric. host: algo-1, epoch: 1, validation throughput: 46.06632124921403 samples/sec.\u001b[0m\n",
      "\u001b[34m[02/02/2024 03:22:01 INFO 139632371713856] Serializing model to /opt/ml/model/model_best.params\u001b[0m\n",
      "\u001b[34m[02/02/2024 03:22:01 INFO 139632371713856] #progress_metric: host=algo-1, completed 20.0 % of epochs\u001b[0m\n",
      "\u001b[34m#metrics {\"StartTime\": 1706844120.332647, \"EndTime\": 1706844121.8657758, \"Dimensions\": {\"Algorithm\": \"AWS/Semantic Segmentation\", \"Host\": \"algo-1\", \"Operation\": \"training\", \"epoch\": 1, \"Meta\": \"training_data_iter\"}, \"Metrics\": {\"Total Records Seen\": {\"sum\": 0.0, \"count\": 1, \"min\": 0, \"max\": 0}, \"Total Batches Seen\": {\"sum\": 0.0, \"count\": 1, \"min\": 0, \"max\": 0}, \"Max Records Seen Between Resets\": {\"sum\": 0.0, \"count\": 1, \"min\": 0, \"max\": 0}, \"Max Batches Seen Between Resets\": {\"sum\": 0.0, \"count\": 1, \"min\": 0, \"max\": 0}, \"Reset Count\": {\"sum\": 2.0, \"count\": 1, \"min\": 2, \"max\": 2}, \"Number of Records Since Last Reset\": {\"sum\": 0.0, \"count\": 1, \"min\": 0, \"max\": 0}, \"Number of Batches Since Last Reset\": {\"sum\": 0.0, \"count\": 1, \"min\": 0, \"max\": 0}}}\u001b[0m\n",
      "\u001b[34m[02/02/2024 03:22:02 INFO 139632371713856] #quality_metric. host: algo-1, epoch: 2, train loss: 2.794724464416504 .\u001b[0m\n",
      "\u001b[34m[02/02/2024 03:22:02 INFO 139632371713856] #throughput_metric. host: algo-1, epoch: 2, train throughput: 50.74670530267054 samples/sec.\u001b[0m\n",
      "\u001b[34m[02/02/2024 03:22:03 INFO 139632371713856] #quality_metric. host: algo-1, epoch: 2, validation pixel_accuracy: 0.4029762457483432 .\u001b[0m\n",
      "\u001b[34m[02/02/2024 03:22:03 INFO 139632371713856] #quality_metric. host: algo-1, epoch: 2, validation mIOU: 0.07546963359716184 .\u001b[0m\n",
      "\u001b[34m[02/02/2024 03:22:03 INFO 139632371713856] #throughput_metric. host: algo-1, epoch: 2, validation throughput: 44.09947685608975 samples/sec.\u001b[0m\n",
      "\u001b[34m[02/02/2024 03:22:03 INFO 139632371713856] Serializing model to /opt/ml/model/model_best.params\u001b[0m\n",
      "\u001b[34m[02/02/2024 03:22:03 INFO 139632371713856] #progress_metric: host=algo-1, completed 30.0 % of epochs\u001b[0m\n",
      "\u001b[34m#metrics {\"StartTime\": 1706844121.8659647, \"EndTime\": 1706844123.3391855, \"Dimensions\": {\"Algorithm\": \"AWS/Semantic Segmentation\", \"Host\": \"algo-1\", \"Operation\": \"training\", \"epoch\": 2, \"Meta\": \"training_data_iter\"}, \"Metrics\": {\"Total Records Seen\": {\"sum\": 0.0, \"count\": 1, \"min\": 0, \"max\": 0}, \"Total Batches Seen\": {\"sum\": 0.0, \"count\": 1, \"min\": 0, \"max\": 0}, \"Max Records Seen Between Resets\": {\"sum\": 0.0, \"count\": 1, \"min\": 0, \"max\": 0}, \"Max Batches Seen Between Resets\": {\"sum\": 0.0, \"count\": 1, \"min\": 0, \"max\": 0}, \"Reset Count\": {\"sum\": 3.0, \"count\": 1, \"min\": 3, \"max\": 3}, \"Number of Records Since Last Reset\": {\"sum\": 0.0, \"count\": 1, \"min\": 0, \"max\": 0}, \"Number of Batches Since Last Reset\": {\"sum\": 0.0, \"count\": 1, \"min\": 0, \"max\": 0}}}\u001b[0m\n",
      "\u001b[34m[02/02/2024 03:22:03 INFO 139632371713856] #quality_metric. host: algo-1, epoch: 3, train loss: 2.1463782787323 .\u001b[0m\n",
      "\u001b[34m[02/02/2024 03:22:03 INFO 139632371713856] #throughput_metric. host: algo-1, epoch: 3, train throughput: 49.67200378967314 samples/sec.\u001b[0m\n",
      "\u001b[34m[02/02/2024 03:22:04 INFO 139632371713856] #quality_metric. host: algo-1, epoch: 3, validation pixel_accuracy: 0.4156598536982966 .\u001b[0m\n",
      "\u001b[34m[02/02/2024 03:22:04 INFO 139632371713856] #quality_metric. host: algo-1, epoch: 3, validation mIOU: 0.08027637613159078 .\u001b[0m\n",
      "\u001b[34m[02/02/2024 03:22:04 INFO 139632371713856] #throughput_metric. host: algo-1, epoch: 3, validation throughput: 46.70505858239988 samples/sec.\u001b[0m\n",
      "\u001b[34m[02/02/2024 03:22:04 INFO 139632371713856] Serializing model to /opt/ml/model/model_best.params\u001b[0m\n",
      "\u001b[34m[02/02/2024 03:22:04 INFO 139632371713856] #progress_metric: host=algo-1, completed 40.0 % of epochs\u001b[0m\n",
      "\u001b[34m#metrics {\"StartTime\": 1706844123.339355, \"EndTime\": 1706844124.760546, \"Dimensions\": {\"Algorithm\": \"AWS/Semantic Segmentation\", \"Host\": \"algo-1\", \"Operation\": \"training\", \"epoch\": 3, \"Meta\": \"training_data_iter\"}, \"Metrics\": {\"Total Records Seen\": {\"sum\": 0.0, \"count\": 1, \"min\": 0, \"max\": 0}, \"Total Batches Seen\": {\"sum\": 0.0, \"count\": 1, \"min\": 0, \"max\": 0}, \"Max Records Seen Between Resets\": {\"sum\": 0.0, \"count\": 1, \"min\": 0, \"max\": 0}, \"Max Batches Seen Between Resets\": {\"sum\": 0.0, \"count\": 1, \"min\": 0, \"max\": 0}, \"Reset Count\": {\"sum\": 4.0, \"count\": 1, \"min\": 4, \"max\": 4}, \"Number of Records Since Last Reset\": {\"sum\": 0.0, \"count\": 1, \"min\": 0, \"max\": 0}, \"Number of Batches Since Last Reset\": {\"sum\": 0.0, \"count\": 1, \"min\": 0, \"max\": 0}}}\u001b[0m\n",
      "\u001b[34m[02/02/2024 03:22:05 INFO 139632371713856] #quality_metric. host: algo-1, epoch: 4, train loss: 1.907228946685791 .\u001b[0m\n",
      "\u001b[34m[02/02/2024 03:22:05 INFO 139632371713856] #throughput_metric. host: algo-1, epoch: 4, train throughput: 50.86162614442491 samples/sec.\u001b[0m\n",
      "\u001b[34m[02/02/2024 03:22:05 INFO 139632371713856] #quality_metric. host: algo-1, epoch: 4, validation pixel_accuracy: 0.39340851328717985 .\u001b[0m\n",
      "\u001b[34m[02/02/2024 03:22:05 INFO 139632371713856] #quality_metric. host: algo-1, epoch: 4, validation mIOU: 0.08031018446946708 .\u001b[0m\n",
      "\u001b[34m[02/02/2024 03:22:05 INFO 139632371713856] #throughput_metric. host: algo-1, epoch: 4, validation throughput: 47.330959809967666 samples/sec.\u001b[0m\n",
      "\u001b[34m[02/02/2024 03:22:05 INFO 139632371713856] Serializing model to /opt/ml/model/model_best.params\u001b[0m\n",
      "\u001b[34m[02/02/2024 03:22:06 INFO 139632371713856] #progress_metric: host=algo-1, completed 50.0 % of epochs\u001b[0m\n",
      "\u001b[34m#metrics {\"StartTime\": 1706844124.7607253, \"EndTime\": 1706844126.1762762, \"Dimensions\": {\"Algorithm\": \"AWS/Semantic Segmentation\", \"Host\": \"algo-1\", \"Operation\": \"training\", \"epoch\": 4, \"Meta\": \"training_data_iter\"}, \"Metrics\": {\"Total Records Seen\": {\"sum\": 0.0, \"count\": 1, \"min\": 0, \"max\": 0}, \"Total Batches Seen\": {\"sum\": 0.0, \"count\": 1, \"min\": 0, \"max\": 0}, \"Max Records Seen Between Resets\": {\"sum\": 0.0, \"count\": 1, \"min\": 0, \"max\": 0}, \"Max Batches Seen Between Resets\": {\"sum\": 0.0, \"count\": 1, \"min\": 0, \"max\": 0}, \"Reset Count\": {\"sum\": 5.0, \"count\": 1, \"min\": 5, \"max\": 5}, \"Number of Records Since Last Reset\": {\"sum\": 0.0, \"count\": 1, \"min\": 0, \"max\": 0}, \"Number of Batches Since Last Reset\": {\"sum\": 0.0, \"count\": 1, \"min\": 0, \"max\": 0}}}\u001b[0m\n",
      "\u001b[34m[02/02/2024 03:22:06 INFO 139632371713856] #quality_metric. host: algo-1, epoch: 5, train loss: 1.8636865615844727 .\u001b[0m\n",
      "\u001b[34m[02/02/2024 03:22:06 INFO 139632371713856] #throughput_metric. host: algo-1, epoch: 5, train throughput: 50.88059878024001 samples/sec.\u001b[0m\n",
      "\u001b[34m[02/02/2024 03:22:07 INFO 139632371713856] #quality_metric. host: algo-1, epoch: 5, validation pixel_accuracy: 0.5226439774070367 .\u001b[0m\n",
      "\u001b[34m[02/02/2024 03:22:07 INFO 139632371713856] #quality_metric. host: algo-1, epoch: 5, validation mIOU: 0.09956715026713708 .\u001b[0m\n",
      "\u001b[34m[02/02/2024 03:22:07 INFO 139632371713856] #throughput_metric. host: algo-1, epoch: 5, validation throughput: 46.0594287188934 samples/sec.\u001b[0m\n",
      "\u001b[34m[02/02/2024 03:22:07 INFO 139632371713856] Serializing model to /opt/ml/model/model_best.params\u001b[0m\n",
      "\u001b[34m[02/02/2024 03:22:07 INFO 139632371713856] #progress_metric: host=algo-1, completed 60.0 % of epochs\u001b[0m\n",
      "\u001b[34m#metrics {\"StartTime\": 1706844126.1764498, \"EndTime\": 1706844127.6296577, \"Dimensions\": {\"Algorithm\": \"AWS/Semantic Segmentation\", \"Host\": \"algo-1\", \"Operation\": \"training\", \"epoch\": 5, \"Meta\": \"training_data_iter\"}, \"Metrics\": {\"Total Records Seen\": {\"sum\": 0.0, \"count\": 1, \"min\": 0, \"max\": 0}, \"Total Batches Seen\": {\"sum\": 0.0, \"count\": 1, \"min\": 0, \"max\": 0}, \"Max Records Seen Between Resets\": {\"sum\": 0.0, \"count\": 1, \"min\": 0, \"max\": 0}, \"Max Batches Seen Between Resets\": {\"sum\": 0.0, \"count\": 1, \"min\": 0, \"max\": 0}, \"Reset Count\": {\"sum\": 6.0, \"count\": 1, \"min\": 6, \"max\": 6}, \"Number of Records Since Last Reset\": {\"sum\": 0.0, \"count\": 1, \"min\": 0, \"max\": 0}, \"Number of Batches Since Last Reset\": {\"sum\": 0.0, \"count\": 1, \"min\": 0, \"max\": 0}}}\u001b[0m\n",
      "\u001b[34m[02/02/2024 03:22:08 INFO 139632371713856] #quality_metric. host: algo-1, epoch: 6, train loss: 1.7496426105499268 .\u001b[0m\n",
      "\u001b[34m[02/02/2024 03:22:08 INFO 139632371713856] #throughput_metric. host: algo-1, epoch: 6, train throughput: 50.46132097958729 samples/sec.\u001b[0m\n",
      "\u001b[34m[02/02/2024 03:22:08 INFO 139632371713856] #quality_metric. host: algo-1, epoch: 6, validation pixel_accuracy: 0.5776979893546653 .\u001b[0m\n",
      "\u001b[34m[02/02/2024 03:22:08 INFO 139632371713856] #quality_metric. host: algo-1, epoch: 6, validation mIOU: 0.10914150230303979 .\u001b[0m\n",
      "\u001b[34m[02/02/2024 03:22:08 INFO 139632371713856] #throughput_metric. host: algo-1, epoch: 6, validation throughput: 46.65288166888198 samples/sec.\u001b[0m\n",
      "\u001b[34m[02/02/2024 03:22:08 INFO 139632371713856] Serializing model to /opt/ml/model/model_best.params\u001b[0m\n",
      "\u001b[34m[02/02/2024 03:22:09 INFO 139632371713856] #progress_metric: host=algo-1, completed 70.0 % of epochs\u001b[0m\n",
      "\u001b[34m#metrics {\"StartTime\": 1706844127.6298194, \"EndTime\": 1706844129.0284421, \"Dimensions\": {\"Algorithm\": \"AWS/Semantic Segmentation\", \"Host\": \"algo-1\", \"Operation\": \"training\", \"epoch\": 6, \"Meta\": \"training_data_iter\"}, \"Metrics\": {\"Total Records Seen\": {\"sum\": 0.0, \"count\": 1, \"min\": 0, \"max\": 0}, \"Total Batches Seen\": {\"sum\": 0.0, \"count\": 1, \"min\": 0, \"max\": 0}, \"Max Records Seen Between Resets\": {\"sum\": 0.0, \"count\": 1, \"min\": 0, \"max\": 0}, \"Max Batches Seen Between Resets\": {\"sum\": 0.0, \"count\": 1, \"min\": 0, \"max\": 0}, \"Reset Count\": {\"sum\": 7.0, \"count\": 1, \"min\": 7, \"max\": 7}, \"Number of Records Since Last Reset\": {\"sum\": 0.0, \"count\": 1, \"min\": 0, \"max\": 0}, \"Number of Batches Since Last Reset\": {\"sum\": 0.0, \"count\": 1, \"min\": 0, \"max\": 0}}}\u001b[0m\n",
      "\u001b[34m[02/02/2024 03:22:09 INFO 139632371713856] #quality_metric. host: algo-1, epoch: 7, train loss: 1.522986650466919 .\u001b[0m\n",
      "\u001b[34m[02/02/2024 03:22:09 INFO 139632371713856] #throughput_metric. host: algo-1, epoch: 7, train throughput: 50.27370755204627 samples/sec.\u001b[0m\n",
      "\u001b[34m[02/02/2024 03:22:10 INFO 139632371713856] #quality_metric. host: algo-1, epoch: 7, validation pixel_accuracy: 0.5878950873946902 .\u001b[0m\n",
      "\u001b[34m[02/02/2024 03:22:10 INFO 139632371713856] #quality_metric. host: algo-1, epoch: 7, validation mIOU: 0.11270466334378232 .\u001b[0m\n",
      "\u001b[34m[02/02/2024 03:22:10 INFO 139632371713856] #throughput_metric. host: algo-1, epoch: 7, validation throughput: 46.670596400649266 samples/sec.\u001b[0m\n",
      "\u001b[34m[02/02/2024 03:22:10 INFO 139632371713856] Serializing model to /opt/ml/model/model_best.params\u001b[0m\n",
      "\u001b[34m[02/02/2024 03:22:10 INFO 139632371713856] #progress_metric: host=algo-1, completed 80.0 % of epochs\u001b[0m\n",
      "\u001b[34m#metrics {\"StartTime\": 1706844129.0286016, \"EndTime\": 1706844130.4257913, \"Dimensions\": {\"Algorithm\": \"AWS/Semantic Segmentation\", \"Host\": \"algo-1\", \"Operation\": \"training\", \"epoch\": 7, \"Meta\": \"training_data_iter\"}, \"Metrics\": {\"Total Records Seen\": {\"sum\": 0.0, \"count\": 1, \"min\": 0, \"max\": 0}, \"Total Batches Seen\": {\"sum\": 0.0, \"count\": 1, \"min\": 0, \"max\": 0}, \"Max Records Seen Between Resets\": {\"sum\": 0.0, \"count\": 1, \"min\": 0, \"max\": 0}, \"Max Batches Seen Between Resets\": {\"sum\": 0.0, \"count\": 1, \"min\": 0, \"max\": 0}, \"Reset Count\": {\"sum\": 8.0, \"count\": 1, \"min\": 8, \"max\": 8}, \"Number of Records Since Last Reset\": {\"sum\": 0.0, \"count\": 1, \"min\": 0, \"max\": 0}, \"Number of Batches Since Last Reset\": {\"sum\": 0.0, \"count\": 1, \"min\": 0, \"max\": 0}}}\u001b[0m\n",
      "\u001b[34m[02/02/2024 03:22:11 INFO 139632371713856] #quality_metric. host: algo-1, epoch: 8, train loss: 1.6535894870758057 .\u001b[0m\n",
      "\u001b[34m[02/02/2024 03:22:11 INFO 139632371713856] #throughput_metric. host: algo-1, epoch: 8, train throughput: 50.79168095230526 samples/sec.\u001b[0m\n",
      "\u001b[34m[02/02/2024 03:22:11 INFO 139632371713856] #quality_metric. host: algo-1, epoch: 8, validation pixel_accuracy: 0.5916873302633132 .\u001b[0m\n",
      "\u001b[34m[02/02/2024 03:22:11 INFO 139632371713856] #quality_metric. host: algo-1, epoch: 8, validation mIOU: 0.11223845656563156 .\u001b[0m\n",
      "\u001b[34m[02/02/2024 03:22:11 INFO 139632371713856] #throughput_metric. host: algo-1, epoch: 8, validation throughput: 46.49701585401173 samples/sec.\u001b[0m\n",
      "\u001b[34m[02/02/2024 03:22:11 INFO 139632371713856] #progress_metric: host=algo-1, completed 90.0 % of epochs\u001b[0m\n",
      "\u001b[34m#metrics {\"StartTime\": 1706844130.425946, \"EndTime\": 1706844131.6422641, \"Dimensions\": {\"Algorithm\": \"AWS/Semantic Segmentation\", \"Host\": \"algo-1\", \"Operation\": \"training\", \"epoch\": 8, \"Meta\": \"training_data_iter\"}, \"Metrics\": {\"Total Records Seen\": {\"sum\": 0.0, \"count\": 1, \"min\": 0, \"max\": 0}, \"Total Batches Seen\": {\"sum\": 0.0, \"count\": 1, \"min\": 0, \"max\": 0}, \"Max Records Seen Between Resets\": {\"sum\": 0.0, \"count\": 1, \"min\": 0, \"max\": 0}, \"Max Batches Seen Between Resets\": {\"sum\": 0.0, \"count\": 1, \"min\": 0, \"max\": 0}, \"Reset Count\": {\"sum\": 9.0, \"count\": 1, \"min\": 9, \"max\": 9}, \"Number of Records Since Last Reset\": {\"sum\": 0.0, \"count\": 1, \"min\": 0, \"max\": 0}, \"Number of Batches Since Last Reset\": {\"sum\": 0.0, \"count\": 1, \"min\": 0, \"max\": 0}}}\u001b[0m\n",
      "\u001b[34m[02/02/2024 03:22:12 INFO 139632371713856] #quality_metric. host: algo-1, epoch: 9, train loss: 1.6081809997558594 .\u001b[0m\n",
      "\u001b[34m[02/02/2024 03:22:12 INFO 139632371713856] #throughput_metric. host: algo-1, epoch: 9, train throughput: 50.89394980441407 samples/sec.\u001b[0m\n",
      "\u001b[34m[02/02/2024 03:22:12 INFO 139632371713856] #quality_metric. host: algo-1, epoch: 9, validation pixel_accuracy: 0.6015462446134217 .\u001b[0m\n",
      "\u001b[34m[02/02/2024 03:22:12 INFO 139632371713856] #quality_metric. host: algo-1, epoch: 9, validation mIOU: 0.11322500384316722 .\u001b[0m\n",
      "\u001b[34m[02/02/2024 03:22:12 INFO 139632371713856] #throughput_metric. host: algo-1, epoch: 9, validation throughput: 46.30618212831259 samples/sec.\u001b[0m\n",
      "\u001b[34m[02/02/2024 03:22:12 INFO 139632371713856] Serializing model to /opt/ml/model/model_best.params\u001b[0m\n",
      "\u001b[34m[02/02/2024 03:22:13 INFO 139632371713856] #progress_metric: host=algo-1, completed 100.0 % of epochs\u001b[0m\n",
      "\u001b[34m#metrics {\"StartTime\": 1706844131.6423974, \"EndTime\": 1706844133.0450175, \"Dimensions\": {\"Algorithm\": \"AWS/Semantic Segmentation\", \"Host\": \"algo-1\", \"Operation\": \"training\", \"epoch\": 9, \"Meta\": \"training_data_iter\"}, \"Metrics\": {\"Total Records Seen\": {\"sum\": 0.0, \"count\": 1, \"min\": 0, \"max\": 0}, \"Total Batches Seen\": {\"sum\": 0.0, \"count\": 1, \"min\": 0, \"max\": 0}, \"Max Records Seen Between Resets\": {\"sum\": 0.0, \"count\": 1, \"min\": 0, \"max\": 0}, \"Max Batches Seen Between Resets\": {\"sum\": 0.0, \"count\": 1, \"min\": 0, \"max\": 0}, \"Reset Count\": {\"sum\": 10.0, \"count\": 1, \"min\": 10, \"max\": 10}, \"Number of Records Since Last Reset\": {\"sum\": 0.0, \"count\": 1, \"min\": 0, \"max\": 0}, \"Number of Batches Since Last Reset\": {\"sum\": 0.0, \"count\": 1, \"min\": 0, \"max\": 0}}}\u001b[0m\n",
      "\u001b[34m[02/02/2024 03:22:13 WARNING 139632371713856] wait_for_all_workers will not sync workers since the kv store is not running distributed\u001b[0m\n",
      "\u001b[34m[02/02/2024 03:22:13 INFO 139632371713856] Serializing model to /opt/ml/model/model_algo-1\u001b[0m\n",
      "\u001b[34m[02/02/2024 03:22:13 INFO 139632371713856] Test data is not provided.\u001b[0m\n",
      "\u001b[34m#metrics {\"StartTime\": 1706844114.4837356, \"EndTime\": 1706844133.289051, \"Dimensions\": {\"Algorithm\": \"AWS/Semantic Segmentation\", \"Host\": \"algo-1\", \"Operation\": \"training\"}, \"Metrics\": {\"epochs\": {\"sum\": 10.0, \"count\": 1, \"min\": 10, \"max\": 10}, \"setuptime\": {\"sum\": 13.427734375, \"count\": 1, \"min\": 13.427734375, \"max\": 13.427734375}, \"totaltime\": {\"sum\": 20074.3191242218, \"count\": 1, \"min\": 20074.3191242218, \"max\": 20074.3191242218}}}\u001b[0m\n",
      "\n",
      "2024-02-02 03:22:18 Uploading - Uploading generated training model\n",
      "2024-02-02 03:22:34 Completed - Training job completed\n",
      "Training seconds: 302\n",
      "Billable seconds: 302\n"
     ]
    }
   ],
   "source": [
    "ss_estimator.fit(data_channels, logs=True)"
   ]
  },
  {
   "cell_type": "code",
   "execution_count": 14,
   "metadata": {
    "tags": []
   },
   "outputs": [
    {
     "name": "stderr",
     "output_type": "stream",
     "text": [
      "Creating model with name: sagesemseg-model-2024-02-01-19-14-59-00-2024-02-02-03-29-25-762\n",
      "Creating endpoint-config with name sagesemseg-model-2024-02-01-19-14-59-00-2024-02-02-03-29-25-762\n",
      "Creating endpoint with name sagesemseg-model-2024-02-01-19-14-59-00-2024-02-02-03-29-25-762\n"
     ]
    },
    {
     "name": "stdout",
     "output_type": "stream",
     "text": [
      "---------------!"
     ]
    }
   ],
   "source": [
    "ss_predictor = ss_estimator.deploy(initial_instance_count=1, instance_type=\"ml.c5.xlarge\")"
   ]
  },
  {
   "cell_type": "code",
   "execution_count": 15,
   "metadata": {
    "tags": []
   },
   "outputs": [],
   "source": [
    "# As with Estimators & training jobs, we can instead attach to an existing Endpoint:\n",
    "# ss_predictor = sagemaker.predictor.Predictor(\"ss-notebook-demo-2020-10-29-07-23-03-086\")"
   ]
  },
  {
   "cell_type": "code",
   "execution_count": 16,
   "metadata": {
    "tags": []
   },
   "outputs": [
    {
     "name": "stdout",
     "output_type": "stream",
     "text": [
      "mkdir: cannot create directory ‘data’: File exists\n"
     ]
    }
   ],
   "source": [
    "!mkdir data"
   ]
  },
  {
   "cell_type": "code",
   "execution_count": 17,
   "metadata": {
    "tags": []
   },
   "outputs": [
    {
     "name": "stdout",
     "output_type": "stream",
     "text": [
      "--2024-02-01 19:37:57--  https://github.com/kamangir/blue-bracket/raw/main/images/helmet-1.jpg\n",
      "Resolving github.com (github.com)... 140.82.114.4\n",
      "Connecting to github.com (github.com)|140.82.114.4|:443... connected.\n",
      "HTTP request sent, awaiting response... 302 Found\n",
      "Location: https://raw.githubusercontent.com/kamangir/blue-bracket/main/images/helmet-1.jpg [following]\n",
      "--2024-02-01 19:37:57--  https://raw.githubusercontent.com/kamangir/blue-bracket/main/images/helmet-1.jpg\n",
      "Resolving raw.githubusercontent.com (raw.githubusercontent.com)... 185.199.109.133, 185.199.110.133, 185.199.111.133, ...\n",
      "Connecting to raw.githubusercontent.com (raw.githubusercontent.com)|185.199.109.133|:443... connected.\n",
      "HTTP request sent, awaiting response... 200 OK\n",
      "Length: 1385654 (1.3M) [image/jpeg]\n",
      "Saving to: ‘data/test.jpg’\n",
      "\n",
      "data/test.jpg       100%[===================>]   1.32M  --.-KB/s    in 0.1s    \n",
      "\n",
      "2024-02-01 19:37:58 (8.85 MB/s) - ‘data/test.jpg’ saved [1385654/1385654]\n",
      "\n"
     ]
    }
   ],
   "source": [
    "filename_raw = \"data/test.jpg\"\n",
    "\n",
    "!wget -O $filename_raw https://github.com/kamangir/blue-bracket/raw/main/images/helmet-1.jpg"
   ]
  },
  {
   "cell_type": "markdown",
   "metadata": {},
   "source": [
    "The scale of the input image may affect the prediction results and latency, so we'll down-scale the raw image before sending it to our endpoint. You could experiment with different input resolutions (and aspect ratios) and see how the results change:"
   ]
  },
  {
   "cell_type": "code",
   "execution_count": 18,
   "metadata": {
    "tags": []
   },
   "outputs": [
    {
     "data": {
      "image/png": "[encoded data removed]",
      "text/plain": [
       "<Figure size 640x480 with 1 Axes>"
      ]
     },
     "metadata": {},
     "output_type": "display_data"
    }
   ],
   "source": [
    "from matplotlib import pyplot as plt\n",
    "import PIL\n",
    "\n",
    "%matplotlib inline\n",
    "\n",
    "filename = \"data/test_resized.jpg\"\n",
    "width = 800\n",
    "\n",
    "im = PIL.Image.open(filename_raw)\n",
    "\n",
    "aspect = im.size[0] / im.size[1]\n",
    "\n",
    "# https://stackoverflow.com/a/14351890/17619982\n",
    "im.thumbnail([width, int(width / aspect)], PIL.Image.LANCZOS)\n",
    "im.save(filename, \"JPEG\")\n",
    "\n",
    "plt.imshow(im)\n",
    "plt.show()"
   ]
  },
  {
   "cell_type": "markdown",
   "metadata": {},
   "source": [
    "The endpoint accepts images in formats similar to the ones found images in the training dataset. The input `Content-Type` should be `image/jpeg`, and the output `Accept` type can be either:\n",
    "\n",
    "- `image/png`, which produces an indexed-PNG segmentation mask as used in training: One predicted class ID per pixel... Or,\n",
    "- `application/x-protobuf`, which produces a 3D matrix giving the *confidence of each class*, for each pixel.\n",
    "\n",
    "In the SageMaker SDK, A `Predictor` has an associated **serializer** and **deserializer** which control how data gets translated to our API call, and loaded back into a Python result object.\n",
    "\n",
    "There are pre-built [serializers](https://sagemaker.readthedocs.io/en/stable/api/inference/serializers.html) and [deserializers](https://sagemaker.readthedocs.io/en/stable/api/inference/deserializers.html) offered by the SDK, and we're free to define custom ones so long as they offer the same API.\n",
    "\n",
    "\n",
    "### Basic inference - class IDs PNG\n",
    "\n",
    "In our first example, we'll request the simple PNG response and would like to map those into pixel arrays (assigned class for each pixel)... So we'll write a custom deserializer for that:"
   ]
  },
  {
   "cell_type": "code",
   "execution_count": 19,
   "metadata": {
    "tags": []
   },
   "outputs": [],
   "source": [
    "from PIL import Image\n",
    "import numpy as np\n",
    "\n",
    "\n",
    "class ImageDeserializer(sagemaker.deserializers.BaseDeserializer):\n",
    "    \"\"\"Deserialize a PIL-compatible stream of Image bytes into a numpy pixel array\"\"\"\n",
    "\n",
    "    def __init__(self, accept=\"image/png\"):\n",
    "        self.accept = accept\n",
    "\n",
    "    @property\n",
    "    def ACCEPT(self):\n",
    "        return (self.accept,)\n",
    "\n",
    "    def deserialize(self, stream, content_type):\n",
    "        \"\"\"Read a stream of bytes returned from an inference endpoint.\n",
    "        Args:\n",
    "            stream (botocore.response.StreamingBody): A stream of bytes.\n",
    "            content_type (str): The MIME type of the data.\n",
    "        Returns:\n",
    "            mask: The numpy array of class labels per pixel\n",
    "        \"\"\"\n",
    "        try:\n",
    "            return np.array(Image.open(stream))\n",
    "        finally:\n",
    "            stream.close()\n",
    "\n",
    "\n",
    "ss_predictor.deserializer = ImageDeserializer(accept=\"image/png\")"
   ]
  },
  {
   "cell_type": "markdown",
   "metadata": {},
   "source": [
    "For the input our data is already stored as a JPEG file, so we'll use the built-in `IdentitySerializer` and feed it the file bytes:"
   ]
  },
  {
   "cell_type": "code",
   "execution_count": 20,
   "metadata": {
    "tags": []
   },
   "outputs": [],
   "source": [
    "ss_predictor.serializer = sagemaker.serializers.IdentitySerializer(\"image/jpeg\")\n",
    "\n",
    "with open(filename, \"rb\") as imfile:\n",
    "    imbytes = imfile.read()\n",
    "\n",
    "# Extension exercise: Could you write a custom serializer which takes a filename as input instead?"
   ]
  },
  {
   "cell_type": "markdown",
   "metadata": {},
   "source": [
    "With that configured, calling our endpoint is now simple!"
   ]
  },
  {
   "cell_type": "code",
   "execution_count": 21,
   "metadata": {
    "tags": []
   },
   "outputs": [
    {
     "name": "stdout",
     "output_type": "stream",
     "text": [
      "<class 'numpy.ndarray'>\n",
      "(1422, 800)\n",
      "CPU times: user 24.5 ms, sys: 0 ns, total: 24.5 ms\n",
      "Wall time: 22.6 s\n"
     ]
    }
   ],
   "source": [
    "%%time\n",
    "\n",
    "cls_mask = ss_predictor.predict(imbytes)\n",
    "\n",
    "print(type(cls_mask))\n",
    "print(cls_mask.shape)"
   ]
  },
  {
   "cell_type": "code",
   "execution_count": 22,
   "metadata": {
    "tags": []
   },
   "outputs": [
    {
     "data": {
      "text/plain": [
       "['delete_predictor', 'predict']"
      ]
     },
     "execution_count": 22,
     "metadata": {},
     "output_type": "execute_result"
    }
   ],
   "source": [
    "[func for func in dir(ss_predictor) if \"predict\" in func]"
   ]
  },
  {
   "cell_type": "code",
   "execution_count": 23,
   "metadata": {
    "tags": []
   },
   "outputs": [
    {
     "data": {
      "text/plain": [
       "array([ 0,  1,  2,  3,  4,  5,  7,  8,  9, 10, 11, 12, 13, 14, 15, 17, 19,\n",
       "       20], dtype=uint8)"
      ]
     },
     "execution_count": 23,
     "metadata": {},
     "output_type": "execute_result"
    }
   ],
   "source": [
    "np.unique(cls_mask)"
   ]
  },
  {
   "cell_type": "markdown",
   "metadata": {},
   "source": [
    "Let us display the segmentation mask.\n",
    "\n",
    "Since the raw value of each pixel is a small number (the class ID), we'll apply a [colormap](https://matplotlib.org/3.3.2/tutorials/colors/colormaps.html) to make it a bit more human readable and not just a black square!"
   ]
  },
  {
   "cell_type": "code",
   "execution_count": 24,
   "metadata": {
    "tags": []
   },
   "outputs": [
    {
     "data": {
      "image/png": "[encoded data removed]",
      "text/plain": [
       "<Figure size 640x480 with 1 Axes>"
      ]
     },
     "metadata": {},
     "output_type": "display_data"
    }
   ],
   "source": [
    "plt.imshow(cls_mask, cmap=\"jet\")\n",
    "plt.show()"
   ]
  },
  {
   "cell_type": "markdown",
   "metadata": {},
   "source": [
    "## Delete the Endpoint\n",
    "\n",
    "Deployed endpoints are backed by infrastructure (1x`ml.c5.xlarge` in our case, as we requested above) - so we should delete the endpoint when we're finished with it, to avoid incurring continued costs."
   ]
  },
  {
   "cell_type": "code",
   "execution_count": 25,
   "metadata": {
    "tags": []
   },
   "outputs": [
    {
     "name": "stderr",
     "output_type": "stream",
     "text": [
      "Deleting endpoint configuration with name: sagesemseg-model-2024-02-01-19-14-59-00-2024-02-02-03-29-25-762\n",
      "Deleting endpoint with name: sagesemseg-model-2024-02-01-19-14-59-00-2024-02-02-03-29-25-762\n"
     ]
    }
   ],
   "source": [
    "ss_predictor.delete_endpoint()"
   ]
  },
  {
   "cell_type": "markdown",
   "metadata": {},
   "source": [
    "## Notebook CI Test Results\n",
    "\n",
    "This notebook was tested in multiple regions. The test results are as follows, except for us-west-2 which is shown at the top of the notebook.\n",
    "\n",
    "![This us-east-1 badge failed to load. Check your device's internet connectivity, otherwise the service is currently unavailable](https://prod.us-west-2.tcx-beacon.docs.aws.dev/sagemaker-nb/us-east-1/introduction_to_amazon_algorithms|semantic_segmentation_pascalvoc|semantic_segmentation_pascalvoc.ipynb)\n",
    "\n",
    "![This us-east-2 badge failed to load. Check your device's internet connectivity, otherwise the service is currently unavailable](https://prod.us-west-2.tcx-beacon.docs.aws.dev/sagemaker-nb/us-east-2/introduction_to_amazon_algorithms|semantic_segmentation_pascalvoc|semantic_segmentation_pascalvoc.ipynb)\n",
    "\n",
    "![This us-west-1 badge failed to load. Check your device's internet connectivity, otherwise the service is currently unavailable](https://prod.us-west-2.tcx-beacon.docs.aws.dev/sagemaker-nb/us-west-1/introduction_to_amazon_algorithms|semantic_segmentation_pascalvoc|semantic_segmentation_pascalvoc.ipynb)\n",
    "\n",
    "![This ca-central-1 badge failed to load. Check your device's internet connectivity, otherwise the service is currently unavailable](https://prod.us-west-2.tcx-beacon.docs.aws.dev/sagemaker-nb/ca-central-1/introduction_to_amazon_algorithms|semantic_segmentation_pascalvoc|semantic_segmentation_pascalvoc.ipynb)\n",
    "\n",
    "![This sa-east-1 badge failed to load. Check your device's internet connectivity, otherwise the service is currently unavailable](https://prod.us-west-2.tcx-beacon.docs.aws.dev/sagemaker-nb/sa-east-1/introduction_to_amazon_algorithms|semantic_segmentation_pascalvoc|semantic_segmentation_pascalvoc.ipynb)\n",
    "\n",
    "![This eu-west-1 badge failed to load. Check your device's internet connectivity, otherwise the service is currently unavailable](https://prod.us-west-2.tcx-beacon.docs.aws.dev/sagemaker-nb/eu-west-1/introduction_to_amazon_algorithms|semantic_segmentation_pascalvoc|semantic_segmentation_pascalvoc.ipynb)\n",
    "\n",
    "![This eu-west-2 badge failed to load. Check your device's internet connectivity, otherwise the service is currently unavailable](https://prod.us-west-2.tcx-beacon.docs.aws.dev/sagemaker-nb/eu-west-2/introduction_to_amazon_algorithms|semantic_segmentation_pascalvoc|semantic_segmentation_pascalvoc.ipynb)\n",
    "\n",
    "![This eu-west-3 badge failed to load. Check your device's internet connectivity, otherwise the service is currently unavailable](https://prod.us-west-2.tcx-beacon.docs.aws.dev/sagemaker-nb/eu-west-3/introduction_to_amazon_algorithms|semantic_segmentation_pascalvoc|semantic_segmentation_pascalvoc.ipynb)\n",
    "\n",
    "![This eu-central-1 badge failed to load. Check your device's internet connectivity, otherwise the service is currently unavailable](https://prod.us-west-2.tcx-beacon.docs.aws.dev/sagemaker-nb/eu-central-1/introduction_to_amazon_algorithms|semantic_segmentation_pascalvoc|semantic_segmentation_pascalvoc.ipynb)\n",
    "\n",
    "![This eu-north-1 badge failed to load. Check your device's internet connectivity, otherwise the service is currently unavailable](https://prod.us-west-2.tcx-beacon.docs.aws.dev/sagemaker-nb/eu-north-1/introduction_to_amazon_algorithms|semantic_segmentation_pascalvoc|semantic_segmentation_pascalvoc.ipynb)\n",
    "\n",
    "![This ap-southeast-1 badge failed to load. Check your device's internet connectivity, otherwise the service is currently unavailable](https://prod.us-west-2.tcx-beacon.docs.aws.dev/sagemaker-nb/ap-southeast-1/introduction_to_amazon_algorithms|semantic_segmentation_pascalvoc|semantic_segmentation_pascalvoc.ipynb)\n",
    "\n",
    "![This ap-southeast-2 badge failed to load. Check your device's internet connectivity, otherwise the service is currently unavailable](https://prod.us-west-2.tcx-beacon.docs.aws.dev/sagemaker-nb/ap-southeast-2/introduction_to_amazon_algorithms|semantic_segmentation_pascalvoc|semantic_segmentation_pascalvoc.ipynb)\n",
    "\n",
    "![This ap-northeast-1 badge failed to load. Check your device's internet connectivity, otherwise the service is currently unavailable](https://prod.us-west-2.tcx-beacon.docs.aws.dev/sagemaker-nb/ap-northeast-1/introduction_to_amazon_algorithms|semantic_segmentation_pascalvoc|semantic_segmentation_pascalvoc.ipynb)\n",
    "\n",
    "![This ap-northeast-2 badge failed to load. Check your device's internet connectivity, otherwise the service is currently unavailable](https://prod.us-west-2.tcx-beacon.docs.aws.dev/sagemaker-nb/ap-northeast-2/introduction_to_amazon_algorithms|semantic_segmentation_pascalvoc|semantic_segmentation_pascalvoc.ipynb)\n",
    "\n",
    "![This ap-south-1 badge failed to load. Check your device's internet connectivity, otherwise the service is currently unavailable](https://prod.us-west-2.tcx-beacon.docs.aws.dev/sagemaker-nb/ap-south-1/introduction_to_amazon_algorithms|semantic_segmentation_pascalvoc|semantic_segmentation_pascalvoc.ipynb)\n"
   ]
  }
 ],
 "metadata": {
  "availableInstances": [
   {
    "_defaultOrder": 0,
    "_isFastLaunch": true,
    "category": "General purpose",
    "gpuNum": 0,
    "hideHardwareSpecs": false,
    "memoryGiB": 4,
    "name": "ml.t3.medium",
    "vcpuNum": 2
   },
   {
    "_defaultOrder": 1,
    "_isFastLaunch": false,
    "category": "General purpose",
    "gpuNum": 0,
    "hideHardwareSpecs": false,
    "memoryGiB": 8,
    "name": "ml.t3.large",
    "vcpuNum": 2
   },
   {
    "_defaultOrder": 2,
    "_isFastLaunch": false,
    "category": "General purpose",
    "gpuNum": 0,
    "hideHardwareSpecs": false,
    "memoryGiB": 16,
    "name": "ml.t3.xlarge",
    "vcpuNum": 4
   },
   {
    "_defaultOrder": 3,
    "_isFastLaunch": false,
    "category": "General purpose",
    "gpuNum": 0,
    "hideHardwareSpecs": false,
    "memoryGiB": 32,
    "name": "ml.t3.2xlarge",
    "vcpuNum": 8
   },
   {
    "_defaultOrder": 4,
    "_isFastLaunch": true,
    "category": "General purpose",
    "gpuNum": 0,
    "hideHardwareSpecs": false,
    "memoryGiB": 8,
    "name": "ml.m5.large",
    "vcpuNum": 2
   },
   {
    "_defaultOrder": 5,
    "_isFastLaunch": false,
    "category": "General purpose",
    "gpuNum": 0,
    "hideHardwareSpecs": false,
    "memoryGiB": 16,
    "name": "ml.m5.xlarge",
    "vcpuNum": 4
   },
   {
    "_defaultOrder": 6,
    "_isFastLaunch": false,
    "category": "General purpose",
    "gpuNum": 0,
    "hideHardwareSpecs": false,
    "memoryGiB": 32,
    "name": "ml.m5.2xlarge",
    "vcpuNum": 8
   },
   {
    "_defaultOrder": 7,
    "_isFastLaunch": false,
    "category": "General purpose",
    "gpuNum": 0,
    "hideHardwareSpecs": false,
    "memoryGiB": 64,
    "name": "ml.m5.4xlarge",
    "vcpuNum": 16
   },
   {
    "_defaultOrder": 8,
    "_isFastLaunch": false,
    "category": "General purpose",
    "gpuNum": 0,
    "hideHardwareSpecs": false,
    "memoryGiB": 128,
    "name": "ml.m5.8xlarge",
    "vcpuNum": 32
   },
   {
    "_defaultOrder": 9,
    "_isFastLaunch": false,
    "category": "General purpose",
    "gpuNum": 0,
    "hideHardwareSpecs": false,
    "memoryGiB": 192,
    "name": "ml.m5.12xlarge",
    "vcpuNum": 48
   },
   {
    "_defaultOrder": 10,
    "_isFastLaunch": false,
    "category": "General purpose",
    "gpuNum": 0,
    "hideHardwareSpecs": false,
    "memoryGiB": 256,
    "name": "ml.m5.16xlarge",
    "vcpuNum": 64
   },
   {
    "_defaultOrder": 11,
    "_isFastLaunch": false,
    "category": "General purpose",
    "gpuNum": 0,
    "hideHardwareSpecs": false,
    "memoryGiB": 384,
    "name": "ml.m5.24xlarge",
    "vcpuNum": 96
   },
   {
    "_defaultOrder": 12,
    "_isFastLaunch": false,
    "category": "General purpose",
    "gpuNum": 0,
    "hideHardwareSpecs": false,
    "memoryGiB": 8,
    "name": "ml.m5d.large",
    "vcpuNum": 2
   },
   {
    "_defaultOrder": 13,
    "_isFastLaunch": false,
    "category": "General purpose",
    "gpuNum": 0,
    "hideHardwareSpecs": false,
    "memoryGiB": 16,
    "name": "ml.m5d.xlarge",
    "vcpuNum": 4
   },
   {
    "_defaultOrder": 14,
    "_isFastLaunch": false,
    "category": "General purpose",
    "gpuNum": 0,
    "hideHardwareSpecs": false,
    "memoryGiB": 32,
    "name": "ml.m5d.2xlarge",
    "vcpuNum": 8
   },
   {
    "_defaultOrder": 15,
    "_isFastLaunch": false,
    "category": "General purpose",
    "gpuNum": 0,
    "hideHardwareSpecs": false,
    "memoryGiB": 64,
    "name": "ml.m5d.4xlarge",
    "vcpuNum": 16
   },
   {
    "_defaultOrder": 16,
    "_isFastLaunch": false,
    "category": "General purpose",
    "gpuNum": 0,
    "hideHardwareSpecs": false,
    "memoryGiB": 128,
    "name": "ml.m5d.8xlarge",
    "vcpuNum": 32
   },
   {
    "_defaultOrder": 17,
    "_isFastLaunch": false,
    "category": "General purpose",
    "gpuNum": 0,
    "hideHardwareSpecs": false,
    "memoryGiB": 192,
    "name": "ml.m5d.12xlarge",
    "vcpuNum": 48
   },
   {
    "_defaultOrder": 18,
    "_isFastLaunch": false,
    "category": "General purpose",
    "gpuNum": 0,
    "hideHardwareSpecs": false,
    "memoryGiB": 256,
    "name": "ml.m5d.16xlarge",
    "vcpuNum": 64
   },
   {
    "_defaultOrder": 19,
    "_isFastLaunch": false,
    "category": "General purpose",
    "gpuNum": 0,
    "hideHardwareSpecs": false,
    "memoryGiB": 384,
    "name": "ml.m5d.24xlarge",
    "vcpuNum": 96
   },
   {
    "_defaultOrder": 20,
    "_isFastLaunch": false,
    "category": "General purpose",
    "gpuNum": 0,
    "hideHardwareSpecs": true,
    "memoryGiB": 0,
    "name": "ml.geospatial.interactive",
    "supportedImageNames": [
     "sagemaker-geospatial-v1-0"
    ],
    "vcpuNum": 0
   },
   {
    "_defaultOrder": 21,
    "_isFastLaunch": true,
    "category": "Compute optimized",
    "gpuNum": 0,
    "hideHardwareSpecs": false,
    "memoryGiB": 4,
    "name": "ml.c5.large",
    "vcpuNum": 2
   },
   {
    "_defaultOrder": 22,
    "_isFastLaunch": false,
    "category": "Compute optimized",
    "gpuNum": 0,
    "hideHardwareSpecs": false,
    "memoryGiB": 8,
    "name": "ml.c5.xlarge",
    "vcpuNum": 4
   },
   {
    "_defaultOrder": 23,
    "_isFastLaunch": false,
    "category": "Compute optimized",
    "gpuNum": 0,
    "hideHardwareSpecs": false,
    "memoryGiB": 16,
    "name": "ml.c5.2xlarge",
    "vcpuNum": 8
   },
   {
    "_defaultOrder": 24,
    "_isFastLaunch": false,
    "category": "Compute optimized",
    "gpuNum": 0,
    "hideHardwareSpecs": false,
    "memoryGiB": 32,
    "name": "ml.c5.4xlarge",
    "vcpuNum": 16
   },
   {
    "_defaultOrder": 25,
    "_isFastLaunch": false,
    "category": "Compute optimized",
    "gpuNum": 0,
    "hideHardwareSpecs": false,
    "memoryGiB": 72,
    "name": "ml.c5.9xlarge",
    "vcpuNum": 36
   },
   {
    "_defaultOrder": 26,
    "_isFastLaunch": false,
    "category": "Compute optimized",
    "gpuNum": 0,
    "hideHardwareSpecs": false,
    "memoryGiB": 96,
    "name": "ml.c5.12xlarge",
    "vcpuNum": 48
   },
   {
    "_defaultOrder": 27,
    "_isFastLaunch": false,
    "category": "Compute optimized",
    "gpuNum": 0,
    "hideHardwareSpecs": false,
    "memoryGiB": 144,
    "name": "ml.c5.18xlarge",
    "vcpuNum": 72
   },
   {
    "_defaultOrder": 28,
    "_isFastLaunch": false,
    "category": "Compute optimized",
    "gpuNum": 0,
    "hideHardwareSpecs": false,
    "memoryGiB": 192,
    "name": "ml.c5.24xlarge",
    "vcpuNum": 96
   },
   {
    "_defaultOrder": 29,
    "_isFastLaunch": true,
    "category": "Accelerated computing",
    "gpuNum": 1,
    "hideHardwareSpecs": false,
    "memoryGiB": 16,
    "name": "ml.g4dn.xlarge",
    "vcpuNum": 4
   },
   {
    "_defaultOrder": 30,
    "_isFastLaunch": false,
    "category": "Accelerated computing",
    "gpuNum": 1,
    "hideHardwareSpecs": false,
    "memoryGiB": 32,
    "name": "ml.g4dn.2xlarge",
    "vcpuNum": 8
   },
   {
    "_defaultOrder": 31,
    "_isFastLaunch": false,
    "category": "Accelerated computing",
    "gpuNum": 1,
    "hideHardwareSpecs": false,
    "memoryGiB": 64,
    "name": "ml.g4dn.4xlarge",
    "vcpuNum": 16
   },
   {
    "_defaultOrder": 32,
    "_isFastLaunch": false,
    "category": "Accelerated computing",
    "gpuNum": 1,
    "hideHardwareSpecs": false,
    "memoryGiB": 128,
    "name": "ml.g4dn.8xlarge",
    "vcpuNum": 32
   },
   {
    "_defaultOrder": 33,
    "_isFastLaunch": false,
    "category": "Accelerated computing",
    "gpuNum": 4,
    "hideHardwareSpecs": false,
    "memoryGiB": 192,
    "name": "ml.g4dn.12xlarge",
    "vcpuNum": 48
   },
   {
    "_defaultOrder": 34,
    "_isFastLaunch": false,
    "category": "Accelerated computing",
    "gpuNum": 1,
    "hideHardwareSpecs": false,
    "memoryGiB": 256,
    "name": "ml.g4dn.16xlarge",
    "vcpuNum": 64
   },
   {
    "_defaultOrder": 35,
    "_isFastLaunch": false,
    "category": "Accelerated computing",
    "gpuNum": 1,
    "hideHardwareSpecs": false,
    "memoryGiB": 61,
    "name": "ml.p3.2xlarge",
    "vcpuNum": 8
   },
   {
    "_defaultOrder": 36,
    "_isFastLaunch": false,
    "category": "Accelerated computing",
    "gpuNum": 4,
    "hideHardwareSpecs": false,
    "memoryGiB": 244,
    "name": "ml.p3.8xlarge",
    "vcpuNum": 32
   },
   {
    "_defaultOrder": 37,
    "_isFastLaunch": false,
    "category": "Accelerated computing",
    "gpuNum": 8,
    "hideHardwareSpecs": false,
    "memoryGiB": 488,
    "name": "ml.p3.16xlarge",
    "vcpuNum": 64
   },
   {
    "_defaultOrder": 38,
    "_isFastLaunch": false,
    "category": "Accelerated computing",
    "gpuNum": 8,
    "hideHardwareSpecs": false,
    "memoryGiB": 768,
    "name": "ml.p3dn.24xlarge",
    "vcpuNum": 96
   },
   {
    "_defaultOrder": 39,
    "_isFastLaunch": false,
    "category": "Memory Optimized",
    "gpuNum": 0,
    "hideHardwareSpecs": false,
    "memoryGiB": 16,
    "name": "ml.r5.large",
    "vcpuNum": 2
   },
   {
    "_defaultOrder": 40,
    "_isFastLaunch": false,
    "category": "Memory Optimized",
    "gpuNum": 0,
    "hideHardwareSpecs": false,
    "memoryGiB": 32,
    "name": "ml.r5.xlarge",
    "vcpuNum": 4
   },
   {
    "_defaultOrder": 41,
    "_isFastLaunch": false,
    "category": "Memory Optimized",
    "gpuNum": 0,
    "hideHardwareSpecs": false,
    "memoryGiB": 64,
    "name": "ml.r5.2xlarge",
    "vcpuNum": 8
   },
   {
    "_defaultOrder": 42,
    "_isFastLaunch": false,
    "category": "Memory Optimized",
    "gpuNum": 0,
    "hideHardwareSpecs": false,
    "memoryGiB": 128,
    "name": "ml.r5.4xlarge",
    "vcpuNum": 16
   },
   {
    "_defaultOrder": 43,
    "_isFastLaunch": false,
    "category": "Memory Optimized",
    "gpuNum": 0,
    "hideHardwareSpecs": false,
    "memoryGiB": 256,
    "name": "ml.r5.8xlarge",
    "vcpuNum": 32
   },
   {
    "_defaultOrder": 44,
    "_isFastLaunch": false,
    "category": "Memory Optimized",
    "gpuNum": 0,
    "hideHardwareSpecs": false,
    "memoryGiB": 384,
    "name": "ml.r5.12xlarge",
    "vcpuNum": 48
   },
   {
    "_defaultOrder": 45,
    "_isFastLaunch": false,
    "category": "Memory Optimized",
    "gpuNum": 0,
    "hideHardwareSpecs": false,
    "memoryGiB": 512,
    "name": "ml.r5.16xlarge",
    "vcpuNum": 64
   },
   {
    "_defaultOrder": 46,
    "_isFastLaunch": false,
    "category": "Memory Optimized",
    "gpuNum": 0,
    "hideHardwareSpecs": false,
    "memoryGiB": 768,
    "name": "ml.r5.24xlarge",
    "vcpuNum": 96
   },
   {
    "_defaultOrder": 47,
    "_isFastLaunch": false,
    "category": "Accelerated computing",
    "gpuNum": 1,
    "hideHardwareSpecs": false,
    "memoryGiB": 16,
    "name": "ml.g5.xlarge",
    "vcpuNum": 4
   },
   {
    "_defaultOrder": 48,
    "_isFastLaunch": false,
    "category": "Accelerated computing",
    "gpuNum": 1,
    "hideHardwareSpecs": false,
    "memoryGiB": 32,
    "name": "ml.g5.2xlarge",
    "vcpuNum": 8
   },
   {
    "_defaultOrder": 49,
    "_isFastLaunch": false,
    "category": "Accelerated computing",
    "gpuNum": 1,
    "hideHardwareSpecs": false,
    "memoryGiB": 64,
    "name": "ml.g5.4xlarge",
    "vcpuNum": 16
   },
   {
    "_defaultOrder": 50,
    "_isFastLaunch": false,
    "category": "Accelerated computing",
    "gpuNum": 1,
    "hideHardwareSpecs": false,
    "memoryGiB": 128,
    "name": "ml.g5.8xlarge",
    "vcpuNum": 32
   },
   {
    "_defaultOrder": 51,
    "_isFastLaunch": false,
    "category": "Accelerated computing",
    "gpuNum": 1,
    "hideHardwareSpecs": false,
    "memoryGiB": 256,
    "name": "ml.g5.16xlarge",
    "vcpuNum": 64
   },
   {
    "_defaultOrder": 52,
    "_isFastLaunch": false,
    "category": "Accelerated computing",
    "gpuNum": 4,
    "hideHardwareSpecs": false,
    "memoryGiB": 192,
    "name": "ml.g5.12xlarge",
    "vcpuNum": 48
   },
   {
    "_defaultOrder": 53,
    "_isFastLaunch": false,
    "category": "Accelerated computing",
    "gpuNum": 4,
    "hideHardwareSpecs": false,
    "memoryGiB": 384,
    "name": "ml.g5.24xlarge",
    "vcpuNum": 96
   },
   {
    "_defaultOrder": 54,
    "_isFastLaunch": false,
    "category": "Accelerated computing",
    "gpuNum": 8,
    "hideHardwareSpecs": false,
    "memoryGiB": 768,
    "name": "ml.g5.48xlarge",
    "vcpuNum": 192
   },
   {
    "_defaultOrder": 55,
    "_isFastLaunch": false,
    "category": "Accelerated computing",
    "gpuNum": 8,
    "hideHardwareSpecs": false,
    "memoryGiB": 1152,
    "name": "ml.p4d.24xlarge",
    "vcpuNum": 96
   },
   {
    "_defaultOrder": 56,
    "_isFastLaunch": false,
    "category": "Accelerated computing",
    "gpuNum": 8,
    "hideHardwareSpecs": false,
    "memoryGiB": 1152,
    "name": "ml.p4de.24xlarge",
    "vcpuNum": 96
   },
   {
    "_defaultOrder": 57,
    "_isFastLaunch": false,
    "category": "Accelerated computing",
    "gpuNum": 0,
    "hideHardwareSpecs": false,
    "memoryGiB": 32,
    "name": "ml.trn1.2xlarge",
    "vcpuNum": 8
   },
   {
    "_defaultOrder": 58,
    "_isFastLaunch": false,
    "category": "Accelerated computing",
    "gpuNum": 0,
    "hideHardwareSpecs": false,
    "memoryGiB": 512,
    "name": "ml.trn1.32xlarge",
    "vcpuNum": 128
   },
   {
    "_defaultOrder": 59,
    "_isFastLaunch": false,
    "category": "Accelerated computing",
    "gpuNum": 0,
    "hideHardwareSpecs": false,
    "memoryGiB": 512,
    "name": "ml.trn1n.32xlarge",
    "vcpuNum": 128
   }
  ],
  "instance_type": "ml.g4dn.xlarge",
  "kernelspec": {
   "display_name": "Python 3 (PyTorch 2.0.0 Python 3.10 CPU Optimized)",
   "language": "python",
   "name": "python3__SAGEMAKER_INTERNAL__arn:aws:sagemaker:ca-central-1:310906938811:image/pytorch-2.0.0-cpu-py310"
  },
  "language_info": {
   "codemirror_mode": {
    "name": "ipython",
    "version": 3
   },
   "file_extension": ".py",
   "mimetype": "text/x-python",
   "name": "python",
   "nbconvert_exporter": "python",
   "pygments_lexer": "ipython3",
   "version": "3.10.8"
  }
 },
 "nbformat": 4,
 "nbformat_minor": 4
}
